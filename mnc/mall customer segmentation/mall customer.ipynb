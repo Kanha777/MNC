{
 "cells": [
  {
   "cell_type": "code",
   "execution_count": 1,
   "metadata": {},
   "outputs": [],
   "source": [
    "import pandas as pd\n",
    "import numpy as np\n",
    "import sweetviz as sz\n",
    "import os\n",
    "import pycaret"
   ]
  },
  {
   "cell_type": "code",
   "execution_count": 2,
   "metadata": {},
   "outputs": [],
   "source": [
    "os.chdir(r\"C:\\Users\\User\\Desktop\\data science project\\mnc\\mall customer segmentation\")"
   ]
  },
  {
   "cell_type": "code",
   "execution_count": 4,
   "metadata": {},
   "outputs": [],
   "source": [
    "df=pd.read_csv('mall.csv')"
   ]
  },
  {
   "cell_type": "code",
   "execution_count": 5,
   "metadata": {},
   "outputs": [
    {
     "data": {
      "text/html": [
       "<div>\n",
       "<style scoped>\n",
       "    .dataframe tbody tr th:only-of-type {\n",
       "        vertical-align: middle;\n",
       "    }\n",
       "\n",
       "    .dataframe tbody tr th {\n",
       "        vertical-align: top;\n",
       "    }\n",
       "\n",
       "    .dataframe thead th {\n",
       "        text-align: right;\n",
       "    }\n",
       "</style>\n",
       "<table border=\"1\" class=\"dataframe\">\n",
       "  <thead>\n",
       "    <tr style=\"text-align: right;\">\n",
       "      <th></th>\n",
       "      <th>CustomerID</th>\n",
       "      <th>Gender</th>\n",
       "      <th>Age</th>\n",
       "      <th>Annual Income (k$)</th>\n",
       "      <th>Spending Score (1-100)</th>\n",
       "    </tr>\n",
       "  </thead>\n",
       "  <tbody>\n",
       "    <tr>\n",
       "      <th>0</th>\n",
       "      <td>1</td>\n",
       "      <td>Male</td>\n",
       "      <td>19</td>\n",
       "      <td>15</td>\n",
       "      <td>39</td>\n",
       "    </tr>\n",
       "    <tr>\n",
       "      <th>1</th>\n",
       "      <td>2</td>\n",
       "      <td>Male</td>\n",
       "      <td>21</td>\n",
       "      <td>15</td>\n",
       "      <td>81</td>\n",
       "    </tr>\n",
       "    <tr>\n",
       "      <th>2</th>\n",
       "      <td>3</td>\n",
       "      <td>Female</td>\n",
       "      <td>20</td>\n",
       "      <td>16</td>\n",
       "      <td>6</td>\n",
       "    </tr>\n",
       "    <tr>\n",
       "      <th>3</th>\n",
       "      <td>4</td>\n",
       "      <td>Female</td>\n",
       "      <td>23</td>\n",
       "      <td>16</td>\n",
       "      <td>77</td>\n",
       "    </tr>\n",
       "    <tr>\n",
       "      <th>4</th>\n",
       "      <td>5</td>\n",
       "      <td>Female</td>\n",
       "      <td>31</td>\n",
       "      <td>17</td>\n",
       "      <td>40</td>\n",
       "    </tr>\n",
       "  </tbody>\n",
       "</table>\n",
       "</div>"
      ],
      "text/plain": [
       "   CustomerID  Gender  Age  Annual Income (k$)  Spending Score (1-100)\n",
       "0           1    Male   19                  15                      39\n",
       "1           2    Male   21                  15                      81\n",
       "2           3  Female   20                  16                       6\n",
       "3           4  Female   23                  16                      77\n",
       "4           5  Female   31                  17                      40"
      ]
     },
     "execution_count": 5,
     "metadata": {},
     "output_type": "execute_result"
    }
   ],
   "source": [
    "df.head()"
   ]
  },
  {
   "cell_type": "code",
   "execution_count": null,
   "metadata": {},
   "outputs": [],
   "source": []
  },
  {
   "cell_type": "code",
   "execution_count": 7,
   "metadata": {},
   "outputs": [],
   "source": [
    "import pandas_profiling"
   ]
  },
  {
   "cell_type": "code",
   "execution_count": 16,
   "metadata": {},
   "outputs": [
    {
     "name": "stderr",
     "output_type": "stream",
     "text": [
      "\n",
      "\n",
      "                                   |                         | [  0%]   00:00  -> (? left)\u001b[A\u001b[A\n",
      "\n",
      "Summarizing dataframe:             |                         | [  0%]   00:00  -> (? left)\u001b[A\u001b[A\n",
      "\n",
      ":CustomerID:                       |███████              | [ 33%]   00:00  -> (00:00 left)\u001b[A\u001b[A\n",
      "\n",
      ":CustomerID:                       |██████████▌          | [ 50%]   00:03  -> (00:03 left)\u001b[A\u001b[A\n",
      "\n",
      ":Gender:                           |██████████▌          | [ 50%]   00:03  -> (00:03 left)\u001b[A\u001b[A\n",
      "\n",
      ":Gender:                           |██████████████       | [ 67%]   00:04  -> (00:01 left)\u001b[A\u001b[A\n",
      "\n",
      ":Age:                              |██████████████       | [ 67%]   00:04  -> (00:01 left)\u001b[A\u001b[A\n",
      "\n",
      ":Age:                              |█████████████████▌   | [ 83%]   00:06  -> (00:01 left)\u001b[A\u001b[A\n",
      "\n",
      ":Annual_Income_(k$):               |█████████████████▌   | [ 83%]   00:06  -> (00:01 left)\u001b[A\u001b[A\n",
      "\n",
      ":Annual_Income_(k$):               |█████████████████████| [100%]   00:07  -> (00:00 left)\u001b[A\u001b[A\n",
      "\n",
      ":Spending_Score_(1-100):           |█████████████████████| [100%]   00:07  -> (00:00 left)\u001b[A\u001b[A\n",
      "\n",
      ":Spending_Score_(1-100):           |                     | [  0%]   00:09  -> (00:00 left)\u001b[A\u001b[A\n",
      "\n",
      ":FEATURES DONE:                    |                     | [  0%]   00:09  -> (00:00 left)\u001b[A\u001b[A\n",
      "\n",
      "\n",
      "                                   |                         | [  0%]   00:00  -> (? left)\u001b[A\u001b[A\n",
      "\n",
      ":Processing Pairwise Features:     |                         | [  0%]   00:00  -> (? left)\u001b[A\u001b[A\n",
      "\n",
      ":Processing Pairwise Features:     |████▏                | [ 20%]   00:00  -> (00:00 left)\u001b[A\u001b[A\n",
      "\n",
      ":PAIRWISE DONE:                    |█████████████████████| [100%]   00:00  -> (00:00 left)\u001b[A\u001b[A\n"
     ]
    },
    {
     "name": "stdout",
     "output_type": "stream",
     "text": [
      "Creating Associations graph... DONE!\n"
     ]
    }
   ],
   "source": [
    "report=sz.analyze([df,\"Mall customer\"])"
   ]
  },
  {
   "cell_type": "code",
   "execution_count": 17,
   "metadata": {},
   "outputs": [],
   "source": [
    "report.show_html('Mall customer.html')"
   ]
  },
  {
   "cell_type": "code",
   "execution_count": 18,
   "metadata": {},
   "outputs": [
    {
     "name": "stdout",
     "output_type": "stream",
     "text": [
      "\n",
      "Setup Succesfully Completed!\n"
     ]
    },
    {
     "data": {
      "text/html": [
       "<style  type=\"text/css\" >\n",
       "</style><table id=\"T_b2ae3022_b368_11ea_a846_5c93a2a3386e\" ><thead>    <tr>        <th class=\"blank level0\" ></th>        <th class=\"col_heading level0 col0\" >Description</th>        <th class=\"col_heading level0 col1\" >Value</th>    </tr></thead><tbody>\n",
       "                <tr>\n",
       "                        <th id=\"T_b2ae3022_b368_11ea_a846_5c93a2a3386elevel0_row0\" class=\"row_heading level0 row0\" >0</th>\n",
       "                        <td id=\"T_b2ae3022_b368_11ea_a846_5c93a2a3386erow0_col0\" class=\"data row0 col0\" >session_id </td>\n",
       "                        <td id=\"T_b2ae3022_b368_11ea_a846_5c93a2a3386erow0_col1\" class=\"data row0 col1\" >1895</td>\n",
       "            </tr>\n",
       "            <tr>\n",
       "                        <th id=\"T_b2ae3022_b368_11ea_a846_5c93a2a3386elevel0_row1\" class=\"row_heading level0 row1\" >1</th>\n",
       "                        <td id=\"T_b2ae3022_b368_11ea_a846_5c93a2a3386erow1_col0\" class=\"data row1 col0\" >Original Data </td>\n",
       "                        <td id=\"T_b2ae3022_b368_11ea_a846_5c93a2a3386erow1_col1\" class=\"data row1 col1\" >(200, 5)</td>\n",
       "            </tr>\n",
       "            <tr>\n",
       "                        <th id=\"T_b2ae3022_b368_11ea_a846_5c93a2a3386elevel0_row2\" class=\"row_heading level0 row2\" >2</th>\n",
       "                        <td id=\"T_b2ae3022_b368_11ea_a846_5c93a2a3386erow2_col0\" class=\"data row2 col0\" >Missing Values </td>\n",
       "                        <td id=\"T_b2ae3022_b368_11ea_a846_5c93a2a3386erow2_col1\" class=\"data row2 col1\" >False</td>\n",
       "            </tr>\n",
       "            <tr>\n",
       "                        <th id=\"T_b2ae3022_b368_11ea_a846_5c93a2a3386elevel0_row3\" class=\"row_heading level0 row3\" >3</th>\n",
       "                        <td id=\"T_b2ae3022_b368_11ea_a846_5c93a2a3386erow3_col0\" class=\"data row3 col0\" >Numeric Features </td>\n",
       "                        <td id=\"T_b2ae3022_b368_11ea_a846_5c93a2a3386erow3_col1\" class=\"data row3 col1\" >4</td>\n",
       "            </tr>\n",
       "            <tr>\n",
       "                        <th id=\"T_b2ae3022_b368_11ea_a846_5c93a2a3386elevel0_row4\" class=\"row_heading level0 row4\" >4</th>\n",
       "                        <td id=\"T_b2ae3022_b368_11ea_a846_5c93a2a3386erow4_col0\" class=\"data row4 col0\" >Categorical Features </td>\n",
       "                        <td id=\"T_b2ae3022_b368_11ea_a846_5c93a2a3386erow4_col1\" class=\"data row4 col1\" >1</td>\n",
       "            </tr>\n",
       "            <tr>\n",
       "                        <th id=\"T_b2ae3022_b368_11ea_a846_5c93a2a3386elevel0_row5\" class=\"row_heading level0 row5\" >5</th>\n",
       "                        <td id=\"T_b2ae3022_b368_11ea_a846_5c93a2a3386erow5_col0\" class=\"data row5 col0\" >Ordinal Features </td>\n",
       "                        <td id=\"T_b2ae3022_b368_11ea_a846_5c93a2a3386erow5_col1\" class=\"data row5 col1\" >False</td>\n",
       "            </tr>\n",
       "            <tr>\n",
       "                        <th id=\"T_b2ae3022_b368_11ea_a846_5c93a2a3386elevel0_row6\" class=\"row_heading level0 row6\" >6</th>\n",
       "                        <td id=\"T_b2ae3022_b368_11ea_a846_5c93a2a3386erow6_col0\" class=\"data row6 col0\" >High Cardinality Features </td>\n",
       "                        <td id=\"T_b2ae3022_b368_11ea_a846_5c93a2a3386erow6_col1\" class=\"data row6 col1\" >False</td>\n",
       "            </tr>\n",
       "            <tr>\n",
       "                        <th id=\"T_b2ae3022_b368_11ea_a846_5c93a2a3386elevel0_row7\" class=\"row_heading level0 row7\" >7</th>\n",
       "                        <td id=\"T_b2ae3022_b368_11ea_a846_5c93a2a3386erow7_col0\" class=\"data row7 col0\" >Transformed Data </td>\n",
       "                        <td id=\"T_b2ae3022_b368_11ea_a846_5c93a2a3386erow7_col1\" class=\"data row7 col1\" >(200, 5)</td>\n",
       "            </tr>\n",
       "            <tr>\n",
       "                        <th id=\"T_b2ae3022_b368_11ea_a846_5c93a2a3386elevel0_row8\" class=\"row_heading level0 row8\" >8</th>\n",
       "                        <td id=\"T_b2ae3022_b368_11ea_a846_5c93a2a3386erow8_col0\" class=\"data row8 col0\" >Numeric Imputer </td>\n",
       "                        <td id=\"T_b2ae3022_b368_11ea_a846_5c93a2a3386erow8_col1\" class=\"data row8 col1\" >mean</td>\n",
       "            </tr>\n",
       "            <tr>\n",
       "                        <th id=\"T_b2ae3022_b368_11ea_a846_5c93a2a3386elevel0_row9\" class=\"row_heading level0 row9\" >9</th>\n",
       "                        <td id=\"T_b2ae3022_b368_11ea_a846_5c93a2a3386erow9_col0\" class=\"data row9 col0\" >Categorical Imputer </td>\n",
       "                        <td id=\"T_b2ae3022_b368_11ea_a846_5c93a2a3386erow9_col1\" class=\"data row9 col1\" >constant</td>\n",
       "            </tr>\n",
       "            <tr>\n",
       "                        <th id=\"T_b2ae3022_b368_11ea_a846_5c93a2a3386elevel0_row10\" class=\"row_heading level0 row10\" >10</th>\n",
       "                        <td id=\"T_b2ae3022_b368_11ea_a846_5c93a2a3386erow10_col0\" class=\"data row10 col0\" >Normalize </td>\n",
       "                        <td id=\"T_b2ae3022_b368_11ea_a846_5c93a2a3386erow10_col1\" class=\"data row10 col1\" >False</td>\n",
       "            </tr>\n",
       "            <tr>\n",
       "                        <th id=\"T_b2ae3022_b368_11ea_a846_5c93a2a3386elevel0_row11\" class=\"row_heading level0 row11\" >11</th>\n",
       "                        <td id=\"T_b2ae3022_b368_11ea_a846_5c93a2a3386erow11_col0\" class=\"data row11 col0\" >Normalize Method </td>\n",
       "                        <td id=\"T_b2ae3022_b368_11ea_a846_5c93a2a3386erow11_col1\" class=\"data row11 col1\" >None</td>\n",
       "            </tr>\n",
       "            <tr>\n",
       "                        <th id=\"T_b2ae3022_b368_11ea_a846_5c93a2a3386elevel0_row12\" class=\"row_heading level0 row12\" >12</th>\n",
       "                        <td id=\"T_b2ae3022_b368_11ea_a846_5c93a2a3386erow12_col0\" class=\"data row12 col0\" >Transformation </td>\n",
       "                        <td id=\"T_b2ae3022_b368_11ea_a846_5c93a2a3386erow12_col1\" class=\"data row12 col1\" >False</td>\n",
       "            </tr>\n",
       "            <tr>\n",
       "                        <th id=\"T_b2ae3022_b368_11ea_a846_5c93a2a3386elevel0_row13\" class=\"row_heading level0 row13\" >13</th>\n",
       "                        <td id=\"T_b2ae3022_b368_11ea_a846_5c93a2a3386erow13_col0\" class=\"data row13 col0\" >Transformation Method </td>\n",
       "                        <td id=\"T_b2ae3022_b368_11ea_a846_5c93a2a3386erow13_col1\" class=\"data row13 col1\" >None</td>\n",
       "            </tr>\n",
       "            <tr>\n",
       "                        <th id=\"T_b2ae3022_b368_11ea_a846_5c93a2a3386elevel0_row14\" class=\"row_heading level0 row14\" >14</th>\n",
       "                        <td id=\"T_b2ae3022_b368_11ea_a846_5c93a2a3386erow14_col0\" class=\"data row14 col0\" >PCA </td>\n",
       "                        <td id=\"T_b2ae3022_b368_11ea_a846_5c93a2a3386erow14_col1\" class=\"data row14 col1\" >False</td>\n",
       "            </tr>\n",
       "            <tr>\n",
       "                        <th id=\"T_b2ae3022_b368_11ea_a846_5c93a2a3386elevel0_row15\" class=\"row_heading level0 row15\" >15</th>\n",
       "                        <td id=\"T_b2ae3022_b368_11ea_a846_5c93a2a3386erow15_col0\" class=\"data row15 col0\" >PCA Method </td>\n",
       "                        <td id=\"T_b2ae3022_b368_11ea_a846_5c93a2a3386erow15_col1\" class=\"data row15 col1\" >None</td>\n",
       "            </tr>\n",
       "            <tr>\n",
       "                        <th id=\"T_b2ae3022_b368_11ea_a846_5c93a2a3386elevel0_row16\" class=\"row_heading level0 row16\" >16</th>\n",
       "                        <td id=\"T_b2ae3022_b368_11ea_a846_5c93a2a3386erow16_col0\" class=\"data row16 col0\" >PCA components </td>\n",
       "                        <td id=\"T_b2ae3022_b368_11ea_a846_5c93a2a3386erow16_col1\" class=\"data row16 col1\" >None</td>\n",
       "            </tr>\n",
       "            <tr>\n",
       "                        <th id=\"T_b2ae3022_b368_11ea_a846_5c93a2a3386elevel0_row17\" class=\"row_heading level0 row17\" >17</th>\n",
       "                        <td id=\"T_b2ae3022_b368_11ea_a846_5c93a2a3386erow17_col0\" class=\"data row17 col0\" >Ignore Low Variance </td>\n",
       "                        <td id=\"T_b2ae3022_b368_11ea_a846_5c93a2a3386erow17_col1\" class=\"data row17 col1\" >False</td>\n",
       "            </tr>\n",
       "            <tr>\n",
       "                        <th id=\"T_b2ae3022_b368_11ea_a846_5c93a2a3386elevel0_row18\" class=\"row_heading level0 row18\" >18</th>\n",
       "                        <td id=\"T_b2ae3022_b368_11ea_a846_5c93a2a3386erow18_col0\" class=\"data row18 col0\" >Combine Rare Levels </td>\n",
       "                        <td id=\"T_b2ae3022_b368_11ea_a846_5c93a2a3386erow18_col1\" class=\"data row18 col1\" >False</td>\n",
       "            </tr>\n",
       "            <tr>\n",
       "                        <th id=\"T_b2ae3022_b368_11ea_a846_5c93a2a3386elevel0_row19\" class=\"row_heading level0 row19\" >19</th>\n",
       "                        <td id=\"T_b2ae3022_b368_11ea_a846_5c93a2a3386erow19_col0\" class=\"data row19 col0\" >Rare Level Threshold </td>\n",
       "                        <td id=\"T_b2ae3022_b368_11ea_a846_5c93a2a3386erow19_col1\" class=\"data row19 col1\" >None</td>\n",
       "            </tr>\n",
       "            <tr>\n",
       "                        <th id=\"T_b2ae3022_b368_11ea_a846_5c93a2a3386elevel0_row20\" class=\"row_heading level0 row20\" >20</th>\n",
       "                        <td id=\"T_b2ae3022_b368_11ea_a846_5c93a2a3386erow20_col0\" class=\"data row20 col0\" >Numeric Binning </td>\n",
       "                        <td id=\"T_b2ae3022_b368_11ea_a846_5c93a2a3386erow20_col1\" class=\"data row20 col1\" >False</td>\n",
       "            </tr>\n",
       "            <tr>\n",
       "                        <th id=\"T_b2ae3022_b368_11ea_a846_5c93a2a3386elevel0_row21\" class=\"row_heading level0 row21\" >21</th>\n",
       "                        <td id=\"T_b2ae3022_b368_11ea_a846_5c93a2a3386erow21_col0\" class=\"data row21 col0\" >Remove Multicollinearity </td>\n",
       "                        <td id=\"T_b2ae3022_b368_11ea_a846_5c93a2a3386erow21_col1\" class=\"data row21 col1\" >False</td>\n",
       "            </tr>\n",
       "            <tr>\n",
       "                        <th id=\"T_b2ae3022_b368_11ea_a846_5c93a2a3386elevel0_row22\" class=\"row_heading level0 row22\" >22</th>\n",
       "                        <td id=\"T_b2ae3022_b368_11ea_a846_5c93a2a3386erow22_col0\" class=\"data row22 col0\" >Multicollinearity Threshold </td>\n",
       "                        <td id=\"T_b2ae3022_b368_11ea_a846_5c93a2a3386erow22_col1\" class=\"data row22 col1\" >None</td>\n",
       "            </tr>\n",
       "            <tr>\n",
       "                        <th id=\"T_b2ae3022_b368_11ea_a846_5c93a2a3386elevel0_row23\" class=\"row_heading level0 row23\" >23</th>\n",
       "                        <td id=\"T_b2ae3022_b368_11ea_a846_5c93a2a3386erow23_col0\" class=\"data row23 col0\" >Group Features </td>\n",
       "                        <td id=\"T_b2ae3022_b368_11ea_a846_5c93a2a3386erow23_col1\" class=\"data row23 col1\" >False</td>\n",
       "            </tr>\n",
       "    </tbody></table>"
      ],
      "text/plain": [
       "<pandas.io.formats.style.Styler at 0xd69de3e8d0>"
      ]
     },
     "metadata": {},
     "output_type": "display_data"
    }
   ],
   "source": [
    "from pycaret.clustering import *\n",
    "\n",
    "cluster = setup(df)"
   ]
  },
  {
   "cell_type": "code",
   "execution_count": 20,
   "metadata": {},
   "outputs": [],
   "source": [
    "kmeans = create_model('kmeans')"
   ]
  },
  {
   "cell_type": "code",
   "execution_count": 21,
   "metadata": {},
   "outputs": [
    {
     "data": {
      "text/html": [
       "        <script type=\"text/javascript\">\n",
       "        window.PlotlyConfig = {MathJaxConfig: 'local'};\n",
       "        if (window.MathJax) {MathJax.Hub.Config({SVG: {font: \"STIX-Web\"}});}\n",
       "        if (typeof require !== 'undefined') {\n",
       "        require.undef(\"plotly\");\n",
       "        requirejs.config({\n",
       "            paths: {\n",
       "                'plotly': ['https://cdn.plot.ly/plotly-latest.min']\n",
       "            }\n",
       "        });\n",
       "        require(['plotly'], function(Plotly) {\n",
       "            window._Plotly = Plotly;\n",
       "        });\n",
       "        }\n",
       "        </script>\n",
       "        "
      ]
     },
     "metadata": {},
     "output_type": "display_data"
    },
    {
     "data": {
      "application/vnd.plotly.v1+json": {
       "config": {
        "plotlyServerURL": "https://plot.ly"
       },
       "data": [
        {
         "customdata": [
          [
           1
          ],
          [
           2
          ],
          [
           3
          ],
          [
           4
          ],
          [
           5
          ],
          [
           6
          ],
          [
           7
          ],
          [
           8
          ],
          [
           9
          ],
          [
           10
          ],
          [
           11
          ],
          [
           12
          ],
          [
           13
          ],
          [
           14
          ],
          [
           15
          ],
          [
           16
          ],
          [
           17
          ],
          [
           18
          ],
          [
           19
          ],
          [
           20
          ],
          [
           21
          ],
          [
           22
          ],
          [
           23
          ],
          [
           24
          ],
          [
           25
          ],
          [
           26
          ],
          [
           27
          ],
          [
           28
          ]
         ],
         "hoverlabel": {
          "namelength": 0
         },
         "hovertemplate": "Cluster=Cluster 0<br>PCA1=%{x}<br>PCA2=%{y}<br>Feature=%{customdata[0]}",
         "legendgroup": "Cluster=Cluster 0",
         "marker": {
          "color": "#636efa",
          "opacity": 0.5,
          "symbol": "circle"
         },
         "mode": "markers",
         "name": "Cluster=Cluster 0",
         "showlegend": true,
         "textposition": "top center",
         "type": "scatter",
         "x": [
          -31.869381184019772,
          -1.5263448459716216,
          7.691629522872839,
          -9.948719856705418,
          13.344893277746952,
          3.3071471445842904,
          3.275011332106092,
          20.57365855061879,
          11.36113850169711,
          3.960741579588892,
          9.188403340458786,
          22.382798616614103,
          -2.717483324728971,
          1.7494683370089832,
          -2.1163186717296,
          -1.0462865841629405,
          -0.9810670102659101,
          16.191746457834576,
          3.4639917172945824,
          -7.30413420008165,
          -2.1756246970685194,
          12.372399737551651,
          -5.654347793144468,
          -0.001749799815117211,
          14.623350797488207,
          -2.1671873163276185,
          1.947589691726367,
          0.7655921824978793
         ],
         "xaxis": "x",
         "y": [
          -33.00107881369985,
          -42.85734606451732,
          -45.858938194757215,
          -33.021806796674824,
          -48.708819016538854,
          -40.12807613117645,
          -17.801359426137573,
          -48.996222459259826,
          -42.293877543752345,
          -35.7158541178235,
          -35.747978468941895,
          -44.16847235319427,
          -24.656385858484,
          -27.868591127116048,
          -21.39223390412504,
          -17.122659169241825,
          -44.45149257544529,
          -58.300363834735535,
          -17.932317028161503,
          -43.51435468660519,
          -52.22795675419803,
          -61.6183574984801,
          -47.267992085973276,
          -50.11471436741312,
          -62.10784294348922,
          -53.47927556457462,
          -51.521222058351476,
          -56.84193518152963
         ],
         "yaxis": "y"
        },
        {
         "customdata": [
          [
           29
          ],
          [
           30
          ],
          [
           31
          ],
          [
           32
          ],
          [
           33
          ],
          [
           34
          ],
          [
           35
          ],
          [
           36
          ],
          [
           37
          ],
          [
           38
          ],
          [
           39
          ],
          [
           40
          ],
          [
           41
          ],
          [
           42
          ],
          [
           43
          ],
          [
           44
          ],
          [
           45
          ],
          [
           46
          ],
          [
           47
          ],
          [
           48
          ],
          [
           49
          ],
          [
           50
          ],
          [
           51
          ],
          [
           52
          ],
          [
           53
          ],
          [
           54
          ],
          [
           55
          ],
          [
           56
          ],
          [
           57
          ],
          [
           58
          ],
          [
           59
          ],
          [
           60
          ],
          [
           61
          ],
          [
           62
          ],
          [
           63
          ],
          [
           64
          ],
          [
           65
          ],
          [
           66
          ],
          [
           67
          ]
         ],
         "hoverlabel": {
          "namelength": 0
         },
         "hovertemplate": "Cluster=Cluster 1<br>PCA1=%{x}<br>PCA2=%{y}<br>Feature=%{customdata[0]}",
         "legendgroup": "Cluster=Cluster 1",
         "marker": {
          "color": "#EF553B",
          "opacity": 0.5,
          "symbol": "circle"
         },
         "mode": "markers",
         "name": "Cluster=Cluster 1",
         "showlegend": true,
         "textposition": "top center",
         "type": "scatter",
         "x": [
          39.94818289037815,
          37.00880933561482,
          42.46512929902986,
          29.678795493852213,
          48.51256282421799,
          28.105611275127863,
          58.519749028144595,
          25.798642809979665,
          41.141126866695366,
          25.773996429301732,
          30.705562140855786,
          26.537689589251826,
          38.89563012668157,
          24.566686777850556,
          25.60966242479117,
          39.308480156037206,
          43.435343367195,
          33.789449705072975,
          58.351957988345575,
          51.1052160452201,
          53.61074201231277,
          33.16756968115445,
          45.96367239016253,
          61.083900513196475,
          48.956653290189394,
          37.10611826866852,
          39.844425235139546,
          26.917929831658956,
          52.872834969055674,
          34.41773199785487,
          41.05240064813548,
          47.15661636647974,
          38.49714577245989,
          63.09705240105899,
          29.859338498299802,
          50.88315189861278,
          43.00263551553941,
          51.29372245593827,
          72.44655920039102
         ],
         "xaxis": "x",
         "y": [
          -7.572570316995054,
          -16.569804946902988,
          -9.375109354346971,
          -1.2665757796628707,
          -14.986384460587878,
          -8.777966214025952,
          38.34822680111418,
          -5.901952533499997,
          -17.117547601774813,
          -2.151154642711989,
          -0.8201802959671607,
          -3.9231453208425235,
          -12.92730937149811,
          -3.7179113347603674,
          -5.7709949314760625,
          -9.535358355456996,
          -13.783853795596409,
          -3.0155921393908733,
          31.018158106057157,
          2.8818617294428526,
          7.282713098111717,
          9.843582205268257,
          0.47741273952399,
          3.060350516716627,
          -2.985337088471835,
          5.722885826810992,
          21.05762700510543,
          13.133222398300324,
          13.963047347049603,
          5.150586305091862,
          22.621225156812017,
          -9.067564545255772,
          -5.207526410711082,
          18.86571845724458,
          -0.14621457131020307,
          8.014936032631386,
          -9.721095595240136,
          -5.911395874518211,
          41.81384186114944
         ],
         "yaxis": "y"
        },
        {
         "customdata": [
          [
           68
          ],
          [
           69
          ],
          [
           70
          ],
          [
           71
          ],
          [
           72
          ],
          [
           73
          ],
          [
           74
          ],
          [
           75
          ],
          [
           76
          ],
          [
           77
          ],
          [
           78
          ],
          [
           79
          ],
          [
           80
          ],
          [
           81
          ],
          [
           82
          ],
          [
           83
          ],
          [
           84
          ],
          [
           85
          ],
          [
           86
          ],
          [
           87
          ],
          [
           88
          ],
          [
           89
          ],
          [
           90
          ],
          [
           91
          ],
          [
           92
          ],
          [
           93
          ],
          [
           94
          ],
          [
           95
          ],
          [
           96
          ],
          [
           97
          ],
          [
           98
          ],
          [
           99
          ],
          [
           100
          ],
          [
           101
          ],
          [
           102
          ],
          [
           103
          ],
          [
           104
          ],
          [
           105
          ]
         ],
         "hoverlabel": {
          "namelength": 0
         },
         "hovertemplate": "Cluster=Cluster 2<br>PCA1=%{x}<br>PCA2=%{y}<br>Feature=%{customdata[0]}",
         "legendgroup": "Cluster=Cluster 2",
         "marker": {
          "color": "#00cc96",
          "opacity": 0.5,
          "symbol": "circle"
         },
         "mode": "markers",
         "name": "Cluster=Cluster 2",
         "showlegend": true,
         "textposition": "top center",
         "type": "scatter",
         "x": [
          -27.606877200871132,
          -15.573519702872524,
          -17.73238653536045,
          -15.497170500890611,
          -13.895025317580666,
          -3.2144016021844686,
          -2.1341266363170655,
          20.977152741962808,
          -8.111613228386666,
          -9.359434873900453,
          -6.743748982705801,
          -19.74624201201096,
          -16.615317786554826,
          -4.334392212651753,
          -27.49085018153257,
          -14.445565686134653,
          -28.057791337098045,
          -10.9837173515405,
          -13.16800354225583,
          -15.136023292838939,
          7.493048939520093,
          -24.644058200601446,
          19.906646679925842,
          -19.936362133214534,
          6.5647921607417645,
          -3.3822538411399794,
          -1.1985574669779588,
          4.517416775445337,
          -27.779648586122587,
          3.1213563531233532,
          -1.5215793690018782,
          0.34662236217970865,
          -28.475368725675185,
          13.416492039099076,
          -6.982213916324597,
          -6.587148770148149,
          -30.458457740180258,
          -18.156595807118656
         ],
         "xaxis": "x",
         "y": [
          35.52097126176769,
          45.251392478028215,
          33.4001613907117,
          44.07245502805114,
          42.87465889529846,
          22.639173910474888,
          34.313412756235074,
          79.377665450246,
          17.720397623357027,
          38.31104460524897,
          35.10705144095923,
          39.86514796901862,
          33.69642155784617,
          25.87435349750946,
          41.699811357488926,
          32.102594078679914,
          42.092684163560726,
          29.64526703120834,
          49.63938321284334,
          44.89254560328132,
          39.659001778022265,
          33.528898380767416,
          66.44579071342565,
          31.336964109447205,
          68.74380668816076,
          16.729737056893,
          65.84575661760583,
          49.281413987202036,
          33.152449783380206,
          16.912960376405564,
          53.64137028306635,
          49.709888716495726,
          33.5761899804351,
          37.78250538837384,
          51.405063366838085,
          17.70785602126501,
          39.98797291287983,
          34.79096893921624
         ],
         "yaxis": "y"
        },
        {
         "customdata": [
          [
           106
          ],
          [
           107
          ],
          [
           108
          ],
          [
           109
          ],
          [
           110
          ],
          [
           111
          ],
          [
           112
          ],
          [
           113
          ],
          [
           114
          ],
          [
           115
          ],
          [
           116
          ],
          [
           117
          ],
          [
           118
          ],
          [
           119
          ],
          [
           120
          ],
          [
           121
          ],
          [
           122
          ],
          [
           123
          ],
          [
           124
          ],
          [
           125
          ],
          [
           126
          ],
          [
           127
          ],
          [
           128
          ],
          [
           129
          ],
          [
           130
          ],
          [
           131
          ],
          [
           132
          ],
          [
           133
          ],
          [
           134
          ],
          [
           135
          ],
          [
           136
          ],
          [
           137
          ],
          [
           138
          ],
          [
           139
          ],
          [
           140
          ],
          [
           141
          ],
          [
           142
          ],
          [
           143
          ],
          [
           144
          ],
          [
           145
          ],
          [
           146
          ],
          [
           147
          ],
          [
           148
          ],
          [
           149
          ],
          [
           150
          ],
          [
           151
          ],
          [
           152
          ],
          [
           153
          ],
          [
           154
          ],
          [
           155
          ],
          [
           156
          ],
          [
           157
          ],
          [
           158
          ],
          [
           159
          ],
          [
           160
          ],
          [
           161
          ],
          [
           162
          ],
          [
           163
          ],
          [
           164
          ],
          [
           165
          ],
          [
           166
          ],
          [
           167
          ],
          [
           168
          ],
          [
           169
          ],
          [
           170
          ],
          [
           171
          ],
          [
           172
          ],
          [
           173
          ],
          [
           174
          ],
          [
           175
          ],
          [
           176
          ],
          [
           177
          ],
          [
           178
          ],
          [
           179
          ],
          [
           180
          ],
          [
           181
          ],
          [
           182
          ],
          [
           183
          ],
          [
           184
          ],
          [
           185
          ],
          [
           186
          ],
          [
           187
          ],
          [
           188
          ],
          [
           189
          ],
          [
           190
          ],
          [
           191
          ],
          [
           192
          ],
          [
           193
          ],
          [
           194
          ],
          [
           195
          ],
          [
           196
          ],
          [
           197
          ],
          [
           198
          ],
          [
           199
          ],
          [
           200
          ]
         ],
         "hoverlabel": {
          "namelength": 0
         },
         "hovertemplate": "Cluster=Cluster 3<br>PCA1=%{x}<br>PCA2=%{y}<br>Feature=%{customdata[0]}",
         "legendgroup": "Cluster=Cluster 3",
         "marker": {
          "color": "#ab63fa",
          "opacity": 0.5,
          "symbol": "circle"
         },
         "mode": "markers",
         "name": "Cluster=Cluster 3",
         "showlegend": true,
         "textposition": "top center",
         "type": "scatter",
         "x": [
          -17.063301435041772,
          -11.42751700403773,
          -16.53004860328341,
          -16.6853406646648,
          -6.441204211205053,
          -12.377268687514645,
          -5.865221112510419,
          -10.43563961601281,
          -14.63060643548606,
          -25.581371668343895,
          -57.407825296941176,
          -32.17324885253175,
          -59.06532212391801,
          -66.3158813045676,
          -58.236577805232095,
          -55.16046186021104,
          -52.76458401550681,
          -34.50486369835788,
          -41.25712050538426,
          -32.0578642228247,
          -32.7397160336269,
          -50.481726757409746,
          -34.63250294632993,
          -33.88501878631687,
          -58.299288292781284,
          -55.210612170186124,
          -19.107862174681244,
          -42.32426855853249,
          -32.35037264893411,
          -30.16799917178332,
          -57.80989727436928,
          -46.593802454341066,
          -18.746714966629572,
          -8.334052323064578,
          -5.4801923117252995,
          -8.564079875942477,
          -3.00238854680344,
          -4.209759397411106,
          -2.653801516325891,
          -6.914959230550053,
          7.113038311430641,
          4.862087251494086,
          0.9838012643378633,
          -8.892082123418833,
          4.857298693116097,
          -10.08550007420636,
          -16.412820648773288,
          0.07192190065776172,
          -6.662794383342058,
          -12.224485712481092,
          0.5492267159659487,
          -5.808194559201654,
          -2.822319516826164,
          1.5536642815649897,
          -10.184844119137567,
          -5.65337647229058,
          -11.15553216177302,
          -14.789547319230357,
          -8.918472802500116,
          -8.613334810055106,
          -11.328303547024477,
          3.891207421784186,
          -4.384786882779457,
          1.7528875450542176,
          -7.915939760860631,
          -5.701552869544622,
          -14.545819852763255,
          -9.898263987421219,
          -11.886141560304278,
          -3.927240863371491,
          10.88176074726817,
          -4.065887777588762,
          10.588586559613995,
          7.028725703178159,
          -4.164566060975213,
          7.612541620225417,
          -7.609539634087573,
          6.207753003688365,
          -12.200313306273479,
          4.8246889061675855,
          -4.259656721155237,
          8.174633018256403,
          -2.091174944668103,
          -5.424244295275125,
          -9.732316272425273,
          -4.72852415572253,
          -3.8515340510210962,
          -2.2241991238014287,
          3.4879957083410096,
          7.048522326321606,
          2.444415499012123,
          -2.7995164609513035,
          -3.388182135533042,
          2.4743938012998137,
          2.8776667138994867
         ],
         "xaxis": "x",
         "y": [
          -12.94435020099307,
          -14.709066703154873,
          -9.75257960703361,
          -13.206265405040927,
          -17.178935352718465,
          -16.337558177169456,
          -17.405653668033494,
          -17.916537439548126,
          -5.074964817529303,
          -8.080060243332056,
          -13.12698690390092,
          -30.38981984580184,
          -9.545821075973185,
          -3.214864637304617,
          -9.134622481010293,
          -10.081874054399197,
          -11.681074129327682,
          -23.763008274487884,
          -16.473515620473687,
          -3.361257072720839,
          -21.334647037792916,
          -3.564621758603635,
          -15.072999421909419,
          -14.345511019628544,
          4.579839327611852,
          6.0883388097975155,
          -7.846791818299084,
          -2.0073341310328487,
          -5.532756669368449,
          -6.091464934435283,
          -1.8726056486030629,
          -0.17740527480132945,
          -7.026701243068891,
          -9.496655895359828,
          3.354625376718728,
          5.550037220142438,
          1.4359769541304632,
          1.2898521035572303,
          -0.19968352621391366,
          1.7995583611161527,
          -8.330020461892607,
          -7.840535016883495,
          -5.240560690942194,
          -1.692801897727494,
          -11.544446342492874,
          -0.8101246148848753,
          3.6647701088078506,
          -8.167257540512,
          -3.383561047592791,
          0.7304992184191847,
          -8.41315357036434,
          -3.8882137411512048,
          -6.105961839454008,
          -9.164873251183032,
          -0.8261437890803943,
          -9.096827945081026,
          -5.079699349768089,
          -3.5734204795506437,
          -8.018618769668194,
          -9.21556297677466,
          -7.448220828155567,
          -3.4286320352922655,
          2.4496118389970136,
          -1.8911667423299952,
          6.261506448227792,
          -13.782654838927632,
          -7.505221077882988,
          -11.01769697963751,
          -8.309825372802157,
          -14.029402794426195,
          2.495886064111568,
          10.946928307585331,
          0.3275450078057409,
          2.7625358003982172,
          10.927750593048023,
          -0.13297462642676494,
          10.882440019766399,
          1.103176935400528,
          -11.682598674305954,
          2.1199703606088653,
          7.37397458399988,
          -2.8091269166327932,
          4.365832344042057,
          6.792292000530522,
          9.923584772659051,
          6.368551803475625,
          5.64138243295647,
          3.530893552024279,
          -0.8333922415897587,
          -3.2715415745240204,
          -0.19778194600741786,
          3.754453326997527,
          4.366684269688276,
          2.593436631422457,
          -1.4224350037551927
         ],
         "yaxis": "y"
        }
       ],
       "layout": {
        "height": 600,
        "legend": {
         "tracegroupgap": 0
        },
        "margin": {
         "t": 60
        },
        "plot_bgcolor": "rgb(240,240,240)",
        "template": {
         "data": {
          "bar": [
           {
            "error_x": {
             "color": "#2a3f5f"
            },
            "error_y": {
             "color": "#2a3f5f"
            },
            "marker": {
             "line": {
              "color": "#E5ECF6",
              "width": 0.5
             }
            },
            "type": "bar"
           }
          ],
          "barpolar": [
           {
            "marker": {
             "line": {
              "color": "#E5ECF6",
              "width": 0.5
             }
            },
            "type": "barpolar"
           }
          ],
          "carpet": [
           {
            "aaxis": {
             "endlinecolor": "#2a3f5f",
             "gridcolor": "white",
             "linecolor": "white",
             "minorgridcolor": "white",
             "startlinecolor": "#2a3f5f"
            },
            "baxis": {
             "endlinecolor": "#2a3f5f",
             "gridcolor": "white",
             "linecolor": "white",
             "minorgridcolor": "white",
             "startlinecolor": "#2a3f5f"
            },
            "type": "carpet"
           }
          ],
          "choropleth": [
           {
            "colorbar": {
             "outlinewidth": 0,
             "ticks": ""
            },
            "type": "choropleth"
           }
          ],
          "contour": [
           {
            "colorbar": {
             "outlinewidth": 0,
             "ticks": ""
            },
            "colorscale": [
             [
              0,
              "#0d0887"
             ],
             [
              0.1111111111111111,
              "#46039f"
             ],
             [
              0.2222222222222222,
              "#7201a8"
             ],
             [
              0.3333333333333333,
              "#9c179e"
             ],
             [
              0.4444444444444444,
              "#bd3786"
             ],
             [
              0.5555555555555556,
              "#d8576b"
             ],
             [
              0.6666666666666666,
              "#ed7953"
             ],
             [
              0.7777777777777778,
              "#fb9f3a"
             ],
             [
              0.8888888888888888,
              "#fdca26"
             ],
             [
              1,
              "#f0f921"
             ]
            ],
            "type": "contour"
           }
          ],
          "contourcarpet": [
           {
            "colorbar": {
             "outlinewidth": 0,
             "ticks": ""
            },
            "type": "contourcarpet"
           }
          ],
          "heatmap": [
           {
            "colorbar": {
             "outlinewidth": 0,
             "ticks": ""
            },
            "colorscale": [
             [
              0,
              "#0d0887"
             ],
             [
              0.1111111111111111,
              "#46039f"
             ],
             [
              0.2222222222222222,
              "#7201a8"
             ],
             [
              0.3333333333333333,
              "#9c179e"
             ],
             [
              0.4444444444444444,
              "#bd3786"
             ],
             [
              0.5555555555555556,
              "#d8576b"
             ],
             [
              0.6666666666666666,
              "#ed7953"
             ],
             [
              0.7777777777777778,
              "#fb9f3a"
             ],
             [
              0.8888888888888888,
              "#fdca26"
             ],
             [
              1,
              "#f0f921"
             ]
            ],
            "type": "heatmap"
           }
          ],
          "heatmapgl": [
           {
            "colorbar": {
             "outlinewidth": 0,
             "ticks": ""
            },
            "colorscale": [
             [
              0,
              "#0d0887"
             ],
             [
              0.1111111111111111,
              "#46039f"
             ],
             [
              0.2222222222222222,
              "#7201a8"
             ],
             [
              0.3333333333333333,
              "#9c179e"
             ],
             [
              0.4444444444444444,
              "#bd3786"
             ],
             [
              0.5555555555555556,
              "#d8576b"
             ],
             [
              0.6666666666666666,
              "#ed7953"
             ],
             [
              0.7777777777777778,
              "#fb9f3a"
             ],
             [
              0.8888888888888888,
              "#fdca26"
             ],
             [
              1,
              "#f0f921"
             ]
            ],
            "type": "heatmapgl"
           }
          ],
          "histogram": [
           {
            "marker": {
             "colorbar": {
              "outlinewidth": 0,
              "ticks": ""
             }
            },
            "type": "histogram"
           }
          ],
          "histogram2d": [
           {
            "colorbar": {
             "outlinewidth": 0,
             "ticks": ""
            },
            "colorscale": [
             [
              0,
              "#0d0887"
             ],
             [
              0.1111111111111111,
              "#46039f"
             ],
             [
              0.2222222222222222,
              "#7201a8"
             ],
             [
              0.3333333333333333,
              "#9c179e"
             ],
             [
              0.4444444444444444,
              "#bd3786"
             ],
             [
              0.5555555555555556,
              "#d8576b"
             ],
             [
              0.6666666666666666,
              "#ed7953"
             ],
             [
              0.7777777777777778,
              "#fb9f3a"
             ],
             [
              0.8888888888888888,
              "#fdca26"
             ],
             [
              1,
              "#f0f921"
             ]
            ],
            "type": "histogram2d"
           }
          ],
          "histogram2dcontour": [
           {
            "colorbar": {
             "outlinewidth": 0,
             "ticks": ""
            },
            "colorscale": [
             [
              0,
              "#0d0887"
             ],
             [
              0.1111111111111111,
              "#46039f"
             ],
             [
              0.2222222222222222,
              "#7201a8"
             ],
             [
              0.3333333333333333,
              "#9c179e"
             ],
             [
              0.4444444444444444,
              "#bd3786"
             ],
             [
              0.5555555555555556,
              "#d8576b"
             ],
             [
              0.6666666666666666,
              "#ed7953"
             ],
             [
              0.7777777777777778,
              "#fb9f3a"
             ],
             [
              0.8888888888888888,
              "#fdca26"
             ],
             [
              1,
              "#f0f921"
             ]
            ],
            "type": "histogram2dcontour"
           }
          ],
          "mesh3d": [
           {
            "colorbar": {
             "outlinewidth": 0,
             "ticks": ""
            },
            "type": "mesh3d"
           }
          ],
          "parcoords": [
           {
            "line": {
             "colorbar": {
              "outlinewidth": 0,
              "ticks": ""
             }
            },
            "type": "parcoords"
           }
          ],
          "pie": [
           {
            "automargin": true,
            "type": "pie"
           }
          ],
          "scatter": [
           {
            "marker": {
             "colorbar": {
              "outlinewidth": 0,
              "ticks": ""
             }
            },
            "type": "scatter"
           }
          ],
          "scatter3d": [
           {
            "line": {
             "colorbar": {
              "outlinewidth": 0,
              "ticks": ""
             }
            },
            "marker": {
             "colorbar": {
              "outlinewidth": 0,
              "ticks": ""
             }
            },
            "type": "scatter3d"
           }
          ],
          "scattercarpet": [
           {
            "marker": {
             "colorbar": {
              "outlinewidth": 0,
              "ticks": ""
             }
            },
            "type": "scattercarpet"
           }
          ],
          "scattergeo": [
           {
            "marker": {
             "colorbar": {
              "outlinewidth": 0,
              "ticks": ""
             }
            },
            "type": "scattergeo"
           }
          ],
          "scattergl": [
           {
            "marker": {
             "colorbar": {
              "outlinewidth": 0,
              "ticks": ""
             }
            },
            "type": "scattergl"
           }
          ],
          "scattermapbox": [
           {
            "marker": {
             "colorbar": {
              "outlinewidth": 0,
              "ticks": ""
             }
            },
            "type": "scattermapbox"
           }
          ],
          "scatterpolar": [
           {
            "marker": {
             "colorbar": {
              "outlinewidth": 0,
              "ticks": ""
             }
            },
            "type": "scatterpolar"
           }
          ],
          "scatterpolargl": [
           {
            "marker": {
             "colorbar": {
              "outlinewidth": 0,
              "ticks": ""
             }
            },
            "type": "scatterpolargl"
           }
          ],
          "scatterternary": [
           {
            "marker": {
             "colorbar": {
              "outlinewidth": 0,
              "ticks": ""
             }
            },
            "type": "scatterternary"
           }
          ],
          "surface": [
           {
            "colorbar": {
             "outlinewidth": 0,
             "ticks": ""
            },
            "colorscale": [
             [
              0,
              "#0d0887"
             ],
             [
              0.1111111111111111,
              "#46039f"
             ],
             [
              0.2222222222222222,
              "#7201a8"
             ],
             [
              0.3333333333333333,
              "#9c179e"
             ],
             [
              0.4444444444444444,
              "#bd3786"
             ],
             [
              0.5555555555555556,
              "#d8576b"
             ],
             [
              0.6666666666666666,
              "#ed7953"
             ],
             [
              0.7777777777777778,
              "#fb9f3a"
             ],
             [
              0.8888888888888888,
              "#fdca26"
             ],
             [
              1,
              "#f0f921"
             ]
            ],
            "type": "surface"
           }
          ],
          "table": [
           {
            "cells": {
             "fill": {
              "color": "#EBF0F8"
             },
             "line": {
              "color": "white"
             }
            },
            "header": {
             "fill": {
              "color": "#C8D4E3"
             },
             "line": {
              "color": "white"
             }
            },
            "type": "table"
           }
          ]
         },
         "layout": {
          "annotationdefaults": {
           "arrowcolor": "#2a3f5f",
           "arrowhead": 0,
           "arrowwidth": 1
          },
          "coloraxis": {
           "colorbar": {
            "outlinewidth": 0,
            "ticks": ""
           }
          },
          "colorscale": {
           "diverging": [
            [
             0,
             "#8e0152"
            ],
            [
             0.1,
             "#c51b7d"
            ],
            [
             0.2,
             "#de77ae"
            ],
            [
             0.3,
             "#f1b6da"
            ],
            [
             0.4,
             "#fde0ef"
            ],
            [
             0.5,
             "#f7f7f7"
            ],
            [
             0.6,
             "#e6f5d0"
            ],
            [
             0.7,
             "#b8e186"
            ],
            [
             0.8,
             "#7fbc41"
            ],
            [
             0.9,
             "#4d9221"
            ],
            [
             1,
             "#276419"
            ]
           ],
           "sequential": [
            [
             0,
             "#0d0887"
            ],
            [
             0.1111111111111111,
             "#46039f"
            ],
            [
             0.2222222222222222,
             "#7201a8"
            ],
            [
             0.3333333333333333,
             "#9c179e"
            ],
            [
             0.4444444444444444,
             "#bd3786"
            ],
            [
             0.5555555555555556,
             "#d8576b"
            ],
            [
             0.6666666666666666,
             "#ed7953"
            ],
            [
             0.7777777777777778,
             "#fb9f3a"
            ],
            [
             0.8888888888888888,
             "#fdca26"
            ],
            [
             1,
             "#f0f921"
            ]
           ],
           "sequentialminus": [
            [
             0,
             "#0d0887"
            ],
            [
             0.1111111111111111,
             "#46039f"
            ],
            [
             0.2222222222222222,
             "#7201a8"
            ],
            [
             0.3333333333333333,
             "#9c179e"
            ],
            [
             0.4444444444444444,
             "#bd3786"
            ],
            [
             0.5555555555555556,
             "#d8576b"
            ],
            [
             0.6666666666666666,
             "#ed7953"
            ],
            [
             0.7777777777777778,
             "#fb9f3a"
            ],
            [
             0.8888888888888888,
             "#fdca26"
            ],
            [
             1,
             "#f0f921"
            ]
           ]
          },
          "colorway": [
           "#636efa",
           "#EF553B",
           "#00cc96",
           "#ab63fa",
           "#FFA15A",
           "#19d3f3",
           "#FF6692",
           "#B6E880",
           "#FF97FF",
           "#FECB52"
          ],
          "font": {
           "color": "#2a3f5f"
          },
          "geo": {
           "bgcolor": "white",
           "lakecolor": "white",
           "landcolor": "#E5ECF6",
           "showlakes": true,
           "showland": true,
           "subunitcolor": "white"
          },
          "hoverlabel": {
           "align": "left"
          },
          "hovermode": "closest",
          "mapbox": {
           "style": "light"
          },
          "paper_bgcolor": "white",
          "plot_bgcolor": "#E5ECF6",
          "polar": {
           "angularaxis": {
            "gridcolor": "white",
            "linecolor": "white",
            "ticks": ""
           },
           "bgcolor": "#E5ECF6",
           "radialaxis": {
            "gridcolor": "white",
            "linecolor": "white",
            "ticks": ""
           }
          },
          "scene": {
           "xaxis": {
            "backgroundcolor": "#E5ECF6",
            "gridcolor": "white",
            "gridwidth": 2,
            "linecolor": "white",
            "showbackground": true,
            "ticks": "",
            "zerolinecolor": "white"
           },
           "yaxis": {
            "backgroundcolor": "#E5ECF6",
            "gridcolor": "white",
            "gridwidth": 2,
            "linecolor": "white",
            "showbackground": true,
            "ticks": "",
            "zerolinecolor": "white"
           },
           "zaxis": {
            "backgroundcolor": "#E5ECF6",
            "gridcolor": "white",
            "gridwidth": 2,
            "linecolor": "white",
            "showbackground": true,
            "ticks": "",
            "zerolinecolor": "white"
           }
          },
          "shapedefaults": {
           "line": {
            "color": "#2a3f5f"
           }
          },
          "ternary": {
           "aaxis": {
            "gridcolor": "white",
            "linecolor": "white",
            "ticks": ""
           },
           "baxis": {
            "gridcolor": "white",
            "linecolor": "white",
            "ticks": ""
           },
           "bgcolor": "#E5ECF6",
           "caxis": {
            "gridcolor": "white",
            "linecolor": "white",
            "ticks": ""
           }
          },
          "title": {
           "x": 0.05
          },
          "xaxis": {
           "automargin": true,
           "gridcolor": "white",
           "linecolor": "white",
           "ticks": "",
           "title": {
            "standoff": 15
           },
           "zerolinecolor": "white",
           "zerolinewidth": 2
          },
          "yaxis": {
           "automargin": true,
           "gridcolor": "white",
           "linecolor": "white",
           "ticks": "",
           "title": {
            "standoff": 15
           },
           "zerolinecolor": "white",
           "zerolinewidth": 2
          }
         }
        },
        "title": {
         "text": "2D Cluster PCA Plot"
        },
        "xaxis": {
         "anchor": "y",
         "domain": [
          0,
          1
         ],
         "title": {
          "text": "PCA1"
         }
        },
        "yaxis": {
         "anchor": "x",
         "domain": [
          0,
          1
         ],
         "title": {
          "text": "PCA2"
         }
        }
       }
      },
      "text/html": [
       "<div>\n",
       "        \n",
       "        \n",
       "            <div id=\"1842c5c3-ef97-4365-a78b-0b28a6ccb904\" class=\"plotly-graph-div\" style=\"height:600px; width:100%;\"></div>\n",
       "            <script type=\"text/javascript\">\n",
       "                require([\"plotly\"], function(Plotly) {\n",
       "                    window.PLOTLYENV=window.PLOTLYENV || {};\n",
       "                    \n",
       "                if (document.getElementById(\"1842c5c3-ef97-4365-a78b-0b28a6ccb904\")) {\n",
       "                    Plotly.newPlot(\n",
       "                        '1842c5c3-ef97-4365-a78b-0b28a6ccb904',\n",
       "                        [{\"customdata\": [[1], [2], [3], [4], [5], [6], [7], [8], [9], [10], [11], [12], [13], [14], [15], [16], [17], [18], [19], [20], [21], [22], [23], [24], [25], [26], [27], [28]], \"hoverlabel\": {\"namelength\": 0}, \"hovertemplate\": \"Cluster=Cluster 0<br>PCA1=%{x}<br>PCA2=%{y}<br>Feature=%{customdata[0]}\", \"legendgroup\": \"Cluster=Cluster 0\", \"marker\": {\"color\": \"#636efa\", \"opacity\": 0.5, \"symbol\": \"circle\"}, \"mode\": \"markers\", \"name\": \"Cluster=Cluster 0\", \"showlegend\": true, \"textposition\": \"top center\", \"type\": \"scatter\", \"x\": [-31.869381184019772, -1.5263448459716216, 7.691629522872839, -9.948719856705418, 13.344893277746952, 3.3071471445842904, 3.275011332106092, 20.57365855061879, 11.36113850169711, 3.960741579588892, 9.188403340458786, 22.382798616614103, -2.717483324728971, 1.7494683370089832, -2.1163186717296, -1.0462865841629405, -0.9810670102659101, 16.191746457834576, 3.4639917172945824, -7.30413420008165, -2.1756246970685194, 12.372399737551651, -5.654347793144468, -0.001749799815117211, 14.623350797488207, -2.1671873163276185, 1.947589691726367, 0.7655921824978793], \"xaxis\": \"x\", \"y\": [-33.00107881369985, -42.85734606451732, -45.858938194757215, -33.021806796674824, -48.708819016538854, -40.12807613117645, -17.801359426137573, -48.996222459259826, -42.293877543752345, -35.7158541178235, -35.747978468941895, -44.16847235319427, -24.656385858484, -27.868591127116048, -21.39223390412504, -17.122659169241825, -44.45149257544529, -58.300363834735535, -17.932317028161503, -43.51435468660519, -52.22795675419803, -61.6183574984801, -47.267992085973276, -50.11471436741312, -62.10784294348922, -53.47927556457462, -51.521222058351476, -56.84193518152963], \"yaxis\": \"y\"}, {\"customdata\": [[29], [30], [31], [32], [33], [34], [35], [36], [37], [38], [39], [40], [41], [42], [43], [44], [45], [46], [47], [48], [49], [50], [51], [52], [53], [54], [55], [56], [57], [58], [59], [60], [61], [62], [63], [64], [65], [66], [67]], \"hoverlabel\": {\"namelength\": 0}, \"hovertemplate\": \"Cluster=Cluster 1<br>PCA1=%{x}<br>PCA2=%{y}<br>Feature=%{customdata[0]}\", \"legendgroup\": \"Cluster=Cluster 1\", \"marker\": {\"color\": \"#EF553B\", \"opacity\": 0.5, \"symbol\": \"circle\"}, \"mode\": \"markers\", \"name\": \"Cluster=Cluster 1\", \"showlegend\": true, \"textposition\": \"top center\", \"type\": \"scatter\", \"x\": [39.94818289037815, 37.00880933561482, 42.46512929902986, 29.678795493852213, 48.51256282421799, 28.105611275127863, 58.519749028144595, 25.798642809979665, 41.141126866695366, 25.773996429301732, 30.705562140855786, 26.537689589251826, 38.89563012668157, 24.566686777850556, 25.60966242479117, 39.308480156037206, 43.435343367195, 33.789449705072975, 58.351957988345575, 51.1052160452201, 53.61074201231277, 33.16756968115445, 45.96367239016253, 61.083900513196475, 48.956653290189394, 37.10611826866852, 39.844425235139546, 26.917929831658956, 52.872834969055674, 34.41773199785487, 41.05240064813548, 47.15661636647974, 38.49714577245989, 63.09705240105899, 29.859338498299802, 50.88315189861278, 43.00263551553941, 51.29372245593827, 72.44655920039102], \"xaxis\": \"x\", \"y\": [-7.572570316995054, -16.569804946902988, -9.375109354346971, -1.2665757796628707, -14.986384460587878, -8.777966214025952, 38.34822680111418, -5.901952533499997, -17.117547601774813, -2.151154642711989, -0.8201802959671607, -3.9231453208425235, -12.92730937149811, -3.7179113347603674, -5.7709949314760625, -9.535358355456996, -13.783853795596409, -3.0155921393908733, 31.018158106057157, 2.8818617294428526, 7.282713098111717, 9.843582205268257, 0.47741273952399, 3.060350516716627, -2.985337088471835, 5.722885826810992, 21.05762700510543, 13.133222398300324, 13.963047347049603, 5.150586305091862, 22.621225156812017, -9.067564545255772, -5.207526410711082, 18.86571845724458, -0.14621457131020307, 8.014936032631386, -9.721095595240136, -5.911395874518211, 41.81384186114944], \"yaxis\": \"y\"}, {\"customdata\": [[68], [69], [70], [71], [72], [73], [74], [75], [76], [77], [78], [79], [80], [81], [82], [83], [84], [85], [86], [87], [88], [89], [90], [91], [92], [93], [94], [95], [96], [97], [98], [99], [100], [101], [102], [103], [104], [105]], \"hoverlabel\": {\"namelength\": 0}, \"hovertemplate\": \"Cluster=Cluster 2<br>PCA1=%{x}<br>PCA2=%{y}<br>Feature=%{customdata[0]}\", \"legendgroup\": \"Cluster=Cluster 2\", \"marker\": {\"color\": \"#00cc96\", \"opacity\": 0.5, \"symbol\": \"circle\"}, \"mode\": \"markers\", \"name\": \"Cluster=Cluster 2\", \"showlegend\": true, \"textposition\": \"top center\", \"type\": \"scatter\", \"x\": [-27.606877200871132, -15.573519702872524, -17.73238653536045, -15.497170500890611, -13.895025317580666, -3.2144016021844686, -2.1341266363170655, 20.977152741962808, -8.111613228386666, -9.359434873900453, -6.743748982705801, -19.74624201201096, -16.615317786554826, -4.334392212651753, -27.49085018153257, -14.445565686134653, -28.057791337098045, -10.9837173515405, -13.16800354225583, -15.136023292838939, 7.493048939520093, -24.644058200601446, 19.906646679925842, -19.936362133214534, 6.5647921607417645, -3.3822538411399794, -1.1985574669779588, 4.517416775445337, -27.779648586122587, 3.1213563531233532, -1.5215793690018782, 0.34662236217970865, -28.475368725675185, 13.416492039099076, -6.982213916324597, -6.587148770148149, -30.458457740180258, -18.156595807118656], \"xaxis\": \"x\", \"y\": [35.52097126176769, 45.251392478028215, 33.4001613907117, 44.07245502805114, 42.87465889529846, 22.639173910474888, 34.313412756235074, 79.377665450246, 17.720397623357027, 38.31104460524897, 35.10705144095923, 39.86514796901862, 33.69642155784617, 25.87435349750946, 41.699811357488926, 32.102594078679914, 42.092684163560726, 29.64526703120834, 49.63938321284334, 44.89254560328132, 39.659001778022265, 33.528898380767416, 66.44579071342565, 31.336964109447205, 68.74380668816076, 16.729737056893, 65.84575661760583, 49.281413987202036, 33.152449783380206, 16.912960376405564, 53.64137028306635, 49.709888716495726, 33.5761899804351, 37.78250538837384, 51.405063366838085, 17.70785602126501, 39.98797291287983, 34.79096893921624], \"yaxis\": \"y\"}, {\"customdata\": [[106], [107], [108], [109], [110], [111], [112], [113], [114], [115], [116], [117], [118], [119], [120], [121], [122], [123], [124], [125], [126], [127], [128], [129], [130], [131], [132], [133], [134], [135], [136], [137], [138], [139], [140], [141], [142], [143], [144], [145], [146], [147], [148], [149], [150], [151], [152], [153], [154], [155], [156], [157], [158], [159], [160], [161], [162], [163], [164], [165], [166], [167], [168], [169], [170], [171], [172], [173], [174], [175], [176], [177], [178], [179], [180], [181], [182], [183], [184], [185], [186], [187], [188], [189], [190], [191], [192], [193], [194], [195], [196], [197], [198], [199], [200]], \"hoverlabel\": {\"namelength\": 0}, \"hovertemplate\": \"Cluster=Cluster 3<br>PCA1=%{x}<br>PCA2=%{y}<br>Feature=%{customdata[0]}\", \"legendgroup\": \"Cluster=Cluster 3\", \"marker\": {\"color\": \"#ab63fa\", \"opacity\": 0.5, \"symbol\": \"circle\"}, \"mode\": \"markers\", \"name\": \"Cluster=Cluster 3\", \"showlegend\": true, \"textposition\": \"top center\", \"type\": \"scatter\", \"x\": [-17.063301435041772, -11.42751700403773, -16.53004860328341, -16.6853406646648, -6.441204211205053, -12.377268687514645, -5.865221112510419, -10.43563961601281, -14.63060643548606, -25.581371668343895, -57.407825296941176, -32.17324885253175, -59.06532212391801, -66.3158813045676, -58.236577805232095, -55.16046186021104, -52.76458401550681, -34.50486369835788, -41.25712050538426, -32.0578642228247, -32.7397160336269, -50.481726757409746, -34.63250294632993, -33.88501878631687, -58.299288292781284, -55.210612170186124, -19.107862174681244, -42.32426855853249, -32.35037264893411, -30.16799917178332, -57.80989727436928, -46.593802454341066, -18.746714966629572, -8.334052323064578, -5.4801923117252995, -8.564079875942477, -3.00238854680344, -4.209759397411106, -2.653801516325891, -6.914959230550053, 7.113038311430641, 4.862087251494086, 0.9838012643378633, -8.892082123418833, 4.857298693116097, -10.08550007420636, -16.412820648773288, 0.07192190065776172, -6.662794383342058, -12.224485712481092, 0.5492267159659487, -5.808194559201654, -2.822319516826164, 1.5536642815649897, -10.184844119137567, -5.65337647229058, -11.15553216177302, -14.789547319230357, -8.918472802500116, -8.613334810055106, -11.328303547024477, 3.891207421784186, -4.384786882779457, 1.7528875450542176, -7.915939760860631, -5.701552869544622, -14.545819852763255, -9.898263987421219, -11.886141560304278, -3.927240863371491, 10.88176074726817, -4.065887777588762, 10.588586559613995, 7.028725703178159, -4.164566060975213, 7.612541620225417, -7.609539634087573, 6.207753003688365, -12.200313306273479, 4.8246889061675855, -4.259656721155237, 8.174633018256403, -2.091174944668103, -5.424244295275125, -9.732316272425273, -4.72852415572253, -3.8515340510210962, -2.2241991238014287, 3.4879957083410096, 7.048522326321606, 2.444415499012123, -2.7995164609513035, -3.388182135533042, 2.4743938012998137, 2.8776667138994867], \"xaxis\": \"x\", \"y\": [-12.94435020099307, -14.709066703154873, -9.75257960703361, -13.206265405040927, -17.178935352718465, -16.337558177169456, -17.405653668033494, -17.916537439548126, -5.074964817529303, -8.080060243332056, -13.12698690390092, -30.38981984580184, -9.545821075973185, -3.214864637304617, -9.134622481010293, -10.081874054399197, -11.681074129327682, -23.763008274487884, -16.473515620473687, -3.361257072720839, -21.334647037792916, -3.564621758603635, -15.072999421909419, -14.345511019628544, 4.579839327611852, 6.0883388097975155, -7.846791818299084, -2.0073341310328487, -5.532756669368449, -6.091464934435283, -1.8726056486030629, -0.17740527480132945, -7.026701243068891, -9.496655895359828, 3.354625376718728, 5.550037220142438, 1.4359769541304632, 1.2898521035572303, -0.19968352621391366, 1.7995583611161527, -8.330020461892607, -7.840535016883495, -5.240560690942194, -1.692801897727494, -11.544446342492874, -0.8101246148848753, 3.6647701088078506, -8.167257540512, -3.383561047592791, 0.7304992184191847, -8.41315357036434, -3.8882137411512048, -6.105961839454008, -9.164873251183032, -0.8261437890803943, -9.096827945081026, -5.079699349768089, -3.5734204795506437, -8.018618769668194, -9.21556297677466, -7.448220828155567, -3.4286320352922655, 2.4496118389970136, -1.8911667423299952, 6.261506448227792, -13.782654838927632, -7.505221077882988, -11.01769697963751, -8.309825372802157, -14.029402794426195, 2.495886064111568, 10.946928307585331, 0.3275450078057409, 2.7625358003982172, 10.927750593048023, -0.13297462642676494, 10.882440019766399, 1.103176935400528, -11.682598674305954, 2.1199703606088653, 7.37397458399988, -2.8091269166327932, 4.365832344042057, 6.792292000530522, 9.923584772659051, 6.368551803475625, 5.64138243295647, 3.530893552024279, -0.8333922415897587, -3.2715415745240204, -0.19778194600741786, 3.754453326997527, 4.366684269688276, 2.593436631422457, -1.4224350037551927], \"yaxis\": \"y\"}],\n",
       "                        {\"height\": 600, \"legend\": {\"tracegroupgap\": 0}, \"margin\": {\"t\": 60}, \"plot_bgcolor\": \"rgb(240,240,240)\", \"template\": {\"data\": {\"bar\": [{\"error_x\": {\"color\": \"#2a3f5f\"}, \"error_y\": {\"color\": \"#2a3f5f\"}, \"marker\": {\"line\": {\"color\": \"#E5ECF6\", \"width\": 0.5}}, \"type\": \"bar\"}], \"barpolar\": [{\"marker\": {\"line\": {\"color\": \"#E5ECF6\", \"width\": 0.5}}, \"type\": \"barpolar\"}], \"carpet\": [{\"aaxis\": {\"endlinecolor\": \"#2a3f5f\", \"gridcolor\": \"white\", \"linecolor\": \"white\", \"minorgridcolor\": \"white\", \"startlinecolor\": \"#2a3f5f\"}, \"baxis\": {\"endlinecolor\": \"#2a3f5f\", \"gridcolor\": \"white\", \"linecolor\": \"white\", \"minorgridcolor\": \"white\", \"startlinecolor\": \"#2a3f5f\"}, \"type\": \"carpet\"}], \"choropleth\": [{\"colorbar\": {\"outlinewidth\": 0, \"ticks\": \"\"}, \"type\": \"choropleth\"}], \"contour\": [{\"colorbar\": {\"outlinewidth\": 0, \"ticks\": \"\"}, \"colorscale\": [[0.0, \"#0d0887\"], [0.1111111111111111, \"#46039f\"], [0.2222222222222222, \"#7201a8\"], [0.3333333333333333, \"#9c179e\"], [0.4444444444444444, \"#bd3786\"], [0.5555555555555556, \"#d8576b\"], [0.6666666666666666, \"#ed7953\"], [0.7777777777777778, \"#fb9f3a\"], [0.8888888888888888, \"#fdca26\"], [1.0, \"#f0f921\"]], \"type\": \"contour\"}], \"contourcarpet\": [{\"colorbar\": {\"outlinewidth\": 0, \"ticks\": \"\"}, \"type\": \"contourcarpet\"}], \"heatmap\": [{\"colorbar\": {\"outlinewidth\": 0, \"ticks\": \"\"}, \"colorscale\": [[0.0, \"#0d0887\"], [0.1111111111111111, \"#46039f\"], [0.2222222222222222, \"#7201a8\"], [0.3333333333333333, \"#9c179e\"], [0.4444444444444444, \"#bd3786\"], [0.5555555555555556, \"#d8576b\"], [0.6666666666666666, \"#ed7953\"], [0.7777777777777778, \"#fb9f3a\"], [0.8888888888888888, \"#fdca26\"], [1.0, \"#f0f921\"]], \"type\": \"heatmap\"}], \"heatmapgl\": [{\"colorbar\": {\"outlinewidth\": 0, \"ticks\": \"\"}, \"colorscale\": [[0.0, \"#0d0887\"], [0.1111111111111111, \"#46039f\"], [0.2222222222222222, \"#7201a8\"], [0.3333333333333333, \"#9c179e\"], [0.4444444444444444, \"#bd3786\"], [0.5555555555555556, \"#d8576b\"], [0.6666666666666666, \"#ed7953\"], [0.7777777777777778, \"#fb9f3a\"], [0.8888888888888888, \"#fdca26\"], [1.0, \"#f0f921\"]], \"type\": \"heatmapgl\"}], \"histogram\": [{\"marker\": {\"colorbar\": {\"outlinewidth\": 0, \"ticks\": \"\"}}, \"type\": \"histogram\"}], \"histogram2d\": [{\"colorbar\": {\"outlinewidth\": 0, \"ticks\": \"\"}, \"colorscale\": [[0.0, \"#0d0887\"], [0.1111111111111111, \"#46039f\"], [0.2222222222222222, \"#7201a8\"], [0.3333333333333333, \"#9c179e\"], [0.4444444444444444, \"#bd3786\"], [0.5555555555555556, \"#d8576b\"], [0.6666666666666666, \"#ed7953\"], [0.7777777777777778, \"#fb9f3a\"], [0.8888888888888888, \"#fdca26\"], [1.0, \"#f0f921\"]], \"type\": \"histogram2d\"}], \"histogram2dcontour\": [{\"colorbar\": {\"outlinewidth\": 0, \"ticks\": \"\"}, \"colorscale\": [[0.0, \"#0d0887\"], [0.1111111111111111, \"#46039f\"], [0.2222222222222222, \"#7201a8\"], [0.3333333333333333, \"#9c179e\"], [0.4444444444444444, \"#bd3786\"], [0.5555555555555556, \"#d8576b\"], [0.6666666666666666, \"#ed7953\"], [0.7777777777777778, \"#fb9f3a\"], [0.8888888888888888, \"#fdca26\"], [1.0, \"#f0f921\"]], \"type\": \"histogram2dcontour\"}], \"mesh3d\": [{\"colorbar\": {\"outlinewidth\": 0, \"ticks\": \"\"}, \"type\": \"mesh3d\"}], \"parcoords\": [{\"line\": {\"colorbar\": {\"outlinewidth\": 0, \"ticks\": \"\"}}, \"type\": \"parcoords\"}], \"pie\": [{\"automargin\": true, \"type\": \"pie\"}], \"scatter\": [{\"marker\": {\"colorbar\": {\"outlinewidth\": 0, \"ticks\": \"\"}}, \"type\": \"scatter\"}], \"scatter3d\": [{\"line\": {\"colorbar\": {\"outlinewidth\": 0, \"ticks\": \"\"}}, \"marker\": {\"colorbar\": {\"outlinewidth\": 0, \"ticks\": \"\"}}, \"type\": \"scatter3d\"}], \"scattercarpet\": [{\"marker\": {\"colorbar\": {\"outlinewidth\": 0, \"ticks\": \"\"}}, \"type\": \"scattercarpet\"}], \"scattergeo\": [{\"marker\": {\"colorbar\": {\"outlinewidth\": 0, \"ticks\": \"\"}}, \"type\": \"scattergeo\"}], \"scattergl\": [{\"marker\": {\"colorbar\": {\"outlinewidth\": 0, \"ticks\": \"\"}}, \"type\": \"scattergl\"}], \"scattermapbox\": [{\"marker\": {\"colorbar\": {\"outlinewidth\": 0, \"ticks\": \"\"}}, \"type\": \"scattermapbox\"}], \"scatterpolar\": [{\"marker\": {\"colorbar\": {\"outlinewidth\": 0, \"ticks\": \"\"}}, \"type\": \"scatterpolar\"}], \"scatterpolargl\": [{\"marker\": {\"colorbar\": {\"outlinewidth\": 0, \"ticks\": \"\"}}, \"type\": \"scatterpolargl\"}], \"scatterternary\": [{\"marker\": {\"colorbar\": {\"outlinewidth\": 0, \"ticks\": \"\"}}, \"type\": \"scatterternary\"}], \"surface\": [{\"colorbar\": {\"outlinewidth\": 0, \"ticks\": \"\"}, \"colorscale\": [[0.0, \"#0d0887\"], [0.1111111111111111, \"#46039f\"], [0.2222222222222222, \"#7201a8\"], [0.3333333333333333, \"#9c179e\"], [0.4444444444444444, \"#bd3786\"], [0.5555555555555556, \"#d8576b\"], [0.6666666666666666, \"#ed7953\"], [0.7777777777777778, \"#fb9f3a\"], [0.8888888888888888, \"#fdca26\"], [1.0, \"#f0f921\"]], \"type\": \"surface\"}], \"table\": [{\"cells\": {\"fill\": {\"color\": \"#EBF0F8\"}, \"line\": {\"color\": \"white\"}}, \"header\": {\"fill\": {\"color\": \"#C8D4E3\"}, \"line\": {\"color\": \"white\"}}, \"type\": \"table\"}]}, \"layout\": {\"annotationdefaults\": {\"arrowcolor\": \"#2a3f5f\", \"arrowhead\": 0, \"arrowwidth\": 1}, \"coloraxis\": {\"colorbar\": {\"outlinewidth\": 0, \"ticks\": \"\"}}, \"colorscale\": {\"diverging\": [[0, \"#8e0152\"], [0.1, \"#c51b7d\"], [0.2, \"#de77ae\"], [0.3, \"#f1b6da\"], [0.4, \"#fde0ef\"], [0.5, \"#f7f7f7\"], [0.6, \"#e6f5d0\"], [0.7, \"#b8e186\"], [0.8, \"#7fbc41\"], [0.9, \"#4d9221\"], [1, \"#276419\"]], \"sequential\": [[0.0, \"#0d0887\"], [0.1111111111111111, \"#46039f\"], [0.2222222222222222, \"#7201a8\"], [0.3333333333333333, \"#9c179e\"], [0.4444444444444444, \"#bd3786\"], [0.5555555555555556, \"#d8576b\"], [0.6666666666666666, \"#ed7953\"], [0.7777777777777778, \"#fb9f3a\"], [0.8888888888888888, \"#fdca26\"], [1.0, \"#f0f921\"]], \"sequentialminus\": [[0.0, \"#0d0887\"], [0.1111111111111111, \"#46039f\"], [0.2222222222222222, \"#7201a8\"], [0.3333333333333333, \"#9c179e\"], [0.4444444444444444, \"#bd3786\"], [0.5555555555555556, \"#d8576b\"], [0.6666666666666666, \"#ed7953\"], [0.7777777777777778, \"#fb9f3a\"], [0.8888888888888888, \"#fdca26\"], [1.0, \"#f0f921\"]]}, \"colorway\": [\"#636efa\", \"#EF553B\", \"#00cc96\", \"#ab63fa\", \"#FFA15A\", \"#19d3f3\", \"#FF6692\", \"#B6E880\", \"#FF97FF\", \"#FECB52\"], \"font\": {\"color\": \"#2a3f5f\"}, \"geo\": {\"bgcolor\": \"white\", \"lakecolor\": \"white\", \"landcolor\": \"#E5ECF6\", \"showlakes\": true, \"showland\": true, \"subunitcolor\": \"white\"}, \"hoverlabel\": {\"align\": \"left\"}, \"hovermode\": \"closest\", \"mapbox\": {\"style\": \"light\"}, \"paper_bgcolor\": \"white\", \"plot_bgcolor\": \"#E5ECF6\", \"polar\": {\"angularaxis\": {\"gridcolor\": \"white\", \"linecolor\": \"white\", \"ticks\": \"\"}, \"bgcolor\": \"#E5ECF6\", \"radialaxis\": {\"gridcolor\": \"white\", \"linecolor\": \"white\", \"ticks\": \"\"}}, \"scene\": {\"xaxis\": {\"backgroundcolor\": \"#E5ECF6\", \"gridcolor\": \"white\", \"gridwidth\": 2, \"linecolor\": \"white\", \"showbackground\": true, \"ticks\": \"\", \"zerolinecolor\": \"white\"}, \"yaxis\": {\"backgroundcolor\": \"#E5ECF6\", \"gridcolor\": \"white\", \"gridwidth\": 2, \"linecolor\": \"white\", \"showbackground\": true, \"ticks\": \"\", \"zerolinecolor\": \"white\"}, \"zaxis\": {\"backgroundcolor\": \"#E5ECF6\", \"gridcolor\": \"white\", \"gridwidth\": 2, \"linecolor\": \"white\", \"showbackground\": true, \"ticks\": \"\", \"zerolinecolor\": \"white\"}}, \"shapedefaults\": {\"line\": {\"color\": \"#2a3f5f\"}}, \"ternary\": {\"aaxis\": {\"gridcolor\": \"white\", \"linecolor\": \"white\", \"ticks\": \"\"}, \"baxis\": {\"gridcolor\": \"white\", \"linecolor\": \"white\", \"ticks\": \"\"}, \"bgcolor\": \"#E5ECF6\", \"caxis\": {\"gridcolor\": \"white\", \"linecolor\": \"white\", \"ticks\": \"\"}}, \"title\": {\"x\": 0.05}, \"xaxis\": {\"automargin\": true, \"gridcolor\": \"white\", \"linecolor\": \"white\", \"ticks\": \"\", \"title\": {\"standoff\": 15}, \"zerolinecolor\": \"white\", \"zerolinewidth\": 2}, \"yaxis\": {\"automargin\": true, \"gridcolor\": \"white\", \"linecolor\": \"white\", \"ticks\": \"\", \"title\": {\"standoff\": 15}, \"zerolinecolor\": \"white\", \"zerolinewidth\": 2}}}, \"title\": {\"text\": \"2D Cluster PCA Plot\"}, \"xaxis\": {\"anchor\": \"y\", \"domain\": [0.0, 1.0], \"title\": {\"text\": \"PCA1\"}}, \"yaxis\": {\"anchor\": \"x\", \"domain\": [0.0, 1.0], \"title\": {\"text\": \"PCA2\"}}},\n",
       "                        {\"responsive\": true}\n",
       "                    ).then(function(){\n",
       "                            \n",
       "var gd = document.getElementById('1842c5c3-ef97-4365-a78b-0b28a6ccb904');\n",
       "var x = new MutationObserver(function (mutations, observer) {{\n",
       "        var display = window.getComputedStyle(gd).display;\n",
       "        if (!display || display === 'none') {{\n",
       "            console.log([gd, 'removed!']);\n",
       "            Plotly.purge(gd);\n",
       "            observer.disconnect();\n",
       "        }}\n",
       "}});\n",
       "\n",
       "// Listen for the removal of the full notebook cells\n",
       "var notebookContainer = gd.closest('#notebook-container');\n",
       "if (notebookContainer) {{\n",
       "    x.observe(notebookContainer, {childList: true});\n",
       "}}\n",
       "\n",
       "// Listen for the clearing of the current output cell\n",
       "var outputEl = gd.closest('.output');\n",
       "if (outputEl) {{\n",
       "    x.observe(outputEl, {childList: true});\n",
       "}}\n",
       "\n",
       "                        })\n",
       "                };\n",
       "                });\n",
       "            </script>\n",
       "        </div>"
      ]
     },
     "metadata": {},
     "output_type": "display_data"
    }
   ],
   "source": [
    "plot_model(kmeans)"
   ]
  },
  {
   "cell_type": "code",
   "execution_count": 30,
   "metadata": {},
   "outputs": [
    {
     "data": {
      "text/html": [
       "        <script type=\"text/javascript\">\n",
       "        window.PlotlyConfig = {MathJaxConfig: 'local'};\n",
       "        if (window.MathJax) {MathJax.Hub.Config({SVG: {font: \"STIX-Web\"}});}\n",
       "        if (typeof require !== 'undefined') {\n",
       "        require.undef(\"plotly\");\n",
       "        requirejs.config({\n",
       "            paths: {\n",
       "                'plotly': ['https://cdn.plot.ly/plotly-latest.min']\n",
       "            }\n",
       "        });\n",
       "        require(['plotly'], function(Plotly) {\n",
       "            window._Plotly = Plotly;\n",
       "        });\n",
       "        }\n",
       "        </script>\n",
       "        "
      ]
     },
     "metadata": {},
     "output_type": "display_data"
    },
    {
     "data": {
      "application/vnd.plotly.v1+json": {
       "config": {
        "plotlyServerURL": "https://plot.ly"
       },
       "data": [
        {
         "customdata": [
          [
           1
          ],
          [
           2
          ],
          [
           3
          ],
          [
           4
          ],
          [
           5
          ],
          [
           6
          ],
          [
           7
          ],
          [
           8
          ],
          [
           9
          ],
          [
           10
          ],
          [
           11
          ],
          [
           12
          ],
          [
           13
          ],
          [
           14
          ],
          [
           15
          ],
          [
           16
          ],
          [
           17
          ],
          [
           18
          ],
          [
           19
          ],
          [
           20
          ],
          [
           21
          ],
          [
           22
          ],
          [
           23
          ],
          [
           24
          ],
          [
           25
          ],
          [
           26
          ],
          [
           27
          ],
          [
           28
          ]
         ],
         "hoverlabel": {
          "namelength": 0
         },
         "hovertemplate": "Cluster=Cluster 0<br>0=%{x}<br>1=%{y}<br>2=%{z}<br>Feature=%{customdata[0]}",
         "legendgroup": "Cluster=Cluster 0",
         "marker": {
          "color": "#636efa",
          "opacity": 0.7,
          "symbol": "circle"
         },
         "mode": "markers",
         "name": "Cluster=Cluster 0",
         "scene": "scene",
         "showlegend": true,
         "type": "scatter3d",
         "x": [
          53.50547790527344,
          19.90078353881836,
          9.525378227233887,
          11.679306030273438,
          -13.949557304382324,
          -18.080076217651367,
          18.46111297607422,
          3.0154738426208496,
          99.82744598388672,
          -19.596311569213867,
          -47.49927520751953,
          -20.882871627807617,
          -7.1724934577941895,
          -30.34082794189453,
          78.79634094238281,
          -22.210155487060547,
          41.34894943237305,
          -45.16909408569336,
          -54.74794387817383,
          21.42275047302246,
          28.934663772583008,
          -26.175514221191406,
          6.0468621253967285,
          12.995327949523926,
          0.07416146248579025,
          -23.264272689819336,
          -3.7332401275634766,
          -38.47844314575195
         ],
         "y": [
          -18.4616756439209,
          -100.42994689941406,
          -68.10055541992188,
          -113.60958862304688,
          -73.43034362792969,
          -87.10253143310547,
          87.36447143554688,
          -46.27869415283203,
          72.0112533569336,
          -117.16270446777344,
          -100.75328063964844,
          -51.190513610839844,
          -95.00244903564453,
          -89.1227035522461,
          -87.84353637695312,
          -53.51182556152344,
          -92.25957489013672,
          -60.276084899902344,
          -63.834190368652344,
          -87.01930236816406,
          -104.9527816772461,
          -104.22029113769531,
          -128.08717346191406,
          -96.8636474609375,
          -125.88864135742188,
          -120.6954116821289,
          -96.86531066894531,
          -91.15994262695312
         ],
         "z": [
          -81.99253845214844,
          36.0169792175293,
          -85.6571273803711,
          -29.76129150390625,
          -117.18367004394531,
          -67.22637176513672,
          65.87495422363281,
          -113.4233627319336,
          -42.519081115722656,
          -46.29397964477539,
          -60.2652473449707,
          -92.3944320678711,
          -11.213142395019531,
          -31.88302993774414,
          43.5031623840332,
          -47.931644439697266,
          65.11803436279297,
          -117.26969146728516,
          -46.05863571166992,
          -120.4813003540039,
          -93.52714538574219,
          -124.51476287841797,
          -71.4465103149414,
          -67.41918182373047,
          -116.92571258544922,
          -86.65562438964844,
          -96.23906707763672,
          -96.01153564453125
         ]
        },
        {
         "customdata": [
          [
           29
          ],
          [
           30
          ],
          [
           31
          ],
          [
           32
          ],
          [
           33
          ],
          [
           34
          ],
          [
           35
          ],
          [
           36
          ],
          [
           37
          ],
          [
           38
          ],
          [
           39
          ],
          [
           40
          ],
          [
           41
          ],
          [
           42
          ],
          [
           43
          ],
          [
           44
          ],
          [
           45
          ],
          [
           46
          ],
          [
           47
          ],
          [
           48
          ],
          [
           49
          ],
          [
           50
          ],
          [
           51
          ],
          [
           52
          ],
          [
           53
          ],
          [
           54
          ],
          [
           55
          ],
          [
           56
          ],
          [
           57
          ],
          [
           58
          ],
          [
           59
          ],
          [
           60
          ],
          [
           61
          ],
          [
           62
          ],
          [
           63
          ],
          [
           64
          ],
          [
           65
          ],
          [
           66
          ],
          [
           67
          ]
         ],
         "hoverlabel": {
          "namelength": 0
         },
         "hovertemplate": "Cluster=Cluster 1<br>0=%{x}<br>1=%{y}<br>2=%{z}<br>Feature=%{customdata[0]}",
         "legendgroup": "Cluster=Cluster 1",
         "marker": {
          "color": "#EF553B",
          "opacity": 0.7,
          "symbol": "circle"
         },
         "mode": "markers",
         "name": "Cluster=Cluster 1",
         "scene": "scene",
         "showlegend": true,
         "type": "scatter3d",
         "x": [
          -26.12465476989746,
          20.428176879882812,
          6.187209606170654,
          -65.27374267578125,
          -4.6287841796875,
          -68.7799072265625,
          -48.803985595703125,
          -14.453787803649902,
          24.32167625427246,
          -45.46864700317383,
          -36.63234329223633,
          -44.907161712646484,
          -6.214745044708252,
          -73.48224639892578,
          -14.108119010925293,
          42.59507369995117,
          19.694019317626953,
          47.796974182128906,
          -17.22401237487793,
          -31.04705047607422,
          -12.528614044189453,
          -59.073341369628906,
          -33.993568420410156,
          -45.87644577026367,
          -0.13411670923233032,
          -17.97184181213379,
          -43.519691467285156,
          -64.82222747802734,
          -2.775998830795288,
          -28.422243118286133,
          -59.258941650390625,
          -14.374940872192383,
          -39.386802673339844,
          -72.47167205810547,
          -47.080379486083984,
          -32.92502212524414,
          -45.43855285644531,
          4.510885238647461,
          -52.02805709838867
         ],
         "y": [
          56.39043426513672,
          41.599910736083984,
          57.875980377197266,
          60.15732955932617,
          90.71638488769531,
          40.3390007019043,
          100.42282104492188,
          19.26555061340332,
          70.5874252319336,
          40.85207748413086,
          44.492454528808594,
          16.738025665283203,
          62.16401290893555,
          29.07512855529785,
          35.674468994140625,
          -148.53123474121094,
          84.04554748535156,
          80.03887939453125,
          16.258153915405273,
          120.44744873046875,
          132.16477966308594,
          82.34827423095703,
          102.4943618774414,
          138.9797821044922,
          98.59485626220703,
          91.0880355834961,
          85.34822082519531,
          59.2208137512207,
          -138.30654907226562,
          68.00057220458984,
          109.35628509521484,
          90.23067474365234,
          75.5199966430664,
          119.46720123291016,
          16.86626625061035,
          124.2109146118164,
          85.79170989990234,
          117.19722747802734,
          93.84517669677734
         ],
         "z": [
          -105.5036849975586,
          -81.7887954711914,
          -108.74581146240234,
          -58.74245071411133,
          -119.19541931152344,
          -84.29317474365234,
          32.23948287963867,
          -76.54450225830078,
          -63.73469924926758,
          -40.460594177246094,
          -73.34373474121094,
          -58.912593841552734,
          -76.39466857910156,
          -51.06208038330078,
          -51.04507064819336,
          -30.751665115356445,
          -93.36888122558594,
          113.68738555908203,
          -132.00868225097656,
          -85.294189453125,
          -54.954593658447266,
          -32.65213394165039,
          -57.47652053833008,
          -62.01852035522461,
          -59.15468978881836,
          -25.02100944519043,
          -2.822662115097046,
          -13.27344799041748,
          21.019256591796875,
          -42.06652069091797,
          -7.922826766967773,
          -89.1668701171875,
          -72.57649230957031,
          -47.74700927734375,
          -90.4784927368164,
          -31.292835235595703,
          -102.5432357788086,
          -86.99420928955078,
          147.117919921875
         ]
        },
        {
         "customdata": [
          [
           68
          ],
          [
           69
          ],
          [
           70
          ],
          [
           71
          ],
          [
           72
          ],
          [
           73
          ],
          [
           74
          ],
          [
           75
          ],
          [
           76
          ],
          [
           77
          ],
          [
           78
          ],
          [
           79
          ],
          [
           80
          ],
          [
           81
          ],
          [
           82
          ],
          [
           83
          ],
          [
           84
          ],
          [
           85
          ],
          [
           86
          ],
          [
           87
          ],
          [
           88
          ],
          [
           89
          ],
          [
           90
          ],
          [
           91
          ],
          [
           92
          ],
          [
           93
          ],
          [
           94
          ],
          [
           95
          ],
          [
           96
          ],
          [
           97
          ],
          [
           98
          ],
          [
           99
          ],
          [
           100
          ],
          [
           101
          ],
          [
           102
          ],
          [
           103
          ],
          [
           104
          ],
          [
           105
          ]
         ],
         "hoverlabel": {
          "namelength": 0
         },
         "hovertemplate": "Cluster=Cluster 2<br>0=%{x}<br>1=%{y}<br>2=%{z}<br>Feature=%{customdata[0]}",
         "legendgroup": "Cluster=Cluster 2",
         "marker": {
          "color": "#00cc96",
          "opacity": 0.7,
          "symbol": "circle"
         },
         "mode": "markers",
         "name": "Cluster=Cluster 2",
         "scene": "scene",
         "showlegend": true,
         "type": "scatter3d",
         "x": [
          -11.25245189666748,
          -64.94245147705078,
          -108.53742218017578,
          -28.86634063720703,
          -93.77754974365234,
          -11.848657608032227,
          -56.35777282714844,
          -47.657737731933594,
          -75.23853302001953,
          -72.68888854980469,
          -37.71097183227539,
          -120.63423156738281,
          78.72908020019531,
          -3.43691086769104,
          -2.6942429542541504,
          -75.02338409423828,
          -33.132789611816406,
          -62.1927375793457,
          -49.79838943481445,
          -42.35136032104492,
          -82.58721160888672,
          -129.4847869873047,
          -67.97901916503906,
          -102.14250946044922,
          -55.515472412109375,
          -52.07127380371094,
          -29.45749282836914,
          -60.712833404541016,
          -102.84996795654297,
          -32.704132080078125,
          -35.36304473876953,
          -50.7307014465332,
          -100.25513458251953,
          -90.23424530029297,
          -78.60702514648438,
          -23.796781539916992,
          -11.72236156463623,
          -70.93956756591797
         ],
         "y": [
          21.77950668334961,
          -14.310091972351074,
          14.990822792053223,
          59.37016677856445,
          -10.658002853393555,
          -9.50711727142334,
          23.132383346557617,
          103.5566177368164,
          -28.090803146362305,
          12.114810943603516,
          -1.1291837692260742,
          31.640087127685547,
          41.009971618652344,
          -16.960750579833984,
          43.25132751464844,
          36.06216049194336,
          -45.3128547668457,
          -9.554936408996582,
          23.002681732177734,
          -6.569145202636719,
          41.73365783691406,
          0.8145654797554016,
          86.73587799072266,
          6.691053867340088,
          -53.855979919433594,
          -40.88550567626953,
          79.76051330566406,
          56.94527053833008,
          -0.4911305010318756,
          -28.910945892333984,
          45.977195739746094,
          58.34777069091797,
          65.32891082763672,
          47.576072692871094,
          -38.989585876464844,
          12.437958717346191,
          5.207785129547119,
          8.323017120361328
         ],
         "z": [
          114.14777374267578,
          123.1924057006836,
          68.62860107421875,
          126.41033935546875,
          90.47579956054688,
          80.16542053222656,
          86.32124328613281,
          77.3021240234375,
          53.2687873840332,
          107.67794036865234,
          104.29801940917969,
          41.76374435424805,
          -77.09931182861328,
          105.51497650146484,
          139.21719360351562,
          58.98628616333008,
          103.54534912109375,
          82.7682876586914,
          133.8094482421875,
          140.89027404785156,
          94.8933334350586,
          47.87525177001953,
          92.70286560058594,
          36.10048294067383,
          136.34234619140625,
          64.82684326171875,
          92.81623077392578,
          109.67231750488281,
          123.20076751708984,
          48.89793014526367,
          95.93489074707031,
          70.39443969726562,
          64.30963897705078,
          121.44891357421875,
          106.55487823486328,
          66.25165557861328,
          144.447509765625,
          60.71638107299805
         ]
        },
        {
         "customdata": [
          [
           106
          ],
          [
           107
          ],
          [
           108
          ],
          [
           109
          ],
          [
           110
          ],
          [
           111
          ],
          [
           112
          ],
          [
           113
          ],
          [
           114
          ],
          [
           115
          ],
          [
           116
          ],
          [
           117
          ],
          [
           118
          ],
          [
           119
          ],
          [
           120
          ],
          [
           121
          ],
          [
           122
          ],
          [
           123
          ],
          [
           124
          ],
          [
           125
          ],
          [
           126
          ],
          [
           127
          ],
          [
           128
          ],
          [
           129
          ],
          [
           130
          ],
          [
           131
          ],
          [
           132
          ],
          [
           133
          ],
          [
           134
          ],
          [
           135
          ],
          [
           136
          ],
          [
           137
          ],
          [
           138
          ],
          [
           139
          ],
          [
           140
          ],
          [
           141
          ],
          [
           142
          ],
          [
           143
          ],
          [
           144
          ],
          [
           145
          ],
          [
           146
          ],
          [
           147
          ],
          [
           148
          ],
          [
           149
          ],
          [
           150
          ],
          [
           151
          ],
          [
           152
          ],
          [
           153
          ],
          [
           154
          ],
          [
           155
          ],
          [
           156
          ],
          [
           157
          ],
          [
           158
          ],
          [
           159
          ],
          [
           160
          ],
          [
           161
          ],
          [
           162
          ],
          [
           163
          ],
          [
           164
          ],
          [
           165
          ],
          [
           166
          ],
          [
           167
          ],
          [
           168
          ],
          [
           169
          ],
          [
           170
          ],
          [
           171
          ],
          [
           172
          ],
          [
           173
          ],
          [
           174
          ],
          [
           175
          ],
          [
           176
          ],
          [
           177
          ],
          [
           178
          ],
          [
           179
          ],
          [
           180
          ],
          [
           181
          ],
          [
           182
          ],
          [
           183
          ],
          [
           184
          ],
          [
           185
          ],
          [
           186
          ],
          [
           187
          ],
          [
           188
          ],
          [
           189
          ],
          [
           190
          ],
          [
           191
          ],
          [
           192
          ],
          [
           193
          ],
          [
           194
          ],
          [
           195
          ],
          [
           196
          ],
          [
           197
          ],
          [
           198
          ],
          [
           199
          ],
          [
           200
          ]
         ],
         "hoverlabel": {
          "namelength": 0
         },
         "hovertemplate": "Cluster=Cluster 3<br>0=%{x}<br>1=%{y}<br>2=%{z}<br>Feature=%{customdata[0]}",
         "legendgroup": "Cluster=Cluster 3",
         "marker": {
          "color": "#ab63fa",
          "opacity": 0.7,
          "symbol": "circle"
         },
         "mode": "markers",
         "name": "Cluster=Cluster 3",
         "scene": "scene",
         "showlegend": true,
         "type": "scatter3d",
         "x": [
          35.86076736450195,
          74.38521575927734,
          73.00898742675781,
          22.629671096801758,
          101.31660461425781,
          12.768309593200684,
          7.95996618270874,
          69.10314178466797,
          107.45174407958984,
          88.64070892333984,
          61.25050354003906,
          49.59757995605469,
          123.85153198242188,
          119.60110473632812,
          138.40599060058594,
          128.63168334960938,
          62.76160430908203,
          80.9936752319336,
          111.39740753173828,
          78.5891342163086,
          54.84701156616211,
          -87.86317443847656,
          81.05835723876953,
          -79.00180053710938,
          136.48240661621094,
          90.60597229003906,
          57.94142150878906,
          93.55631256103516,
          61.990962982177734,
          122.3473129272461,
          102.80828094482422,
          96.26803588867188,
          134.9091033935547,
          40.04872512817383,
          -20.908803939819336,
          -1.9518812894821167,
          37.9487190246582,
          52.14215087890625,
          95.2586669921875,
          28.915435791015625,
          -22.737668991088867,
          -84.85540008544922,
          45.741600036621094,
          46.62777328491211,
          -49.36349868774414,
          -28.2480525970459,
          108.52406311035156,
          7.709173679351807,
          71.5820083618164,
          34.82834243774414,
          -37.427589416503906,
          13.95936393737793,
          101.05887603759766,
          14.593758583068848,
          72.44386291503906,
          109.67536163330078,
          85.86078643798828,
          36.63961410522461,
          125.30178833007812,
          9.599310874938965,
          99.63291931152344,
          -69.99776458740234,
          36.18296813964844,
          -24.657020568847656,
          14.585915565490723,
          -8.86223030090332,
          -111.08229064941406,
          127.69735717773438,
          131.3759307861328,
          107.92218017578125,
          -21.234397888183594,
          -35.76133346557617,
          -63.00078201293945,
          6.052970886230469,
          -120.01666259765625,
          11.985621452331543,
          66.60628509521484,
          -58.26321029663086,
          68.26068878173828,
          -48.31261444091797,
          -16.945348739624023,
          -71.81510162353516,
          61.726192474365234,
          69.7966537475586,
          74.83521270751953,
          43.44261169433594,
          87.8932876586914,
          -62.191261291503906,
          7.009891033172607,
          -47.775367736816406,
          87.33366394042969,
          11.203083038330078,
          -55.30364227294922,
          -79.89707946777344,
          -26.1209716796875
         ],
         "y": [
          -53.7624397277832,
          -10.0498628616333,
          -19.446239471435547,
          -63.07344436645508,
          -33.76611328125,
          -43.8751220703125,
          -74.35358428955078,
          8.924405097961426,
          -2.559253454208374,
          -42.89836502075195,
          -99.93559265136719,
          -91.03227996826172,
          -113.47932434082031,
          -88.03514099121094,
          -69.3253402709961,
          -77.26116943359375,
          97.07653045654297,
          -34.21643829345703,
          -47.667022705078125,
          -66.2874984741211,
          -34.793853759765625,
          -34.078758239746094,
          -44.13119125366211,
          -104.51769256591797,
          75.67166137695312,
          -115.89866638183594,
          -41.637603759765625,
          -70.63662719726562,
          -67.79867553710938,
          -33.86909103393555,
          -87.7611312866211,
          -101.17771911621094,
          -16.093984603881836,
          -11.910696029663086,
          -14.878779411315918,
          -3.579061985015869,
          29.02081871032715,
          50.12019348144531,
          16.80073356628418,
          21.558679580688477,
          8.963740348815918,
          -19.11335563659668,
          -28.556171417236328,
          2.31721568107605,
          -31.853404998779297,
          -93.9039306640625,
          47.761661529541016,
          2.1339685916900635,
          41.814308166503906,
          -6.732296943664551,
          -44.54731369018555,
          -5.995788097381592,
          7.79250955581665,
          52.99399948120117,
          16.614904403686523,
          39.16370391845703,
          27.777973175048828,
          -30.78053855895996,
          24.926210403442383,
          -34.21696472167969,
          8.889471054077148,
          -17.523771286010742,
          51.91303253173828,
          -17.730667114257812,
          18.825939178466797,
          -56.29966354370117,
          -65.86788177490234,
          -0.6485286355018616,
          11.315950393676758,
          3.0655829906463623,
          41.710262298583984,
          4.07571268081665,
          11.254196166992188,
          64.60974884033203,
          -54.51537322998047,
          46.10517501831055,
          50.217220306396484,
          -70.19542694091797,
          -41.33919143676758,
          -40.24737548828125,
          22.775516510009766,
          -47.18123245239258,
          21.546741485595703,
          -0.7719119191169739,
          70.2490005493164,
          38.38970184326172,
          42.11257553100586,
          -19.737367630004883,
          34.440887451171875,
          -13.767918586730957,
          5.207034587860107,
          47.680389404296875,
          -55.90317916870117,
          -48.12880325317383,
          -57.88610076904297
         ],
         "z": [
          -25.17694091796875,
          -8.1353178024292,
          20.37691307067871,
          -3.1332218647003174,
          57.94210433959961,
          -39.98219299316406,
          -31.72627067565918,
          -28.53982925415039,
          45.878814697265625,
          1.6222751140594482,
          -35.008174896240234,
          2.9586238861083984,
          -25.592548370361328,
          3.5309641361236572,
          -15.133354187011719,
          -43.923458099365234,
          -7.665246963500977,
          -67.13301086425781,
          -30.68366813659668,
          -12.368297576904297,
          -52.52391052246094,
          -87.7364730834961,
          -34.80717086791992,
          59.1376838684082,
          39.15135192871094,
          -18.87671661376953,
          4.890747547149658,
          -55.52716064453125,
          -52.803466796875,
          13.272571563720703,
          -25.200984954833984,
          -53.72270584106445,
          39.73179244995117,
          -12.080299377441406,
          17.11223793029785,
          40.08450698852539,
          2.1791110038757324,
          -34.36817932128906,
          71.41875457763672,
          32.051719665527344,
          -15.28644847869873,
          -4.82094144821167,
          77.27799224853516,
          17.94280433654785,
          -51.097164154052734,
          42.80162048339844,
          81.77738189697266,
          -20.495365142822266,
          24.2503604888916,
          46.153961181640625,
          -20.777740478515625,
          9.496468544006348,
          -44.51039505004883,
          85.55522918701172,
          38.69148254394531,
          20.9803524017334,
          3.4282121658325195,
          25.507246017456055,
          51.87645721435547,
          -9.28062915802002,
          21.805492401123047,
          -31.690593719482422,
          22.43174171447754,
          -31.44996452331543,
          59.690860748291016,
          -15.338508605957031,
          46.149539947509766,
          71.48344421386719,
          23.314132690429688,
          -10.22393798828125,
          -5.83037805557251,
          39.57289123535156,
          -7.927609443664551,
          4.68720006942749,
          -15.943264961242676,
          -17.593860626220703,
          78.07080841064453,
          3.299879789352417,
          39.642032623291016,
          8.344974517822266,
          33.477848052978516,
          -16.744693756103516,
          85.8692626953125,
          68.72796630859375,
          55.116676330566406,
          53.79159927368164,
          56.195159912109375,
          23.597604751586914,
          8.586995124816895,
          -10.949675559997559,
          99.43775939941406,
          39.78858184814453,
          36.39151382446289,
          16.619688034057617,
          19.197946548461914
         ]
        }
       ],
       "layout": {
        "height": 800,
        "legend": {
         "tracegroupgap": 0
        },
        "scene": {
         "domain": {
          "x": [
           0,
           1
          ],
          "y": [
           0,
           1
          ]
         },
         "xaxis": {
          "title": {
           "text": "0"
          }
         },
         "yaxis": {
          "title": {
           "text": "1"
          }
         },
         "zaxis": {
          "title": {
           "text": "2"
          }
         }
        },
        "template": {
         "data": {
          "bar": [
           {
            "error_x": {
             "color": "#2a3f5f"
            },
            "error_y": {
             "color": "#2a3f5f"
            },
            "marker": {
             "line": {
              "color": "#E5ECF6",
              "width": 0.5
             }
            },
            "type": "bar"
           }
          ],
          "barpolar": [
           {
            "marker": {
             "line": {
              "color": "#E5ECF6",
              "width": 0.5
             }
            },
            "type": "barpolar"
           }
          ],
          "carpet": [
           {
            "aaxis": {
             "endlinecolor": "#2a3f5f",
             "gridcolor": "white",
             "linecolor": "white",
             "minorgridcolor": "white",
             "startlinecolor": "#2a3f5f"
            },
            "baxis": {
             "endlinecolor": "#2a3f5f",
             "gridcolor": "white",
             "linecolor": "white",
             "minorgridcolor": "white",
             "startlinecolor": "#2a3f5f"
            },
            "type": "carpet"
           }
          ],
          "choropleth": [
           {
            "colorbar": {
             "outlinewidth": 0,
             "ticks": ""
            },
            "type": "choropleth"
           }
          ],
          "contour": [
           {
            "colorbar": {
             "outlinewidth": 0,
             "ticks": ""
            },
            "colorscale": [
             [
              0,
              "#0d0887"
             ],
             [
              0.1111111111111111,
              "#46039f"
             ],
             [
              0.2222222222222222,
              "#7201a8"
             ],
             [
              0.3333333333333333,
              "#9c179e"
             ],
             [
              0.4444444444444444,
              "#bd3786"
             ],
             [
              0.5555555555555556,
              "#d8576b"
             ],
             [
              0.6666666666666666,
              "#ed7953"
             ],
             [
              0.7777777777777778,
              "#fb9f3a"
             ],
             [
              0.8888888888888888,
              "#fdca26"
             ],
             [
              1,
              "#f0f921"
             ]
            ],
            "type": "contour"
           }
          ],
          "contourcarpet": [
           {
            "colorbar": {
             "outlinewidth": 0,
             "ticks": ""
            },
            "type": "contourcarpet"
           }
          ],
          "heatmap": [
           {
            "colorbar": {
             "outlinewidth": 0,
             "ticks": ""
            },
            "colorscale": [
             [
              0,
              "#0d0887"
             ],
             [
              0.1111111111111111,
              "#46039f"
             ],
             [
              0.2222222222222222,
              "#7201a8"
             ],
             [
              0.3333333333333333,
              "#9c179e"
             ],
             [
              0.4444444444444444,
              "#bd3786"
             ],
             [
              0.5555555555555556,
              "#d8576b"
             ],
             [
              0.6666666666666666,
              "#ed7953"
             ],
             [
              0.7777777777777778,
              "#fb9f3a"
             ],
             [
              0.8888888888888888,
              "#fdca26"
             ],
             [
              1,
              "#f0f921"
             ]
            ],
            "type": "heatmap"
           }
          ],
          "heatmapgl": [
           {
            "colorbar": {
             "outlinewidth": 0,
             "ticks": ""
            },
            "colorscale": [
             [
              0,
              "#0d0887"
             ],
             [
              0.1111111111111111,
              "#46039f"
             ],
             [
              0.2222222222222222,
              "#7201a8"
             ],
             [
              0.3333333333333333,
              "#9c179e"
             ],
             [
              0.4444444444444444,
              "#bd3786"
             ],
             [
              0.5555555555555556,
              "#d8576b"
             ],
             [
              0.6666666666666666,
              "#ed7953"
             ],
             [
              0.7777777777777778,
              "#fb9f3a"
             ],
             [
              0.8888888888888888,
              "#fdca26"
             ],
             [
              1,
              "#f0f921"
             ]
            ],
            "type": "heatmapgl"
           }
          ],
          "histogram": [
           {
            "marker": {
             "colorbar": {
              "outlinewidth": 0,
              "ticks": ""
             }
            },
            "type": "histogram"
           }
          ],
          "histogram2d": [
           {
            "colorbar": {
             "outlinewidth": 0,
             "ticks": ""
            },
            "colorscale": [
             [
              0,
              "#0d0887"
             ],
             [
              0.1111111111111111,
              "#46039f"
             ],
             [
              0.2222222222222222,
              "#7201a8"
             ],
             [
              0.3333333333333333,
              "#9c179e"
             ],
             [
              0.4444444444444444,
              "#bd3786"
             ],
             [
              0.5555555555555556,
              "#d8576b"
             ],
             [
              0.6666666666666666,
              "#ed7953"
             ],
             [
              0.7777777777777778,
              "#fb9f3a"
             ],
             [
              0.8888888888888888,
              "#fdca26"
             ],
             [
              1,
              "#f0f921"
             ]
            ],
            "type": "histogram2d"
           }
          ],
          "histogram2dcontour": [
           {
            "colorbar": {
             "outlinewidth": 0,
             "ticks": ""
            },
            "colorscale": [
             [
              0,
              "#0d0887"
             ],
             [
              0.1111111111111111,
              "#46039f"
             ],
             [
              0.2222222222222222,
              "#7201a8"
             ],
             [
              0.3333333333333333,
              "#9c179e"
             ],
             [
              0.4444444444444444,
              "#bd3786"
             ],
             [
              0.5555555555555556,
              "#d8576b"
             ],
             [
              0.6666666666666666,
              "#ed7953"
             ],
             [
              0.7777777777777778,
              "#fb9f3a"
             ],
             [
              0.8888888888888888,
              "#fdca26"
             ],
             [
              1,
              "#f0f921"
             ]
            ],
            "type": "histogram2dcontour"
           }
          ],
          "mesh3d": [
           {
            "colorbar": {
             "outlinewidth": 0,
             "ticks": ""
            },
            "type": "mesh3d"
           }
          ],
          "parcoords": [
           {
            "line": {
             "colorbar": {
              "outlinewidth": 0,
              "ticks": ""
             }
            },
            "type": "parcoords"
           }
          ],
          "pie": [
           {
            "automargin": true,
            "type": "pie"
           }
          ],
          "scatter": [
           {
            "marker": {
             "colorbar": {
              "outlinewidth": 0,
              "ticks": ""
             }
            },
            "type": "scatter"
           }
          ],
          "scatter3d": [
           {
            "line": {
             "colorbar": {
              "outlinewidth": 0,
              "ticks": ""
             }
            },
            "marker": {
             "colorbar": {
              "outlinewidth": 0,
              "ticks": ""
             }
            },
            "type": "scatter3d"
           }
          ],
          "scattercarpet": [
           {
            "marker": {
             "colorbar": {
              "outlinewidth": 0,
              "ticks": ""
             }
            },
            "type": "scattercarpet"
           }
          ],
          "scattergeo": [
           {
            "marker": {
             "colorbar": {
              "outlinewidth": 0,
              "ticks": ""
             }
            },
            "type": "scattergeo"
           }
          ],
          "scattergl": [
           {
            "marker": {
             "colorbar": {
              "outlinewidth": 0,
              "ticks": ""
             }
            },
            "type": "scattergl"
           }
          ],
          "scattermapbox": [
           {
            "marker": {
             "colorbar": {
              "outlinewidth": 0,
              "ticks": ""
             }
            },
            "type": "scattermapbox"
           }
          ],
          "scatterpolar": [
           {
            "marker": {
             "colorbar": {
              "outlinewidth": 0,
              "ticks": ""
             }
            },
            "type": "scatterpolar"
           }
          ],
          "scatterpolargl": [
           {
            "marker": {
             "colorbar": {
              "outlinewidth": 0,
              "ticks": ""
             }
            },
            "type": "scatterpolargl"
           }
          ],
          "scatterternary": [
           {
            "marker": {
             "colorbar": {
              "outlinewidth": 0,
              "ticks": ""
             }
            },
            "type": "scatterternary"
           }
          ],
          "surface": [
           {
            "colorbar": {
             "outlinewidth": 0,
             "ticks": ""
            },
            "colorscale": [
             [
              0,
              "#0d0887"
             ],
             [
              0.1111111111111111,
              "#46039f"
             ],
             [
              0.2222222222222222,
              "#7201a8"
             ],
             [
              0.3333333333333333,
              "#9c179e"
             ],
             [
              0.4444444444444444,
              "#bd3786"
             ],
             [
              0.5555555555555556,
              "#d8576b"
             ],
             [
              0.6666666666666666,
              "#ed7953"
             ],
             [
              0.7777777777777778,
              "#fb9f3a"
             ],
             [
              0.8888888888888888,
              "#fdca26"
             ],
             [
              1,
              "#f0f921"
             ]
            ],
            "type": "surface"
           }
          ],
          "table": [
           {
            "cells": {
             "fill": {
              "color": "#EBF0F8"
             },
             "line": {
              "color": "white"
             }
            },
            "header": {
             "fill": {
              "color": "#C8D4E3"
             },
             "line": {
              "color": "white"
             }
            },
            "type": "table"
           }
          ]
         },
         "layout": {
          "annotationdefaults": {
           "arrowcolor": "#2a3f5f",
           "arrowhead": 0,
           "arrowwidth": 1
          },
          "coloraxis": {
           "colorbar": {
            "outlinewidth": 0,
            "ticks": ""
           }
          },
          "colorscale": {
           "diverging": [
            [
             0,
             "#8e0152"
            ],
            [
             0.1,
             "#c51b7d"
            ],
            [
             0.2,
             "#de77ae"
            ],
            [
             0.3,
             "#f1b6da"
            ],
            [
             0.4,
             "#fde0ef"
            ],
            [
             0.5,
             "#f7f7f7"
            ],
            [
             0.6,
             "#e6f5d0"
            ],
            [
             0.7,
             "#b8e186"
            ],
            [
             0.8,
             "#7fbc41"
            ],
            [
             0.9,
             "#4d9221"
            ],
            [
             1,
             "#276419"
            ]
           ],
           "sequential": [
            [
             0,
             "#0d0887"
            ],
            [
             0.1111111111111111,
             "#46039f"
            ],
            [
             0.2222222222222222,
             "#7201a8"
            ],
            [
             0.3333333333333333,
             "#9c179e"
            ],
            [
             0.4444444444444444,
             "#bd3786"
            ],
            [
             0.5555555555555556,
             "#d8576b"
            ],
            [
             0.6666666666666666,
             "#ed7953"
            ],
            [
             0.7777777777777778,
             "#fb9f3a"
            ],
            [
             0.8888888888888888,
             "#fdca26"
            ],
            [
             1,
             "#f0f921"
            ]
           ],
           "sequentialminus": [
            [
             0,
             "#0d0887"
            ],
            [
             0.1111111111111111,
             "#46039f"
            ],
            [
             0.2222222222222222,
             "#7201a8"
            ],
            [
             0.3333333333333333,
             "#9c179e"
            ],
            [
             0.4444444444444444,
             "#bd3786"
            ],
            [
             0.5555555555555556,
             "#d8576b"
            ],
            [
             0.6666666666666666,
             "#ed7953"
            ],
            [
             0.7777777777777778,
             "#fb9f3a"
            ],
            [
             0.8888888888888888,
             "#fdca26"
            ],
            [
             1,
             "#f0f921"
            ]
           ]
          },
          "colorway": [
           "#636efa",
           "#EF553B",
           "#00cc96",
           "#ab63fa",
           "#FFA15A",
           "#19d3f3",
           "#FF6692",
           "#B6E880",
           "#FF97FF",
           "#FECB52"
          ],
          "font": {
           "color": "#2a3f5f"
          },
          "geo": {
           "bgcolor": "white",
           "lakecolor": "white",
           "landcolor": "#E5ECF6",
           "showlakes": true,
           "showland": true,
           "subunitcolor": "white"
          },
          "hoverlabel": {
           "align": "left"
          },
          "hovermode": "closest",
          "mapbox": {
           "style": "light"
          },
          "paper_bgcolor": "white",
          "plot_bgcolor": "#E5ECF6",
          "polar": {
           "angularaxis": {
            "gridcolor": "white",
            "linecolor": "white",
            "ticks": ""
           },
           "bgcolor": "#E5ECF6",
           "radialaxis": {
            "gridcolor": "white",
            "linecolor": "white",
            "ticks": ""
           }
          },
          "scene": {
           "xaxis": {
            "backgroundcolor": "#E5ECF6",
            "gridcolor": "white",
            "gridwidth": 2,
            "linecolor": "white",
            "showbackground": true,
            "ticks": "",
            "zerolinecolor": "white"
           },
           "yaxis": {
            "backgroundcolor": "#E5ECF6",
            "gridcolor": "white",
            "gridwidth": 2,
            "linecolor": "white",
            "showbackground": true,
            "ticks": "",
            "zerolinecolor": "white"
           },
           "zaxis": {
            "backgroundcolor": "#E5ECF6",
            "gridcolor": "white",
            "gridwidth": 2,
            "linecolor": "white",
            "showbackground": true,
            "ticks": "",
            "zerolinecolor": "white"
           }
          },
          "shapedefaults": {
           "line": {
            "color": "#2a3f5f"
           }
          },
          "ternary": {
           "aaxis": {
            "gridcolor": "white",
            "linecolor": "white",
            "ticks": ""
           },
           "baxis": {
            "gridcolor": "white",
            "linecolor": "white",
            "ticks": ""
           },
           "bgcolor": "#E5ECF6",
           "caxis": {
            "gridcolor": "white",
            "linecolor": "white",
            "ticks": ""
           }
          },
          "title": {
           "x": 0.05
          },
          "xaxis": {
           "automargin": true,
           "gridcolor": "white",
           "linecolor": "white",
           "ticks": "",
           "title": {
            "standoff": 15
           },
           "zerolinecolor": "white",
           "zerolinewidth": 2
          },
          "yaxis": {
           "automargin": true,
           "gridcolor": "white",
           "linecolor": "white",
           "ticks": "",
           "title": {
            "standoff": 15
           },
           "zerolinecolor": "white",
           "zerolinewidth": 2
          }
         }
        },
        "title": {
         "text": "3d TSNE Plot for Clusters"
        },
        "width": 900
       }
      },
      "text/html": [
       "<div>\n",
       "        \n",
       "        \n",
       "            <div id=\"c1672b35-2386-46e4-a142-a234eeb7d314\" class=\"plotly-graph-div\" style=\"height:800px; width:900px;\"></div>\n",
       "            <script type=\"text/javascript\">\n",
       "                require([\"plotly\"], function(Plotly) {\n",
       "                    window.PLOTLYENV=window.PLOTLYENV || {};\n",
       "                    \n",
       "                if (document.getElementById(\"c1672b35-2386-46e4-a142-a234eeb7d314\")) {\n",
       "                    Plotly.newPlot(\n",
       "                        'c1672b35-2386-46e4-a142-a234eeb7d314',\n",
       "                        [{\"customdata\": [[1], [2], [3], [4], [5], [6], [7], [8], [9], [10], [11], [12], [13], [14], [15], [16], [17], [18], [19], [20], [21], [22], [23], [24], [25], [26], [27], [28]], \"hoverlabel\": {\"namelength\": 0}, \"hovertemplate\": \"Cluster=Cluster 0<br>0=%{x}<br>1=%{y}<br>2=%{z}<br>Feature=%{customdata[0]}\", \"legendgroup\": \"Cluster=Cluster 0\", \"marker\": {\"color\": \"#636efa\", \"opacity\": 0.7, \"symbol\": \"circle\"}, \"mode\": \"markers\", \"name\": \"Cluster=Cluster 0\", \"scene\": \"scene\", \"showlegend\": true, \"type\": \"scatter3d\", \"x\": [53.50547790527344, 19.90078353881836, 9.525378227233887, 11.679306030273438, -13.949557304382324, -18.080076217651367, 18.46111297607422, 3.0154738426208496, 99.82744598388672, -19.596311569213867, -47.49927520751953, -20.882871627807617, -7.1724934577941895, -30.34082794189453, 78.79634094238281, -22.210155487060547, 41.34894943237305, -45.16909408569336, -54.74794387817383, 21.42275047302246, 28.934663772583008, -26.175514221191406, 6.0468621253967285, 12.995327949523926, 0.07416146248579025, -23.264272689819336, -3.7332401275634766, -38.47844314575195], \"y\": [-18.4616756439209, -100.42994689941406, -68.10055541992188, -113.60958862304688, -73.43034362792969, -87.10253143310547, 87.36447143554688, -46.27869415283203, 72.0112533569336, -117.16270446777344, -100.75328063964844, -51.190513610839844, -95.00244903564453, -89.1227035522461, -87.84353637695312, -53.51182556152344, -92.25957489013672, -60.276084899902344, -63.834190368652344, -87.01930236816406, -104.9527816772461, -104.22029113769531, -128.08717346191406, -96.8636474609375, -125.88864135742188, -120.6954116821289, -96.86531066894531, -91.15994262695312], \"z\": [-81.99253845214844, 36.0169792175293, -85.6571273803711, -29.76129150390625, -117.18367004394531, -67.22637176513672, 65.87495422363281, -113.4233627319336, -42.519081115722656, -46.29397964477539, -60.2652473449707, -92.3944320678711, -11.213142395019531, -31.88302993774414, 43.5031623840332, -47.931644439697266, 65.11803436279297, -117.26969146728516, -46.05863571166992, -120.4813003540039, -93.52714538574219, -124.51476287841797, -71.4465103149414, -67.41918182373047, -116.92571258544922, -86.65562438964844, -96.23906707763672, -96.01153564453125]}, {\"customdata\": [[29], [30], [31], [32], [33], [34], [35], [36], [37], [38], [39], [40], [41], [42], [43], [44], [45], [46], [47], [48], [49], [50], [51], [52], [53], [54], [55], [56], [57], [58], [59], [60], [61], [62], [63], [64], [65], [66], [67]], \"hoverlabel\": {\"namelength\": 0}, \"hovertemplate\": \"Cluster=Cluster 1<br>0=%{x}<br>1=%{y}<br>2=%{z}<br>Feature=%{customdata[0]}\", \"legendgroup\": \"Cluster=Cluster 1\", \"marker\": {\"color\": \"#EF553B\", \"opacity\": 0.7, \"symbol\": \"circle\"}, \"mode\": \"markers\", \"name\": \"Cluster=Cluster 1\", \"scene\": \"scene\", \"showlegend\": true, \"type\": \"scatter3d\", \"x\": [-26.12465476989746, 20.428176879882812, 6.187209606170654, -65.27374267578125, -4.6287841796875, -68.7799072265625, -48.803985595703125, -14.453787803649902, 24.32167625427246, -45.46864700317383, -36.63234329223633, -44.907161712646484, -6.214745044708252, -73.48224639892578, -14.108119010925293, 42.59507369995117, 19.694019317626953, 47.796974182128906, -17.22401237487793, -31.04705047607422, -12.528614044189453, -59.073341369628906, -33.993568420410156, -45.87644577026367, -0.13411670923233032, -17.97184181213379, -43.519691467285156, -64.82222747802734, -2.775998830795288, -28.422243118286133, -59.258941650390625, -14.374940872192383, -39.386802673339844, -72.47167205810547, -47.080379486083984, -32.92502212524414, -45.43855285644531, 4.510885238647461, -52.02805709838867], \"y\": [56.39043426513672, 41.599910736083984, 57.875980377197266, 60.15732955932617, 90.71638488769531, 40.3390007019043, 100.42282104492188, 19.26555061340332, 70.5874252319336, 40.85207748413086, 44.492454528808594, 16.738025665283203, 62.16401290893555, 29.07512855529785, 35.674468994140625, -148.53123474121094, 84.04554748535156, 80.03887939453125, 16.258153915405273, 120.44744873046875, 132.16477966308594, 82.34827423095703, 102.4943618774414, 138.9797821044922, 98.59485626220703, 91.0880355834961, 85.34822082519531, 59.2208137512207, -138.30654907226562, 68.00057220458984, 109.35628509521484, 90.23067474365234, 75.5199966430664, 119.46720123291016, 16.86626625061035, 124.2109146118164, 85.79170989990234, 117.19722747802734, 93.84517669677734], \"z\": [-105.5036849975586, -81.7887954711914, -108.74581146240234, -58.74245071411133, -119.19541931152344, -84.29317474365234, 32.23948287963867, -76.54450225830078, -63.73469924926758, -40.460594177246094, -73.34373474121094, -58.912593841552734, -76.39466857910156, -51.06208038330078, -51.04507064819336, -30.751665115356445, -93.36888122558594, 113.68738555908203, -132.00868225097656, -85.294189453125, -54.954593658447266, -32.65213394165039, -57.47652053833008, -62.01852035522461, -59.15468978881836, -25.02100944519043, -2.822662115097046, -13.27344799041748, 21.019256591796875, -42.06652069091797, -7.922826766967773, -89.1668701171875, -72.57649230957031, -47.74700927734375, -90.4784927368164, -31.292835235595703, -102.5432357788086, -86.99420928955078, 147.117919921875]}, {\"customdata\": [[68], [69], [70], [71], [72], [73], [74], [75], [76], [77], [78], [79], [80], [81], [82], [83], [84], [85], [86], [87], [88], [89], [90], [91], [92], [93], [94], [95], [96], [97], [98], [99], [100], [101], [102], [103], [104], [105]], \"hoverlabel\": {\"namelength\": 0}, \"hovertemplate\": \"Cluster=Cluster 2<br>0=%{x}<br>1=%{y}<br>2=%{z}<br>Feature=%{customdata[0]}\", \"legendgroup\": \"Cluster=Cluster 2\", \"marker\": {\"color\": \"#00cc96\", \"opacity\": 0.7, \"symbol\": \"circle\"}, \"mode\": \"markers\", \"name\": \"Cluster=Cluster 2\", \"scene\": \"scene\", \"showlegend\": true, \"type\": \"scatter3d\", \"x\": [-11.25245189666748, -64.94245147705078, -108.53742218017578, -28.86634063720703, -93.77754974365234, -11.848657608032227, -56.35777282714844, -47.657737731933594, -75.23853302001953, -72.68888854980469, -37.71097183227539, -120.63423156738281, 78.72908020019531, -3.43691086769104, -2.6942429542541504, -75.02338409423828, -33.132789611816406, -62.1927375793457, -49.79838943481445, -42.35136032104492, -82.58721160888672, -129.4847869873047, -67.97901916503906, -102.14250946044922, -55.515472412109375, -52.07127380371094, -29.45749282836914, -60.712833404541016, -102.84996795654297, -32.704132080078125, -35.36304473876953, -50.7307014465332, -100.25513458251953, -90.23424530029297, -78.60702514648438, -23.796781539916992, -11.72236156463623, -70.93956756591797], \"y\": [21.77950668334961, -14.310091972351074, 14.990822792053223, 59.37016677856445, -10.658002853393555, -9.50711727142334, 23.132383346557617, 103.5566177368164, -28.090803146362305, 12.114810943603516, -1.1291837692260742, 31.640087127685547, 41.009971618652344, -16.960750579833984, 43.25132751464844, 36.06216049194336, -45.3128547668457, -9.554936408996582, 23.002681732177734, -6.569145202636719, 41.73365783691406, 0.8145654797554016, 86.73587799072266, 6.691053867340088, -53.855979919433594, -40.88550567626953, 79.76051330566406, 56.94527053833008, -0.4911305010318756, -28.910945892333984, 45.977195739746094, 58.34777069091797, 65.32891082763672, 47.576072692871094, -38.989585876464844, 12.437958717346191, 5.207785129547119, 8.323017120361328], \"z\": [114.14777374267578, 123.1924057006836, 68.62860107421875, 126.41033935546875, 90.47579956054688, 80.16542053222656, 86.32124328613281, 77.3021240234375, 53.2687873840332, 107.67794036865234, 104.29801940917969, 41.76374435424805, -77.09931182861328, 105.51497650146484, 139.21719360351562, 58.98628616333008, 103.54534912109375, 82.7682876586914, 133.8094482421875, 140.89027404785156, 94.8933334350586, 47.87525177001953, 92.70286560058594, 36.10048294067383, 136.34234619140625, 64.82684326171875, 92.81623077392578, 109.67231750488281, 123.20076751708984, 48.89793014526367, 95.93489074707031, 70.39443969726562, 64.30963897705078, 121.44891357421875, 106.55487823486328, 66.25165557861328, 144.447509765625, 60.71638107299805]}, {\"customdata\": [[106], [107], [108], [109], [110], [111], [112], [113], [114], [115], [116], [117], [118], [119], [120], [121], [122], [123], [124], [125], [126], [127], [128], [129], [130], [131], [132], [133], [134], [135], [136], [137], [138], [139], [140], [141], [142], [143], [144], [145], [146], [147], [148], [149], [150], [151], [152], [153], [154], [155], [156], [157], [158], [159], [160], [161], [162], [163], [164], [165], [166], [167], [168], [169], [170], [171], [172], [173], [174], [175], [176], [177], [178], [179], [180], [181], [182], [183], [184], [185], [186], [187], [188], [189], [190], [191], [192], [193], [194], [195], [196], [197], [198], [199], [200]], \"hoverlabel\": {\"namelength\": 0}, \"hovertemplate\": \"Cluster=Cluster 3<br>0=%{x}<br>1=%{y}<br>2=%{z}<br>Feature=%{customdata[0]}\", \"legendgroup\": \"Cluster=Cluster 3\", \"marker\": {\"color\": \"#ab63fa\", \"opacity\": 0.7, \"symbol\": \"circle\"}, \"mode\": \"markers\", \"name\": \"Cluster=Cluster 3\", \"scene\": \"scene\", \"showlegend\": true, \"type\": \"scatter3d\", \"x\": [35.86076736450195, 74.38521575927734, 73.00898742675781, 22.629671096801758, 101.31660461425781, 12.768309593200684, 7.95996618270874, 69.10314178466797, 107.45174407958984, 88.64070892333984, 61.25050354003906, 49.59757995605469, 123.85153198242188, 119.60110473632812, 138.40599060058594, 128.63168334960938, 62.76160430908203, 80.9936752319336, 111.39740753173828, 78.5891342163086, 54.84701156616211, -87.86317443847656, 81.05835723876953, -79.00180053710938, 136.48240661621094, 90.60597229003906, 57.94142150878906, 93.55631256103516, 61.990962982177734, 122.3473129272461, 102.80828094482422, 96.26803588867188, 134.9091033935547, 40.04872512817383, -20.908803939819336, -1.9518812894821167, 37.9487190246582, 52.14215087890625, 95.2586669921875, 28.915435791015625, -22.737668991088867, -84.85540008544922, 45.741600036621094, 46.62777328491211, -49.36349868774414, -28.2480525970459, 108.52406311035156, 7.709173679351807, 71.5820083618164, 34.82834243774414, -37.427589416503906, 13.95936393737793, 101.05887603759766, 14.593758583068848, 72.44386291503906, 109.67536163330078, 85.86078643798828, 36.63961410522461, 125.30178833007812, 9.599310874938965, 99.63291931152344, -69.99776458740234, 36.18296813964844, -24.657020568847656, 14.585915565490723, -8.86223030090332, -111.08229064941406, 127.69735717773438, 131.3759307861328, 107.92218017578125, -21.234397888183594, -35.76133346557617, -63.00078201293945, 6.052970886230469, -120.01666259765625, 11.985621452331543, 66.60628509521484, -58.26321029663086, 68.26068878173828, -48.31261444091797, -16.945348739624023, -71.81510162353516, 61.726192474365234, 69.7966537475586, 74.83521270751953, 43.44261169433594, 87.8932876586914, -62.191261291503906, 7.009891033172607, -47.775367736816406, 87.33366394042969, 11.203083038330078, -55.30364227294922, -79.89707946777344, -26.1209716796875], \"y\": [-53.7624397277832, -10.0498628616333, -19.446239471435547, -63.07344436645508, -33.76611328125, -43.8751220703125, -74.35358428955078, 8.924405097961426, -2.559253454208374, -42.89836502075195, -99.93559265136719, -91.03227996826172, -113.47932434082031, -88.03514099121094, -69.3253402709961, -77.26116943359375, 97.07653045654297, -34.21643829345703, -47.667022705078125, -66.2874984741211, -34.793853759765625, -34.078758239746094, -44.13119125366211, -104.51769256591797, 75.67166137695312, -115.89866638183594, -41.637603759765625, -70.63662719726562, -67.79867553710938, -33.86909103393555, -87.7611312866211, -101.17771911621094, -16.093984603881836, -11.910696029663086, -14.878779411315918, -3.579061985015869, 29.02081871032715, 50.12019348144531, 16.80073356628418, 21.558679580688477, 8.963740348815918, -19.11335563659668, -28.556171417236328, 2.31721568107605, -31.853404998779297, -93.9039306640625, 47.761661529541016, 2.1339685916900635, 41.814308166503906, -6.732296943664551, -44.54731369018555, -5.995788097381592, 7.79250955581665, 52.99399948120117, 16.614904403686523, 39.16370391845703, 27.777973175048828, -30.78053855895996, 24.926210403442383, -34.21696472167969, 8.889471054077148, -17.523771286010742, 51.91303253173828, -17.730667114257812, 18.825939178466797, -56.29966354370117, -65.86788177490234, -0.6485286355018616, 11.315950393676758, 3.0655829906463623, 41.710262298583984, 4.07571268081665, 11.254196166992188, 64.60974884033203, -54.51537322998047, 46.10517501831055, 50.217220306396484, -70.19542694091797, -41.33919143676758, -40.24737548828125, 22.775516510009766, -47.18123245239258, 21.546741485595703, -0.7719119191169739, 70.2490005493164, 38.38970184326172, 42.11257553100586, -19.737367630004883, 34.440887451171875, -13.767918586730957, 5.207034587860107, 47.680389404296875, -55.90317916870117, -48.12880325317383, -57.88610076904297], \"z\": [-25.17694091796875, -8.1353178024292, 20.37691307067871, -3.1332218647003174, 57.94210433959961, -39.98219299316406, -31.72627067565918, -28.53982925415039, 45.878814697265625, 1.6222751140594482, -35.008174896240234, 2.9586238861083984, -25.592548370361328, 3.5309641361236572, -15.133354187011719, -43.923458099365234, -7.665246963500977, -67.13301086425781, -30.68366813659668, -12.368297576904297, -52.52391052246094, -87.7364730834961, -34.80717086791992, 59.1376838684082, 39.15135192871094, -18.87671661376953, 4.890747547149658, -55.52716064453125, -52.803466796875, 13.272571563720703, -25.200984954833984, -53.72270584106445, 39.73179244995117, -12.080299377441406, 17.11223793029785, 40.08450698852539, 2.1791110038757324, -34.36817932128906, 71.41875457763672, 32.051719665527344, -15.28644847869873, -4.82094144821167, 77.27799224853516, 17.94280433654785, -51.097164154052734, 42.80162048339844, 81.77738189697266, -20.495365142822266, 24.2503604888916, 46.153961181640625, -20.777740478515625, 9.496468544006348, -44.51039505004883, 85.55522918701172, 38.69148254394531, 20.9803524017334, 3.4282121658325195, 25.507246017456055, 51.87645721435547, -9.28062915802002, 21.805492401123047, -31.690593719482422, 22.43174171447754, -31.44996452331543, 59.690860748291016, -15.338508605957031, 46.149539947509766, 71.48344421386719, 23.314132690429688, -10.22393798828125, -5.83037805557251, 39.57289123535156, -7.927609443664551, 4.68720006942749, -15.943264961242676, -17.593860626220703, 78.07080841064453, 3.299879789352417, 39.642032623291016, 8.344974517822266, 33.477848052978516, -16.744693756103516, 85.8692626953125, 68.72796630859375, 55.116676330566406, 53.79159927368164, 56.195159912109375, 23.597604751586914, 8.586995124816895, -10.949675559997559, 99.43775939941406, 39.78858184814453, 36.39151382446289, 16.619688034057617, 19.197946548461914]}],\n",
       "                        {\"height\": 800, \"legend\": {\"tracegroupgap\": 0}, \"scene\": {\"domain\": {\"x\": [0.0, 1.0], \"y\": [0.0, 1.0]}, \"xaxis\": {\"title\": {\"text\": \"0\"}}, \"yaxis\": {\"title\": {\"text\": \"1\"}}, \"zaxis\": {\"title\": {\"text\": \"2\"}}}, \"template\": {\"data\": {\"bar\": [{\"error_x\": {\"color\": \"#2a3f5f\"}, \"error_y\": {\"color\": \"#2a3f5f\"}, \"marker\": {\"line\": {\"color\": \"#E5ECF6\", \"width\": 0.5}}, \"type\": \"bar\"}], \"barpolar\": [{\"marker\": {\"line\": {\"color\": \"#E5ECF6\", \"width\": 0.5}}, \"type\": \"barpolar\"}], \"carpet\": [{\"aaxis\": {\"endlinecolor\": \"#2a3f5f\", \"gridcolor\": \"white\", \"linecolor\": \"white\", \"minorgridcolor\": \"white\", \"startlinecolor\": \"#2a3f5f\"}, \"baxis\": {\"endlinecolor\": \"#2a3f5f\", \"gridcolor\": \"white\", \"linecolor\": \"white\", \"minorgridcolor\": \"white\", \"startlinecolor\": \"#2a3f5f\"}, \"type\": \"carpet\"}], \"choropleth\": [{\"colorbar\": {\"outlinewidth\": 0, \"ticks\": \"\"}, \"type\": \"choropleth\"}], \"contour\": [{\"colorbar\": {\"outlinewidth\": 0, \"ticks\": \"\"}, \"colorscale\": [[0.0, \"#0d0887\"], [0.1111111111111111, \"#46039f\"], [0.2222222222222222, \"#7201a8\"], [0.3333333333333333, \"#9c179e\"], [0.4444444444444444, \"#bd3786\"], [0.5555555555555556, \"#d8576b\"], [0.6666666666666666, \"#ed7953\"], [0.7777777777777778, \"#fb9f3a\"], [0.8888888888888888, \"#fdca26\"], [1.0, \"#f0f921\"]], \"type\": \"contour\"}], \"contourcarpet\": [{\"colorbar\": {\"outlinewidth\": 0, \"ticks\": \"\"}, \"type\": \"contourcarpet\"}], \"heatmap\": [{\"colorbar\": {\"outlinewidth\": 0, \"ticks\": \"\"}, \"colorscale\": [[0.0, \"#0d0887\"], [0.1111111111111111, \"#46039f\"], [0.2222222222222222, \"#7201a8\"], [0.3333333333333333, \"#9c179e\"], [0.4444444444444444, \"#bd3786\"], [0.5555555555555556, \"#d8576b\"], [0.6666666666666666, \"#ed7953\"], [0.7777777777777778, \"#fb9f3a\"], [0.8888888888888888, \"#fdca26\"], [1.0, \"#f0f921\"]], \"type\": \"heatmap\"}], \"heatmapgl\": [{\"colorbar\": {\"outlinewidth\": 0, \"ticks\": \"\"}, \"colorscale\": [[0.0, \"#0d0887\"], [0.1111111111111111, \"#46039f\"], [0.2222222222222222, \"#7201a8\"], [0.3333333333333333, \"#9c179e\"], [0.4444444444444444, \"#bd3786\"], [0.5555555555555556, \"#d8576b\"], [0.6666666666666666, \"#ed7953\"], [0.7777777777777778, \"#fb9f3a\"], [0.8888888888888888, \"#fdca26\"], [1.0, \"#f0f921\"]], \"type\": \"heatmapgl\"}], \"histogram\": [{\"marker\": {\"colorbar\": {\"outlinewidth\": 0, \"ticks\": \"\"}}, \"type\": \"histogram\"}], \"histogram2d\": [{\"colorbar\": {\"outlinewidth\": 0, \"ticks\": \"\"}, \"colorscale\": [[0.0, \"#0d0887\"], [0.1111111111111111, \"#46039f\"], [0.2222222222222222, \"#7201a8\"], [0.3333333333333333, \"#9c179e\"], [0.4444444444444444, \"#bd3786\"], [0.5555555555555556, \"#d8576b\"], [0.6666666666666666, \"#ed7953\"], [0.7777777777777778, \"#fb9f3a\"], [0.8888888888888888, \"#fdca26\"], [1.0, \"#f0f921\"]], \"type\": \"histogram2d\"}], \"histogram2dcontour\": [{\"colorbar\": {\"outlinewidth\": 0, \"ticks\": \"\"}, \"colorscale\": [[0.0, \"#0d0887\"], [0.1111111111111111, \"#46039f\"], [0.2222222222222222, \"#7201a8\"], [0.3333333333333333, \"#9c179e\"], [0.4444444444444444, \"#bd3786\"], [0.5555555555555556, \"#d8576b\"], [0.6666666666666666, \"#ed7953\"], [0.7777777777777778, \"#fb9f3a\"], [0.8888888888888888, \"#fdca26\"], [1.0, \"#f0f921\"]], \"type\": \"histogram2dcontour\"}], \"mesh3d\": [{\"colorbar\": {\"outlinewidth\": 0, \"ticks\": \"\"}, \"type\": \"mesh3d\"}], \"parcoords\": [{\"line\": {\"colorbar\": {\"outlinewidth\": 0, \"ticks\": \"\"}}, \"type\": \"parcoords\"}], \"pie\": [{\"automargin\": true, \"type\": \"pie\"}], \"scatter\": [{\"marker\": {\"colorbar\": {\"outlinewidth\": 0, \"ticks\": \"\"}}, \"type\": \"scatter\"}], \"scatter3d\": [{\"line\": {\"colorbar\": {\"outlinewidth\": 0, \"ticks\": \"\"}}, \"marker\": {\"colorbar\": {\"outlinewidth\": 0, \"ticks\": \"\"}}, \"type\": \"scatter3d\"}], \"scattercarpet\": [{\"marker\": {\"colorbar\": {\"outlinewidth\": 0, \"ticks\": \"\"}}, \"type\": \"scattercarpet\"}], \"scattergeo\": [{\"marker\": {\"colorbar\": {\"outlinewidth\": 0, \"ticks\": \"\"}}, \"type\": \"scattergeo\"}], \"scattergl\": [{\"marker\": {\"colorbar\": {\"outlinewidth\": 0, \"ticks\": \"\"}}, \"type\": \"scattergl\"}], \"scattermapbox\": [{\"marker\": {\"colorbar\": {\"outlinewidth\": 0, \"ticks\": \"\"}}, \"type\": \"scattermapbox\"}], \"scatterpolar\": [{\"marker\": {\"colorbar\": {\"outlinewidth\": 0, \"ticks\": \"\"}}, \"type\": \"scatterpolar\"}], \"scatterpolargl\": [{\"marker\": {\"colorbar\": {\"outlinewidth\": 0, \"ticks\": \"\"}}, \"type\": \"scatterpolargl\"}], \"scatterternary\": [{\"marker\": {\"colorbar\": {\"outlinewidth\": 0, \"ticks\": \"\"}}, \"type\": \"scatterternary\"}], \"surface\": [{\"colorbar\": {\"outlinewidth\": 0, \"ticks\": \"\"}, \"colorscale\": [[0.0, \"#0d0887\"], [0.1111111111111111, \"#46039f\"], [0.2222222222222222, \"#7201a8\"], [0.3333333333333333, \"#9c179e\"], [0.4444444444444444, \"#bd3786\"], [0.5555555555555556, \"#d8576b\"], [0.6666666666666666, \"#ed7953\"], [0.7777777777777778, \"#fb9f3a\"], [0.8888888888888888, \"#fdca26\"], [1.0, \"#f0f921\"]], \"type\": \"surface\"}], \"table\": [{\"cells\": {\"fill\": {\"color\": \"#EBF0F8\"}, \"line\": {\"color\": \"white\"}}, \"header\": {\"fill\": {\"color\": \"#C8D4E3\"}, \"line\": {\"color\": \"white\"}}, \"type\": \"table\"}]}, \"layout\": {\"annotationdefaults\": {\"arrowcolor\": \"#2a3f5f\", \"arrowhead\": 0, \"arrowwidth\": 1}, \"coloraxis\": {\"colorbar\": {\"outlinewidth\": 0, \"ticks\": \"\"}}, \"colorscale\": {\"diverging\": [[0, \"#8e0152\"], [0.1, \"#c51b7d\"], [0.2, \"#de77ae\"], [0.3, \"#f1b6da\"], [0.4, \"#fde0ef\"], [0.5, \"#f7f7f7\"], [0.6, \"#e6f5d0\"], [0.7, \"#b8e186\"], [0.8, \"#7fbc41\"], [0.9, \"#4d9221\"], [1, \"#276419\"]], \"sequential\": [[0.0, \"#0d0887\"], [0.1111111111111111, \"#46039f\"], [0.2222222222222222, \"#7201a8\"], [0.3333333333333333, \"#9c179e\"], [0.4444444444444444, \"#bd3786\"], [0.5555555555555556, \"#d8576b\"], [0.6666666666666666, \"#ed7953\"], [0.7777777777777778, \"#fb9f3a\"], [0.8888888888888888, \"#fdca26\"], [1.0, \"#f0f921\"]], \"sequentialminus\": [[0.0, \"#0d0887\"], [0.1111111111111111, \"#46039f\"], [0.2222222222222222, \"#7201a8\"], [0.3333333333333333, \"#9c179e\"], [0.4444444444444444, \"#bd3786\"], [0.5555555555555556, \"#d8576b\"], [0.6666666666666666, \"#ed7953\"], [0.7777777777777778, \"#fb9f3a\"], [0.8888888888888888, \"#fdca26\"], [1.0, \"#f0f921\"]]}, \"colorway\": [\"#636efa\", \"#EF553B\", \"#00cc96\", \"#ab63fa\", \"#FFA15A\", \"#19d3f3\", \"#FF6692\", \"#B6E880\", \"#FF97FF\", \"#FECB52\"], \"font\": {\"color\": \"#2a3f5f\"}, \"geo\": {\"bgcolor\": \"white\", \"lakecolor\": \"white\", \"landcolor\": \"#E5ECF6\", \"showlakes\": true, \"showland\": true, \"subunitcolor\": \"white\"}, \"hoverlabel\": {\"align\": \"left\"}, \"hovermode\": \"closest\", \"mapbox\": {\"style\": \"light\"}, \"paper_bgcolor\": \"white\", \"plot_bgcolor\": \"#E5ECF6\", \"polar\": {\"angularaxis\": {\"gridcolor\": \"white\", \"linecolor\": \"white\", \"ticks\": \"\"}, \"bgcolor\": \"#E5ECF6\", \"radialaxis\": {\"gridcolor\": \"white\", \"linecolor\": \"white\", \"ticks\": \"\"}}, \"scene\": {\"xaxis\": {\"backgroundcolor\": \"#E5ECF6\", \"gridcolor\": \"white\", \"gridwidth\": 2, \"linecolor\": \"white\", \"showbackground\": true, \"ticks\": \"\", \"zerolinecolor\": \"white\"}, \"yaxis\": {\"backgroundcolor\": \"#E5ECF6\", \"gridcolor\": \"white\", \"gridwidth\": 2, \"linecolor\": \"white\", \"showbackground\": true, \"ticks\": \"\", \"zerolinecolor\": \"white\"}, \"zaxis\": {\"backgroundcolor\": \"#E5ECF6\", \"gridcolor\": \"white\", \"gridwidth\": 2, \"linecolor\": \"white\", \"showbackground\": true, \"ticks\": \"\", \"zerolinecolor\": \"white\"}}, \"shapedefaults\": {\"line\": {\"color\": \"#2a3f5f\"}}, \"ternary\": {\"aaxis\": {\"gridcolor\": \"white\", \"linecolor\": \"white\", \"ticks\": \"\"}, \"baxis\": {\"gridcolor\": \"white\", \"linecolor\": \"white\", \"ticks\": \"\"}, \"bgcolor\": \"#E5ECF6\", \"caxis\": {\"gridcolor\": \"white\", \"linecolor\": \"white\", \"ticks\": \"\"}}, \"title\": {\"x\": 0.05}, \"xaxis\": {\"automargin\": true, \"gridcolor\": \"white\", \"linecolor\": \"white\", \"ticks\": \"\", \"title\": {\"standoff\": 15}, \"zerolinecolor\": \"white\", \"zerolinewidth\": 2}, \"yaxis\": {\"automargin\": true, \"gridcolor\": \"white\", \"linecolor\": \"white\", \"ticks\": \"\", \"title\": {\"standoff\": 15}, \"zerolinecolor\": \"white\", \"zerolinewidth\": 2}}}, \"title\": {\"text\": \"3d TSNE Plot for Clusters\"}, \"width\": 900},\n",
       "                        {\"responsive\": true}\n",
       "                    ).then(function(){\n",
       "                            \n",
       "var gd = document.getElementById('c1672b35-2386-46e4-a142-a234eeb7d314');\n",
       "var x = new MutationObserver(function (mutations, observer) {{\n",
       "        var display = window.getComputedStyle(gd).display;\n",
       "        if (!display || display === 'none') {{\n",
       "            console.log([gd, 'removed!']);\n",
       "            Plotly.purge(gd);\n",
       "            observer.disconnect();\n",
       "        }}\n",
       "}});\n",
       "\n",
       "// Listen for the removal of the full notebook cells\n",
       "var notebookContainer = gd.closest('#notebook-container');\n",
       "if (notebookContainer) {{\n",
       "    x.observe(notebookContainer, {childList: true});\n",
       "}}\n",
       "\n",
       "// Listen for the clearing of the current output cell\n",
       "var outputEl = gd.closest('.output');\n",
       "if (outputEl) {{\n",
       "    x.observe(outputEl, {childList: true});\n",
       "}}\n",
       "\n",
       "                        })\n",
       "                };\n",
       "                });\n",
       "            </script>\n",
       "        </div>"
      ]
     },
     "metadata": {},
     "output_type": "display_data"
    }
   ],
   "source": [
    "plot_model(kmeans, plot='tsne', feature = None, label = False)"
   ]
  },
  {
   "cell_type": "code",
   "execution_count": null,
   "metadata": {},
   "outputs": [],
   "source": []
  },
  {
   "cell_type": "code",
   "execution_count": 31,
   "metadata": {},
   "outputs": [
    {
     "data": {
      "text/html": [
       "        <script type=\"text/javascript\">\n",
       "        window.PlotlyConfig = {MathJaxConfig: 'local'};\n",
       "        if (window.MathJax) {MathJax.Hub.Config({SVG: {font: \"STIX-Web\"}});}\n",
       "        if (typeof require !== 'undefined') {\n",
       "        require.undef(\"plotly\");\n",
       "        requirejs.config({\n",
       "            paths: {\n",
       "                'plotly': ['https://cdn.plot.ly/plotly-latest.min']\n",
       "            }\n",
       "        });\n",
       "        require(['plotly'], function(Plotly) {\n",
       "            window._Plotly = Plotly;\n",
       "        });\n",
       "        }\n",
       "        </script>\n",
       "        "
      ]
     },
     "metadata": {},
     "output_type": "display_data"
    },
    {
     "data": {
      "image/png": "[encoded data removed]",
      "text/plain": [
       "<Figure size 800x550 with 1 Axes>"
      ]
     },
     "metadata": {},
     "output_type": "display_data"
    }
   ],
   "source": [
    "plot_model(kmeans, plot='elbow', feature = None, label = False)"
   ]
  },
  {
   "cell_type": "code",
   "execution_count": 32,
   "metadata": {},
   "outputs": [
    {
     "data": {
      "text/html": [
       "        <script type=\"text/javascript\">\n",
       "        window.PlotlyConfig = {MathJaxConfig: 'local'};\n",
       "        if (window.MathJax) {MathJax.Hub.Config({SVG: {font: \"STIX-Web\"}});}\n",
       "        if (typeof require !== 'undefined') {\n",
       "        require.undef(\"plotly\");\n",
       "        requirejs.config({\n",
       "            paths: {\n",
       "                'plotly': ['https://cdn.plot.ly/plotly-latest.min']\n",
       "            }\n",
       "        });\n",
       "        require(['plotly'], function(Plotly) {\n",
       "            window._Plotly = Plotly;\n",
       "        });\n",
       "        }\n",
       "        </script>\n",
       "        "
      ]
     },
     "metadata": {},
     "output_type": "display_data"
    },
    {
     "data": {
      "image/png": "[encoded data removed]",
      "text/plain": [
       "<Figure size 800x550 with 1 Axes>"
      ]
     },
     "metadata": {},
     "output_type": "display_data"
    }
   ],
   "source": [
    "plot_model(kmeans, plot='silhouette', feature = None, label = False)"
   ]
  },
  {
   "cell_type": "code",
   "execution_count": 33,
   "metadata": {},
   "outputs": [
    {
     "data": {
      "text/html": [
       "        <script type=\"text/javascript\">\n",
       "        window.PlotlyConfig = {MathJaxConfig: 'local'};\n",
       "        if (window.MathJax) {MathJax.Hub.Config({SVG: {font: \"STIX-Web\"}});}\n",
       "        if (typeof require !== 'undefined') {\n",
       "        require.undef(\"plotly\");\n",
       "        requirejs.config({\n",
       "            paths: {\n",
       "                'plotly': ['https://cdn.plot.ly/plotly-latest.min']\n",
       "            }\n",
       "        });\n",
       "        require(['plotly'], function(Plotly) {\n",
       "            window._Plotly = Plotly;\n",
       "        });\n",
       "        }\n",
       "        </script>\n",
       "        "
      ]
     },
     "metadata": {},
     "output_type": "display_data"
    },
    {
     "data": {
      "image/png": "[encoded data removed]",
      "text/plain": [
       "<Figure size 800x550 with 2 Axes>"
      ]
     },
     "metadata": {},
     "output_type": "display_data"
    }
   ],
   "source": [
    "plot_model(kmeans, plot='distance', feature = None, label = False)"
   ]
  },
  {
   "cell_type": "code",
   "execution_count": 34,
   "metadata": {},
   "outputs": [
    {
     "data": {
      "text/html": [
       "        <script type=\"text/javascript\">\n",
       "        window.PlotlyConfig = {MathJaxConfig: 'local'};\n",
       "        if (window.MathJax) {MathJax.Hub.Config({SVG: {font: \"STIX-Web\"}});}\n",
       "        if (typeof require !== 'undefined') {\n",
       "        require.undef(\"plotly\");\n",
       "        requirejs.config({\n",
       "            paths: {\n",
       "                'plotly': ['https://cdn.plot.ly/plotly-latest.min']\n",
       "            }\n",
       "        });\n",
       "        require(['plotly'], function(Plotly) {\n",
       "            window._Plotly = Plotly;\n",
       "        });\n",
       "        }\n",
       "        </script>\n",
       "        "
      ]
     },
     "metadata": {},
     "output_type": "display_data"
    },
    {
     "data": {
      "application/vnd.plotly.v1+json": {
       "config": {
        "plotlyServerURL": "https://plot.ly"
       },
       "data": [
        {
         "alignmentgroup": "True",
         "bingroup": "x",
         "hoverlabel": {
          "namelength": 0
         },
         "hovertemplate": "Cluster=%{x}<br>count=%{y}",
         "legendgroup": "Cluster=Cluster 0",
         "marker": {
          "color": "#636efa",
          "opacity": 0.7
         },
         "name": "Cluster=Cluster 0",
         "offsetgroup": "Cluster=Cluster 0",
         "orientation": "v",
         "showlegend": true,
         "type": "histogram",
         "x": [
          "Cluster 0",
          "Cluster 0",
          "Cluster 0",
          "Cluster 0",
          "Cluster 0",
          "Cluster 0",
          "Cluster 0",
          "Cluster 0",
          "Cluster 0",
          "Cluster 0",
          "Cluster 0",
          "Cluster 0",
          "Cluster 0",
          "Cluster 0",
          "Cluster 0",
          "Cluster 0",
          "Cluster 0",
          "Cluster 0",
          "Cluster 0",
          "Cluster 0",
          "Cluster 0",
          "Cluster 0",
          "Cluster 0",
          "Cluster 0",
          "Cluster 0",
          "Cluster 0",
          "Cluster 0",
          "Cluster 0"
         ],
         "xaxis": "x",
         "yaxis": "y"
        },
        {
         "alignmentgroup": "True",
         "customdata": [
          [
           1,
           "Male",
           19,
           15,
           39,
           "Cluster 0"
          ],
          [
           24,
           "Male",
           31,
           25,
           73,
           "Cluster 0"
          ],
          [
           26,
           "Male",
           29,
           28,
           82,
           "Cluster 0"
          ],
          [
           28,
           "Male",
           35,
           28,
           61,
           "Cluster 0"
          ],
          [
           30,
           "Female",
           23,
           29,
           87,
           "Cluster 0"
          ],
          [
           32,
           "Female",
           21,
           30,
           73,
           "Cluster 0"
          ],
          [
           69,
           "Male",
           19,
           48,
           59,
           "Cluster 0"
          ],
          [
           34,
           "Male",
           18,
           33,
           92,
           "Cluster 0"
          ],
          [
           36,
           "Female",
           21,
           33,
           81,
           "Cluster 0"
          ],
          [
           38,
           "Female",
           30,
           34,
           73,
           "Cluster 0"
          ],
          [
           40,
           "Female",
           20,
           37,
           75,
           "Cluster 0"
          ],
          [
           42,
           "Male",
           24,
           38,
           92,
           "Cluster 0"
          ],
          [
           44,
           "Female",
           31,
           39,
           61,
           "Cluster 0"
          ],
          [
           46,
           "Female",
           24,
           39,
           65,
           "Cluster 0"
          ],
          [
           52,
           "Male",
           33,
           42,
           60,
           "Cluster 0"
          ],
          [
           62,
           "Male",
           19,
           46,
           55,
           "Cluster 0"
          ],
          [
           22,
           "Male",
           25,
           24,
           73,
           "Cluster 0"
          ],
          [
           20,
           "Female",
           35,
           23,
           98,
           "Cluster 0"
          ],
          [
           66,
           "Male",
           18,
           48,
           59,
           "Cluster 0"
          ],
          [
           18,
           "Male",
           20,
           21,
           66,
           "Cluster 0"
          ],
          [
           6,
           "Female",
           22,
           17,
           76,
           "Cluster 0"
          ],
          [
           8,
           "Female",
           23,
           18,
           94,
           "Cluster 0"
          ],
          [
           10,
           "Female",
           30,
           19,
           72,
           "Cluster 0"
          ],
          [
           14,
           "Female",
           24,
           20,
           77,
           "Cluster 0"
          ],
          [
           12,
           "Female",
           35,
           19,
           99,
           "Cluster 0"
          ],
          [
           4,
           "Female",
           23,
           16,
           77,
           "Cluster 0"
          ],
          [
           16,
           "Male",
           22,
           20,
           79,
           "Cluster 0"
          ],
          [
           2,
           "Male",
           21,
           15,
           81,
           "Cluster 0"
          ]
         ],
         "hoverlabel": {
          "namelength": 0
         },
         "hovertemplate": "Cluster=%{customdata[5]}<br>CustomerID=%{customdata[0]}<br>Gender=%{customdata[1]}<br>Age=%{customdata[2]}<br>Annual_Income_(k$)=%{customdata[3]}<br>Spending_Score_(1-100)=%{customdata[4]}",
         "legendgroup": "Cluster=Cluster 0",
         "marker": {
          "color": "#636efa"
         },
         "name": "Cluster=Cluster 0",
         "notched": true,
         "offsetgroup": "Cluster=Cluster 0",
         "showlegend": false,
         "type": "box",
         "x": [
          "Cluster 0",
          "Cluster 0",
          "Cluster 0",
          "Cluster 0",
          "Cluster 0",
          "Cluster 0",
          "Cluster 0",
          "Cluster 0",
          "Cluster 0",
          "Cluster 0",
          "Cluster 0",
          "Cluster 0",
          "Cluster 0",
          "Cluster 0",
          "Cluster 0",
          "Cluster 0",
          "Cluster 0",
          "Cluster 0",
          "Cluster 0",
          "Cluster 0",
          "Cluster 0",
          "Cluster 0",
          "Cluster 0",
          "Cluster 0",
          "Cluster 0",
          "Cluster 0",
          "Cluster 0",
          "Cluster 0"
         ],
         "xaxis": "x2",
         "yaxis": "y2"
        },
        {
         "alignmentgroup": "True",
         "bingroup": "x",
         "hoverlabel": {
          "namelength": 0
         },
         "hovertemplate": "Cluster=%{x}<br>count=%{y}",
         "legendgroup": "Cluster=Cluster 1",
         "marker": {
          "color": "#EF553B",
          "opacity": 0.7
         },
         "name": "Cluster=Cluster 1",
         "offsetgroup": "Cluster=Cluster 1",
         "orientation": "v",
         "showlegend": true,
         "type": "histogram",
         "x": [
          "Cluster 1",
          "Cluster 1",
          "Cluster 1",
          "Cluster 1",
          "Cluster 1",
          "Cluster 1",
          "Cluster 1",
          "Cluster 1",
          "Cluster 1",
          "Cluster 1",
          "Cluster 1",
          "Cluster 1",
          "Cluster 1",
          "Cluster 1",
          "Cluster 1",
          "Cluster 1",
          "Cluster 1",
          "Cluster 1",
          "Cluster 1",
          "Cluster 1",
          "Cluster 1",
          "Cluster 1",
          "Cluster 1",
          "Cluster 1",
          "Cluster 1",
          "Cluster 1",
          "Cluster 1",
          "Cluster 1",
          "Cluster 1",
          "Cluster 1",
          "Cluster 1",
          "Cluster 1",
          "Cluster 1",
          "Cluster 1",
          "Cluster 1",
          "Cluster 1",
          "Cluster 1",
          "Cluster 1",
          "Cluster 1"
         ],
         "xaxis": "x",
         "yaxis": "y"
        },
        {
         "alignmentgroup": "True",
         "customdata": [
          [
           152,
           "Male",
           39,
           78,
           88,
           "Cluster 1"
          ],
          [
           124,
           "Male",
           39,
           69,
           91,
           "Cluster 1"
          ],
          [
           150,
           "Male",
           34,
           78,
           90,
           "Cluster 1"
          ],
          [
           148,
           "Female",
           32,
           77,
           74,
           "Cluster 1"
          ],
          [
           146,
           "Male",
           28,
           77,
           97,
           "Cluster 1"
          ],
          [
           126,
           "Female",
           31,
           70,
           77,
           "Cluster 1"
          ],
          [
           198,
           "Male",
           32,
           126,
           74,
           "Cluster 1"
          ],
          [
           130,
           "Male",
           38,
           71,
           75,
           "Cluster 1"
          ],
          [
           128,
           "Male",
           40,
           71,
           95,
           "Cluster 1"
          ],
          [
           140,
           "Female",
           35,
           74,
           72,
           "Cluster 1"
          ],
          [
           154,
           "Female",
           38,
           78,
           76,
           "Cluster 1"
          ],
          [
           138,
           "Male",
           32,
           73,
           73,
           "Cluster 1"
          ],
          [
           136,
           "Female",
           29,
           73,
           88,
           "Cluster 1"
          ],
          [
           134,
           "Female",
           31,
           72,
           71,
           "Cluster 1"
          ],
          [
           132,
           "Male",
           39,
           71,
           75,
           "Cluster 1"
          ],
          [
           144,
           "Female",
           32,
           76,
           87,
           "Cluster 1"
          ],
          [
           142,
           "Male",
           32,
           75,
           93,
           "Cluster 1"
          ],
          [
           158,
           "Female",
           30,
           78,
           78,
           "Cluster 1"
          ],
          [
           196,
           "Female",
           35,
           120,
           79,
           "Cluster 1"
          ],
          [
           180,
           "Male",
           35,
           93,
           90,
           "Cluster 1"
          ],
          [
           184,
           "Female",
           29,
           98,
           88,
           "Cluster 1"
          ],
          [
           178,
           "Male",
           27,
           88,
           69,
           "Cluster 1"
          ],
          [
           176,
           "Female",
           30,
           88,
           86,
           "Cluster 1"
          ],
          [
           186,
           "Male",
           30,
           99,
           97,
           "Cluster 1"
          ],
          [
           174,
           "Male",
           36,
           87,
           92,
           "Cluster 1"
          ],
          [
           172,
           "Male",
           28,
           87,
           75,
           "Cluster 1"
          ],
          [
           188,
           "Male",
           28,
           101,
           68,
           "Cluster 1"
          ],
          [
           170,
           "Male",
           32,
           87,
           63,
           "Cluster 1"
          ],
          [
           190,
           "Female",
           36,
           103,
           85,
           "Cluster 1"
          ],
          [
           166,
           "Female",
           36,
           85,
           75,
           "Cluster 1"
          ],
          [
           192,
           "Female",
           32,
           103,
           69,
           "Cluster 1"
          ],
          [
           164,
           "Female",
           31,
           81,
           93,
           "Cluster 1"
          ],
          [
           162,
           "Female",
           29,
           79,
           83,
           "Cluster 1"
          ],
          [
           194,
           "Female",
           38,
           113,
           91,
           "Cluster 1"
          ],
          [
           160,
           "Female",
           30,
           78,
           73,
           "Cluster 1"
          ],
          [
           182,
           "Female",
           32,
           97,
           86,
           "Cluster 1"
          ],
          [
           156,
           "Female",
           27,
           78,
           89,
           "Cluster 1"
          ],
          [
           168,
           "Female",
           33,
           86,
           95,
           "Cluster 1"
          ],
          [
           200,
           "Male",
           30,
           137,
           83,
           "Cluster 1"
          ]
         ],
         "hoverlabel": {
          "namelength": 0
         },
         "hovertemplate": "Cluster=%{customdata[5]}<br>CustomerID=%{customdata[0]}<br>Gender=%{customdata[1]}<br>Age=%{customdata[2]}<br>Annual_Income_(k$)=%{customdata[3]}<br>Spending_Score_(1-100)=%{customdata[4]}",
         "legendgroup": "Cluster=Cluster 1",
         "marker": {
          "color": "#EF553B"
         },
         "name": "Cluster=Cluster 1",
         "notched": true,
         "offsetgroup": "Cluster=Cluster 1",
         "showlegend": false,
         "type": "box",
         "x": [
          "Cluster 1",
          "Cluster 1",
          "Cluster 1",
          "Cluster 1",
          "Cluster 1",
          "Cluster 1",
          "Cluster 1",
          "Cluster 1",
          "Cluster 1",
          "Cluster 1",
          "Cluster 1",
          "Cluster 1",
          "Cluster 1",
          "Cluster 1",
          "Cluster 1",
          "Cluster 1",
          "Cluster 1",
          "Cluster 1",
          "Cluster 1",
          "Cluster 1",
          "Cluster 1",
          "Cluster 1",
          "Cluster 1",
          "Cluster 1",
          "Cluster 1",
          "Cluster 1",
          "Cluster 1",
          "Cluster 1",
          "Cluster 1",
          "Cluster 1",
          "Cluster 1",
          "Cluster 1",
          "Cluster 1",
          "Cluster 1",
          "Cluster 1",
          "Cluster 1",
          "Cluster 1",
          "Cluster 1",
          "Cluster 1"
         ],
         "xaxis": "x2",
         "yaxis": "y2"
        },
        {
         "alignmentgroup": "True",
         "bingroup": "x",
         "hoverlabel": {
          "namelength": 0
         },
         "hovertemplate": "Cluster=%{x}<br>count=%{y}",
         "legendgroup": "Cluster=Cluster 2",
         "marker": {
          "color": "#00cc96",
          "opacity": 0.7
         },
         "name": "Cluster=Cluster 2",
         "offsetgroup": "Cluster=Cluster 2",
         "orientation": "v",
         "showlegend": true,
         "type": "histogram",
         "x": [
          "Cluster 2",
          "Cluster 2",
          "Cluster 2",
          "Cluster 2",
          "Cluster 2",
          "Cluster 2",
          "Cluster 2",
          "Cluster 2",
          "Cluster 2",
          "Cluster 2",
          "Cluster 2",
          "Cluster 2",
          "Cluster 2",
          "Cluster 2",
          "Cluster 2",
          "Cluster 2",
          "Cluster 2",
          "Cluster 2",
          "Cluster 2",
          "Cluster 2",
          "Cluster 2",
          "Cluster 2",
          "Cluster 2",
          "Cluster 2",
          "Cluster 2",
          "Cluster 2",
          "Cluster 2",
          "Cluster 2",
          "Cluster 2",
          "Cluster 2",
          "Cluster 2",
          "Cluster 2",
          "Cluster 2",
          "Cluster 2",
          "Cluster 2",
          "Cluster 2",
          "Cluster 2",
          "Cluster 2"
         ],
         "xaxis": "x",
         "yaxis": "y"
        },
        {
         "alignmentgroup": "True",
         "customdata": [
          [
           137,
           "Female",
           44,
           73,
           7,
           "Cluster 2"
          ],
          [
           175,
           "Female",
           52,
           88,
           13,
           "Cluster 2"
          ],
          [
           145,
           "Male",
           25,
           77,
           12,
           "Cluster 2"
          ],
          [
           173,
           "Male",
           36,
           87,
           10,
           "Cluster 2"
          ],
          [
           171,
           "Male",
           40,
           87,
           13,
           "Cluster 2"
          ],
          [
           147,
           "Male",
           48,
           77,
           36,
           "Cluster 2"
          ],
          [
           169,
           "Female",
           36,
           87,
           27,
           "Cluster 2"
          ],
          [
           199,
           "Male",
           32,
           137,
           18,
           "Cluster 2"
          ],
          [
           125,
           "Female",
           23,
           70,
           29,
           "Cluster 2"
          ],
          [
           167,
           "Male",
           42,
           86,
           20,
           "Cluster 2"
          ],
          [
           165,
           "Male",
           50,
           85,
           26,
           "Cluster 2"
          ],
          [
           163,
           "Male",
           19,
           81,
           5,
           "Cluster 2"
          ],
          [
           151,
           "Male",
           43,
           78,
           17,
           "Cluster 2"
          ],
          [
           161,
           "Female",
           56,
           79,
           35,
           "Cluster 2"
          ],
          [
           159,
           "Male",
           34,
           78,
           1,
           "Cluster 2"
          ],
          [
           153,
           "Female",
           44,
           78,
           20,
           "Cluster 2"
          ],
          [
           157,
           "Male",
           37,
           78,
           1,
           "Cluster 2"
          ],
          [
           149,
           "Female",
           34,
           78,
           22,
           "Cluster 2"
          ],
          [
           179,
           "Male",
           59,
           93,
           14,
           "Cluster 2"
          ],
          [
           177,
           "Male",
           58,
           88,
           15,
           "Cluster 2"
          ],
          [
           181,
           "Female",
           37,
           97,
           32,
           "Cluster 2"
          ],
          [
           135,
           "Male",
           20,
           73,
           5,
           "Cluster 2"
          ],
          [
           197,
           "Female",
           45,
           126,
           28,
           "Cluster 2"
          ],
          [
           139,
           "Male",
           19,
           74,
           10,
           "Cluster 2"
          ],
          [
           195,
           "Female",
           47,
           120,
           16,
           "Cluster 2"
          ],
          [
           133,
           "Female",
           25,
           72,
           34,
           "Cluster 2"
          ],
          [
           193,
           "Male",
           33,
           113,
           8,
           "Cluster 2"
          ],
          [
           191,
           "Female",
           34,
           103,
           23,
           "Cluster 2"
          ],
          [
           131,
           "Male",
           47,
           71,
           9,
           "Cluster 2"
          ],
          [
           143,
           "Female",
           28,
           76,
           40,
           "Cluster 2"
          ],
          [
           189,
           "Female",
           41,
           103,
           17,
           "Cluster 2"
          ],
          [
           187,
           "Female",
           54,
           101,
           24,
           "Cluster 2"
          ],
          [
           129,
           "Male",
           59,
           71,
           11,
           "Cluster 2"
          ],
          [
           185,
           "Female",
           41,
           99,
           39,
           "Cluster 2"
          ],
          [
           183,
           "Male",
           46,
           98,
           15,
           "Cluster 2"
          ],
          [
           127,
           "Male",
           43,
           71,
           35,
           "Cluster 2"
          ],
          [
           141,
           "Female",
           57,
           75,
           5,
           "Cluster 2"
          ],
          [
           155,
           "Female",
           47,
           78,
           16,
           "Cluster 2"
          ]
         ],
         "hoverlabel": {
          "namelength": 0
         },
         "hovertemplate": "Cluster=%{customdata[5]}<br>CustomerID=%{customdata[0]}<br>Gender=%{customdata[1]}<br>Age=%{customdata[2]}<br>Annual_Income_(k$)=%{customdata[3]}<br>Spending_Score_(1-100)=%{customdata[4]}",
         "legendgroup": "Cluster=Cluster 2",
         "marker": {
          "color": "#00cc96"
         },
         "name": "Cluster=Cluster 2",
         "notched": true,
         "offsetgroup": "Cluster=Cluster 2",
         "showlegend": false,
         "type": "box",
         "x": [
          "Cluster 2",
          "Cluster 2",
          "Cluster 2",
          "Cluster 2",
          "Cluster 2",
          "Cluster 2",
          "Cluster 2",
          "Cluster 2",
          "Cluster 2",
          "Cluster 2",
          "Cluster 2",
          "Cluster 2",
          "Cluster 2",
          "Cluster 2",
          "Cluster 2",
          "Cluster 2",
          "Cluster 2",
          "Cluster 2",
          "Cluster 2",
          "Cluster 2",
          "Cluster 2",
          "Cluster 2",
          "Cluster 2",
          "Cluster 2",
          "Cluster 2",
          "Cluster 2",
          "Cluster 2",
          "Cluster 2",
          "Cluster 2",
          "Cluster 2",
          "Cluster 2",
          "Cluster 2",
          "Cluster 2",
          "Cluster 2",
          "Cluster 2",
          "Cluster 2",
          "Cluster 2",
          "Cluster 2"
         ],
         "xaxis": "x2",
         "yaxis": "y2"
        },
        {
         "alignmentgroup": "True",
         "bingroup": "x",
         "hoverlabel": {
          "namelength": 0
         },
         "hovertemplate": "Cluster=%{x}<br>count=%{y}",
         "legendgroup": "Cluster=Cluster 3",
         "marker": {
          "color": "#ab63fa",
          "opacity": 0.7
         },
         "name": "Cluster=Cluster 3",
         "offsetgroup": "Cluster=Cluster 3",
         "orientation": "v",
         "showlegend": true,
         "type": "histogram",
         "x": [
          "Cluster 3",
          "Cluster 3",
          "Cluster 3",
          "Cluster 3",
          "Cluster 3",
          "Cluster 3",
          "Cluster 3",
          "Cluster 3",
          "Cluster 3",
          "Cluster 3",
          "Cluster 3",
          "Cluster 3",
          "Cluster 3",
          "Cluster 3",
          "Cluster 3",
          "Cluster 3",
          "Cluster 3",
          "Cluster 3",
          "Cluster 3",
          "Cluster 3",
          "Cluster 3",
          "Cluster 3",
          "Cluster 3",
          "Cluster 3",
          "Cluster 3",
          "Cluster 3",
          "Cluster 3",
          "Cluster 3",
          "Cluster 3",
          "Cluster 3",
          "Cluster 3",
          "Cluster 3",
          "Cluster 3",
          "Cluster 3",
          "Cluster 3",
          "Cluster 3",
          "Cluster 3",
          "Cluster 3",
          "Cluster 3",
          "Cluster 3",
          "Cluster 3",
          "Cluster 3",
          "Cluster 3",
          "Cluster 3",
          "Cluster 3",
          "Cluster 3",
          "Cluster 3",
          "Cluster 3",
          "Cluster 3",
          "Cluster 3",
          "Cluster 3",
          "Cluster 3",
          "Cluster 3",
          "Cluster 3",
          "Cluster 3",
          "Cluster 3",
          "Cluster 3",
          "Cluster 3",
          "Cluster 3",
          "Cluster 3",
          "Cluster 3",
          "Cluster 3",
          "Cluster 3",
          "Cluster 3",
          "Cluster 3",
          "Cluster 3",
          "Cluster 3",
          "Cluster 3",
          "Cluster 3",
          "Cluster 3",
          "Cluster 3",
          "Cluster 3",
          "Cluster 3",
          "Cluster 3",
          "Cluster 3",
          "Cluster 3",
          "Cluster 3",
          "Cluster 3",
          "Cluster 3",
          "Cluster 3",
          "Cluster 3",
          "Cluster 3",
          "Cluster 3",
          "Cluster 3",
          "Cluster 3",
          "Cluster 3",
          "Cluster 3",
          "Cluster 3",
          "Cluster 3",
          "Cluster 3",
          "Cluster 3",
          "Cluster 3",
          "Cluster 3",
          "Cluster 3",
          "Cluster 3"
         ],
         "xaxis": "x",
         "yaxis": "y"
        },
        {
         "alignmentgroup": "True",
         "customdata": [
          [
           50,
           "Female",
           31,
           40,
           42,
           "Cluster 3"
          ],
          [
           51,
           "Female",
           49,
           42,
           52,
           "Cluster 3"
          ],
          [
           55,
           "Female",
           50,
           43,
           45,
           "Cluster 3"
          ],
          [
           49,
           "Female",
           29,
           40,
           42,
           "Cluster 3"
          ],
          [
           54,
           "Male",
           59,
           43,
           60,
           "Cluster 3"
          ],
          [
           48,
           "Female",
           27,
           40,
           47,
           "Cluster 3"
          ],
          [
           53,
           "Female",
           31,
           43,
           54,
           "Cluster 3"
          ],
          [
           47,
           "Female",
           50,
           40,
           55,
           "Cluster 3"
          ],
          [
           68,
           "Female",
           68,
           48,
           48,
           "Cluster 3"
          ],
          [
           43,
           "Male",
           48,
           39,
           36,
           "Cluster 3"
          ],
          [
           3,
           "Female",
           20,
           16,
           6,
           "Cluster 3"
          ],
          [
           5,
           "Female",
           31,
           17,
           40,
           "Cluster 3"
          ],
          [
           7,
           "Female",
           35,
           18,
           6,
           "Cluster 3"
          ],
          [
           9,
           "Male",
           64,
           19,
           3,
           "Cluster 3"
          ],
          [
           11,
           "Male",
           67,
           19,
           14,
           "Cluster 3"
          ],
          [
           13,
           "Female",
           58,
           20,
           15,
           "Cluster 3"
          ],
          [
           15,
           "Male",
           37,
           20,
           13,
           "Cluster 3"
          ],
          [
           17,
           "Female",
           35,
           21,
           35,
           "Cluster 3"
          ],
          [
           19,
           "Male",
           52,
           23,
           29,
           "Cluster 3"
          ],
          [
           45,
           "Female",
           49,
           39,
           28,
           "Cluster 3"
          ],
          [
           21,
           "Male",
           35,
           24,
           35,
           "Cluster 3"
          ],
          [
           25,
           "Female",
           54,
           28,
           14,
           "Cluster 3"
          ],
          [
           27,
           "Female",
           45,
           28,
           32,
           "Cluster 3"
          ],
          [
           29,
           "Female",
           40,
           29,
           31,
           "Cluster 3"
          ],
          [
           31,
           "Male",
           60,
           30,
           4,
           "Cluster 3"
          ],
          [
           33,
           "Male",
           53,
           33,
           4,
           "Cluster 3"
          ],
          [
           56,
           "Male",
           47,
           43,
           41,
           "Cluster 3"
          ],
          [
           37,
           "Female",
           42,
           34,
           17,
           "Cluster 3"
          ],
          [
           39,
           "Female",
           36,
           37,
           26,
           "Cluster 3"
          ],
          [
           41,
           "Female",
           65,
           38,
           35,
           "Cluster 3"
          ],
          [
           23,
           "Female",
           46,
           25,
           5,
           "Cluster 3"
          ],
          [
           35,
           "Female",
           49,
           33,
           14,
           "Cluster 3"
          ],
          [
           58,
           "Male",
           69,
           44,
           46,
           "Cluster 3"
          ],
          [
           67,
           "Female",
           43,
           48,
           50,
           "Cluster 3"
          ],
          [
           95,
           "Female",
           32,
           60,
           42,
           "Cluster 3"
          ],
          [
           94,
           "Female",
           40,
           60,
           40,
           "Cluster 3"
          ],
          [
           93,
           "Male",
           48,
           60,
           49,
           "Cluster 3"
          ],
          [
           92,
           "Male",
           18,
           59,
           41,
           "Cluster 3"
          ],
          [
           91,
           "Female",
           68,
           59,
           55,
           "Cluster 3"
          ],
          [
           90,
           "Female",
           50,
           58,
           46,
           "Cluster 3"
          ],
          [
           89,
           "Female",
           34,
           58,
           60,
           "Cluster 3"
          ],
          [
           88,
           "Female",
           22,
           57,
           55,
           "Cluster 3"
          ],
          [
           87,
           "Female",
           55,
           57,
           58,
           "Cluster 3"
          ],
          [
           86,
           "Male",
           48,
           54,
           46,
           "Cluster 3"
          ],
          [
           85,
           "Female",
           21,
           54,
           57,
           "Cluster 3"
          ],
          [
           84,
           "Female",
           46,
           54,
           44,
           "Cluster 3"
          ],
          [
           83,
           "Male",
           67,
           54,
           41,
           "Cluster 3"
          ],
          [
           82,
           "Male",
           38,
           54,
           55,
           "Cluster 3"
          ],
          [
           81,
           "Male",
           57,
           54,
           51,
           "Cluster 3"
          ],
          [
           80,
           "Female",
           49,
           54,
           42,
           "Cluster 3"
          ],
          [
           79,
           "Female",
           23,
           54,
           52,
           "Cluster 3"
          ],
          [
           78,
           "Male",
           40,
           54,
           48,
           "Cluster 3"
          ],
          [
           77,
           "Female",
           45,
           54,
           53,
           "Cluster 3"
          ],
          [
           76,
           "Male",
           26,
           54,
           54,
           "Cluster 3"
          ],
          [
           75,
           "Male",
           59,
           54,
           47,
           "Cluster 3"
          ],
          [
           74,
           "Female",
           60,
           50,
           56,
           "Cluster 3"
          ],
          [
           73,
           "Female",
           60,
           50,
           49,
           "Cluster 3"
          ],
          [
           72,
           "Female",
           47,
           49,
           42,
           "Cluster 3"
          ],
          [
           71,
           "Male",
           70,
           49,
           55,
           "Cluster 3"
          ],
          [
           70,
           "Female",
           32,
           48,
           47,
           "Cluster 3"
          ],
          [
           65,
           "Male",
           63,
           48,
           51,
           "Cluster 3"
          ],
          [
           96,
           "Male",
           24,
           60,
           52,
           "Cluster 3"
          ],
          [
           97,
           "Female",
           47,
           60,
           47,
           "Cluster 3"
          ],
          [
           98,
           "Female",
           27,
           60,
           50,
           "Cluster 3"
          ],
          [
           99,
           "Male",
           48,
           61,
           42,
           "Cluster 3"
          ],
          [
           59,
           "Female",
           27,
           46,
           51,
           "Cluster 3"
          ],
          [
           60,
           "Male",
           53,
           46,
           46,
           "Cluster 3"
          ],
          [
           61,
           "Male",
           70,
           46,
           56,
           "Cluster 3"
          ],
          [
           63,
           "Female",
           67,
           47,
           52,
           "Cluster 3"
          ],
          [
           64,
           "Female",
           54,
           47,
           59,
           "Cluster 3"
          ],
          [
           123,
           "Female",
           40,
           69,
           58,
           "Cluster 3"
          ],
          [
           122,
           "Female",
           38,
           67,
           40,
           "Cluster 3"
          ],
          [
           121,
           "Male",
           27,
           67,
           56,
           "Cluster 3"
          ],
          [
           120,
           "Female",
           50,
           67,
           57,
           "Cluster 3"
          ],
          [
           119,
           "Female",
           51,
           67,
           43,
           "Cluster 3"
          ],
          [
           118,
           "Female",
           49,
           65,
           59,
           "Cluster 3"
          ],
          [
           117,
           "Female",
           63,
           65,
           43,
           "Cluster 3"
          ],
          [
           116,
           "Female",
           19,
           65,
           50,
           "Cluster 3"
          ],
          [
           57,
           "Female",
           51,
           44,
           50,
           "Cluster 3"
          ],
          [
           115,
           "Female",
           18,
           65,
           48,
           "Cluster 3"
          ],
          [
           113,
           "Female",
           38,
           64,
           42,
           "Cluster 3"
          ],
          [
           112,
           "Female",
           19,
           63,
           54,
           "Cluster 3"
          ],
          [
           111,
           "Male",
           65,
           63,
           52,
           "Cluster 3"
          ],
          [
           110,
           "Male",
           66,
           63,
           48,
           "Cluster 3"
          ],
          [
           109,
           "Male",
           68,
           63,
           43,
           "Cluster 3"
          ],
          [
           108,
           "Male",
           54,
           63,
           46,
           "Cluster 3"
          ],
          [
           107,
           "Female",
           66,
           63,
           50,
           "Cluster 3"
          ],
          [
           106,
           "Female",
           21,
           62,
           42,
           "Cluster 3"
          ],
          [
           105,
           "Male",
           49,
           62,
           56,
           "Cluster 3"
          ],
          [
           104,
           "Male",
           26,
           62,
           55,
           "Cluster 3"
          ],
          [
           103,
           "Male",
           67,
           62,
           59,
           "Cluster 3"
          ],
          [
           102,
           "Female",
           49,
           62,
           48,
           "Cluster 3"
          ],
          [
           101,
           "Female",
           23,
           62,
           41,
           "Cluster 3"
          ],
          [
           114,
           "Male",
           19,
           64,
           46,
           "Cluster 3"
          ],
          [
           100,
           "Male",
           20,
           61,
           49,
           "Cluster 3"
          ]
         ],
         "hoverlabel": {
          "namelength": 0
         },
         "hovertemplate": "Cluster=%{customdata[5]}<br>CustomerID=%{customdata[0]}<br>Gender=%{customdata[1]}<br>Age=%{customdata[2]}<br>Annual_Income_(k$)=%{customdata[3]}<br>Spending_Score_(1-100)=%{customdata[4]}",
         "legendgroup": "Cluster=Cluster 3",
         "marker": {
          "color": "#ab63fa"
         },
         "name": "Cluster=Cluster 3",
         "notched": true,
         "offsetgroup": "Cluster=Cluster 3",
         "showlegend": false,
         "type": "box",
         "x": [
          "Cluster 3",
          "Cluster 3",
          "Cluster 3",
          "Cluster 3",
          "Cluster 3",
          "Cluster 3",
          "Cluster 3",
          "Cluster 3",
          "Cluster 3",
          "Cluster 3",
          "Cluster 3",
          "Cluster 3",
          "Cluster 3",
          "Cluster 3",
          "Cluster 3",
          "Cluster 3",
          "Cluster 3",
          "Cluster 3",
          "Cluster 3",
          "Cluster 3",
          "Cluster 3",
          "Cluster 3",
          "Cluster 3",
          "Cluster 3",
          "Cluster 3",
          "Cluster 3",
          "Cluster 3",
          "Cluster 3",
          "Cluster 3",
          "Cluster 3",
          "Cluster 3",
          "Cluster 3",
          "Cluster 3",
          "Cluster 3",
          "Cluster 3",
          "Cluster 3",
          "Cluster 3",
          "Cluster 3",
          "Cluster 3",
          "Cluster 3",
          "Cluster 3",
          "Cluster 3",
          "Cluster 3",
          "Cluster 3",
          "Cluster 3",
          "Cluster 3",
          "Cluster 3",
          "Cluster 3",
          "Cluster 3",
          "Cluster 3",
          "Cluster 3",
          "Cluster 3",
          "Cluster 3",
          "Cluster 3",
          "Cluster 3",
          "Cluster 3",
          "Cluster 3",
          "Cluster 3",
          "Cluster 3",
          "Cluster 3",
          "Cluster 3",
          "Cluster 3",
          "Cluster 3",
          "Cluster 3",
          "Cluster 3",
          "Cluster 3",
          "Cluster 3",
          "Cluster 3",
          "Cluster 3",
          "Cluster 3",
          "Cluster 3",
          "Cluster 3",
          "Cluster 3",
          "Cluster 3",
          "Cluster 3",
          "Cluster 3",
          "Cluster 3",
          "Cluster 3",
          "Cluster 3",
          "Cluster 3",
          "Cluster 3",
          "Cluster 3",
          "Cluster 3",
          "Cluster 3",
          "Cluster 3",
          "Cluster 3",
          "Cluster 3",
          "Cluster 3",
          "Cluster 3",
          "Cluster 3",
          "Cluster 3",
          "Cluster 3",
          "Cluster 3",
          "Cluster 3",
          "Cluster 3"
         ],
         "xaxis": "x2",
         "yaxis": "y2"
        }
       ],
       "layout": {
        "barmode": "relative",
        "legend": {
         "tracegroupgap": 0
        },
        "margin": {
         "t": 60
        },
        "template": {
         "data": {
          "bar": [
           {
            "error_x": {
             "color": "#2a3f5f"
            },
            "error_y": {
             "color": "#2a3f5f"
            },
            "marker": {
             "line": {
              "color": "#E5ECF6",
              "width": 0.5
             }
            },
            "type": "bar"
           }
          ],
          "barpolar": [
           {
            "marker": {
             "line": {
              "color": "#E5ECF6",
              "width": 0.5
             }
            },
            "type": "barpolar"
           }
          ],
          "carpet": [
           {
            "aaxis": {
             "endlinecolor": "#2a3f5f",
             "gridcolor": "white",
             "linecolor": "white",
             "minorgridcolor": "white",
             "startlinecolor": "#2a3f5f"
            },
            "baxis": {
             "endlinecolor": "#2a3f5f",
             "gridcolor": "white",
             "linecolor": "white",
             "minorgridcolor": "white",
             "startlinecolor": "#2a3f5f"
            },
            "type": "carpet"
           }
          ],
          "choropleth": [
           {
            "colorbar": {
             "outlinewidth": 0,
             "ticks": ""
            },
            "type": "choropleth"
           }
          ],
          "contour": [
           {
            "colorbar": {
             "outlinewidth": 0,
             "ticks": ""
            },
            "colorscale": [
             [
              0,
              "#0d0887"
             ],
             [
              0.1111111111111111,
              "#46039f"
             ],
             [
              0.2222222222222222,
              "#7201a8"
             ],
             [
              0.3333333333333333,
              "#9c179e"
             ],
             [
              0.4444444444444444,
              "#bd3786"
             ],
             [
              0.5555555555555556,
              "#d8576b"
             ],
             [
              0.6666666666666666,
              "#ed7953"
             ],
             [
              0.7777777777777778,
              "#fb9f3a"
             ],
             [
              0.8888888888888888,
              "#fdca26"
             ],
             [
              1,
              "#f0f921"
             ]
            ],
            "type": "contour"
           }
          ],
          "contourcarpet": [
           {
            "colorbar": {
             "outlinewidth": 0,
             "ticks": ""
            },
            "type": "contourcarpet"
           }
          ],
          "heatmap": [
           {
            "colorbar": {
             "outlinewidth": 0,
             "ticks": ""
            },
            "colorscale": [
             [
              0,
              "#0d0887"
             ],
             [
              0.1111111111111111,
              "#46039f"
             ],
             [
              0.2222222222222222,
              "#7201a8"
             ],
             [
              0.3333333333333333,
              "#9c179e"
             ],
             [
              0.4444444444444444,
              "#bd3786"
             ],
             [
              0.5555555555555556,
              "#d8576b"
             ],
             [
              0.6666666666666666,
              "#ed7953"
             ],
             [
              0.7777777777777778,
              "#fb9f3a"
             ],
             [
              0.8888888888888888,
              "#fdca26"
             ],
             [
              1,
              "#f0f921"
             ]
            ],
            "type": "heatmap"
           }
          ],
          "heatmapgl": [
           {
            "colorbar": {
             "outlinewidth": 0,
             "ticks": ""
            },
            "colorscale": [
             [
              0,
              "#0d0887"
             ],
             [
              0.1111111111111111,
              "#46039f"
             ],
             [
              0.2222222222222222,
              "#7201a8"
             ],
             [
              0.3333333333333333,
              "#9c179e"
             ],
             [
              0.4444444444444444,
              "#bd3786"
             ],
             [
              0.5555555555555556,
              "#d8576b"
             ],
             [
              0.6666666666666666,
              "#ed7953"
             ],
             [
              0.7777777777777778,
              "#fb9f3a"
             ],
             [
              0.8888888888888888,
              "#fdca26"
             ],
             [
              1,
              "#f0f921"
             ]
            ],
            "type": "heatmapgl"
           }
          ],
          "histogram": [
           {
            "marker": {
             "colorbar": {
              "outlinewidth": 0,
              "ticks": ""
             }
            },
            "type": "histogram"
           }
          ],
          "histogram2d": [
           {
            "colorbar": {
             "outlinewidth": 0,
             "ticks": ""
            },
            "colorscale": [
             [
              0,
              "#0d0887"
             ],
             [
              0.1111111111111111,
              "#46039f"
             ],
             [
              0.2222222222222222,
              "#7201a8"
             ],
             [
              0.3333333333333333,
              "#9c179e"
             ],
             [
              0.4444444444444444,
              "#bd3786"
             ],
             [
              0.5555555555555556,
              "#d8576b"
             ],
             [
              0.6666666666666666,
              "#ed7953"
             ],
             [
              0.7777777777777778,
              "#fb9f3a"
             ],
             [
              0.8888888888888888,
              "#fdca26"
             ],
             [
              1,
              "#f0f921"
             ]
            ],
            "type": "histogram2d"
           }
          ],
          "histogram2dcontour": [
           {
            "colorbar": {
             "outlinewidth": 0,
             "ticks": ""
            },
            "colorscale": [
             [
              0,
              "#0d0887"
             ],
             [
              0.1111111111111111,
              "#46039f"
             ],
             [
              0.2222222222222222,
              "#7201a8"
             ],
             [
              0.3333333333333333,
              "#9c179e"
             ],
             [
              0.4444444444444444,
              "#bd3786"
             ],
             [
              0.5555555555555556,
              "#d8576b"
             ],
             [
              0.6666666666666666,
              "#ed7953"
             ],
             [
              0.7777777777777778,
              "#fb9f3a"
             ],
             [
              0.8888888888888888,
              "#fdca26"
             ],
             [
              1,
              "#f0f921"
             ]
            ],
            "type": "histogram2dcontour"
           }
          ],
          "mesh3d": [
           {
            "colorbar": {
             "outlinewidth": 0,
             "ticks": ""
            },
            "type": "mesh3d"
           }
          ],
          "parcoords": [
           {
            "line": {
             "colorbar": {
              "outlinewidth": 0,
              "ticks": ""
             }
            },
            "type": "parcoords"
           }
          ],
          "pie": [
           {
            "automargin": true,
            "type": "pie"
           }
          ],
          "scatter": [
           {
            "marker": {
             "colorbar": {
              "outlinewidth": 0,
              "ticks": ""
             }
            },
            "type": "scatter"
           }
          ],
          "scatter3d": [
           {
            "line": {
             "colorbar": {
              "outlinewidth": 0,
              "ticks": ""
             }
            },
            "marker": {
             "colorbar": {
              "outlinewidth": 0,
              "ticks": ""
             }
            },
            "type": "scatter3d"
           }
          ],
          "scattercarpet": [
           {
            "marker": {
             "colorbar": {
              "outlinewidth": 0,
              "ticks": ""
             }
            },
            "type": "scattercarpet"
           }
          ],
          "scattergeo": [
           {
            "marker": {
             "colorbar": {
              "outlinewidth": 0,
              "ticks": ""
             }
            },
            "type": "scattergeo"
           }
          ],
          "scattergl": [
           {
            "marker": {
             "colorbar": {
              "outlinewidth": 0,
              "ticks": ""
             }
            },
            "type": "scattergl"
           }
          ],
          "scattermapbox": [
           {
            "marker": {
             "colorbar": {
              "outlinewidth": 0,
              "ticks": ""
             }
            },
            "type": "scattermapbox"
           }
          ],
          "scatterpolar": [
           {
            "marker": {
             "colorbar": {
              "outlinewidth": 0,
              "ticks": ""
             }
            },
            "type": "scatterpolar"
           }
          ],
          "scatterpolargl": [
           {
            "marker": {
             "colorbar": {
              "outlinewidth": 0,
              "ticks": ""
             }
            },
            "type": "scatterpolargl"
           }
          ],
          "scatterternary": [
           {
            "marker": {
             "colorbar": {
              "outlinewidth": 0,
              "ticks": ""
             }
            },
            "type": "scatterternary"
           }
          ],
          "surface": [
           {
            "colorbar": {
             "outlinewidth": 0,
             "ticks": ""
            },
            "colorscale": [
             [
              0,
              "#0d0887"
             ],
             [
              0.1111111111111111,
              "#46039f"
             ],
             [
              0.2222222222222222,
              "#7201a8"
             ],
             [
              0.3333333333333333,
              "#9c179e"
             ],
             [
              0.4444444444444444,
              "#bd3786"
             ],
             [
              0.5555555555555556,
              "#d8576b"
             ],
             [
              0.6666666666666666,
              "#ed7953"
             ],
             [
              0.7777777777777778,
              "#fb9f3a"
             ],
             [
              0.8888888888888888,
              "#fdca26"
             ],
             [
              1,
              "#f0f921"
             ]
            ],
            "type": "surface"
           }
          ],
          "table": [
           {
            "cells": {
             "fill": {
              "color": "#EBF0F8"
             },
             "line": {
              "color": "white"
             }
            },
            "header": {
             "fill": {
              "color": "#C8D4E3"
             },
             "line": {
              "color": "white"
             }
            },
            "type": "table"
           }
          ]
         },
         "layout": {
          "annotationdefaults": {
           "arrowcolor": "#2a3f5f",
           "arrowhead": 0,
           "arrowwidth": 1
          },
          "coloraxis": {
           "colorbar": {
            "outlinewidth": 0,
            "ticks": ""
           }
          },
          "colorscale": {
           "diverging": [
            [
             0,
             "#8e0152"
            ],
            [
             0.1,
             "#c51b7d"
            ],
            [
             0.2,
             "#de77ae"
            ],
            [
             0.3,
             "#f1b6da"
            ],
            [
             0.4,
             "#fde0ef"
            ],
            [
             0.5,
             "#f7f7f7"
            ],
            [
             0.6,
             "#e6f5d0"
            ],
            [
             0.7,
             "#b8e186"
            ],
            [
             0.8,
             "#7fbc41"
            ],
            [
             0.9,
             "#4d9221"
            ],
            [
             1,
             "#276419"
            ]
           ],
           "sequential": [
            [
             0,
             "#0d0887"
            ],
            [
             0.1111111111111111,
             "#46039f"
            ],
            [
             0.2222222222222222,
             "#7201a8"
            ],
            [
             0.3333333333333333,
             "#9c179e"
            ],
            [
             0.4444444444444444,
             "#bd3786"
            ],
            [
             0.5555555555555556,
             "#d8576b"
            ],
            [
             0.6666666666666666,
             "#ed7953"
            ],
            [
             0.7777777777777778,
             "#fb9f3a"
            ],
            [
             0.8888888888888888,
             "#fdca26"
            ],
            [
             1,
             "#f0f921"
            ]
           ],
           "sequentialminus": [
            [
             0,
             "#0d0887"
            ],
            [
             0.1111111111111111,
             "#46039f"
            ],
            [
             0.2222222222222222,
             "#7201a8"
            ],
            [
             0.3333333333333333,
             "#9c179e"
            ],
            [
             0.4444444444444444,
             "#bd3786"
            ],
            [
             0.5555555555555556,
             "#d8576b"
            ],
            [
             0.6666666666666666,
             "#ed7953"
            ],
            [
             0.7777777777777778,
             "#fb9f3a"
            ],
            [
             0.8888888888888888,
             "#fdca26"
            ],
            [
             1,
             "#f0f921"
            ]
           ]
          },
          "colorway": [
           "#636efa",
           "#EF553B",
           "#00cc96",
           "#ab63fa",
           "#FFA15A",
           "#19d3f3",
           "#FF6692",
           "#B6E880",
           "#FF97FF",
           "#FECB52"
          ],
          "font": {
           "color": "#2a3f5f"
          },
          "geo": {
           "bgcolor": "white",
           "lakecolor": "white",
           "landcolor": "#E5ECF6",
           "showlakes": true,
           "showland": true,
           "subunitcolor": "white"
          },
          "hoverlabel": {
           "align": "left"
          },
          "hovermode": "closest",
          "mapbox": {
           "style": "light"
          },
          "paper_bgcolor": "white",
          "plot_bgcolor": "#E5ECF6",
          "polar": {
           "angularaxis": {
            "gridcolor": "white",
            "linecolor": "white",
            "ticks": ""
           },
           "bgcolor": "#E5ECF6",
           "radialaxis": {
            "gridcolor": "white",
            "linecolor": "white",
            "ticks": ""
           }
          },
          "scene": {
           "xaxis": {
            "backgroundcolor": "#E5ECF6",
            "gridcolor": "white",
            "gridwidth": 2,
            "linecolor": "white",
            "showbackground": true,
            "ticks": "",
            "zerolinecolor": "white"
           },
           "yaxis": {
            "backgroundcolor": "#E5ECF6",
            "gridcolor": "white",
            "gridwidth": 2,
            "linecolor": "white",
            "showbackground": true,
            "ticks": "",
            "zerolinecolor": "white"
           },
           "zaxis": {
            "backgroundcolor": "#E5ECF6",
            "gridcolor": "white",
            "gridwidth": 2,
            "linecolor": "white",
            "showbackground": true,
            "ticks": "",
            "zerolinecolor": "white"
           }
          },
          "shapedefaults": {
           "line": {
            "color": "#2a3f5f"
           }
          },
          "ternary": {
           "aaxis": {
            "gridcolor": "white",
            "linecolor": "white",
            "ticks": ""
           },
           "baxis": {
            "gridcolor": "white",
            "linecolor": "white",
            "ticks": ""
           },
           "bgcolor": "#E5ECF6",
           "caxis": {
            "gridcolor": "white",
            "linecolor": "white",
            "ticks": ""
           }
          },
          "title": {
           "x": 0.05
          },
          "xaxis": {
           "automargin": true,
           "gridcolor": "white",
           "linecolor": "white",
           "ticks": "",
           "title": {
            "standoff": 15
           },
           "zerolinecolor": "white",
           "zerolinewidth": 2
          },
          "yaxis": {
           "automargin": true,
           "gridcolor": "white",
           "linecolor": "white",
           "ticks": "",
           "title": {
            "standoff": 15
           },
           "zerolinecolor": "white",
           "zerolinewidth": 2
          }
         }
        },
        "xaxis": {
         "anchor": "y",
         "categoryarray": [
          "Cluster 0",
          "Cluster 1",
          "Cluster 2",
          "Cluster 3"
         ],
         "categoryorder": "array",
         "domain": [
          0,
          1
         ],
         "title": {
          "text": "Cluster"
         }
        },
        "xaxis2": {
         "anchor": "y2",
         "domain": [
          0,
          1
         ],
         "matches": "x",
         "showgrid": true,
         "showticklabels": false
        },
        "yaxis": {
         "anchor": "x",
         "domain": [
          0,
          0.7326
         ],
         "title": {
          "text": "count"
         }
        },
        "yaxis2": {
         "anchor": "x2",
         "domain": [
          0.7426,
          1
         ],
         "matches": "y2",
         "showgrid": false,
         "showline": false,
         "showticklabels": false,
         "ticks": ""
        }
       }
      },
      "text/html": [
       "<div>\n",
       "        \n",
       "        \n",
       "            <div id=\"5ec57921-70ab-4cfd-80f7-e75866c1de9b\" class=\"plotly-graph-div\" style=\"height:525px; width:100%;\"></div>\n",
       "            <script type=\"text/javascript\">\n",
       "                require([\"plotly\"], function(Plotly) {\n",
       "                    window.PLOTLYENV=window.PLOTLYENV || {};\n",
       "                    \n",
       "                if (document.getElementById(\"5ec57921-70ab-4cfd-80f7-e75866c1de9b\")) {\n",
       "                    Plotly.newPlot(\n",
       "                        '5ec57921-70ab-4cfd-80f7-e75866c1de9b',\n",
       "                        [{\"alignmentgroup\": \"True\", \"bingroup\": \"x\", \"hoverlabel\": {\"namelength\": 0}, \"hovertemplate\": \"Cluster=%{x}<br>count=%{y}\", \"legendgroup\": \"Cluster=Cluster 0\", \"marker\": {\"color\": \"#636efa\", \"opacity\": 0.7}, \"name\": \"Cluster=Cluster 0\", \"offsetgroup\": \"Cluster=Cluster 0\", \"orientation\": \"v\", \"showlegend\": true, \"type\": \"histogram\", \"x\": [\"Cluster 0\", \"Cluster 0\", \"Cluster 0\", \"Cluster 0\", \"Cluster 0\", \"Cluster 0\", \"Cluster 0\", \"Cluster 0\", \"Cluster 0\", \"Cluster 0\", \"Cluster 0\", \"Cluster 0\", \"Cluster 0\", \"Cluster 0\", \"Cluster 0\", \"Cluster 0\", \"Cluster 0\", \"Cluster 0\", \"Cluster 0\", \"Cluster 0\", \"Cluster 0\", \"Cluster 0\", \"Cluster 0\", \"Cluster 0\", \"Cluster 0\", \"Cluster 0\", \"Cluster 0\", \"Cluster 0\"], \"xaxis\": \"x\", \"yaxis\": \"y\"}, {\"alignmentgroup\": \"True\", \"customdata\": [[1, \"Male\", 19, 15, 39, \"Cluster 0\"], [24, \"Male\", 31, 25, 73, \"Cluster 0\"], [26, \"Male\", 29, 28, 82, \"Cluster 0\"], [28, \"Male\", 35, 28, 61, \"Cluster 0\"], [30, \"Female\", 23, 29, 87, \"Cluster 0\"], [32, \"Female\", 21, 30, 73, \"Cluster 0\"], [69, \"Male\", 19, 48, 59, \"Cluster 0\"], [34, \"Male\", 18, 33, 92, \"Cluster 0\"], [36, \"Female\", 21, 33, 81, \"Cluster 0\"], [38, \"Female\", 30, 34, 73, \"Cluster 0\"], [40, \"Female\", 20, 37, 75, \"Cluster 0\"], [42, \"Male\", 24, 38, 92, \"Cluster 0\"], [44, \"Female\", 31, 39, 61, \"Cluster 0\"], [46, \"Female\", 24, 39, 65, \"Cluster 0\"], [52, \"Male\", 33, 42, 60, \"Cluster 0\"], [62, \"Male\", 19, 46, 55, \"Cluster 0\"], [22, \"Male\", 25, 24, 73, \"Cluster 0\"], [20, \"Female\", 35, 23, 98, \"Cluster 0\"], [66, \"Male\", 18, 48, 59, \"Cluster 0\"], [18, \"Male\", 20, 21, 66, \"Cluster 0\"], [6, \"Female\", 22, 17, 76, \"Cluster 0\"], [8, \"Female\", 23, 18, 94, \"Cluster 0\"], [10, \"Female\", 30, 19, 72, \"Cluster 0\"], [14, \"Female\", 24, 20, 77, \"Cluster 0\"], [12, \"Female\", 35, 19, 99, \"Cluster 0\"], [4, \"Female\", 23, 16, 77, \"Cluster 0\"], [16, \"Male\", 22, 20, 79, \"Cluster 0\"], [2, \"Male\", 21, 15, 81, \"Cluster 0\"]], \"hoverlabel\": {\"namelength\": 0}, \"hovertemplate\": \"Cluster=%{customdata[5]}<br>CustomerID=%{customdata[0]}<br>Gender=%{customdata[1]}<br>Age=%{customdata[2]}<br>Annual_Income_(k$)=%{customdata[3]}<br>Spending_Score_(1-100)=%{customdata[4]}\", \"legendgroup\": \"Cluster=Cluster 0\", \"marker\": {\"color\": \"#636efa\"}, \"name\": \"Cluster=Cluster 0\", \"notched\": true, \"offsetgroup\": \"Cluster=Cluster 0\", \"showlegend\": false, \"type\": \"box\", \"x\": [\"Cluster 0\", \"Cluster 0\", \"Cluster 0\", \"Cluster 0\", \"Cluster 0\", \"Cluster 0\", \"Cluster 0\", \"Cluster 0\", \"Cluster 0\", \"Cluster 0\", \"Cluster 0\", \"Cluster 0\", \"Cluster 0\", \"Cluster 0\", \"Cluster 0\", \"Cluster 0\", \"Cluster 0\", \"Cluster 0\", \"Cluster 0\", \"Cluster 0\", \"Cluster 0\", \"Cluster 0\", \"Cluster 0\", \"Cluster 0\", \"Cluster 0\", \"Cluster 0\", \"Cluster 0\", \"Cluster 0\"], \"xaxis\": \"x2\", \"yaxis\": \"y2\"}, {\"alignmentgroup\": \"True\", \"bingroup\": \"x\", \"hoverlabel\": {\"namelength\": 0}, \"hovertemplate\": \"Cluster=%{x}<br>count=%{y}\", \"legendgroup\": \"Cluster=Cluster 1\", \"marker\": {\"color\": \"#EF553B\", \"opacity\": 0.7}, \"name\": \"Cluster=Cluster 1\", \"offsetgroup\": \"Cluster=Cluster 1\", \"orientation\": \"v\", \"showlegend\": true, \"type\": \"histogram\", \"x\": [\"Cluster 1\", \"Cluster 1\", \"Cluster 1\", \"Cluster 1\", \"Cluster 1\", \"Cluster 1\", \"Cluster 1\", \"Cluster 1\", \"Cluster 1\", \"Cluster 1\", \"Cluster 1\", \"Cluster 1\", \"Cluster 1\", \"Cluster 1\", \"Cluster 1\", \"Cluster 1\", \"Cluster 1\", \"Cluster 1\", \"Cluster 1\", \"Cluster 1\", \"Cluster 1\", \"Cluster 1\", \"Cluster 1\", \"Cluster 1\", \"Cluster 1\", \"Cluster 1\", \"Cluster 1\", \"Cluster 1\", \"Cluster 1\", \"Cluster 1\", \"Cluster 1\", \"Cluster 1\", \"Cluster 1\", \"Cluster 1\", \"Cluster 1\", \"Cluster 1\", \"Cluster 1\", \"Cluster 1\", \"Cluster 1\"], \"xaxis\": \"x\", \"yaxis\": \"y\"}, {\"alignmentgroup\": \"True\", \"customdata\": [[152, \"Male\", 39, 78, 88, \"Cluster 1\"], [124, \"Male\", 39, 69, 91, \"Cluster 1\"], [150, \"Male\", 34, 78, 90, \"Cluster 1\"], [148, \"Female\", 32, 77, 74, \"Cluster 1\"], [146, \"Male\", 28, 77, 97, \"Cluster 1\"], [126, \"Female\", 31, 70, 77, \"Cluster 1\"], [198, \"Male\", 32, 126, 74, \"Cluster 1\"], [130, \"Male\", 38, 71, 75, \"Cluster 1\"], [128, \"Male\", 40, 71, 95, \"Cluster 1\"], [140, \"Female\", 35, 74, 72, \"Cluster 1\"], [154, \"Female\", 38, 78, 76, \"Cluster 1\"], [138, \"Male\", 32, 73, 73, \"Cluster 1\"], [136, \"Female\", 29, 73, 88, \"Cluster 1\"], [134, \"Female\", 31, 72, 71, \"Cluster 1\"], [132, \"Male\", 39, 71, 75, \"Cluster 1\"], [144, \"Female\", 32, 76, 87, \"Cluster 1\"], [142, \"Male\", 32, 75, 93, \"Cluster 1\"], [158, \"Female\", 30, 78, 78, \"Cluster 1\"], [196, \"Female\", 35, 120, 79, \"Cluster 1\"], [180, \"Male\", 35, 93, 90, \"Cluster 1\"], [184, \"Female\", 29, 98, 88, \"Cluster 1\"], [178, \"Male\", 27, 88, 69, \"Cluster 1\"], [176, \"Female\", 30, 88, 86, \"Cluster 1\"], [186, \"Male\", 30, 99, 97, \"Cluster 1\"], [174, \"Male\", 36, 87, 92, \"Cluster 1\"], [172, \"Male\", 28, 87, 75, \"Cluster 1\"], [188, \"Male\", 28, 101, 68, \"Cluster 1\"], [170, \"Male\", 32, 87, 63, \"Cluster 1\"], [190, \"Female\", 36, 103, 85, \"Cluster 1\"], [166, \"Female\", 36, 85, 75, \"Cluster 1\"], [192, \"Female\", 32, 103, 69, \"Cluster 1\"], [164, \"Female\", 31, 81, 93, \"Cluster 1\"], [162, \"Female\", 29, 79, 83, \"Cluster 1\"], [194, \"Female\", 38, 113, 91, \"Cluster 1\"], [160, \"Female\", 30, 78, 73, \"Cluster 1\"], [182, \"Female\", 32, 97, 86, \"Cluster 1\"], [156, \"Female\", 27, 78, 89, \"Cluster 1\"], [168, \"Female\", 33, 86, 95, \"Cluster 1\"], [200, \"Male\", 30, 137, 83, \"Cluster 1\"]], \"hoverlabel\": {\"namelength\": 0}, \"hovertemplate\": \"Cluster=%{customdata[5]}<br>CustomerID=%{customdata[0]}<br>Gender=%{customdata[1]}<br>Age=%{customdata[2]}<br>Annual_Income_(k$)=%{customdata[3]}<br>Spending_Score_(1-100)=%{customdata[4]}\", \"legendgroup\": \"Cluster=Cluster 1\", \"marker\": {\"color\": \"#EF553B\"}, \"name\": \"Cluster=Cluster 1\", \"notched\": true, \"offsetgroup\": \"Cluster=Cluster 1\", \"showlegend\": false, \"type\": \"box\", \"x\": [\"Cluster 1\", \"Cluster 1\", \"Cluster 1\", \"Cluster 1\", \"Cluster 1\", \"Cluster 1\", \"Cluster 1\", \"Cluster 1\", \"Cluster 1\", \"Cluster 1\", \"Cluster 1\", \"Cluster 1\", \"Cluster 1\", \"Cluster 1\", \"Cluster 1\", \"Cluster 1\", \"Cluster 1\", \"Cluster 1\", \"Cluster 1\", \"Cluster 1\", \"Cluster 1\", \"Cluster 1\", \"Cluster 1\", \"Cluster 1\", \"Cluster 1\", \"Cluster 1\", \"Cluster 1\", \"Cluster 1\", \"Cluster 1\", \"Cluster 1\", \"Cluster 1\", \"Cluster 1\", \"Cluster 1\", \"Cluster 1\", \"Cluster 1\", \"Cluster 1\", \"Cluster 1\", \"Cluster 1\", \"Cluster 1\"], \"xaxis\": \"x2\", \"yaxis\": \"y2\"}, {\"alignmentgroup\": \"True\", \"bingroup\": \"x\", \"hoverlabel\": {\"namelength\": 0}, \"hovertemplate\": \"Cluster=%{x}<br>count=%{y}\", \"legendgroup\": \"Cluster=Cluster 2\", \"marker\": {\"color\": \"#00cc96\", \"opacity\": 0.7}, \"name\": \"Cluster=Cluster 2\", \"offsetgroup\": \"Cluster=Cluster 2\", \"orientation\": \"v\", \"showlegend\": true, \"type\": \"histogram\", \"x\": [\"Cluster 2\", \"Cluster 2\", \"Cluster 2\", \"Cluster 2\", \"Cluster 2\", \"Cluster 2\", \"Cluster 2\", \"Cluster 2\", \"Cluster 2\", \"Cluster 2\", \"Cluster 2\", \"Cluster 2\", \"Cluster 2\", \"Cluster 2\", \"Cluster 2\", \"Cluster 2\", \"Cluster 2\", \"Cluster 2\", \"Cluster 2\", \"Cluster 2\", \"Cluster 2\", \"Cluster 2\", \"Cluster 2\", \"Cluster 2\", \"Cluster 2\", \"Cluster 2\", \"Cluster 2\", \"Cluster 2\", \"Cluster 2\", \"Cluster 2\", \"Cluster 2\", \"Cluster 2\", \"Cluster 2\", \"Cluster 2\", \"Cluster 2\", \"Cluster 2\", \"Cluster 2\", \"Cluster 2\"], \"xaxis\": \"x\", \"yaxis\": \"y\"}, {\"alignmentgroup\": \"True\", \"customdata\": [[137, \"Female\", 44, 73, 7, \"Cluster 2\"], [175, \"Female\", 52, 88, 13, \"Cluster 2\"], [145, \"Male\", 25, 77, 12, \"Cluster 2\"], [173, \"Male\", 36, 87, 10, \"Cluster 2\"], [171, \"Male\", 40, 87, 13, \"Cluster 2\"], [147, \"Male\", 48, 77, 36, \"Cluster 2\"], [169, \"Female\", 36, 87, 27, \"Cluster 2\"], [199, \"Male\", 32, 137, 18, \"Cluster 2\"], [125, \"Female\", 23, 70, 29, \"Cluster 2\"], [167, \"Male\", 42, 86, 20, \"Cluster 2\"], [165, \"Male\", 50, 85, 26, \"Cluster 2\"], [163, \"Male\", 19, 81, 5, \"Cluster 2\"], [151, \"Male\", 43, 78, 17, \"Cluster 2\"], [161, \"Female\", 56, 79, 35, \"Cluster 2\"], [159, \"Male\", 34, 78, 1, \"Cluster 2\"], [153, \"Female\", 44, 78, 20, \"Cluster 2\"], [157, \"Male\", 37, 78, 1, \"Cluster 2\"], [149, \"Female\", 34, 78, 22, \"Cluster 2\"], [179, \"Male\", 59, 93, 14, \"Cluster 2\"], [177, \"Male\", 58, 88, 15, \"Cluster 2\"], [181, \"Female\", 37, 97, 32, \"Cluster 2\"], [135, \"Male\", 20, 73, 5, \"Cluster 2\"], [197, \"Female\", 45, 126, 28, \"Cluster 2\"], [139, \"Male\", 19, 74, 10, \"Cluster 2\"], [195, \"Female\", 47, 120, 16, \"Cluster 2\"], [133, \"Female\", 25, 72, 34, \"Cluster 2\"], [193, \"Male\", 33, 113, 8, \"Cluster 2\"], [191, \"Female\", 34, 103, 23, \"Cluster 2\"], [131, \"Male\", 47, 71, 9, \"Cluster 2\"], [143, \"Female\", 28, 76, 40, \"Cluster 2\"], [189, \"Female\", 41, 103, 17, \"Cluster 2\"], [187, \"Female\", 54, 101, 24, \"Cluster 2\"], [129, \"Male\", 59, 71, 11, \"Cluster 2\"], [185, \"Female\", 41, 99, 39, \"Cluster 2\"], [183, \"Male\", 46, 98, 15, \"Cluster 2\"], [127, \"Male\", 43, 71, 35, \"Cluster 2\"], [141, \"Female\", 57, 75, 5, \"Cluster 2\"], [155, \"Female\", 47, 78, 16, \"Cluster 2\"]], \"hoverlabel\": {\"namelength\": 0}, \"hovertemplate\": \"Cluster=%{customdata[5]}<br>CustomerID=%{customdata[0]}<br>Gender=%{customdata[1]}<br>Age=%{customdata[2]}<br>Annual_Income_(k$)=%{customdata[3]}<br>Spending_Score_(1-100)=%{customdata[4]}\", \"legendgroup\": \"Cluster=Cluster 2\", \"marker\": {\"color\": \"#00cc96\"}, \"name\": \"Cluster=Cluster 2\", \"notched\": true, \"offsetgroup\": \"Cluster=Cluster 2\", \"showlegend\": false, \"type\": \"box\", \"x\": [\"Cluster 2\", \"Cluster 2\", \"Cluster 2\", \"Cluster 2\", \"Cluster 2\", \"Cluster 2\", \"Cluster 2\", \"Cluster 2\", \"Cluster 2\", \"Cluster 2\", \"Cluster 2\", \"Cluster 2\", \"Cluster 2\", \"Cluster 2\", \"Cluster 2\", \"Cluster 2\", \"Cluster 2\", \"Cluster 2\", \"Cluster 2\", \"Cluster 2\", \"Cluster 2\", \"Cluster 2\", \"Cluster 2\", \"Cluster 2\", \"Cluster 2\", \"Cluster 2\", \"Cluster 2\", \"Cluster 2\", \"Cluster 2\", \"Cluster 2\", \"Cluster 2\", \"Cluster 2\", \"Cluster 2\", \"Cluster 2\", \"Cluster 2\", \"Cluster 2\", \"Cluster 2\", \"Cluster 2\"], \"xaxis\": \"x2\", \"yaxis\": \"y2\"}, {\"alignmentgroup\": \"True\", \"bingroup\": \"x\", \"hoverlabel\": {\"namelength\": 0}, \"hovertemplate\": \"Cluster=%{x}<br>count=%{y}\", \"legendgroup\": \"Cluster=Cluster 3\", \"marker\": {\"color\": \"#ab63fa\", \"opacity\": 0.7}, \"name\": \"Cluster=Cluster 3\", \"offsetgroup\": \"Cluster=Cluster 3\", \"orientation\": \"v\", \"showlegend\": true, \"type\": \"histogram\", \"x\": [\"Cluster 3\", \"Cluster 3\", \"Cluster 3\", \"Cluster 3\", \"Cluster 3\", \"Cluster 3\", \"Cluster 3\", \"Cluster 3\", \"Cluster 3\", \"Cluster 3\", \"Cluster 3\", \"Cluster 3\", \"Cluster 3\", \"Cluster 3\", \"Cluster 3\", \"Cluster 3\", \"Cluster 3\", \"Cluster 3\", \"Cluster 3\", \"Cluster 3\", \"Cluster 3\", \"Cluster 3\", \"Cluster 3\", \"Cluster 3\", \"Cluster 3\", \"Cluster 3\", \"Cluster 3\", \"Cluster 3\", \"Cluster 3\", \"Cluster 3\", \"Cluster 3\", \"Cluster 3\", \"Cluster 3\", \"Cluster 3\", \"Cluster 3\", \"Cluster 3\", \"Cluster 3\", \"Cluster 3\", \"Cluster 3\", \"Cluster 3\", \"Cluster 3\", \"Cluster 3\", \"Cluster 3\", \"Cluster 3\", \"Cluster 3\", \"Cluster 3\", \"Cluster 3\", \"Cluster 3\", \"Cluster 3\", \"Cluster 3\", \"Cluster 3\", \"Cluster 3\", \"Cluster 3\", \"Cluster 3\", \"Cluster 3\", \"Cluster 3\", \"Cluster 3\", \"Cluster 3\", \"Cluster 3\", \"Cluster 3\", \"Cluster 3\", \"Cluster 3\", \"Cluster 3\", \"Cluster 3\", \"Cluster 3\", \"Cluster 3\", \"Cluster 3\", \"Cluster 3\", \"Cluster 3\", \"Cluster 3\", \"Cluster 3\", \"Cluster 3\", \"Cluster 3\", \"Cluster 3\", \"Cluster 3\", \"Cluster 3\", \"Cluster 3\", \"Cluster 3\", \"Cluster 3\", \"Cluster 3\", \"Cluster 3\", \"Cluster 3\", \"Cluster 3\", \"Cluster 3\", \"Cluster 3\", \"Cluster 3\", \"Cluster 3\", \"Cluster 3\", \"Cluster 3\", \"Cluster 3\", \"Cluster 3\", \"Cluster 3\", \"Cluster 3\", \"Cluster 3\", \"Cluster 3\"], \"xaxis\": \"x\", \"yaxis\": \"y\"}, {\"alignmentgroup\": \"True\", \"customdata\": [[50, \"Female\", 31, 40, 42, \"Cluster 3\"], [51, \"Female\", 49, 42, 52, \"Cluster 3\"], [55, \"Female\", 50, 43, 45, \"Cluster 3\"], [49, \"Female\", 29, 40, 42, \"Cluster 3\"], [54, \"Male\", 59, 43, 60, \"Cluster 3\"], [48, \"Female\", 27, 40, 47, \"Cluster 3\"], [53, \"Female\", 31, 43, 54, \"Cluster 3\"], [47, \"Female\", 50, 40, 55, \"Cluster 3\"], [68, \"Female\", 68, 48, 48, \"Cluster 3\"], [43, \"Male\", 48, 39, 36, \"Cluster 3\"], [3, \"Female\", 20, 16, 6, \"Cluster 3\"], [5, \"Female\", 31, 17, 40, \"Cluster 3\"], [7, \"Female\", 35, 18, 6, \"Cluster 3\"], [9, \"Male\", 64, 19, 3, \"Cluster 3\"], [11, \"Male\", 67, 19, 14, \"Cluster 3\"], [13, \"Female\", 58, 20, 15, \"Cluster 3\"], [15, \"Male\", 37, 20, 13, \"Cluster 3\"], [17, \"Female\", 35, 21, 35, \"Cluster 3\"], [19, \"Male\", 52, 23, 29, \"Cluster 3\"], [45, \"Female\", 49, 39, 28, \"Cluster 3\"], [21, \"Male\", 35, 24, 35, \"Cluster 3\"], [25, \"Female\", 54, 28, 14, \"Cluster 3\"], [27, \"Female\", 45, 28, 32, \"Cluster 3\"], [29, \"Female\", 40, 29, 31, \"Cluster 3\"], [31, \"Male\", 60, 30, 4, \"Cluster 3\"], [33, \"Male\", 53, 33, 4, \"Cluster 3\"], [56, \"Male\", 47, 43, 41, \"Cluster 3\"], [37, \"Female\", 42, 34, 17, \"Cluster 3\"], [39, \"Female\", 36, 37, 26, \"Cluster 3\"], [41, \"Female\", 65, 38, 35, \"Cluster 3\"], [23, \"Female\", 46, 25, 5, \"Cluster 3\"], [35, \"Female\", 49, 33, 14, \"Cluster 3\"], [58, \"Male\", 69, 44, 46, \"Cluster 3\"], [67, \"Female\", 43, 48, 50, \"Cluster 3\"], [95, \"Female\", 32, 60, 42, \"Cluster 3\"], [94, \"Female\", 40, 60, 40, \"Cluster 3\"], [93, \"Male\", 48, 60, 49, \"Cluster 3\"], [92, \"Male\", 18, 59, 41, \"Cluster 3\"], [91, \"Female\", 68, 59, 55, \"Cluster 3\"], [90, \"Female\", 50, 58, 46, \"Cluster 3\"], [89, \"Female\", 34, 58, 60, \"Cluster 3\"], [88, \"Female\", 22, 57, 55, \"Cluster 3\"], [87, \"Female\", 55, 57, 58, \"Cluster 3\"], [86, \"Male\", 48, 54, 46, \"Cluster 3\"], [85, \"Female\", 21, 54, 57, \"Cluster 3\"], [84, \"Female\", 46, 54, 44, \"Cluster 3\"], [83, \"Male\", 67, 54, 41, \"Cluster 3\"], [82, \"Male\", 38, 54, 55, \"Cluster 3\"], [81, \"Male\", 57, 54, 51, \"Cluster 3\"], [80, \"Female\", 49, 54, 42, \"Cluster 3\"], [79, \"Female\", 23, 54, 52, \"Cluster 3\"], [78, \"Male\", 40, 54, 48, \"Cluster 3\"], [77, \"Female\", 45, 54, 53, \"Cluster 3\"], [76, \"Male\", 26, 54, 54, \"Cluster 3\"], [75, \"Male\", 59, 54, 47, \"Cluster 3\"], [74, \"Female\", 60, 50, 56, \"Cluster 3\"], [73, \"Female\", 60, 50, 49, \"Cluster 3\"], [72, \"Female\", 47, 49, 42, \"Cluster 3\"], [71, \"Male\", 70, 49, 55, \"Cluster 3\"], [70, \"Female\", 32, 48, 47, \"Cluster 3\"], [65, \"Male\", 63, 48, 51, \"Cluster 3\"], [96, \"Male\", 24, 60, 52, \"Cluster 3\"], [97, \"Female\", 47, 60, 47, \"Cluster 3\"], [98, \"Female\", 27, 60, 50, \"Cluster 3\"], [99, \"Male\", 48, 61, 42, \"Cluster 3\"], [59, \"Female\", 27, 46, 51, \"Cluster 3\"], [60, \"Male\", 53, 46, 46, \"Cluster 3\"], [61, \"Male\", 70, 46, 56, \"Cluster 3\"], [63, \"Female\", 67, 47, 52, \"Cluster 3\"], [64, \"Female\", 54, 47, 59, \"Cluster 3\"], [123, \"Female\", 40, 69, 58, \"Cluster 3\"], [122, \"Female\", 38, 67, 40, \"Cluster 3\"], [121, \"Male\", 27, 67, 56, \"Cluster 3\"], [120, \"Female\", 50, 67, 57, \"Cluster 3\"], [119, \"Female\", 51, 67, 43, \"Cluster 3\"], [118, \"Female\", 49, 65, 59, \"Cluster 3\"], [117, \"Female\", 63, 65, 43, \"Cluster 3\"], [116, \"Female\", 19, 65, 50, \"Cluster 3\"], [57, \"Female\", 51, 44, 50, \"Cluster 3\"], [115, \"Female\", 18, 65, 48, \"Cluster 3\"], [113, \"Female\", 38, 64, 42, \"Cluster 3\"], [112, \"Female\", 19, 63, 54, \"Cluster 3\"], [111, \"Male\", 65, 63, 52, \"Cluster 3\"], [110, \"Male\", 66, 63, 48, \"Cluster 3\"], [109, \"Male\", 68, 63, 43, \"Cluster 3\"], [108, \"Male\", 54, 63, 46, \"Cluster 3\"], [107, \"Female\", 66, 63, 50, \"Cluster 3\"], [106, \"Female\", 21, 62, 42, \"Cluster 3\"], [105, \"Male\", 49, 62, 56, \"Cluster 3\"], [104, \"Male\", 26, 62, 55, \"Cluster 3\"], [103, \"Male\", 67, 62, 59, \"Cluster 3\"], [102, \"Female\", 49, 62, 48, \"Cluster 3\"], [101, \"Female\", 23, 62, 41, \"Cluster 3\"], [114, \"Male\", 19, 64, 46, \"Cluster 3\"], [100, \"Male\", 20, 61, 49, \"Cluster 3\"]], \"hoverlabel\": {\"namelength\": 0}, \"hovertemplate\": \"Cluster=%{customdata[5]}<br>CustomerID=%{customdata[0]}<br>Gender=%{customdata[1]}<br>Age=%{customdata[2]}<br>Annual_Income_(k$)=%{customdata[3]}<br>Spending_Score_(1-100)=%{customdata[4]}\", \"legendgroup\": \"Cluster=Cluster 3\", \"marker\": {\"color\": \"#ab63fa\"}, \"name\": \"Cluster=Cluster 3\", \"notched\": true, \"offsetgroup\": \"Cluster=Cluster 3\", \"showlegend\": false, \"type\": \"box\", \"x\": [\"Cluster 3\", \"Cluster 3\", \"Cluster 3\", \"Cluster 3\", \"Cluster 3\", \"Cluster 3\", \"Cluster 3\", \"Cluster 3\", \"Cluster 3\", \"Cluster 3\", \"Cluster 3\", \"Cluster 3\", \"Cluster 3\", \"Cluster 3\", \"Cluster 3\", \"Cluster 3\", \"Cluster 3\", \"Cluster 3\", \"Cluster 3\", \"Cluster 3\", \"Cluster 3\", \"Cluster 3\", \"Cluster 3\", \"Cluster 3\", \"Cluster 3\", \"Cluster 3\", \"Cluster 3\", \"Cluster 3\", \"Cluster 3\", \"Cluster 3\", \"Cluster 3\", \"Cluster 3\", \"Cluster 3\", \"Cluster 3\", \"Cluster 3\", \"Cluster 3\", \"Cluster 3\", \"Cluster 3\", \"Cluster 3\", \"Cluster 3\", \"Cluster 3\", \"Cluster 3\", \"Cluster 3\", \"Cluster 3\", \"Cluster 3\", \"Cluster 3\", \"Cluster 3\", \"Cluster 3\", \"Cluster 3\", \"Cluster 3\", \"Cluster 3\", \"Cluster 3\", \"Cluster 3\", \"Cluster 3\", \"Cluster 3\", \"Cluster 3\", \"Cluster 3\", \"Cluster 3\", \"Cluster 3\", \"Cluster 3\", \"Cluster 3\", \"Cluster 3\", \"Cluster 3\", \"Cluster 3\", \"Cluster 3\", \"Cluster 3\", \"Cluster 3\", \"Cluster 3\", \"Cluster 3\", \"Cluster 3\", \"Cluster 3\", \"Cluster 3\", \"Cluster 3\", \"Cluster 3\", \"Cluster 3\", \"Cluster 3\", \"Cluster 3\", \"Cluster 3\", \"Cluster 3\", \"Cluster 3\", \"Cluster 3\", \"Cluster 3\", \"Cluster 3\", \"Cluster 3\", \"Cluster 3\", \"Cluster 3\", \"Cluster 3\", \"Cluster 3\", \"Cluster 3\", \"Cluster 3\", \"Cluster 3\", \"Cluster 3\", \"Cluster 3\", \"Cluster 3\", \"Cluster 3\"], \"xaxis\": \"x2\", \"yaxis\": \"y2\"}],\n",
       "                        {\"barmode\": \"relative\", \"legend\": {\"tracegroupgap\": 0}, \"margin\": {\"t\": 60}, \"template\": {\"data\": {\"bar\": [{\"error_x\": {\"color\": \"#2a3f5f\"}, \"error_y\": {\"color\": \"#2a3f5f\"}, \"marker\": {\"line\": {\"color\": \"#E5ECF6\", \"width\": 0.5}}, \"type\": \"bar\"}], \"barpolar\": [{\"marker\": {\"line\": {\"color\": \"#E5ECF6\", \"width\": 0.5}}, \"type\": \"barpolar\"}], \"carpet\": [{\"aaxis\": {\"endlinecolor\": \"#2a3f5f\", \"gridcolor\": \"white\", \"linecolor\": \"white\", \"minorgridcolor\": \"white\", \"startlinecolor\": \"#2a3f5f\"}, \"baxis\": {\"endlinecolor\": \"#2a3f5f\", \"gridcolor\": \"white\", \"linecolor\": \"white\", \"minorgridcolor\": \"white\", \"startlinecolor\": \"#2a3f5f\"}, \"type\": \"carpet\"}], \"choropleth\": [{\"colorbar\": {\"outlinewidth\": 0, \"ticks\": \"\"}, \"type\": \"choropleth\"}], \"contour\": [{\"colorbar\": {\"outlinewidth\": 0, \"ticks\": \"\"}, \"colorscale\": [[0.0, \"#0d0887\"], [0.1111111111111111, \"#46039f\"], [0.2222222222222222, \"#7201a8\"], [0.3333333333333333, \"#9c179e\"], [0.4444444444444444, \"#bd3786\"], [0.5555555555555556, \"#d8576b\"], [0.6666666666666666, \"#ed7953\"], [0.7777777777777778, \"#fb9f3a\"], [0.8888888888888888, \"#fdca26\"], [1.0, \"#f0f921\"]], \"type\": \"contour\"}], \"contourcarpet\": [{\"colorbar\": {\"outlinewidth\": 0, \"ticks\": \"\"}, \"type\": \"contourcarpet\"}], \"heatmap\": [{\"colorbar\": {\"outlinewidth\": 0, \"ticks\": \"\"}, \"colorscale\": [[0.0, \"#0d0887\"], [0.1111111111111111, \"#46039f\"], [0.2222222222222222, \"#7201a8\"], [0.3333333333333333, \"#9c179e\"], [0.4444444444444444, \"#bd3786\"], [0.5555555555555556, \"#d8576b\"], [0.6666666666666666, \"#ed7953\"], [0.7777777777777778, \"#fb9f3a\"], [0.8888888888888888, \"#fdca26\"], [1.0, \"#f0f921\"]], \"type\": \"heatmap\"}], \"heatmapgl\": [{\"colorbar\": {\"outlinewidth\": 0, \"ticks\": \"\"}, \"colorscale\": [[0.0, \"#0d0887\"], [0.1111111111111111, \"#46039f\"], [0.2222222222222222, \"#7201a8\"], [0.3333333333333333, \"#9c179e\"], [0.4444444444444444, \"#bd3786\"], [0.5555555555555556, \"#d8576b\"], [0.6666666666666666, \"#ed7953\"], [0.7777777777777778, \"#fb9f3a\"], [0.8888888888888888, \"#fdca26\"], [1.0, \"#f0f921\"]], \"type\": \"heatmapgl\"}], \"histogram\": [{\"marker\": {\"colorbar\": {\"outlinewidth\": 0, \"ticks\": \"\"}}, \"type\": \"histogram\"}], \"histogram2d\": [{\"colorbar\": {\"outlinewidth\": 0, \"ticks\": \"\"}, \"colorscale\": [[0.0, \"#0d0887\"], [0.1111111111111111, \"#46039f\"], [0.2222222222222222, \"#7201a8\"], [0.3333333333333333, \"#9c179e\"], [0.4444444444444444, \"#bd3786\"], [0.5555555555555556, \"#d8576b\"], [0.6666666666666666, \"#ed7953\"], [0.7777777777777778, \"#fb9f3a\"], [0.8888888888888888, \"#fdca26\"], [1.0, \"#f0f921\"]], \"type\": \"histogram2d\"}], \"histogram2dcontour\": [{\"colorbar\": {\"outlinewidth\": 0, \"ticks\": \"\"}, \"colorscale\": [[0.0, \"#0d0887\"], [0.1111111111111111, \"#46039f\"], [0.2222222222222222, \"#7201a8\"], [0.3333333333333333, \"#9c179e\"], [0.4444444444444444, \"#bd3786\"], [0.5555555555555556, \"#d8576b\"], [0.6666666666666666, \"#ed7953\"], [0.7777777777777778, \"#fb9f3a\"], [0.8888888888888888, \"#fdca26\"], [1.0, \"#f0f921\"]], \"type\": \"histogram2dcontour\"}], \"mesh3d\": [{\"colorbar\": {\"outlinewidth\": 0, \"ticks\": \"\"}, \"type\": \"mesh3d\"}], \"parcoords\": [{\"line\": {\"colorbar\": {\"outlinewidth\": 0, \"ticks\": \"\"}}, \"type\": \"parcoords\"}], \"pie\": [{\"automargin\": true, \"type\": \"pie\"}], \"scatter\": [{\"marker\": {\"colorbar\": {\"outlinewidth\": 0, \"ticks\": \"\"}}, \"type\": \"scatter\"}], \"scatter3d\": [{\"line\": {\"colorbar\": {\"outlinewidth\": 0, \"ticks\": \"\"}}, \"marker\": {\"colorbar\": {\"outlinewidth\": 0, \"ticks\": \"\"}}, \"type\": \"scatter3d\"}], \"scattercarpet\": [{\"marker\": {\"colorbar\": {\"outlinewidth\": 0, \"ticks\": \"\"}}, \"type\": \"scattercarpet\"}], \"scattergeo\": [{\"marker\": {\"colorbar\": {\"outlinewidth\": 0, \"ticks\": \"\"}}, \"type\": \"scattergeo\"}], \"scattergl\": [{\"marker\": {\"colorbar\": {\"outlinewidth\": 0, \"ticks\": \"\"}}, \"type\": \"scattergl\"}], \"scattermapbox\": [{\"marker\": {\"colorbar\": {\"outlinewidth\": 0, \"ticks\": \"\"}}, \"type\": \"scattermapbox\"}], \"scatterpolar\": [{\"marker\": {\"colorbar\": {\"outlinewidth\": 0, \"ticks\": \"\"}}, \"type\": \"scatterpolar\"}], \"scatterpolargl\": [{\"marker\": {\"colorbar\": {\"outlinewidth\": 0, \"ticks\": \"\"}}, \"type\": \"scatterpolargl\"}], \"scatterternary\": [{\"marker\": {\"colorbar\": {\"outlinewidth\": 0, \"ticks\": \"\"}}, \"type\": \"scatterternary\"}], \"surface\": [{\"colorbar\": {\"outlinewidth\": 0, \"ticks\": \"\"}, \"colorscale\": [[0.0, \"#0d0887\"], [0.1111111111111111, \"#46039f\"], [0.2222222222222222, \"#7201a8\"], [0.3333333333333333, \"#9c179e\"], [0.4444444444444444, \"#bd3786\"], [0.5555555555555556, \"#d8576b\"], [0.6666666666666666, \"#ed7953\"], [0.7777777777777778, \"#fb9f3a\"], [0.8888888888888888, \"#fdca26\"], [1.0, \"#f0f921\"]], \"type\": \"surface\"}], \"table\": [{\"cells\": {\"fill\": {\"color\": \"#EBF0F8\"}, \"line\": {\"color\": \"white\"}}, \"header\": {\"fill\": {\"color\": \"#C8D4E3\"}, \"line\": {\"color\": \"white\"}}, \"type\": \"table\"}]}, \"layout\": {\"annotationdefaults\": {\"arrowcolor\": \"#2a3f5f\", \"arrowhead\": 0, \"arrowwidth\": 1}, \"coloraxis\": {\"colorbar\": {\"outlinewidth\": 0, \"ticks\": \"\"}}, \"colorscale\": {\"diverging\": [[0, \"#8e0152\"], [0.1, \"#c51b7d\"], [0.2, \"#de77ae\"], [0.3, \"#f1b6da\"], [0.4, \"#fde0ef\"], [0.5, \"#f7f7f7\"], [0.6, \"#e6f5d0\"], [0.7, \"#b8e186\"], [0.8, \"#7fbc41\"], [0.9, \"#4d9221\"], [1, \"#276419\"]], \"sequential\": [[0.0, \"#0d0887\"], [0.1111111111111111, \"#46039f\"], [0.2222222222222222, \"#7201a8\"], [0.3333333333333333, \"#9c179e\"], [0.4444444444444444, \"#bd3786\"], [0.5555555555555556, \"#d8576b\"], [0.6666666666666666, \"#ed7953\"], [0.7777777777777778, \"#fb9f3a\"], [0.8888888888888888, \"#fdca26\"], [1.0, \"#f0f921\"]], \"sequentialminus\": [[0.0, \"#0d0887\"], [0.1111111111111111, \"#46039f\"], [0.2222222222222222, \"#7201a8\"], [0.3333333333333333, \"#9c179e\"], [0.4444444444444444, \"#bd3786\"], [0.5555555555555556, \"#d8576b\"], [0.6666666666666666, \"#ed7953\"], [0.7777777777777778, \"#fb9f3a\"], [0.8888888888888888, \"#fdca26\"], [1.0, \"#f0f921\"]]}, \"colorway\": [\"#636efa\", \"#EF553B\", \"#00cc96\", \"#ab63fa\", \"#FFA15A\", \"#19d3f3\", \"#FF6692\", \"#B6E880\", \"#FF97FF\", \"#FECB52\"], \"font\": {\"color\": \"#2a3f5f\"}, \"geo\": {\"bgcolor\": \"white\", \"lakecolor\": \"white\", \"landcolor\": \"#E5ECF6\", \"showlakes\": true, \"showland\": true, \"subunitcolor\": \"white\"}, \"hoverlabel\": {\"align\": \"left\"}, \"hovermode\": \"closest\", \"mapbox\": {\"style\": \"light\"}, \"paper_bgcolor\": \"white\", \"plot_bgcolor\": \"#E5ECF6\", \"polar\": {\"angularaxis\": {\"gridcolor\": \"white\", \"linecolor\": \"white\", \"ticks\": \"\"}, \"bgcolor\": \"#E5ECF6\", \"radialaxis\": {\"gridcolor\": \"white\", \"linecolor\": \"white\", \"ticks\": \"\"}}, \"scene\": {\"xaxis\": {\"backgroundcolor\": \"#E5ECF6\", \"gridcolor\": \"white\", \"gridwidth\": 2, \"linecolor\": \"white\", \"showbackground\": true, \"ticks\": \"\", \"zerolinecolor\": \"white\"}, \"yaxis\": {\"backgroundcolor\": \"#E5ECF6\", \"gridcolor\": \"white\", \"gridwidth\": 2, \"linecolor\": \"white\", \"showbackground\": true, \"ticks\": \"\", \"zerolinecolor\": \"white\"}, \"zaxis\": {\"backgroundcolor\": \"#E5ECF6\", \"gridcolor\": \"white\", \"gridwidth\": 2, \"linecolor\": \"white\", \"showbackground\": true, \"ticks\": \"\", \"zerolinecolor\": \"white\"}}, \"shapedefaults\": {\"line\": {\"color\": \"#2a3f5f\"}}, \"ternary\": {\"aaxis\": {\"gridcolor\": \"white\", \"linecolor\": \"white\", \"ticks\": \"\"}, \"baxis\": {\"gridcolor\": \"white\", \"linecolor\": \"white\", \"ticks\": \"\"}, \"bgcolor\": \"#E5ECF6\", \"caxis\": {\"gridcolor\": \"white\", \"linecolor\": \"white\", \"ticks\": \"\"}}, \"title\": {\"x\": 0.05}, \"xaxis\": {\"automargin\": true, \"gridcolor\": \"white\", \"linecolor\": \"white\", \"ticks\": \"\", \"title\": {\"standoff\": 15}, \"zerolinecolor\": \"white\", \"zerolinewidth\": 2}, \"yaxis\": {\"automargin\": true, \"gridcolor\": \"white\", \"linecolor\": \"white\", \"ticks\": \"\", \"title\": {\"standoff\": 15}, \"zerolinecolor\": \"white\", \"zerolinewidth\": 2}}}, \"xaxis\": {\"anchor\": \"y\", \"categoryarray\": [\"Cluster 0\", \"Cluster 1\", \"Cluster 2\", \"Cluster 3\"], \"categoryorder\": \"array\", \"domain\": [0.0, 1.0], \"title\": {\"text\": \"Cluster\"}}, \"xaxis2\": {\"anchor\": \"y2\", \"domain\": [0.0, 1.0], \"matches\": \"x\", \"showgrid\": true, \"showticklabels\": false}, \"yaxis\": {\"anchor\": \"x\", \"domain\": [0.0, 0.7326], \"title\": {\"text\": \"count\"}}, \"yaxis2\": {\"anchor\": \"x2\", \"domain\": [0.7426, 1.0], \"matches\": \"y2\", \"showgrid\": false, \"showline\": false, \"showticklabels\": false, \"ticks\": \"\"}},\n",
       "                        {\"responsive\": true}\n",
       "                    ).then(function(){\n",
       "                            \n",
       "var gd = document.getElementById('5ec57921-70ab-4cfd-80f7-e75866c1de9b');\n",
       "var x = new MutationObserver(function (mutations, observer) {{\n",
       "        var display = window.getComputedStyle(gd).display;\n",
       "        if (!display || display === 'none') {{\n",
       "            console.log([gd, 'removed!']);\n",
       "            Plotly.purge(gd);\n",
       "            observer.disconnect();\n",
       "        }}\n",
       "}});\n",
       "\n",
       "// Listen for the removal of the full notebook cells\n",
       "var notebookContainer = gd.closest('#notebook-container');\n",
       "if (notebookContainer) {{\n",
       "    x.observe(notebookContainer, {childList: true});\n",
       "}}\n",
       "\n",
       "// Listen for the clearing of the current output cell\n",
       "var outputEl = gd.closest('.output');\n",
       "if (outputEl) {{\n",
       "    x.observe(outputEl, {childList: true});\n",
       "}}\n",
       "\n",
       "                        })\n",
       "                };\n",
       "                });\n",
       "            </script>\n",
       "        </div>"
      ]
     },
     "metadata": {},
     "output_type": "display_data"
    }
   ],
   "source": [
    "plot_model(kmeans, plot='distribution', feature = None, label = False)"
   ]
  },
  {
   "cell_type": "code",
   "execution_count": 43,
   "metadata": {},
   "outputs": [],
   "source": [
    "kmodes = create_model('hclust')"
   ]
  },
  {
   "cell_type": "code",
   "execution_count": 44,
   "metadata": {},
   "outputs": [
    {
     "data": {
      "text/html": [
       "        <script type=\"text/javascript\">\n",
       "        window.PlotlyConfig = {MathJaxConfig: 'local'};\n",
       "        if (window.MathJax) {MathJax.Hub.Config({SVG: {font: \"STIX-Web\"}});}\n",
       "        if (typeof require !== 'undefined') {\n",
       "        require.undef(\"plotly\");\n",
       "        requirejs.config({\n",
       "            paths: {\n",
       "                'plotly': ['https://cdn.plot.ly/plotly-latest.min']\n",
       "            }\n",
       "        });\n",
       "        require(['plotly'], function(Plotly) {\n",
       "            window._Plotly = Plotly;\n",
       "        });\n",
       "        }\n",
       "        </script>\n",
       "        "
      ]
     },
     "metadata": {},
     "output_type": "display_data"
    },
    {
     "data": {
      "application/vnd.plotly.v1+json": {
       "config": {
        "plotlyServerURL": "https://plot.ly"
       },
       "data": [
        {
         "customdata": [
          [
           1
          ],
          [
           2
          ],
          [
           3
          ],
          [
           4
          ],
          [
           5
          ],
          [
           6
          ],
          [
           7
          ],
          [
           8
          ],
          [
           9
          ],
          [
           10
          ],
          [
           11
          ],
          [
           12
          ],
          [
           13
          ],
          [
           14
          ],
          [
           15
          ],
          [
           16
          ],
          [
           17
          ],
          [
           18
          ],
          [
           19
          ],
          [
           20
          ],
          [
           21
          ],
          [
           22
          ],
          [
           23
          ],
          [
           24
          ],
          [
           25
          ],
          [
           26
          ],
          [
           27
          ],
          [
           28
          ],
          [
           29
          ],
          [
           30
          ],
          [
           31
          ],
          [
           32
          ],
          [
           33
          ],
          [
           34
          ],
          [
           35
          ],
          [
           36
          ],
          [
           37
          ],
          [
           38
          ],
          [
           39
          ],
          [
           40
          ],
          [
           41
          ],
          [
           42
          ],
          [
           43
          ],
          [
           44
          ],
          [
           45
          ],
          [
           46
          ],
          [
           47
          ],
          [
           48
          ],
          [
           49
          ],
          [
           50
          ],
          [
           51
          ],
          [
           52
          ],
          [
           53
          ],
          [
           54
          ],
          [
           55
          ],
          [
           56
          ],
          [
           57
          ],
          [
           58
          ],
          [
           59
          ],
          [
           60
          ],
          [
           61
          ],
          [
           62
          ],
          [
           63
          ],
          [
           64
          ],
          [
           65
          ],
          [
           66
          ],
          [
           67
          ],
          [
           68
          ],
          [
           69
          ],
          [
           70
          ],
          [
           71
          ],
          [
           72
          ],
          [
           73
          ],
          [
           74
          ],
          [
           75
          ],
          [
           76
          ],
          [
           77
          ],
          [
           78
          ],
          [
           79
          ],
          [
           80
          ],
          [
           81
          ],
          [
           82
          ],
          [
           83
          ],
          [
           84
          ],
          [
           85
          ],
          [
           86
          ],
          [
           87
          ],
          [
           88
          ],
          [
           89
          ],
          [
           90
          ],
          [
           91
          ],
          [
           92
          ],
          [
           93
          ],
          [
           94
          ],
          [
           95
          ],
          [
           96
          ],
          [
           97
          ],
          [
           98
          ],
          [
           99
          ],
          [
           100
          ],
          [
           101
          ],
          [
           102
          ],
          [
           103
          ],
          [
           104
          ],
          [
           105
          ],
          [
           106
          ]
         ],
         "hoverlabel": {
          "namelength": 0
         },
         "hovertemplate": "Cluster=Cluster 0<br>PCA1=%{x}<br>PCA2=%{y}<br>Feature=%{customdata[0]}",
         "legendgroup": "Cluster=Cluster 0",
         "marker": {
          "color": "#636efa",
          "opacity": 0.5,
          "symbol": "circle"
         },
         "mode": "markers",
         "name": "Cluster=Cluster 0",
         "showlegend": true,
         "textposition": "top center",
         "type": "scatter",
         "x": [
          -31.86938118401888,
          -3.002388546803466,
          -4.209759397411136,
          -2.6538015163258835,
          -6.914959230550098,
          7.113038311430873,
          4.8620872514943,
          0.9838012643380153,
          -8.89208212341878,
          4.857298693116417,
          -10.085500074206331,
          -16.412820648773376,
          0.07192190065798933,
          -6.662794383341957,
          -8.56407987594263,
          -12.224485712481107,
          -5.808194559201543,
          -2.822319516825991,
          1.5536642815652415,
          -10.184844119137537,
          -5.653376472290319,
          -11.155532161772866,
          -14.789547319230246,
          -8.918472802499883,
          -8.613334810054846,
          3.275011332106586,
          -14.630606435485907,
          -8.334052323064308,
          3.463991717295078,
          0.5492267159661821,
          -11.328303547024264,
          -5.4801923117253954,
          -4.384786882779522,
          3.121356353122877,
          -3.3822538411404484,
          -8.111613228387162,
          10.881760747268094,
          -4.065887777589067,
          10.58858655961398,
          7.028725703178075,
          -4.164566060975515,
          7.612541620225418,
          -7.609539634087869,
          6.207753003688329,
          4.824688906167517,
          2.474393801299741,
          3.891207421784276,
          -4.259656721155443,
          -2.0911749446682144,
          -5.424244295275312,
          -9.732316272425543,
          -4.728524155722703,
          -3.8515340510212472,
          -2.2241991238015326,
          3.487995708341031,
          7.048522326321693,
          2.444415499012129,
          -2.7995164609514065,
          -3.388182135533165,
          -7.915939760860803,
          1.7528875450542656,
          8.174633018256475,
          -3.927240863371093,
          2.8776667138995187,
          -1.0462865841624625,
          -46.59380245434103,
          -55.21061217018627,
          -33.88501878631646,
          -9.94871985670449,
          -34.632502946329495,
          -50.48172675740961,
          -57.80989727436921,
          -32.73971603362629,
          -42.324268558532424,
          -41.257120505383774,
          -52.76458401550648,
          -55.16046186021074,
          -58.2365778052318,
          -66.31588130456748,
          -59.06532212391773,
          -57.407825296940786,
          -32.17324885253088,
          -11.886141560304036,
          -34.5048636983572,
          -32.35037264893394,
          -58.29928829278138,
          -11.427517004037309,
          -2.1163186717290023,
          -30.167999171783126,
          -16.53004860328313,
          -17.063301435041407,
          -16.685340664664423,
          -19.107862174681014,
          -12.377268687514189,
          -6.441204211204563,
          1.7494683370097612,
          -10.435639616012303,
          -18.74671496662936,
          -32.05786422282458,
          -5.701552869544235,
          -2.7174833247282804,
          -14.545819852763039,
          -25.581371668343653,
          -9.898263987420904,
          -12.20031330627314,
          -5.865221112509929
         ],
         "xaxis": "x",
         "y": [
          -33.001078813700765,
          1.435976954130402,
          1.2898521035571022,
          -0.19968352621397722,
          1.7995583611159605,
          -8.330020461892408,
          -7.840535016883361,
          -5.240560690942164,
          -1.6928018977277435,
          -11.544446342492739,
          -0.8101246148851564,
          3.6647701088073945,
          -8.167257540512,
          -3.383561047592976,
          5.550037220142198,
          0.7304992184188428,
          -3.8882137411513673,
          -6.105961839454087,
          -9.164873251182991,
          -0.8261437890806776,
          -9.096827945081182,
          -5.0796993497684015,
          -3.573420479551058,
          -8.018618769668441,
          -9.215562976774903,
          -17.801359426137484,
          -5.074964817529708,
          -9.496655895360062,
          -17.932317028161407,
          -8.413153570364331,
          -7.448220828155885,
          3.354625376718573,
          2.449611838996892,
          16.912960376405646,
          16.72973705689291,
          17.720397623356792,
          2.495886064111876,
          10.946928307585214,
          0.32754500780603635,
          2.76253580039842,
          10.927750593047907,
          -0.13297462642654756,
          10.882440019766191,
          1.1031769354006982,
          2.1199703606090003,
          2.5934366314225215,
          -3.428632035292159,
          7.373974583999763,
          4.365832344042001,
          6.792292000530377,
          9.923584772658785,
          6.368551803475495,
          5.641382432956367,
          3.5308935520242177,
          -0.8333922415896574,
          -3.271541574523825,
          -0.19778194600734234,
          3.7544533269974507,
          4.366684269688176,
          6.261506448227572,
          -1.8911667423299456,
          -2.8091269166325668,
          -14.029402794426304,
          -1.4224350037551163,
          -17.122659169241857,
          -0.1774052748026302,
          6.088338809795969,
          -14.345511019629495,
          -33.0218067966751,
          -15.072999421910398,
          -3.5646217586050537,
          -1.8726056486046814,
          -21.334647037793836,
          -2.007334131034035,
          -16.473515620474846,
          -11.681074129329163,
          -10.081874054400743,
          -9.13462248101193,
          -3.2148646373064826,
          -9.54582107597484,
          -13.126986903902534,
          -30.389819845802748,
          -8.309825372802488,
          -23.76300827448885,
          -5.532756669369364,
          4.579839327610215,
          -14.709066703155191,
          -21.392233904125103,
          -6.091464934436128,
          -9.752579607034077,
          -12.944350200993549,
          -13.2062654050414,
          -7.846791818299619,
          -16.337558177169804,
          -17.17893535271864,
          -27.868591127116005,
          -17.916537439548417,
          -7.026701243069413,
          -3.3612570727217395,
          -13.782654838927796,
          -24.656385858484082,
          -7.505221077883393,
          -8.080060243332769,
          -11.017696979637781,
          -11.682598674306298,
          -17.405653668033658
         ],
         "yaxis": "y"
        },
        {
         "customdata": [
          [
           107
          ],
          [
           108
          ],
          [
           109
          ],
          [
           110
          ],
          [
           111
          ],
          [
           112
          ],
          [
           113
          ],
          [
           114
          ],
          [
           115
          ],
          [
           116
          ],
          [
           117
          ],
          [
           118
          ],
          [
           119
          ],
          [
           120
          ],
          [
           121
          ],
          [
           122
          ],
          [
           123
          ],
          [
           124
          ],
          [
           125
          ],
          [
           126
          ],
          [
           127
          ],
          [
           128
          ],
          [
           129
          ],
          [
           130
          ],
          [
           131
          ],
          [
           132
          ],
          [
           133
          ],
          [
           134
          ],
          [
           135
          ],
          [
           136
          ],
          [
           137
          ],
          [
           138
          ],
          [
           139
          ],
          [
           140
          ],
          [
           141
          ]
         ],
         "hoverlabel": {
          "namelength": 0
         },
         "hovertemplate": "Cluster=Cluster 1<br>PCA1=%{x}<br>PCA2=%{y}<br>Feature=%{customdata[0]}",
         "legendgroup": "Cluster=Cluster 1",
         "marker": {
          "color": "#EF553B",
          "opacity": 0.5,
          "symbol": "circle"
         },
         "mode": "markers",
         "name": "Cluster=Cluster 1",
         "showlegend": true,
         "textposition": "top center",
         "type": "scatter",
         "x": [
          -15.573519702873774,
          -24.644058200602387,
          -27.606877200872123,
          -15.497170500891848,
          -27.779648586123503,
          -19.746242012012083,
          -30.458457740181363,
          -13.89502531758186,
          -2.134126636318035,
          -17.732386535361393,
          -3.2144016021851005,
          -9.35943487390153,
          -10.98371735154133,
          -28.475368725676116,
          -16.615317786555764,
          -6.743748982706785,
          -14.445565686135541,
          -18.15659580711962,
          -28.057791337099218,
          -19.9363621332154,
          -15.13602329284019,
          -4.334392212652471,
          -1.5215793690033854,
          -6.58714877014864,
          -1.1985574669798114,
          0.34662236217831965,
          6.564792160739842,
          -27.49085018153373,
          4.517416775443952,
          13.416492039098014,
          -6.98221391632604,
          19.90664667992397,
          7.493048939518981,
          -13.168003542257203,
          20.977152741960577
         ],
         "xaxis": "x",
         "y": [
          45.251392478027796,
          33.52889838076672,
          35.52097126176692,
          44.0724550280507,
          33.15244978337943,
          39.86514796901807,
          39.98797291287899,
          42.87465889529806,
          34.31341275623501,
          33.4001613907112,
          22.6391739104748,
          38.31104460524872,
          29.645267031208036,
          33.57618998043431,
          33.696421557845696,
          35.10705144095904,
          32.10259407867951,
          34.79096893921573,
          42.092684163559944,
          31.336964109446637,
          44.89254560328091,
          25.874353497509343,
          53.6413702830663,
          17.70785602126482,
          65.84575661760579,
          49.70988871649575,
          68.74380668816094,
          41.69981135748816,
          49.28141398720216,
          37.78250538837422,
          51.40506336683789,
          66.4457907134262,
          39.65900177802248,
          49.639383212842986,
          79.3776654502466
         ],
         "yaxis": "y"
        },
        {
         "customdata": [
          [
           142
          ],
          [
           143
          ],
          [
           144
          ],
          [
           145
          ],
          [
           146
          ],
          [
           147
          ],
          [
           148
          ],
          [
           149
          ],
          [
           150
          ],
          [
           151
          ],
          [
           152
          ],
          [
           153
          ],
          [
           154
          ],
          [
           155
          ],
          [
           156
          ],
          [
           157
          ],
          [
           158
          ],
          [
           159
          ],
          [
           160
          ],
          [
           161
          ],
          [
           162
          ],
          [
           163
          ],
          [
           164
          ],
          [
           165
          ],
          [
           166
          ],
          [
           167
          ],
          [
           168
          ],
          [
           169
          ],
          [
           170
          ],
          [
           171
          ],
          [
           172
          ],
          [
           173
          ],
          [
           174
          ],
          [
           175
          ],
          [
           176
          ],
          [
           177
          ],
          [
           178
          ],
          [
           179
          ],
          [
           180
          ]
         ],
         "hoverlabel": {
          "namelength": 0
         },
         "hovertemplate": "Cluster=Cluster 2<br>PCA1=%{x}<br>PCA2=%{y}<br>Feature=%{customdata[0]}",
         "legendgroup": "Cluster=Cluster 2",
         "marker": {
          "color": "#00cc96",
          "opacity": 0.5,
          "symbol": "circle"
         },
         "mode": "markers",
         "name": "Cluster=Cluster 2",
         "showlegend": true,
         "textposition": "top center",
         "type": "scatter",
         "x": [
          47.15661636647997,
          58.5197490281435,
          63.09705240105843,
          38.497145772460016,
          34.417731997854716,
          41.05240064813484,
          58.35195798834468,
          33.167569681154156,
          52.87283496905526,
          26.917929831658572,
          39.84442523513894,
          37.10611826866835,
          53.610742012312535,
          48.95665329018945,
          50.883151898612525,
          51.10521604521998,
          45.9636723901625,
          51.293722455938415,
          61.08390051319636,
          25.60966242479133,
          33.78944970507304,
          29.859338498299795,
          37.008809335615275,
          28.1056112751281,
          41.141126866695835,
          25.798642809979818,
          24.566686777850652,
          38.895630126681915,
          26.53768958925192,
          25.77399642930178,
          72.44655920038983,
          43.002635515539666,
          39.30848015603746,
          48.512562824218385,
          29.67879549385223,
          42.46512929903012,
          39.94818289037834,
          30.70556214085581,
          43.435343367195365
         ],
         "xaxis": "x",
         "y": [
          -9.067564545254445,
          38.348226801115835,
          18.865718457246363,
          -5.207526410710001,
          5.150586305092829,
          22.62122515681318,
          31.018158106058788,
          9.84358220526919,
          13.963047347051084,
          13.133222398301076,
          21.057627005106557,
          5.722885826812036,
          7.2827130981132235,
          -2.985337088470464,
          8.014936032632818,
          2.881861729444289,
          0.4774127395252844,
          -5.91139587451677,
          3.0603505167183473,
          -5.7709949314753475,
          -3.0155921393899217,
          -0.14621457130936313,
          -16.56980494690195,
          -8.777966214025167,
          -17.11754760177366,
          -5.901952533499268,
          -3.7179113347596746,
          -12.927309371497019,
          -3.9231453208417766,
          -2.151154642711266,
          41.81384186115148,
          -9.721095595238928,
          -9.535358355455898,
          -14.98638446058652,
          -1.2665757796620334,
          -9.375109354345781,
          -7.572570316993927,
          -0.8201802959663023,
          -13.783853795595192
         ],
         "yaxis": "y"
        },
        {
         "customdata": [
          [
           181
          ],
          [
           182
          ],
          [
           183
          ],
          [
           184
          ],
          [
           185
          ],
          [
           186
          ],
          [
           187
          ],
          [
           188
          ],
          [
           189
          ],
          [
           190
          ],
          [
           191
          ],
          [
           192
          ],
          [
           193
          ],
          [
           194
          ],
          [
           195
          ],
          [
           196
          ],
          [
           197
          ],
          [
           198
          ],
          [
           199
          ],
          [
           200
          ]
         ],
         "hoverlabel": {
          "namelength": 0
         },
         "hovertemplate": "Cluster=Cluster 3<br>PCA1=%{x}<br>PCA2=%{y}<br>Feature=%{customdata[0]}",
         "legendgroup": "Cluster=Cluster 3",
         "marker": {
          "color": "#ab63fa",
          "opacity": 0.5,
          "symbol": "circle"
         },
         "mode": "markers",
         "name": "Cluster=Cluster 3",
         "showlegend": true,
         "textposition": "top center",
         "type": "scatter",
         "x": [
          3.3071471445854117,
          20.573658550620156,
          11.361138501698282,
          0.7655921824994733,
          9.188403340459779,
          13.344893277748303,
          22.38279861661532,
          3.9607415795898877,
          7.691629522874119,
          1.9475896917278013,
          -0.9810670102646685,
          16.1917464578362,
          -7.304134200080434,
          -0.0017497998137132897,
          14.623350797489946,
          -5.654347793143141,
          12.372399737553371,
          -2.1671873163261224,
          -1.5263448459703943,
          -2.1756246970670596
         ],
         "xaxis": "x",
         "y": [
          -40.128076131176364,
          -48.996222459259236,
          -42.29387754375202,
          -56.84193518152961,
          -35.747978468941646,
          -48.70881901653849,
          -44.168472353193636,
          -35.7158541178234,
          -45.858938194757,
          -51.52122205835142,
          -44.451492575445336,
          -58.30036383473507,
          -43.5143546866054,
          -50.11471436741313,
          -62.10784294348881,
          -47.267992085973425,
          -61.61835749847978,
          -53.4792755645747,
          -42.85734606451737,
          -52.22795675419809
         ],
         "yaxis": "y"
        }
       ],
       "layout": {
        "height": 600,
        "legend": {
         "tracegroupgap": 0
        },
        "margin": {
         "t": 60
        },
        "plot_bgcolor": "rgb(240,240,240)",
        "template": {
         "data": {
          "bar": [
           {
            "error_x": {
             "color": "#2a3f5f"
            },
            "error_y": {
             "color": "#2a3f5f"
            },
            "marker": {
             "line": {
              "color": "#E5ECF6",
              "width": 0.5
             }
            },
            "type": "bar"
           }
          ],
          "barpolar": [
           {
            "marker": {
             "line": {
              "color": "#E5ECF6",
              "width": 0.5
             }
            },
            "type": "barpolar"
           }
          ],
          "carpet": [
           {
            "aaxis": {
             "endlinecolor": "#2a3f5f",
             "gridcolor": "white",
             "linecolor": "white",
             "minorgridcolor": "white",
             "startlinecolor": "#2a3f5f"
            },
            "baxis": {
             "endlinecolor": "#2a3f5f",
             "gridcolor": "white",
             "linecolor": "white",
             "minorgridcolor": "white",
             "startlinecolor": "#2a3f5f"
            },
            "type": "carpet"
           }
          ],
          "choropleth": [
           {
            "colorbar": {
             "outlinewidth": 0,
             "ticks": ""
            },
            "type": "choropleth"
           }
          ],
          "contour": [
           {
            "colorbar": {
             "outlinewidth": 0,
             "ticks": ""
            },
            "colorscale": [
             [
              0,
              "#0d0887"
             ],
             [
              0.1111111111111111,
              "#46039f"
             ],
             [
              0.2222222222222222,
              "#7201a8"
             ],
             [
              0.3333333333333333,
              "#9c179e"
             ],
             [
              0.4444444444444444,
              "#bd3786"
             ],
             [
              0.5555555555555556,
              "#d8576b"
             ],
             [
              0.6666666666666666,
              "#ed7953"
             ],
             [
              0.7777777777777778,
              "#fb9f3a"
             ],
             [
              0.8888888888888888,
              "#fdca26"
             ],
             [
              1,
              "#f0f921"
             ]
            ],
            "type": "contour"
           }
          ],
          "contourcarpet": [
           {
            "colorbar": {
             "outlinewidth": 0,
             "ticks": ""
            },
            "type": "contourcarpet"
           }
          ],
          "heatmap": [
           {
            "colorbar": {
             "outlinewidth": 0,
             "ticks": ""
            },
            "colorscale": [
             [
              0,
              "#0d0887"
             ],
             [
              0.1111111111111111,
              "#46039f"
             ],
             [
              0.2222222222222222,
              "#7201a8"
             ],
             [
              0.3333333333333333,
              "#9c179e"
             ],
             [
              0.4444444444444444,
              "#bd3786"
             ],
             [
              0.5555555555555556,
              "#d8576b"
             ],
             [
              0.6666666666666666,
              "#ed7953"
             ],
             [
              0.7777777777777778,
              "#fb9f3a"
             ],
             [
              0.8888888888888888,
              "#fdca26"
             ],
             [
              1,
              "#f0f921"
             ]
            ],
            "type": "heatmap"
           }
          ],
          "heatmapgl": [
           {
            "colorbar": {
             "outlinewidth": 0,
             "ticks": ""
            },
            "colorscale": [
             [
              0,
              "#0d0887"
             ],
             [
              0.1111111111111111,
              "#46039f"
             ],
             [
              0.2222222222222222,
              "#7201a8"
             ],
             [
              0.3333333333333333,
              "#9c179e"
             ],
             [
              0.4444444444444444,
              "#bd3786"
             ],
             [
              0.5555555555555556,
              "#d8576b"
             ],
             [
              0.6666666666666666,
              "#ed7953"
             ],
             [
              0.7777777777777778,
              "#fb9f3a"
             ],
             [
              0.8888888888888888,
              "#fdca26"
             ],
             [
              1,
              "#f0f921"
             ]
            ],
            "type": "heatmapgl"
           }
          ],
          "histogram": [
           {
            "marker": {
             "colorbar": {
              "outlinewidth": 0,
              "ticks": ""
             }
            },
            "type": "histogram"
           }
          ],
          "histogram2d": [
           {
            "colorbar": {
             "outlinewidth": 0,
             "ticks": ""
            },
            "colorscale": [
             [
              0,
              "#0d0887"
             ],
             [
              0.1111111111111111,
              "#46039f"
             ],
             [
              0.2222222222222222,
              "#7201a8"
             ],
             [
              0.3333333333333333,
              "#9c179e"
             ],
             [
              0.4444444444444444,
              "#bd3786"
             ],
             [
              0.5555555555555556,
              "#d8576b"
             ],
             [
              0.6666666666666666,
              "#ed7953"
             ],
             [
              0.7777777777777778,
              "#fb9f3a"
             ],
             [
              0.8888888888888888,
              "#fdca26"
             ],
             [
              1,
              "#f0f921"
             ]
            ],
            "type": "histogram2d"
           }
          ],
          "histogram2dcontour": [
           {
            "colorbar": {
             "outlinewidth": 0,
             "ticks": ""
            },
            "colorscale": [
             [
              0,
              "#0d0887"
             ],
             [
              0.1111111111111111,
              "#46039f"
             ],
             [
              0.2222222222222222,
              "#7201a8"
             ],
             [
              0.3333333333333333,
              "#9c179e"
             ],
             [
              0.4444444444444444,
              "#bd3786"
             ],
             [
              0.5555555555555556,
              "#d8576b"
             ],
             [
              0.6666666666666666,
              "#ed7953"
             ],
             [
              0.7777777777777778,
              "#fb9f3a"
             ],
             [
              0.8888888888888888,
              "#fdca26"
             ],
             [
              1,
              "#f0f921"
             ]
            ],
            "type": "histogram2dcontour"
           }
          ],
          "mesh3d": [
           {
            "colorbar": {
             "outlinewidth": 0,
             "ticks": ""
            },
            "type": "mesh3d"
           }
          ],
          "parcoords": [
           {
            "line": {
             "colorbar": {
              "outlinewidth": 0,
              "ticks": ""
             }
            },
            "type": "parcoords"
           }
          ],
          "pie": [
           {
            "automargin": true,
            "type": "pie"
           }
          ],
          "scatter": [
           {
            "marker": {
             "colorbar": {
              "outlinewidth": 0,
              "ticks": ""
             }
            },
            "type": "scatter"
           }
          ],
          "scatter3d": [
           {
            "line": {
             "colorbar": {
              "outlinewidth": 0,
              "ticks": ""
             }
            },
            "marker": {
             "colorbar": {
              "outlinewidth": 0,
              "ticks": ""
             }
            },
            "type": "scatter3d"
           }
          ],
          "scattercarpet": [
           {
            "marker": {
             "colorbar": {
              "outlinewidth": 0,
              "ticks": ""
             }
            },
            "type": "scattercarpet"
           }
          ],
          "scattergeo": [
           {
            "marker": {
             "colorbar": {
              "outlinewidth": 0,
              "ticks": ""
             }
            },
            "type": "scattergeo"
           }
          ],
          "scattergl": [
           {
            "marker": {
             "colorbar": {
              "outlinewidth": 0,
              "ticks": ""
             }
            },
            "type": "scattergl"
           }
          ],
          "scattermapbox": [
           {
            "marker": {
             "colorbar": {
              "outlinewidth": 0,
              "ticks": ""
             }
            },
            "type": "scattermapbox"
           }
          ],
          "scatterpolar": [
           {
            "marker": {
             "colorbar": {
              "outlinewidth": 0,
              "ticks": ""
             }
            },
            "type": "scatterpolar"
           }
          ],
          "scatterpolargl": [
           {
            "marker": {
             "colorbar": {
              "outlinewidth": 0,
              "ticks": ""
             }
            },
            "type": "scatterpolargl"
           }
          ],
          "scatterternary": [
           {
            "marker": {
             "colorbar": {
              "outlinewidth": 0,
              "ticks": ""
             }
            },
            "type": "scatterternary"
           }
          ],
          "surface": [
           {
            "colorbar": {
             "outlinewidth": 0,
             "ticks": ""
            },
            "colorscale": [
             [
              0,
              "#0d0887"
             ],
             [
              0.1111111111111111,
              "#46039f"
             ],
             [
              0.2222222222222222,
              "#7201a8"
             ],
             [
              0.3333333333333333,
              "#9c179e"
             ],
             [
              0.4444444444444444,
              "#bd3786"
             ],
             [
              0.5555555555555556,
              "#d8576b"
             ],
             [
              0.6666666666666666,
              "#ed7953"
             ],
             [
              0.7777777777777778,
              "#fb9f3a"
             ],
             [
              0.8888888888888888,
              "#fdca26"
             ],
             [
              1,
              "#f0f921"
             ]
            ],
            "type": "surface"
           }
          ],
          "table": [
           {
            "cells": {
             "fill": {
              "color": "#EBF0F8"
             },
             "line": {
              "color": "white"
             }
            },
            "header": {
             "fill": {
              "color": "#C8D4E3"
             },
             "line": {
              "color": "white"
             }
            },
            "type": "table"
           }
          ]
         },
         "layout": {
          "annotationdefaults": {
           "arrowcolor": "#2a3f5f",
           "arrowhead": 0,
           "arrowwidth": 1
          },
          "coloraxis": {
           "colorbar": {
            "outlinewidth": 0,
            "ticks": ""
           }
          },
          "colorscale": {
           "diverging": [
            [
             0,
             "#8e0152"
            ],
            [
             0.1,
             "#c51b7d"
            ],
            [
             0.2,
             "#de77ae"
            ],
            [
             0.3,
             "#f1b6da"
            ],
            [
             0.4,
             "#fde0ef"
            ],
            [
             0.5,
             "#f7f7f7"
            ],
            [
             0.6,
             "#e6f5d0"
            ],
            [
             0.7,
             "#b8e186"
            ],
            [
             0.8,
             "#7fbc41"
            ],
            [
             0.9,
             "#4d9221"
            ],
            [
             1,
             "#276419"
            ]
           ],
           "sequential": [
            [
             0,
             "#0d0887"
            ],
            [
             0.1111111111111111,
             "#46039f"
            ],
            [
             0.2222222222222222,
             "#7201a8"
            ],
            [
             0.3333333333333333,
             "#9c179e"
            ],
            [
             0.4444444444444444,
             "#bd3786"
            ],
            [
             0.5555555555555556,
             "#d8576b"
            ],
            [
             0.6666666666666666,
             "#ed7953"
            ],
            [
             0.7777777777777778,
             "#fb9f3a"
            ],
            [
             0.8888888888888888,
             "#fdca26"
            ],
            [
             1,
             "#f0f921"
            ]
           ],
           "sequentialminus": [
            [
             0,
             "#0d0887"
            ],
            [
             0.1111111111111111,
             "#46039f"
            ],
            [
             0.2222222222222222,
             "#7201a8"
            ],
            [
             0.3333333333333333,
             "#9c179e"
            ],
            [
             0.4444444444444444,
             "#bd3786"
            ],
            [
             0.5555555555555556,
             "#d8576b"
            ],
            [
             0.6666666666666666,
             "#ed7953"
            ],
            [
             0.7777777777777778,
             "#fb9f3a"
            ],
            [
             0.8888888888888888,
             "#fdca26"
            ],
            [
             1,
             "#f0f921"
            ]
           ]
          },
          "colorway": [
           "#636efa",
           "#EF553B",
           "#00cc96",
           "#ab63fa",
           "#FFA15A",
           "#19d3f3",
           "#FF6692",
           "#B6E880",
           "#FF97FF",
           "#FECB52"
          ],
          "font": {
           "color": "#2a3f5f"
          },
          "geo": {
           "bgcolor": "white",
           "lakecolor": "white",
           "landcolor": "#E5ECF6",
           "showlakes": true,
           "showland": true,
           "subunitcolor": "white"
          },
          "hoverlabel": {
           "align": "left"
          },
          "hovermode": "closest",
          "mapbox": {
           "style": "light"
          },
          "paper_bgcolor": "white",
          "plot_bgcolor": "#E5ECF6",
          "polar": {
           "angularaxis": {
            "gridcolor": "white",
            "linecolor": "white",
            "ticks": ""
           },
           "bgcolor": "#E5ECF6",
           "radialaxis": {
            "gridcolor": "white",
            "linecolor": "white",
            "ticks": ""
           }
          },
          "scene": {
           "xaxis": {
            "backgroundcolor": "#E5ECF6",
            "gridcolor": "white",
            "gridwidth": 2,
            "linecolor": "white",
            "showbackground": true,
            "ticks": "",
            "zerolinecolor": "white"
           },
           "yaxis": {
            "backgroundcolor": "#E5ECF6",
            "gridcolor": "white",
            "gridwidth": 2,
            "linecolor": "white",
            "showbackground": true,
            "ticks": "",
            "zerolinecolor": "white"
           },
           "zaxis": {
            "backgroundcolor": "#E5ECF6",
            "gridcolor": "white",
            "gridwidth": 2,
            "linecolor": "white",
            "showbackground": true,
            "ticks": "",
            "zerolinecolor": "white"
           }
          },
          "shapedefaults": {
           "line": {
            "color": "#2a3f5f"
           }
          },
          "ternary": {
           "aaxis": {
            "gridcolor": "white",
            "linecolor": "white",
            "ticks": ""
           },
           "baxis": {
            "gridcolor": "white",
            "linecolor": "white",
            "ticks": ""
           },
           "bgcolor": "#E5ECF6",
           "caxis": {
            "gridcolor": "white",
            "linecolor": "white",
            "ticks": ""
           }
          },
          "title": {
           "x": 0.05
          },
          "xaxis": {
           "automargin": true,
           "gridcolor": "white",
           "linecolor": "white",
           "ticks": "",
           "title": {
            "standoff": 15
           },
           "zerolinecolor": "white",
           "zerolinewidth": 2
          },
          "yaxis": {
           "automargin": true,
           "gridcolor": "white",
           "linecolor": "white",
           "ticks": "",
           "title": {
            "standoff": 15
           },
           "zerolinecolor": "white",
           "zerolinewidth": 2
          }
         }
        },
        "title": {
         "text": "2D Cluster PCA Plot"
        },
        "xaxis": {
         "anchor": "y",
         "domain": [
          0,
          1
         ],
         "title": {
          "text": "PCA1"
         }
        },
        "yaxis": {
         "anchor": "x",
         "domain": [
          0,
          1
         ],
         "title": {
          "text": "PCA2"
         }
        }
       }
      },
      "text/html": [
       "<div>\n",
       "        \n",
       "        \n",
       "            <div id=\"5fcb50f3-c001-4bdd-9db1-8a6cd6d2eeca\" class=\"plotly-graph-div\" style=\"height:600px; width:100%;\"></div>\n",
       "            <script type=\"text/javascript\">\n",
       "                require([\"plotly\"], function(Plotly) {\n",
       "                    window.PLOTLYENV=window.PLOTLYENV || {};\n",
       "                    \n",
       "                if (document.getElementById(\"5fcb50f3-c001-4bdd-9db1-8a6cd6d2eeca\")) {\n",
       "                    Plotly.newPlot(\n",
       "                        '5fcb50f3-c001-4bdd-9db1-8a6cd6d2eeca',\n",
       "                        [{\"customdata\": [[1], [2], [3], [4], [5], [6], [7], [8], [9], [10], [11], [12], [13], [14], [15], [16], [17], [18], [19], [20], [21], [22], [23], [24], [25], [26], [27], [28], [29], [30], [31], [32], [33], [34], [35], [36], [37], [38], [39], [40], [41], [42], [43], [44], [45], [46], [47], [48], [49], [50], [51], [52], [53], [54], [55], [56], [57], [58], [59], [60], [61], [62], [63], [64], [65], [66], [67], [68], [69], [70], [71], [72], [73], [74], [75], [76], [77], [78], [79], [80], [81], [82], [83], [84], [85], [86], [87], [88], [89], [90], [91], [92], [93], [94], [95], [96], [97], [98], [99], [100], [101], [102], [103], [104], [105], [106]], \"hoverlabel\": {\"namelength\": 0}, \"hovertemplate\": \"Cluster=Cluster 0<br>PCA1=%{x}<br>PCA2=%{y}<br>Feature=%{customdata[0]}\", \"legendgroup\": \"Cluster=Cluster 0\", \"marker\": {\"color\": \"#636efa\", \"opacity\": 0.5, \"symbol\": \"circle\"}, \"mode\": \"markers\", \"name\": \"Cluster=Cluster 0\", \"showlegend\": true, \"textposition\": \"top center\", \"type\": \"scatter\", \"x\": [-31.86938118401888, -3.002388546803466, -4.209759397411136, -2.6538015163258835, -6.914959230550098, 7.113038311430873, 4.8620872514943, 0.9838012643380153, -8.89208212341878, 4.857298693116417, -10.085500074206331, -16.412820648773376, 0.07192190065798933, -6.662794383341957, -8.56407987594263, -12.224485712481107, -5.808194559201543, -2.822319516825991, 1.5536642815652415, -10.184844119137537, -5.653376472290319, -11.155532161772866, -14.789547319230246, -8.918472802499883, -8.613334810054846, 3.275011332106586, -14.630606435485907, -8.334052323064308, 3.463991717295078, 0.5492267159661821, -11.328303547024264, -5.4801923117253954, -4.384786882779522, 3.121356353122877, -3.3822538411404484, -8.111613228387162, 10.881760747268094, -4.065887777589067, 10.58858655961398, 7.028725703178075, -4.164566060975515, 7.612541620225418, -7.609539634087869, 6.207753003688329, 4.824688906167517, 2.474393801299741, 3.891207421784276, -4.259656721155443, -2.0911749446682144, -5.424244295275312, -9.732316272425543, -4.728524155722703, -3.8515340510212472, -2.2241991238015326, 3.487995708341031, 7.048522326321693, 2.444415499012129, -2.7995164609514065, -3.388182135533165, -7.915939760860803, 1.7528875450542656, 8.174633018256475, -3.927240863371093, 2.8776667138995187, -1.0462865841624625, -46.59380245434103, -55.21061217018627, -33.88501878631646, -9.94871985670449, -34.632502946329495, -50.48172675740961, -57.80989727436921, -32.73971603362629, -42.324268558532424, -41.257120505383774, -52.76458401550648, -55.16046186021074, -58.2365778052318, -66.31588130456748, -59.06532212391773, -57.407825296940786, -32.17324885253088, -11.886141560304036, -34.5048636983572, -32.35037264893394, -58.29928829278138, -11.427517004037309, -2.1163186717290023, -30.167999171783126, -16.53004860328313, -17.063301435041407, -16.685340664664423, -19.107862174681014, -12.377268687514189, -6.441204211204563, 1.7494683370097612, -10.435639616012303, -18.74671496662936, -32.05786422282458, -5.701552869544235, -2.7174833247282804, -14.545819852763039, -25.581371668343653, -9.898263987420904, -12.20031330627314, -5.865221112509929], \"xaxis\": \"x\", \"y\": [-33.001078813700765, 1.435976954130402, 1.2898521035571022, -0.19968352621397722, 1.7995583611159605, -8.330020461892408, -7.840535016883361, -5.240560690942164, -1.6928018977277435, -11.544446342492739, -0.8101246148851564, 3.6647701088073945, -8.167257540512, -3.383561047592976, 5.550037220142198, 0.7304992184188428, -3.8882137411513673, -6.105961839454087, -9.164873251182991, -0.8261437890806776, -9.096827945081182, -5.0796993497684015, -3.573420479551058, -8.018618769668441, -9.215562976774903, -17.801359426137484, -5.074964817529708, -9.496655895360062, -17.932317028161407, -8.413153570364331, -7.448220828155885, 3.354625376718573, 2.449611838996892, 16.912960376405646, 16.72973705689291, 17.720397623356792, 2.495886064111876, 10.946928307585214, 0.32754500780603635, 2.76253580039842, 10.927750593047907, -0.13297462642654756, 10.882440019766191, 1.1031769354006982, 2.1199703606090003, 2.5934366314225215, -3.428632035292159, 7.373974583999763, 4.365832344042001, 6.792292000530377, 9.923584772658785, 6.368551803475495, 5.641382432956367, 3.5308935520242177, -0.8333922415896574, -3.271541574523825, -0.19778194600734234, 3.7544533269974507, 4.366684269688176, 6.261506448227572, -1.8911667423299456, -2.8091269166325668, -14.029402794426304, -1.4224350037551163, -17.122659169241857, -0.1774052748026302, 6.088338809795969, -14.345511019629495, -33.0218067966751, -15.072999421910398, -3.5646217586050537, -1.8726056486046814, -21.334647037793836, -2.007334131034035, -16.473515620474846, -11.681074129329163, -10.081874054400743, -9.13462248101193, -3.2148646373064826, -9.54582107597484, -13.126986903902534, -30.389819845802748, -8.309825372802488, -23.76300827448885, -5.532756669369364, 4.579839327610215, -14.709066703155191, -21.392233904125103, -6.091464934436128, -9.752579607034077, -12.944350200993549, -13.2062654050414, -7.846791818299619, -16.337558177169804, -17.17893535271864, -27.868591127116005, -17.916537439548417, -7.026701243069413, -3.3612570727217395, -13.782654838927796, -24.656385858484082, -7.505221077883393, -8.080060243332769, -11.017696979637781, -11.682598674306298, -17.405653668033658], \"yaxis\": \"y\"}, {\"customdata\": [[107], [108], [109], [110], [111], [112], [113], [114], [115], [116], [117], [118], [119], [120], [121], [122], [123], [124], [125], [126], [127], [128], [129], [130], [131], [132], [133], [134], [135], [136], [137], [138], [139], [140], [141]], \"hoverlabel\": {\"namelength\": 0}, \"hovertemplate\": \"Cluster=Cluster 1<br>PCA1=%{x}<br>PCA2=%{y}<br>Feature=%{customdata[0]}\", \"legendgroup\": \"Cluster=Cluster 1\", \"marker\": {\"color\": \"#EF553B\", \"opacity\": 0.5, \"symbol\": \"circle\"}, \"mode\": \"markers\", \"name\": \"Cluster=Cluster 1\", \"showlegend\": true, \"textposition\": \"top center\", \"type\": \"scatter\", \"x\": [-15.573519702873774, -24.644058200602387, -27.606877200872123, -15.497170500891848, -27.779648586123503, -19.746242012012083, -30.458457740181363, -13.89502531758186, -2.134126636318035, -17.732386535361393, -3.2144016021851005, -9.35943487390153, -10.98371735154133, -28.475368725676116, -16.615317786555764, -6.743748982706785, -14.445565686135541, -18.15659580711962, -28.057791337099218, -19.9363621332154, -15.13602329284019, -4.334392212652471, -1.5215793690033854, -6.58714877014864, -1.1985574669798114, 0.34662236217831965, 6.564792160739842, -27.49085018153373, 4.517416775443952, 13.416492039098014, -6.98221391632604, 19.90664667992397, 7.493048939518981, -13.168003542257203, 20.977152741960577], \"xaxis\": \"x\", \"y\": [45.251392478027796, 33.52889838076672, 35.52097126176692, 44.0724550280507, 33.15244978337943, 39.86514796901807, 39.98797291287899, 42.87465889529806, 34.31341275623501, 33.4001613907112, 22.6391739104748, 38.31104460524872, 29.645267031208036, 33.57618998043431, 33.696421557845696, 35.10705144095904, 32.10259407867951, 34.79096893921573, 42.092684163559944, 31.336964109446637, 44.89254560328091, 25.874353497509343, 53.6413702830663, 17.70785602126482, 65.84575661760579, 49.70988871649575, 68.74380668816094, 41.69981135748816, 49.28141398720216, 37.78250538837422, 51.40506336683789, 66.4457907134262, 39.65900177802248, 49.639383212842986, 79.3776654502466], \"yaxis\": \"y\"}, {\"customdata\": [[142], [143], [144], [145], [146], [147], [148], [149], [150], [151], [152], [153], [154], [155], [156], [157], [158], [159], [160], [161], [162], [163], [164], [165], [166], [167], [168], [169], [170], [171], [172], [173], [174], [175], [176], [177], [178], [179], [180]], \"hoverlabel\": {\"namelength\": 0}, \"hovertemplate\": \"Cluster=Cluster 2<br>PCA1=%{x}<br>PCA2=%{y}<br>Feature=%{customdata[0]}\", \"legendgroup\": \"Cluster=Cluster 2\", \"marker\": {\"color\": \"#00cc96\", \"opacity\": 0.5, \"symbol\": \"circle\"}, \"mode\": \"markers\", \"name\": \"Cluster=Cluster 2\", \"showlegend\": true, \"textposition\": \"top center\", \"type\": \"scatter\", \"x\": [47.15661636647997, 58.5197490281435, 63.09705240105843, 38.497145772460016, 34.417731997854716, 41.05240064813484, 58.35195798834468, 33.167569681154156, 52.87283496905526, 26.917929831658572, 39.84442523513894, 37.10611826866835, 53.610742012312535, 48.95665329018945, 50.883151898612525, 51.10521604521998, 45.9636723901625, 51.293722455938415, 61.08390051319636, 25.60966242479133, 33.78944970507304, 29.859338498299795, 37.008809335615275, 28.1056112751281, 41.141126866695835, 25.798642809979818, 24.566686777850652, 38.895630126681915, 26.53768958925192, 25.77399642930178, 72.44655920038983, 43.002635515539666, 39.30848015603746, 48.512562824218385, 29.67879549385223, 42.46512929903012, 39.94818289037834, 30.70556214085581, 43.435343367195365], \"xaxis\": \"x\", \"y\": [-9.067564545254445, 38.348226801115835, 18.865718457246363, -5.207526410710001, 5.150586305092829, 22.62122515681318, 31.018158106058788, 9.84358220526919, 13.963047347051084, 13.133222398301076, 21.057627005106557, 5.722885826812036, 7.2827130981132235, -2.985337088470464, 8.014936032632818, 2.881861729444289, 0.4774127395252844, -5.91139587451677, 3.0603505167183473, -5.7709949314753475, -3.0155921393899217, -0.14621457130936313, -16.56980494690195, -8.777966214025167, -17.11754760177366, -5.901952533499268, -3.7179113347596746, -12.927309371497019, -3.9231453208417766, -2.151154642711266, 41.81384186115148, -9.721095595238928, -9.535358355455898, -14.98638446058652, -1.2665757796620334, -9.375109354345781, -7.572570316993927, -0.8201802959663023, -13.783853795595192], \"yaxis\": \"y\"}, {\"customdata\": [[181], [182], [183], [184], [185], [186], [187], [188], [189], [190], [191], [192], [193], [194], [195], [196], [197], [198], [199], [200]], \"hoverlabel\": {\"namelength\": 0}, \"hovertemplate\": \"Cluster=Cluster 3<br>PCA1=%{x}<br>PCA2=%{y}<br>Feature=%{customdata[0]}\", \"legendgroup\": \"Cluster=Cluster 3\", \"marker\": {\"color\": \"#ab63fa\", \"opacity\": 0.5, \"symbol\": \"circle\"}, \"mode\": \"markers\", \"name\": \"Cluster=Cluster 3\", \"showlegend\": true, \"textposition\": \"top center\", \"type\": \"scatter\", \"x\": [3.3071471445854117, 20.573658550620156, 11.361138501698282, 0.7655921824994733, 9.188403340459779, 13.344893277748303, 22.38279861661532, 3.9607415795898877, 7.691629522874119, 1.9475896917278013, -0.9810670102646685, 16.1917464578362, -7.304134200080434, -0.0017497998137132897, 14.623350797489946, -5.654347793143141, 12.372399737553371, -2.1671873163261224, -1.5263448459703943, -2.1756246970670596], \"xaxis\": \"x\", \"y\": [-40.128076131176364, -48.996222459259236, -42.29387754375202, -56.84193518152961, -35.747978468941646, -48.70881901653849, -44.168472353193636, -35.7158541178234, -45.858938194757, -51.52122205835142, -44.451492575445336, -58.30036383473507, -43.5143546866054, -50.11471436741313, -62.10784294348881, -47.267992085973425, -61.61835749847978, -53.4792755645747, -42.85734606451737, -52.22795675419809], \"yaxis\": \"y\"}],\n",
       "                        {\"height\": 600, \"legend\": {\"tracegroupgap\": 0}, \"margin\": {\"t\": 60}, \"plot_bgcolor\": \"rgb(240,240,240)\", \"template\": {\"data\": {\"bar\": [{\"error_x\": {\"color\": \"#2a3f5f\"}, \"error_y\": {\"color\": \"#2a3f5f\"}, \"marker\": {\"line\": {\"color\": \"#E5ECF6\", \"width\": 0.5}}, \"type\": \"bar\"}], \"barpolar\": [{\"marker\": {\"line\": {\"color\": \"#E5ECF6\", \"width\": 0.5}}, \"type\": \"barpolar\"}], \"carpet\": [{\"aaxis\": {\"endlinecolor\": \"#2a3f5f\", \"gridcolor\": \"white\", \"linecolor\": \"white\", \"minorgridcolor\": \"white\", \"startlinecolor\": \"#2a3f5f\"}, \"baxis\": {\"endlinecolor\": \"#2a3f5f\", \"gridcolor\": \"white\", \"linecolor\": \"white\", \"minorgridcolor\": \"white\", \"startlinecolor\": \"#2a3f5f\"}, \"type\": \"carpet\"}], \"choropleth\": [{\"colorbar\": {\"outlinewidth\": 0, \"ticks\": \"\"}, \"type\": \"choropleth\"}], \"contour\": [{\"colorbar\": {\"outlinewidth\": 0, \"ticks\": \"\"}, \"colorscale\": [[0.0, \"#0d0887\"], [0.1111111111111111, \"#46039f\"], [0.2222222222222222, \"#7201a8\"], [0.3333333333333333, \"#9c179e\"], [0.4444444444444444, \"#bd3786\"], [0.5555555555555556, \"#d8576b\"], [0.6666666666666666, \"#ed7953\"], [0.7777777777777778, \"#fb9f3a\"], [0.8888888888888888, \"#fdca26\"], [1.0, \"#f0f921\"]], \"type\": \"contour\"}], \"contourcarpet\": [{\"colorbar\": {\"outlinewidth\": 0, \"ticks\": \"\"}, \"type\": \"contourcarpet\"}], \"heatmap\": [{\"colorbar\": {\"outlinewidth\": 0, \"ticks\": \"\"}, \"colorscale\": [[0.0, \"#0d0887\"], [0.1111111111111111, \"#46039f\"], [0.2222222222222222, \"#7201a8\"], [0.3333333333333333, \"#9c179e\"], [0.4444444444444444, \"#bd3786\"], [0.5555555555555556, \"#d8576b\"], [0.6666666666666666, \"#ed7953\"], [0.7777777777777778, \"#fb9f3a\"], [0.8888888888888888, \"#fdca26\"], [1.0, \"#f0f921\"]], \"type\": \"heatmap\"}], \"heatmapgl\": [{\"colorbar\": {\"outlinewidth\": 0, \"ticks\": \"\"}, \"colorscale\": [[0.0, \"#0d0887\"], [0.1111111111111111, \"#46039f\"], [0.2222222222222222, \"#7201a8\"], [0.3333333333333333, \"#9c179e\"], [0.4444444444444444, \"#bd3786\"], [0.5555555555555556, \"#d8576b\"], [0.6666666666666666, \"#ed7953\"], [0.7777777777777778, \"#fb9f3a\"], [0.8888888888888888, \"#fdca26\"], [1.0, \"#f0f921\"]], \"type\": \"heatmapgl\"}], \"histogram\": [{\"marker\": {\"colorbar\": {\"outlinewidth\": 0, \"ticks\": \"\"}}, \"type\": \"histogram\"}], \"histogram2d\": [{\"colorbar\": {\"outlinewidth\": 0, \"ticks\": \"\"}, \"colorscale\": [[0.0, \"#0d0887\"], [0.1111111111111111, \"#46039f\"], [0.2222222222222222, \"#7201a8\"], [0.3333333333333333, \"#9c179e\"], [0.4444444444444444, \"#bd3786\"], [0.5555555555555556, \"#d8576b\"], [0.6666666666666666, \"#ed7953\"], [0.7777777777777778, \"#fb9f3a\"], [0.8888888888888888, \"#fdca26\"], [1.0, \"#f0f921\"]], \"type\": \"histogram2d\"}], \"histogram2dcontour\": [{\"colorbar\": {\"outlinewidth\": 0, \"ticks\": \"\"}, \"colorscale\": [[0.0, \"#0d0887\"], [0.1111111111111111, \"#46039f\"], [0.2222222222222222, \"#7201a8\"], [0.3333333333333333, \"#9c179e\"], [0.4444444444444444, \"#bd3786\"], [0.5555555555555556, \"#d8576b\"], [0.6666666666666666, \"#ed7953\"], [0.7777777777777778, \"#fb9f3a\"], [0.8888888888888888, \"#fdca26\"], [1.0, \"#f0f921\"]], \"type\": \"histogram2dcontour\"}], \"mesh3d\": [{\"colorbar\": {\"outlinewidth\": 0, \"ticks\": \"\"}, \"type\": \"mesh3d\"}], \"parcoords\": [{\"line\": {\"colorbar\": {\"outlinewidth\": 0, \"ticks\": \"\"}}, \"type\": \"parcoords\"}], \"pie\": [{\"automargin\": true, \"type\": \"pie\"}], \"scatter\": [{\"marker\": {\"colorbar\": {\"outlinewidth\": 0, \"ticks\": \"\"}}, \"type\": \"scatter\"}], \"scatter3d\": [{\"line\": {\"colorbar\": {\"outlinewidth\": 0, \"ticks\": \"\"}}, \"marker\": {\"colorbar\": {\"outlinewidth\": 0, \"ticks\": \"\"}}, \"type\": \"scatter3d\"}], \"scattercarpet\": [{\"marker\": {\"colorbar\": {\"outlinewidth\": 0, \"ticks\": \"\"}}, \"type\": \"scattercarpet\"}], \"scattergeo\": [{\"marker\": {\"colorbar\": {\"outlinewidth\": 0, \"ticks\": \"\"}}, \"type\": \"scattergeo\"}], \"scattergl\": [{\"marker\": {\"colorbar\": {\"outlinewidth\": 0, \"ticks\": \"\"}}, \"type\": \"scattergl\"}], \"scattermapbox\": [{\"marker\": {\"colorbar\": {\"outlinewidth\": 0, \"ticks\": \"\"}}, \"type\": \"scattermapbox\"}], \"scatterpolar\": [{\"marker\": {\"colorbar\": {\"outlinewidth\": 0, \"ticks\": \"\"}}, \"type\": \"scatterpolar\"}], \"scatterpolargl\": [{\"marker\": {\"colorbar\": {\"outlinewidth\": 0, \"ticks\": \"\"}}, \"type\": \"scatterpolargl\"}], \"scatterternary\": [{\"marker\": {\"colorbar\": {\"outlinewidth\": 0, \"ticks\": \"\"}}, \"type\": \"scatterternary\"}], \"surface\": [{\"colorbar\": {\"outlinewidth\": 0, \"ticks\": \"\"}, \"colorscale\": [[0.0, \"#0d0887\"], [0.1111111111111111, \"#46039f\"], [0.2222222222222222, \"#7201a8\"], [0.3333333333333333, \"#9c179e\"], [0.4444444444444444, \"#bd3786\"], [0.5555555555555556, \"#d8576b\"], [0.6666666666666666, \"#ed7953\"], [0.7777777777777778, \"#fb9f3a\"], [0.8888888888888888, \"#fdca26\"], [1.0, \"#f0f921\"]], \"type\": \"surface\"}], \"table\": [{\"cells\": {\"fill\": {\"color\": \"#EBF0F8\"}, \"line\": {\"color\": \"white\"}}, \"header\": {\"fill\": {\"color\": \"#C8D4E3\"}, \"line\": {\"color\": \"white\"}}, \"type\": \"table\"}]}, \"layout\": {\"annotationdefaults\": {\"arrowcolor\": \"#2a3f5f\", \"arrowhead\": 0, \"arrowwidth\": 1}, \"coloraxis\": {\"colorbar\": {\"outlinewidth\": 0, \"ticks\": \"\"}}, \"colorscale\": {\"diverging\": [[0, \"#8e0152\"], [0.1, \"#c51b7d\"], [0.2, \"#de77ae\"], [0.3, \"#f1b6da\"], [0.4, \"#fde0ef\"], [0.5, \"#f7f7f7\"], [0.6, \"#e6f5d0\"], [0.7, \"#b8e186\"], [0.8, \"#7fbc41\"], [0.9, \"#4d9221\"], [1, \"#276419\"]], \"sequential\": [[0.0, \"#0d0887\"], [0.1111111111111111, \"#46039f\"], [0.2222222222222222, \"#7201a8\"], [0.3333333333333333, \"#9c179e\"], [0.4444444444444444, \"#bd3786\"], [0.5555555555555556, \"#d8576b\"], [0.6666666666666666, \"#ed7953\"], [0.7777777777777778, \"#fb9f3a\"], [0.8888888888888888, \"#fdca26\"], [1.0, \"#f0f921\"]], \"sequentialminus\": [[0.0, \"#0d0887\"], [0.1111111111111111, \"#46039f\"], [0.2222222222222222, \"#7201a8\"], [0.3333333333333333, \"#9c179e\"], [0.4444444444444444, \"#bd3786\"], [0.5555555555555556, \"#d8576b\"], [0.6666666666666666, \"#ed7953\"], [0.7777777777777778, \"#fb9f3a\"], [0.8888888888888888, \"#fdca26\"], [1.0, \"#f0f921\"]]}, \"colorway\": [\"#636efa\", \"#EF553B\", \"#00cc96\", \"#ab63fa\", \"#FFA15A\", \"#19d3f3\", \"#FF6692\", \"#B6E880\", \"#FF97FF\", \"#FECB52\"], \"font\": {\"color\": \"#2a3f5f\"}, \"geo\": {\"bgcolor\": \"white\", \"lakecolor\": \"white\", \"landcolor\": \"#E5ECF6\", \"showlakes\": true, \"showland\": true, \"subunitcolor\": \"white\"}, \"hoverlabel\": {\"align\": \"left\"}, \"hovermode\": \"closest\", \"mapbox\": {\"style\": \"light\"}, \"paper_bgcolor\": \"white\", \"plot_bgcolor\": \"#E5ECF6\", \"polar\": {\"angularaxis\": {\"gridcolor\": \"white\", \"linecolor\": \"white\", \"ticks\": \"\"}, \"bgcolor\": \"#E5ECF6\", \"radialaxis\": {\"gridcolor\": \"white\", \"linecolor\": \"white\", \"ticks\": \"\"}}, \"scene\": {\"xaxis\": {\"backgroundcolor\": \"#E5ECF6\", \"gridcolor\": \"white\", \"gridwidth\": 2, \"linecolor\": \"white\", \"showbackground\": true, \"ticks\": \"\", \"zerolinecolor\": \"white\"}, \"yaxis\": {\"backgroundcolor\": \"#E5ECF6\", \"gridcolor\": \"white\", \"gridwidth\": 2, \"linecolor\": \"white\", \"showbackground\": true, \"ticks\": \"\", \"zerolinecolor\": \"white\"}, \"zaxis\": {\"backgroundcolor\": \"#E5ECF6\", \"gridcolor\": \"white\", \"gridwidth\": 2, \"linecolor\": \"white\", \"showbackground\": true, \"ticks\": \"\", \"zerolinecolor\": \"white\"}}, \"shapedefaults\": {\"line\": {\"color\": \"#2a3f5f\"}}, \"ternary\": {\"aaxis\": {\"gridcolor\": \"white\", \"linecolor\": \"white\", \"ticks\": \"\"}, \"baxis\": {\"gridcolor\": \"white\", \"linecolor\": \"white\", \"ticks\": \"\"}, \"bgcolor\": \"#E5ECF6\", \"caxis\": {\"gridcolor\": \"white\", \"linecolor\": \"white\", \"ticks\": \"\"}}, \"title\": {\"x\": 0.05}, \"xaxis\": {\"automargin\": true, \"gridcolor\": \"white\", \"linecolor\": \"white\", \"ticks\": \"\", \"title\": {\"standoff\": 15}, \"zerolinecolor\": \"white\", \"zerolinewidth\": 2}, \"yaxis\": {\"automargin\": true, \"gridcolor\": \"white\", \"linecolor\": \"white\", \"ticks\": \"\", \"title\": {\"standoff\": 15}, \"zerolinecolor\": \"white\", \"zerolinewidth\": 2}}}, \"title\": {\"text\": \"2D Cluster PCA Plot\"}, \"xaxis\": {\"anchor\": \"y\", \"domain\": [0.0, 1.0], \"title\": {\"text\": \"PCA1\"}}, \"yaxis\": {\"anchor\": \"x\", \"domain\": [0.0, 1.0], \"title\": {\"text\": \"PCA2\"}}},\n",
       "                        {\"responsive\": true}\n",
       "                    ).then(function(){\n",
       "                            \n",
       "var gd = document.getElementById('5fcb50f3-c001-4bdd-9db1-8a6cd6d2eeca');\n",
       "var x = new MutationObserver(function (mutations, observer) {{\n",
       "        var display = window.getComputedStyle(gd).display;\n",
       "        if (!display || display === 'none') {{\n",
       "            console.log([gd, 'removed!']);\n",
       "            Plotly.purge(gd);\n",
       "            observer.disconnect();\n",
       "        }}\n",
       "}});\n",
       "\n",
       "// Listen for the removal of the full notebook cells\n",
       "var notebookContainer = gd.closest('#notebook-container');\n",
       "if (notebookContainer) {{\n",
       "    x.observe(notebookContainer, {childList: true});\n",
       "}}\n",
       "\n",
       "// Listen for the clearing of the current output cell\n",
       "var outputEl = gd.closest('.output');\n",
       "if (outputEl) {{\n",
       "    x.observe(outputEl, {childList: true});\n",
       "}}\n",
       "\n",
       "                        })\n",
       "                };\n",
       "                });\n",
       "            </script>\n",
       "        </div>"
      ]
     },
     "metadata": {},
     "output_type": "display_data"
    }
   ],
   "source": [
    "plot_model(kmodes)"
   ]
  },
  {
   "cell_type": "code",
   "execution_count": 47,
   "metadata": {},
   "outputs": [],
   "source": [
    "k2=create_model(model = 'kmeans', num_clusters = 5, verbose=True)"
   ]
  },
  {
   "cell_type": "code",
   "execution_count": 48,
   "metadata": {},
   "outputs": [
    {
     "data": {
      "text/html": [
       "        <script type=\"text/javascript\">\n",
       "        window.PlotlyConfig = {MathJaxConfig: 'local'};\n",
       "        if (window.MathJax) {MathJax.Hub.Config({SVG: {font: \"STIX-Web\"}});}\n",
       "        if (typeof require !== 'undefined') {\n",
       "        require.undef(\"plotly\");\n",
       "        requirejs.config({\n",
       "            paths: {\n",
       "                'plotly': ['https://cdn.plot.ly/plotly-latest.min']\n",
       "            }\n",
       "        });\n",
       "        require(['plotly'], function(Plotly) {\n",
       "            window._Plotly = Plotly;\n",
       "        });\n",
       "        }\n",
       "        </script>\n",
       "        "
      ]
     },
     "metadata": {},
     "output_type": "display_data"
    },
    {
     "data": {
      "application/vnd.plotly.v1+json": {
       "config": {
        "plotlyServerURL": "https://plot.ly"
       },
       "data": [
        {
         "customdata": [
          [
           1
          ],
          [
           2
          ],
          [
           3
          ],
          [
           4
          ],
          [
           5
          ],
          [
           6
          ],
          [
           7
          ],
          [
           8
          ],
          [
           9
          ],
          [
           10
          ],
          [
           11
          ],
          [
           12
          ],
          [
           13
          ],
          [
           14
          ],
          [
           15
          ],
          [
           16
          ],
          [
           17
          ],
          [
           18
          ],
          [
           19
          ],
          [
           20
          ],
          [
           21
          ],
          [
           22
          ],
          [
           23
          ],
          [
           24
          ],
          [
           25
          ],
          [
           26
          ],
          [
           27
          ],
          [
           28
          ],
          [
           29
          ],
          [
           30
          ],
          [
           31
          ],
          [
           32
          ],
          [
           33
          ],
          [
           34
          ],
          [
           35
          ],
          [
           36
          ],
          [
           37
          ],
          [
           38
          ],
          [
           39
          ]
         ],
         "hoverlabel": {
          "namelength": 0
         },
         "hovertemplate": "Cluster=Cluster 0<br>PCA1=%{x}<br>PCA2=%{y}<br>Feature=%{customdata[0]}",
         "legendgroup": "Cluster=Cluster 0",
         "marker": {
          "color": "#636efa",
          "opacity": 0.5,
          "symbol": "circle"
         },
         "mode": "markers",
         "name": "Cluster=Cluster 0",
         "showlegend": true,
         "textposition": "top center",
         "type": "scatter",
         "x": [
          72.44655920038942,
          43.00263551553977,
          30.705562140855776,
          39.94818289037842,
          42.465129299030195,
          29.67879549385225,
          48.512562824218534,
          39.30848015603755,
          33.789449705073075,
          25.7739964293018,
          38.89563012668203,
          24.566686777850688,
          25.60966242479138,
          25.798642809979878,
          41.141126866696005,
          28.105611275128183,
          37.008809335615425,
          26.53768958925196,
          29.859338498299802,
          43.4353433671955,
          47.15661636648006,
          38.49714577246006,
          58.351957988344395,
          63.09705240105826,
          41.05240064813462,
          52.87283496905513,
          39.84442523513874,
          61.083900513196326,
          53.61074201231248,
          50.88315189861247,
          58.51974902814313,
          51.10521604521996,
          51.29372245593848,
          26.917929831658444,
          37.10611826866829,
          34.417731997854666,
          45.96367239016249,
          33.16756968115406,
          48.95665329018947
         ],
         "xaxis": "x",
         "y": [
          41.813841861152106,
          -9.721095595238538,
          -0.8201802959659887,
          -7.572570316993557,
          -9.375109354345378,
          -1.2665757796617594,
          -14.986384460586068,
          -9.53535835545553,
          -3.0155921393896152,
          -2.1511546427110284,
          -12.927309371496653,
          -3.71791133475945,
          -5.770994931475102,
          -5.9019525334990295,
          -17.11754760177327,
          -8.777966214024904,
          -16.5698049469016,
          -3.9231453208415323,
          -0.14621457130909438,
          -13.783853795594785,
          -9.067564545254005,
          -5.207526410709644,
          31.01815810605935,
          18.865718457246953,
          22.621225156813562,
          13.96304734705158,
          21.05762700510692,
          3.0603505167189105,
          7.282713098113722,
          8.014936032633294,
          38.34822680111637,
          2.881861729444769,
          -5.911395874516295,
          13.133222398301323,
          5.722885826812381,
          5.15058630509315,
          0.4774127395256993,
          9.843582205269493,
          -2.9853370884700077
         ],
         "yaxis": "y"
        },
        {
         "customdata": [
          [
           40
          ],
          [
           41
          ],
          [
           42
          ],
          [
           43
          ],
          [
           44
          ],
          [
           45
          ],
          [
           46
          ],
          [
           47
          ],
          [
           48
          ],
          [
           49
          ],
          [
           50
          ],
          [
           51
          ],
          [
           52
          ],
          [
           53
          ],
          [
           54
          ],
          [
           55
          ],
          [
           56
          ],
          [
           57
          ],
          [
           58
          ],
          [
           59
          ],
          [
           60
          ],
          [
           61
          ],
          [
           62
          ],
          [
           63
          ],
          [
           64
          ],
          [
           65
          ],
          [
           66
          ],
          [
           67
          ],
          [
           68
          ],
          [
           69
          ],
          [
           70
          ],
          [
           71
          ],
          [
           72
          ],
          [
           73
          ],
          [
           74
          ],
          [
           75
          ],
          [
           76
          ],
          [
           77
          ],
          [
           78
          ],
          [
           79
          ],
          [
           80
          ],
          [
           81
          ],
          [
           82
          ],
          [
           83
          ],
          [
           84
          ],
          [
           85
          ],
          [
           86
          ],
          [
           87
          ],
          [
           88
          ],
          [
           89
          ],
          [
           90
          ],
          [
           91
          ],
          [
           92
          ],
          [
           93
          ],
          [
           94
          ],
          [
           95
          ],
          [
           96
          ],
          [
           97
          ],
          [
           98
          ],
          [
           99
          ],
          [
           100
          ],
          [
           101
          ],
          [
           102
          ],
          [
           103
          ],
          [
           104
          ],
          [
           105
          ],
          [
           106
          ],
          [
           107
          ],
          [
           108
          ],
          [
           109
          ],
          [
           110
          ],
          [
           111
          ],
          [
           112
          ],
          [
           113
          ],
          [
           114
          ],
          [
           115
          ]
         ],
         "hoverlabel": {
          "namelength": 0
         },
         "hovertemplate": "Cluster=Cluster 1<br>PCA1=%{x}<br>PCA2=%{y}<br>Feature=%{customdata[0]}",
         "legendgroup": "Cluster=Cluster 1",
         "marker": {
          "color": "#EF553B",
          "opacity": 0.5,
          "symbol": "circle"
         },
         "mode": "markers",
         "name": "Cluster=Cluster 1",
         "showlegend": true,
         "textposition": "top center",
         "type": "scatter",
         "x": [
          -2.799516460951448,
          -8.564079875942681,
          -3.3881821355332025,
          -7.915939760860866,
          1.7528875450542891,
          -4.384786882779549,
          3.8912074217843178,
          -5.480192311725419,
          -3.0023885468034957,
          7.113038311430953,
          -2.653801516325886,
          -6.914959230550123,
          2.444415499012113,
          4.862087251494383,
          0.9838012643380585,
          -8.892082123418765,
          4.857298693116538,
          -10.085500074206328,
          -4.209759397411142,
          7.048522326321732,
          10.88176074726807,
          -2.224199123801557,
          -6.587148770148814,
          -16.412820648773423,
          -4.065887777589173,
          10.588586559613981,
          7.0287257031780435,
          -4.164566060975625,
          7.612541620225413,
          -7.609539634087985,
          3.4879957083410327,
          6.207753003688323,
          2.474393801299723,
          -4.259656721155516,
          8.174633018256513,
          -2.0911749446682664,
          -5.4242442952753835,
          -9.732316272425647,
          -4.728524155722771,
          -3.8515340510213085,
          4.824688906167511,
          0.07192190065806955,
          2.877666713899544,
          -12.224485712481117,
          -9.898263987420812,
          -14.545819852762973,
          -5.701552869544099,
          -18.746714966629305,
          -19.10786217468094,
          -16.530048603283035,
          -6.441204211204407,
          -5.865221112509759,
          -2.1163186717287936,
          -11.42751700403717,
          -17.06330143504127,
          -16.685340664664288,
          -12.377268687514027,
          -10.435639616012134,
          -6.662794383341931,
          -1.0462865841622893,
          -11.886141560303974,
          -12.200313306273037,
          -3.9272408633709657,
          0.5492267159662715,
          -5.808194559201506,
          1.5536642815653379,
          -10.184844119137539,
          -5.65337647229024,
          -11.155532161772829,
          -14.78954731923022,
          -2.822319516825934,
          -8.613334810054752,
          -11.3283035470242,
          -14.63060643548587,
          -8.334052323064219,
          -8.91847280249981
         ],
         "xaxis": "x",
         "y": [
          3.7544533269974276,
          5.550037220142117,
          4.366684269688138,
          6.261506448227501,
          -1.8911667423299354,
          2.449611838996854,
          -3.42863203529213,
          3.3546253767185155,
          1.4359769541303555,
          -8.330020461892342,
          -0.1996835262139964,
          1.7995583611159007,
          -0.19778194600730423,
          -7.840535016883321,
          -5.2405606909421465,
          -1.692801897727822,
          -11.544446342492702,
          -0.8101246148852466,
          1.2898521035570574,
          -3.271541574523764,
          2.4958860641119758,
          3.5308935520241853,
          17.707856021264767,
          3.6647701088072533,
          10.946928307585175,
          0.32754500780613005,
          2.7625358003984903,
          10.927750593047875,
          -0.13297462642647132,
          10.882440019766133,
          -0.8333922415896206,
          1.1031769354007488,
          2.593436631422536,
          7.373974583999723,
          -2.8091269166324992,
          4.3658323440419915,
          6.792292000530333,
          9.923584772658703,
          6.368551803475456,
          5.6413824329563385,
          2.1199703606090328,
          -8.167257540511997,
          -1.4224350037550975,
          0.7304992184187329,
          -11.017696979637861,
          -7.505221077883524,
          -13.782654838927852,
          -7.0267012430695726,
          -7.84679181829979,
          -9.75257960703422,
          -17.17893535271869,
          -17.405653668033715,
          -21.39223390412512,
          -14.709066703155292,
          -12.944350200993707,
          -13.206265405041556,
          -16.33755817716993,
          -17.91653743954851,
          -3.3835610475930302,
          -17.12265916924187,
          -8.309825372802585,
          -11.682598674306401,
          -14.029402794426327,
          -8.413153570364333,
          -3.888213741151422,
          -9.16487325118298,
          -0.826143789080764,
          -9.096827945081225,
          -5.079699349768494,
          -3.5734204795511904,
          -6.1059618394541095,
          -9.215562976774985,
          -7.448220828155975,
          -5.074964817529828,
          -9.496655895360137,
          -8.018618769668514
         ],
         "yaxis": "y"
        },
        {
         "customdata": [
          [
           116
          ],
          [
           117
          ],
          [
           118
          ],
          [
           119
          ],
          [
           120
          ],
          [
           121
          ],
          [
           122
          ],
          [
           123
          ],
          [
           124
          ],
          [
           125
          ],
          [
           126
          ],
          [
           127
          ],
          [
           128
          ],
          [
           129
          ],
          [
           130
          ],
          [
           131
          ],
          [
           132
          ],
          [
           133
          ],
          [
           134
          ],
          [
           135
          ],
          [
           136
          ],
          [
           137
          ],
          [
           138
          ]
         ],
         "hoverlabel": {
          "namelength": 0
         },
         "hovertemplate": "Cluster=Cluster 2<br>PCA1=%{x}<br>PCA2=%{y}<br>Feature=%{customdata[0]}",
         "legendgroup": "Cluster=Cluster 2",
         "marker": {
          "color": "#00cc96",
          "opacity": 0.5,
          "symbol": "circle"
         },
         "mode": "markers",
         "name": "Cluster=Cluster 2",
         "showlegend": true,
         "textposition": "top center",
         "type": "scatter",
         "x": [
          -33.885018786316316,
          -34.632502946329346,
          -50.48172675740958,
          -57.80989727436919,
          -32.73971603362608,
          -41.25712050538363,
          -52.764584015506365,
          -55.160461860210646,
          -58.236577805231725,
          -66.31588130456745,
          -32.173248852530584,
          -59.06532212391764,
          -58.29928829278143,
          -57.407825296940636,
          -34.50486369835697,
          -55.21061217018634,
          -31.869381184018515,
          -30.167999171783077,
          -46.59380245434104,
          -32.350372648933885,
          -25.581371668343575,
          -42.324268558532395,
          -32.057864222824556
         ],
         "xaxis": "x",
         "y": [
          -14.345511019629818,
          -15.072999421910712,
          -3.5646217586055227,
          -1.872605648605217,
          -21.33464703779414,
          -16.47351562047523,
          -11.681074129329653,
          -10.081874054401247,
          -9.134622481012466,
          -3.214864637307081,
          -30.389819845803043,
          -9.545821075975386,
          4.579839327609674,
          -13.126986903903079,
          -23.76300827448918,
          6.088338809795458,
          -33.00107881370108,
          -6.091464934436396,
          -0.17740527480306292,
          -5.53275666936967,
          -8.080060243333005,
          -2.0073341310344293,
          -3.3612570727220317
         ],
         "yaxis": "y"
        },
        {
         "customdata": [
          [
           139
          ],
          [
           140
          ],
          [
           141
          ],
          [
           142
          ],
          [
           143
          ],
          [
           144
          ],
          [
           145
          ],
          [
           146
          ],
          [
           147
          ],
          [
           148
          ],
          [
           149
          ],
          [
           150
          ],
          [
           151
          ],
          [
           152
          ],
          [
           153
          ],
          [
           154
          ],
          [
           155
          ],
          [
           156
          ],
          [
           157
          ],
          [
           158
          ],
          [
           159
          ],
          [
           160
          ],
          [
           161
          ],
          [
           162
          ],
          [
           163
          ],
          [
           164
          ],
          [
           165
          ],
          [
           166
          ],
          [
           167
          ],
          [
           168
          ],
          [
           169
          ],
          [
           170
          ],
          [
           171
          ],
          [
           172
          ],
          [
           173
          ],
          [
           174
          ],
          [
           175
          ]
         ],
         "hoverlabel": {
          "namelength": 0
         },
         "hovertemplate": "Cluster=Cluster 3<br>PCA1=%{x}<br>PCA2=%{y}<br>Feature=%{customdata[0]}",
         "legendgroup": "Cluster=Cluster 3",
         "marker": {
          "color": "#ab63fa",
          "opacity": 0.5,
          "symbol": "circle"
         },
         "mode": "markers",
         "name": "Cluster=Cluster 3",
         "showlegend": true,
         "textposition": "top center",
         "type": "scatter",
         "x": [
          -3.382253841140602,
          -6.743748982707123,
          -9.359434873901897,
          -2.134126636318363,
          -13.895025317582274,
          -15.49717050089227,
          -15.573519702874222,
          -15.13602329284063,
          -13.168003542257694,
          7.493048939518598,
          -6.982213916326535,
          13.416492039097642,
          0.3466223621778274,
          20.977152741959813,
          -1.5215793690039103,
          4.51741677544348,
          -1.1985574669804457,
          6.564792160739174,
          19.906646679923334,
          -19.74624201201245,
          -4.334392212652728,
          -30.458457740181757,
          -27.49085018153413,
          -24.644058200602686,
          -27.779648586123827,
          -27.606877200872457,
          -19.936362133215702,
          -28.475368725676443,
          3.121356353122721,
          -3.214401602185321,
          -10.983717351541605,
          -16.615317786556094,
          -17.7323865353617,
          -14.445565686135856,
          -28.05779133709962,
          -8.111613228387334,
          -18.156595807119952
         ],
         "xaxis": "x",
         "y": [
          16.72973705689287,
          35.107051440958976,
          38.311044605248625,
          34.31341275623498,
          42.87465889529793,
          44.07245502805055,
          45.25139247802764,
          44.89254560328076,
          49.63938321284287,
          39.65900177802254,
          51.40506336683783,
          37.78250538837433,
          49.70988871649575,
          79.37766545024677,
          53.64137028306629,
          49.2814139872022,
          65.84575661760579,
          68.74380668816102,
          66.4457907134264,
          39.86514796901786,
          25.87435349750931,
          39.9879729128787,
          41.6998113574879,
          33.52889838076647,
          33.15244978337917,
          35.520971261766654,
          31.33696410944644,
          33.576189980434044,
          16.91296037640567,
          22.63917391047477,
          29.645267031207922,
          33.69642155784555,
          33.40016139071103,
          32.102594078679374,
          42.092684163559674,
          17.720397623356714,
          34.79096893921556
         ],
         "yaxis": "y"
        },
        {
         "customdata": [
          [
           176
          ],
          [
           177
          ],
          [
           178
          ],
          [
           179
          ],
          [
           180
          ],
          [
           181
          ],
          [
           182
          ],
          [
           183
          ],
          [
           184
          ],
          [
           185
          ],
          [
           186
          ],
          [
           187
          ],
          [
           188
          ],
          [
           189
          ],
          [
           190
          ],
          [
           191
          ],
          [
           192
          ],
          [
           193
          ],
          [
           194
          ],
          [
           195
          ],
          [
           196
          ],
          [
           197
          ],
          [
           198
          ],
          [
           199
          ],
          [
           200
          ]
         ],
         "hoverlabel": {
          "namelength": 0
         },
         "hovertemplate": "Cluster=Cluster 4<br>PCA1=%{x}<br>PCA2=%{y}<br>Feature=%{customdata[0]}",
         "legendgroup": "Cluster=Cluster 4",
         "marker": {
          "color": "#FFA15A",
          "opacity": 0.5,
          "symbol": "circle"
         },
         "mode": "markers",
         "name": "Cluster=Cluster 4",
         "showlegend": true,
         "textposition": "top center",
         "type": "scatter",
         "x": [
          7.691629522874556,
          0.7655921825000238,
          20.57365855062064,
          3.2750113321067653,
          16.191746457836764,
          -2.1671873163255992,
          -0.981067010264236,
          3.463991717295263,
          -2.1756246970665463,
          3.307147144585803,
          11.361138501698703,
          12.372399737553971,
          1.749468337010038,
          13.344893277748776,
          -5.65434779314268,
          -1.5263448459699827,
          9.18840334046013,
          -9.948719856704168,
          14.623350797490549,
          22.382798616615744,
          -2.717483324728039,
          3.960741579590235,
          -0.0017497998132241664,
          1.9475896917283124,
          -7.30413420008001
         ],
         "xaxis": "x",
         "y": [
          -45.858938194756924,
          -56.84193518152961,
          -48.99622245925906,
          -17.801359426137463,
          -58.30036383473492,
          -53.479275564574706,
          -44.45149257544534,
          -17.932317028161386,
          -52.22795675419812,
          -40.12807613117634,
          -42.293877543751925,
          -61.618357498479654,
          -27.868591127115987,
          -48.708819016538364,
          -47.267992085973475,
          -42.85734606451739,
          -35.74797846894156,
          -33.02180679667519,
          -62.10784294348868,
          -44.16847235319343,
          -24.656385858484104,
          -35.71585411782336,
          -50.11471436741313,
          -51.521222058351405,
          -43.51435468660548
         ],
         "yaxis": "y"
        }
       ],
       "layout": {
        "height": 600,
        "legend": {
         "tracegroupgap": 0
        },
        "margin": {
         "t": 60
        },
        "plot_bgcolor": "rgb(240,240,240)",
        "template": {
         "data": {
          "bar": [
           {
            "error_x": {
             "color": "#2a3f5f"
            },
            "error_y": {
             "color": "#2a3f5f"
            },
            "marker": {
             "line": {
              "color": "#E5ECF6",
              "width": 0.5
             }
            },
            "type": "bar"
           }
          ],
          "barpolar": [
           {
            "marker": {
             "line": {
              "color": "#E5ECF6",
              "width": 0.5
             }
            },
            "type": "barpolar"
           }
          ],
          "carpet": [
           {
            "aaxis": {
             "endlinecolor": "#2a3f5f",
             "gridcolor": "white",
             "linecolor": "white",
             "minorgridcolor": "white",
             "startlinecolor": "#2a3f5f"
            },
            "baxis": {
             "endlinecolor": "#2a3f5f",
             "gridcolor": "white",
             "linecolor": "white",
             "minorgridcolor": "white",
             "startlinecolor": "#2a3f5f"
            },
            "type": "carpet"
           }
          ],
          "choropleth": [
           {
            "colorbar": {
             "outlinewidth": 0,
             "ticks": ""
            },
            "type": "choropleth"
           }
          ],
          "contour": [
           {
            "colorbar": {
             "outlinewidth": 0,
             "ticks": ""
            },
            "colorscale": [
             [
              0,
              "#0d0887"
             ],
             [
              0.1111111111111111,
              "#46039f"
             ],
             [
              0.2222222222222222,
              "#7201a8"
             ],
             [
              0.3333333333333333,
              "#9c179e"
             ],
             [
              0.4444444444444444,
              "#bd3786"
             ],
             [
              0.5555555555555556,
              "#d8576b"
             ],
             [
              0.6666666666666666,
              "#ed7953"
             ],
             [
              0.7777777777777778,
              "#fb9f3a"
             ],
             [
              0.8888888888888888,
              "#fdca26"
             ],
             [
              1,
              "#f0f921"
             ]
            ],
            "type": "contour"
           }
          ],
          "contourcarpet": [
           {
            "colorbar": {
             "outlinewidth": 0,
             "ticks": ""
            },
            "type": "contourcarpet"
           }
          ],
          "heatmap": [
           {
            "colorbar": {
             "outlinewidth": 0,
             "ticks": ""
            },
            "colorscale": [
             [
              0,
              "#0d0887"
             ],
             [
              0.1111111111111111,
              "#46039f"
             ],
             [
              0.2222222222222222,
              "#7201a8"
             ],
             [
              0.3333333333333333,
              "#9c179e"
             ],
             [
              0.4444444444444444,
              "#bd3786"
             ],
             [
              0.5555555555555556,
              "#d8576b"
             ],
             [
              0.6666666666666666,
              "#ed7953"
             ],
             [
              0.7777777777777778,
              "#fb9f3a"
             ],
             [
              0.8888888888888888,
              "#fdca26"
             ],
             [
              1,
              "#f0f921"
             ]
            ],
            "type": "heatmap"
           }
          ],
          "heatmapgl": [
           {
            "colorbar": {
             "outlinewidth": 0,
             "ticks": ""
            },
            "colorscale": [
             [
              0,
              "#0d0887"
             ],
             [
              0.1111111111111111,
              "#46039f"
             ],
             [
              0.2222222222222222,
              "#7201a8"
             ],
             [
              0.3333333333333333,
              "#9c179e"
             ],
             [
              0.4444444444444444,
              "#bd3786"
             ],
             [
              0.5555555555555556,
              "#d8576b"
             ],
             [
              0.6666666666666666,
              "#ed7953"
             ],
             [
              0.7777777777777778,
              "#fb9f3a"
             ],
             [
              0.8888888888888888,
              "#fdca26"
             ],
             [
              1,
              "#f0f921"
             ]
            ],
            "type": "heatmapgl"
           }
          ],
          "histogram": [
           {
            "marker": {
             "colorbar": {
              "outlinewidth": 0,
              "ticks": ""
             }
            },
            "type": "histogram"
           }
          ],
          "histogram2d": [
           {
            "colorbar": {
             "outlinewidth": 0,
             "ticks": ""
            },
            "colorscale": [
             [
              0,
              "#0d0887"
             ],
             [
              0.1111111111111111,
              "#46039f"
             ],
             [
              0.2222222222222222,
              "#7201a8"
             ],
             [
              0.3333333333333333,
              "#9c179e"
             ],
             [
              0.4444444444444444,
              "#bd3786"
             ],
             [
              0.5555555555555556,
              "#d8576b"
             ],
             [
              0.6666666666666666,
              "#ed7953"
             ],
             [
              0.7777777777777778,
              "#fb9f3a"
             ],
             [
              0.8888888888888888,
              "#fdca26"
             ],
             [
              1,
              "#f0f921"
             ]
            ],
            "type": "histogram2d"
           }
          ],
          "histogram2dcontour": [
           {
            "colorbar": {
             "outlinewidth": 0,
             "ticks": ""
            },
            "colorscale": [
             [
              0,
              "#0d0887"
             ],
             [
              0.1111111111111111,
              "#46039f"
             ],
             [
              0.2222222222222222,
              "#7201a8"
             ],
             [
              0.3333333333333333,
              "#9c179e"
             ],
             [
              0.4444444444444444,
              "#bd3786"
             ],
             [
              0.5555555555555556,
              "#d8576b"
             ],
             [
              0.6666666666666666,
              "#ed7953"
             ],
             [
              0.7777777777777778,
              "#fb9f3a"
             ],
             [
              0.8888888888888888,
              "#fdca26"
             ],
             [
              1,
              "#f0f921"
             ]
            ],
            "type": "histogram2dcontour"
           }
          ],
          "mesh3d": [
           {
            "colorbar": {
             "outlinewidth": 0,
             "ticks": ""
            },
            "type": "mesh3d"
           }
          ],
          "parcoords": [
           {
            "line": {
             "colorbar": {
              "outlinewidth": 0,
              "ticks": ""
             }
            },
            "type": "parcoords"
           }
          ],
          "pie": [
           {
            "automargin": true,
            "type": "pie"
           }
          ],
          "scatter": [
           {
            "marker": {
             "colorbar": {
              "outlinewidth": 0,
              "ticks": ""
             }
            },
            "type": "scatter"
           }
          ],
          "scatter3d": [
           {
            "line": {
             "colorbar": {
              "outlinewidth": 0,
              "ticks": ""
             }
            },
            "marker": {
             "colorbar": {
              "outlinewidth": 0,
              "ticks": ""
             }
            },
            "type": "scatter3d"
           }
          ],
          "scattercarpet": [
           {
            "marker": {
             "colorbar": {
              "outlinewidth": 0,
              "ticks": ""
             }
            },
            "type": "scattercarpet"
           }
          ],
          "scattergeo": [
           {
            "marker": {
             "colorbar": {
              "outlinewidth": 0,
              "ticks": ""
             }
            },
            "type": "scattergeo"
           }
          ],
          "scattergl": [
           {
            "marker": {
             "colorbar": {
              "outlinewidth": 0,
              "ticks": ""
             }
            },
            "type": "scattergl"
           }
          ],
          "scattermapbox": [
           {
            "marker": {
             "colorbar": {
              "outlinewidth": 0,
              "ticks": ""
             }
            },
            "type": "scattermapbox"
           }
          ],
          "scatterpolar": [
           {
            "marker": {
             "colorbar": {
              "outlinewidth": 0,
              "ticks": ""
             }
            },
            "type": "scatterpolar"
           }
          ],
          "scatterpolargl": [
           {
            "marker": {
             "colorbar": {
              "outlinewidth": 0,
              "ticks": ""
             }
            },
            "type": "scatterpolargl"
           }
          ],
          "scatterternary": [
           {
            "marker": {
             "colorbar": {
              "outlinewidth": 0,
              "ticks": ""
             }
            },
            "type": "scatterternary"
           }
          ],
          "surface": [
           {
            "colorbar": {
             "outlinewidth": 0,
             "ticks": ""
            },
            "colorscale": [
             [
              0,
              "#0d0887"
             ],
             [
              0.1111111111111111,
              "#46039f"
             ],
             [
              0.2222222222222222,
              "#7201a8"
             ],
             [
              0.3333333333333333,
              "#9c179e"
             ],
             [
              0.4444444444444444,
              "#bd3786"
             ],
             [
              0.5555555555555556,
              "#d8576b"
             ],
             [
              0.6666666666666666,
              "#ed7953"
             ],
             [
              0.7777777777777778,
              "#fb9f3a"
             ],
             [
              0.8888888888888888,
              "#fdca26"
             ],
             [
              1,
              "#f0f921"
             ]
            ],
            "type": "surface"
           }
          ],
          "table": [
           {
            "cells": {
             "fill": {
              "color": "#EBF0F8"
             },
             "line": {
              "color": "white"
             }
            },
            "header": {
             "fill": {
              "color": "#C8D4E3"
             },
             "line": {
              "color": "white"
             }
            },
            "type": "table"
           }
          ]
         },
         "layout": {
          "annotationdefaults": {
           "arrowcolor": "#2a3f5f",
           "arrowhead": 0,
           "arrowwidth": 1
          },
          "coloraxis": {
           "colorbar": {
            "outlinewidth": 0,
            "ticks": ""
           }
          },
          "colorscale": {
           "diverging": [
            [
             0,
             "#8e0152"
            ],
            [
             0.1,
             "#c51b7d"
            ],
            [
             0.2,
             "#de77ae"
            ],
            [
             0.3,
             "#f1b6da"
            ],
            [
             0.4,
             "#fde0ef"
            ],
            [
             0.5,
             "#f7f7f7"
            ],
            [
             0.6,
             "#e6f5d0"
            ],
            [
             0.7,
             "#b8e186"
            ],
            [
             0.8,
             "#7fbc41"
            ],
            [
             0.9,
             "#4d9221"
            ],
            [
             1,
             "#276419"
            ]
           ],
           "sequential": [
            [
             0,
             "#0d0887"
            ],
            [
             0.1111111111111111,
             "#46039f"
            ],
            [
             0.2222222222222222,
             "#7201a8"
            ],
            [
             0.3333333333333333,
             "#9c179e"
            ],
            [
             0.4444444444444444,
             "#bd3786"
            ],
            [
             0.5555555555555556,
             "#d8576b"
            ],
            [
             0.6666666666666666,
             "#ed7953"
            ],
            [
             0.7777777777777778,
             "#fb9f3a"
            ],
            [
             0.8888888888888888,
             "#fdca26"
            ],
            [
             1,
             "#f0f921"
            ]
           ],
           "sequentialminus": [
            [
             0,
             "#0d0887"
            ],
            [
             0.1111111111111111,
             "#46039f"
            ],
            [
             0.2222222222222222,
             "#7201a8"
            ],
            [
             0.3333333333333333,
             "#9c179e"
            ],
            [
             0.4444444444444444,
             "#bd3786"
            ],
            [
             0.5555555555555556,
             "#d8576b"
            ],
            [
             0.6666666666666666,
             "#ed7953"
            ],
            [
             0.7777777777777778,
             "#fb9f3a"
            ],
            [
             0.8888888888888888,
             "#fdca26"
            ],
            [
             1,
             "#f0f921"
            ]
           ]
          },
          "colorway": [
           "#636efa",
           "#EF553B",
           "#00cc96",
           "#ab63fa",
           "#FFA15A",
           "#19d3f3",
           "#FF6692",
           "#B6E880",
           "#FF97FF",
           "#FECB52"
          ],
          "font": {
           "color": "#2a3f5f"
          },
          "geo": {
           "bgcolor": "white",
           "lakecolor": "white",
           "landcolor": "#E5ECF6",
           "showlakes": true,
           "showland": true,
           "subunitcolor": "white"
          },
          "hoverlabel": {
           "align": "left"
          },
          "hovermode": "closest",
          "mapbox": {
           "style": "light"
          },
          "paper_bgcolor": "white",
          "plot_bgcolor": "#E5ECF6",
          "polar": {
           "angularaxis": {
            "gridcolor": "white",
            "linecolor": "white",
            "ticks": ""
           },
           "bgcolor": "#E5ECF6",
           "radialaxis": {
            "gridcolor": "white",
            "linecolor": "white",
            "ticks": ""
           }
          },
          "scene": {
           "xaxis": {
            "backgroundcolor": "#E5ECF6",
            "gridcolor": "white",
            "gridwidth": 2,
            "linecolor": "white",
            "showbackground": true,
            "ticks": "",
            "zerolinecolor": "white"
           },
           "yaxis": {
            "backgroundcolor": "#E5ECF6",
            "gridcolor": "white",
            "gridwidth": 2,
            "linecolor": "white",
            "showbackground": true,
            "ticks": "",
            "zerolinecolor": "white"
           },
           "zaxis": {
            "backgroundcolor": "#E5ECF6",
            "gridcolor": "white",
            "gridwidth": 2,
            "linecolor": "white",
            "showbackground": true,
            "ticks": "",
            "zerolinecolor": "white"
           }
          },
          "shapedefaults": {
           "line": {
            "color": "#2a3f5f"
           }
          },
          "ternary": {
           "aaxis": {
            "gridcolor": "white",
            "linecolor": "white",
            "ticks": ""
           },
           "baxis": {
            "gridcolor": "white",
            "linecolor": "white",
            "ticks": ""
           },
           "bgcolor": "#E5ECF6",
           "caxis": {
            "gridcolor": "white",
            "linecolor": "white",
            "ticks": ""
           }
          },
          "title": {
           "x": 0.05
          },
          "xaxis": {
           "automargin": true,
           "gridcolor": "white",
           "linecolor": "white",
           "ticks": "",
           "title": {
            "standoff": 15
           },
           "zerolinecolor": "white",
           "zerolinewidth": 2
          },
          "yaxis": {
           "automargin": true,
           "gridcolor": "white",
           "linecolor": "white",
           "ticks": "",
           "title": {
            "standoff": 15
           },
           "zerolinecolor": "white",
           "zerolinewidth": 2
          }
         }
        },
        "title": {
         "text": "2D Cluster PCA Plot"
        },
        "xaxis": {
         "anchor": "y",
         "domain": [
          0,
          1
         ],
         "title": {
          "text": "PCA1"
         }
        },
        "yaxis": {
         "anchor": "x",
         "domain": [
          0,
          1
         ],
         "title": {
          "text": "PCA2"
         }
        }
       }
      },
      "text/html": [
       "<div>\n",
       "        \n",
       "        \n",
       "            <div id=\"6ed77be5-b26f-4532-9b5e-4c1100632c8d\" class=\"plotly-graph-div\" style=\"height:600px; width:100%;\"></div>\n",
       "            <script type=\"text/javascript\">\n",
       "                require([\"plotly\"], function(Plotly) {\n",
       "                    window.PLOTLYENV=window.PLOTLYENV || {};\n",
       "                    \n",
       "                if (document.getElementById(\"6ed77be5-b26f-4532-9b5e-4c1100632c8d\")) {\n",
       "                    Plotly.newPlot(\n",
       "                        '6ed77be5-b26f-4532-9b5e-4c1100632c8d',\n",
       "                        [{\"customdata\": [[1], [2], [3], [4], [5], [6], [7], [8], [9], [10], [11], [12], [13], [14], [15], [16], [17], [18], [19], [20], [21], [22], [23], [24], [25], [26], [27], [28], [29], [30], [31], [32], [33], [34], [35], [36], [37], [38], [39]], \"hoverlabel\": {\"namelength\": 0}, \"hovertemplate\": \"Cluster=Cluster 0<br>PCA1=%{x}<br>PCA2=%{y}<br>Feature=%{customdata[0]}\", \"legendgroup\": \"Cluster=Cluster 0\", \"marker\": {\"color\": \"#636efa\", \"opacity\": 0.5, \"symbol\": \"circle\"}, \"mode\": \"markers\", \"name\": \"Cluster=Cluster 0\", \"showlegend\": true, \"textposition\": \"top center\", \"type\": \"scatter\", \"x\": [72.44655920038942, 43.00263551553977, 30.705562140855776, 39.94818289037842, 42.465129299030195, 29.67879549385225, 48.512562824218534, 39.30848015603755, 33.789449705073075, 25.7739964293018, 38.89563012668203, 24.566686777850688, 25.60966242479138, 25.798642809979878, 41.141126866696005, 28.105611275128183, 37.008809335615425, 26.53768958925196, 29.859338498299802, 43.4353433671955, 47.15661636648006, 38.49714577246006, 58.351957988344395, 63.09705240105826, 41.05240064813462, 52.87283496905513, 39.84442523513874, 61.083900513196326, 53.61074201231248, 50.88315189861247, 58.51974902814313, 51.10521604521996, 51.29372245593848, 26.917929831658444, 37.10611826866829, 34.417731997854666, 45.96367239016249, 33.16756968115406, 48.95665329018947], \"xaxis\": \"x\", \"y\": [41.813841861152106, -9.721095595238538, -0.8201802959659887, -7.572570316993557, -9.375109354345378, -1.2665757796617594, -14.986384460586068, -9.53535835545553, -3.0155921393896152, -2.1511546427110284, -12.927309371496653, -3.71791133475945, -5.770994931475102, -5.9019525334990295, -17.11754760177327, -8.777966214024904, -16.5698049469016, -3.9231453208415323, -0.14621457130909438, -13.783853795594785, -9.067564545254005, -5.207526410709644, 31.01815810605935, 18.865718457246953, 22.621225156813562, 13.96304734705158, 21.05762700510692, 3.0603505167189105, 7.282713098113722, 8.014936032633294, 38.34822680111637, 2.881861729444769, -5.911395874516295, 13.133222398301323, 5.722885826812381, 5.15058630509315, 0.4774127395256993, 9.843582205269493, -2.9853370884700077], \"yaxis\": \"y\"}, {\"customdata\": [[40], [41], [42], [43], [44], [45], [46], [47], [48], [49], [50], [51], [52], [53], [54], [55], [56], [57], [58], [59], [60], [61], [62], [63], [64], [65], [66], [67], [68], [69], [70], [71], [72], [73], [74], [75], [76], [77], [78], [79], [80], [81], [82], [83], [84], [85], [86], [87], [88], [89], [90], [91], [92], [93], [94], [95], [96], [97], [98], [99], [100], [101], [102], [103], [104], [105], [106], [107], [108], [109], [110], [111], [112], [113], [114], [115]], \"hoverlabel\": {\"namelength\": 0}, \"hovertemplate\": \"Cluster=Cluster 1<br>PCA1=%{x}<br>PCA2=%{y}<br>Feature=%{customdata[0]}\", \"legendgroup\": \"Cluster=Cluster 1\", \"marker\": {\"color\": \"#EF553B\", \"opacity\": 0.5, \"symbol\": \"circle\"}, \"mode\": \"markers\", \"name\": \"Cluster=Cluster 1\", \"showlegend\": true, \"textposition\": \"top center\", \"type\": \"scatter\", \"x\": [-2.799516460951448, -8.564079875942681, -3.3881821355332025, -7.915939760860866, 1.7528875450542891, -4.384786882779549, 3.8912074217843178, -5.480192311725419, -3.0023885468034957, 7.113038311430953, -2.653801516325886, -6.914959230550123, 2.444415499012113, 4.862087251494383, 0.9838012643380585, -8.892082123418765, 4.857298693116538, -10.085500074206328, -4.209759397411142, 7.048522326321732, 10.88176074726807, -2.224199123801557, -6.587148770148814, -16.412820648773423, -4.065887777589173, 10.588586559613981, 7.0287257031780435, -4.164566060975625, 7.612541620225413, -7.609539634087985, 3.4879957083410327, 6.207753003688323, 2.474393801299723, -4.259656721155516, 8.174633018256513, -2.0911749446682664, -5.4242442952753835, -9.732316272425647, -4.728524155722771, -3.8515340510213085, 4.824688906167511, 0.07192190065806955, 2.877666713899544, -12.224485712481117, -9.898263987420812, -14.545819852762973, -5.701552869544099, -18.746714966629305, -19.10786217468094, -16.530048603283035, -6.441204211204407, -5.865221112509759, -2.1163186717287936, -11.42751700403717, -17.06330143504127, -16.685340664664288, -12.377268687514027, -10.435639616012134, -6.662794383341931, -1.0462865841622893, -11.886141560303974, -12.200313306273037, -3.9272408633709657, 0.5492267159662715, -5.808194559201506, 1.5536642815653379, -10.184844119137539, -5.65337647229024, -11.155532161772829, -14.78954731923022, -2.822319516825934, -8.613334810054752, -11.3283035470242, -14.63060643548587, -8.334052323064219, -8.91847280249981], \"xaxis\": \"x\", \"y\": [3.7544533269974276, 5.550037220142117, 4.366684269688138, 6.261506448227501, -1.8911667423299354, 2.449611838996854, -3.42863203529213, 3.3546253767185155, 1.4359769541303555, -8.330020461892342, -0.1996835262139964, 1.7995583611159007, -0.19778194600730423, -7.840535016883321, -5.2405606909421465, -1.692801897727822, -11.544446342492702, -0.8101246148852466, 1.2898521035570574, -3.271541574523764, 2.4958860641119758, 3.5308935520241853, 17.707856021264767, 3.6647701088072533, 10.946928307585175, 0.32754500780613005, 2.7625358003984903, 10.927750593047875, -0.13297462642647132, 10.882440019766133, -0.8333922415896206, 1.1031769354007488, 2.593436631422536, 7.373974583999723, -2.8091269166324992, 4.3658323440419915, 6.792292000530333, 9.923584772658703, 6.368551803475456, 5.6413824329563385, 2.1199703606090328, -8.167257540511997, -1.4224350037550975, 0.7304992184187329, -11.017696979637861, -7.505221077883524, -13.782654838927852, -7.0267012430695726, -7.84679181829979, -9.75257960703422, -17.17893535271869, -17.405653668033715, -21.39223390412512, -14.709066703155292, -12.944350200993707, -13.206265405041556, -16.33755817716993, -17.91653743954851, -3.3835610475930302, -17.12265916924187, -8.309825372802585, -11.682598674306401, -14.029402794426327, -8.413153570364333, -3.888213741151422, -9.16487325118298, -0.826143789080764, -9.096827945081225, -5.079699349768494, -3.5734204795511904, -6.1059618394541095, -9.215562976774985, -7.448220828155975, -5.074964817529828, -9.496655895360137, -8.018618769668514], \"yaxis\": \"y\"}, {\"customdata\": [[116], [117], [118], [119], [120], [121], [122], [123], [124], [125], [126], [127], [128], [129], [130], [131], [132], [133], [134], [135], [136], [137], [138]], \"hoverlabel\": {\"namelength\": 0}, \"hovertemplate\": \"Cluster=Cluster 2<br>PCA1=%{x}<br>PCA2=%{y}<br>Feature=%{customdata[0]}\", \"legendgroup\": \"Cluster=Cluster 2\", \"marker\": {\"color\": \"#00cc96\", \"opacity\": 0.5, \"symbol\": \"circle\"}, \"mode\": \"markers\", \"name\": \"Cluster=Cluster 2\", \"showlegend\": true, \"textposition\": \"top center\", \"type\": \"scatter\", \"x\": [-33.885018786316316, -34.632502946329346, -50.48172675740958, -57.80989727436919, -32.73971603362608, -41.25712050538363, -52.764584015506365, -55.160461860210646, -58.236577805231725, -66.31588130456745, -32.173248852530584, -59.06532212391764, -58.29928829278143, -57.407825296940636, -34.50486369835697, -55.21061217018634, -31.869381184018515, -30.167999171783077, -46.59380245434104, -32.350372648933885, -25.581371668343575, -42.324268558532395, -32.057864222824556], \"xaxis\": \"x\", \"y\": [-14.345511019629818, -15.072999421910712, -3.5646217586055227, -1.872605648605217, -21.33464703779414, -16.47351562047523, -11.681074129329653, -10.081874054401247, -9.134622481012466, -3.214864637307081, -30.389819845803043, -9.545821075975386, 4.579839327609674, -13.126986903903079, -23.76300827448918, 6.088338809795458, -33.00107881370108, -6.091464934436396, -0.17740527480306292, -5.53275666936967, -8.080060243333005, -2.0073341310344293, -3.3612570727220317], \"yaxis\": \"y\"}, {\"customdata\": [[139], [140], [141], [142], [143], [144], [145], [146], [147], [148], [149], [150], [151], [152], [153], [154], [155], [156], [157], [158], [159], [160], [161], [162], [163], [164], [165], [166], [167], [168], [169], [170], [171], [172], [173], [174], [175]], \"hoverlabel\": {\"namelength\": 0}, \"hovertemplate\": \"Cluster=Cluster 3<br>PCA1=%{x}<br>PCA2=%{y}<br>Feature=%{customdata[0]}\", \"legendgroup\": \"Cluster=Cluster 3\", \"marker\": {\"color\": \"#ab63fa\", \"opacity\": 0.5, \"symbol\": \"circle\"}, \"mode\": \"markers\", \"name\": \"Cluster=Cluster 3\", \"showlegend\": true, \"textposition\": \"top center\", \"type\": \"scatter\", \"x\": [-3.382253841140602, -6.743748982707123, -9.359434873901897, -2.134126636318363, -13.895025317582274, -15.49717050089227, -15.573519702874222, -15.13602329284063, -13.168003542257694, 7.493048939518598, -6.982213916326535, 13.416492039097642, 0.3466223621778274, 20.977152741959813, -1.5215793690039103, 4.51741677544348, -1.1985574669804457, 6.564792160739174, 19.906646679923334, -19.74624201201245, -4.334392212652728, -30.458457740181757, -27.49085018153413, -24.644058200602686, -27.779648586123827, -27.606877200872457, -19.936362133215702, -28.475368725676443, 3.121356353122721, -3.214401602185321, -10.983717351541605, -16.615317786556094, -17.7323865353617, -14.445565686135856, -28.05779133709962, -8.111613228387334, -18.156595807119952], \"xaxis\": \"x\", \"y\": [16.72973705689287, 35.107051440958976, 38.311044605248625, 34.31341275623498, 42.87465889529793, 44.07245502805055, 45.25139247802764, 44.89254560328076, 49.63938321284287, 39.65900177802254, 51.40506336683783, 37.78250538837433, 49.70988871649575, 79.37766545024677, 53.64137028306629, 49.2814139872022, 65.84575661760579, 68.74380668816102, 66.4457907134264, 39.86514796901786, 25.87435349750931, 39.9879729128787, 41.6998113574879, 33.52889838076647, 33.15244978337917, 35.520971261766654, 31.33696410944644, 33.576189980434044, 16.91296037640567, 22.63917391047477, 29.645267031207922, 33.69642155784555, 33.40016139071103, 32.102594078679374, 42.092684163559674, 17.720397623356714, 34.79096893921556], \"yaxis\": \"y\"}, {\"customdata\": [[176], [177], [178], [179], [180], [181], [182], [183], [184], [185], [186], [187], [188], [189], [190], [191], [192], [193], [194], [195], [196], [197], [198], [199], [200]], \"hoverlabel\": {\"namelength\": 0}, \"hovertemplate\": \"Cluster=Cluster 4<br>PCA1=%{x}<br>PCA2=%{y}<br>Feature=%{customdata[0]}\", \"legendgroup\": \"Cluster=Cluster 4\", \"marker\": {\"color\": \"#FFA15A\", \"opacity\": 0.5, \"symbol\": \"circle\"}, \"mode\": \"markers\", \"name\": \"Cluster=Cluster 4\", \"showlegend\": true, \"textposition\": \"top center\", \"type\": \"scatter\", \"x\": [7.691629522874556, 0.7655921825000238, 20.57365855062064, 3.2750113321067653, 16.191746457836764, -2.1671873163255992, -0.981067010264236, 3.463991717295263, -2.1756246970665463, 3.307147144585803, 11.361138501698703, 12.372399737553971, 1.749468337010038, 13.344893277748776, -5.65434779314268, -1.5263448459699827, 9.18840334046013, -9.948719856704168, 14.623350797490549, 22.382798616615744, -2.717483324728039, 3.960741579590235, -0.0017497998132241664, 1.9475896917283124, -7.30413420008001], \"xaxis\": \"x\", \"y\": [-45.858938194756924, -56.84193518152961, -48.99622245925906, -17.801359426137463, -58.30036383473492, -53.479275564574706, -44.45149257544534, -17.932317028161386, -52.22795675419812, -40.12807613117634, -42.293877543751925, -61.618357498479654, -27.868591127115987, -48.708819016538364, -47.267992085973475, -42.85734606451739, -35.74797846894156, -33.02180679667519, -62.10784294348868, -44.16847235319343, -24.656385858484104, -35.71585411782336, -50.11471436741313, -51.521222058351405, -43.51435468660548], \"yaxis\": \"y\"}],\n",
       "                        {\"height\": 600, \"legend\": {\"tracegroupgap\": 0}, \"margin\": {\"t\": 60}, \"plot_bgcolor\": \"rgb(240,240,240)\", \"template\": {\"data\": {\"bar\": [{\"error_x\": {\"color\": \"#2a3f5f\"}, \"error_y\": {\"color\": \"#2a3f5f\"}, \"marker\": {\"line\": {\"color\": \"#E5ECF6\", \"width\": 0.5}}, \"type\": \"bar\"}], \"barpolar\": [{\"marker\": {\"line\": {\"color\": \"#E5ECF6\", \"width\": 0.5}}, \"type\": \"barpolar\"}], \"carpet\": [{\"aaxis\": {\"endlinecolor\": \"#2a3f5f\", \"gridcolor\": \"white\", \"linecolor\": \"white\", \"minorgridcolor\": \"white\", \"startlinecolor\": \"#2a3f5f\"}, \"baxis\": {\"endlinecolor\": \"#2a3f5f\", \"gridcolor\": \"white\", \"linecolor\": \"white\", \"minorgridcolor\": \"white\", \"startlinecolor\": \"#2a3f5f\"}, \"type\": \"carpet\"}], \"choropleth\": [{\"colorbar\": {\"outlinewidth\": 0, \"ticks\": \"\"}, \"type\": \"choropleth\"}], \"contour\": [{\"colorbar\": {\"outlinewidth\": 0, \"ticks\": \"\"}, \"colorscale\": [[0.0, \"#0d0887\"], [0.1111111111111111, \"#46039f\"], [0.2222222222222222, \"#7201a8\"], [0.3333333333333333, \"#9c179e\"], [0.4444444444444444, \"#bd3786\"], [0.5555555555555556, \"#d8576b\"], [0.6666666666666666, \"#ed7953\"], [0.7777777777777778, \"#fb9f3a\"], [0.8888888888888888, \"#fdca26\"], [1.0, \"#f0f921\"]], \"type\": \"contour\"}], \"contourcarpet\": [{\"colorbar\": {\"outlinewidth\": 0, \"ticks\": \"\"}, \"type\": \"contourcarpet\"}], \"heatmap\": [{\"colorbar\": {\"outlinewidth\": 0, \"ticks\": \"\"}, \"colorscale\": [[0.0, \"#0d0887\"], [0.1111111111111111, \"#46039f\"], [0.2222222222222222, \"#7201a8\"], [0.3333333333333333, \"#9c179e\"], [0.4444444444444444, \"#bd3786\"], [0.5555555555555556, \"#d8576b\"], [0.6666666666666666, \"#ed7953\"], [0.7777777777777778, \"#fb9f3a\"], [0.8888888888888888, \"#fdca26\"], [1.0, \"#f0f921\"]], \"type\": \"heatmap\"}], \"heatmapgl\": [{\"colorbar\": {\"outlinewidth\": 0, \"ticks\": \"\"}, \"colorscale\": [[0.0, \"#0d0887\"], [0.1111111111111111, \"#46039f\"], [0.2222222222222222, \"#7201a8\"], [0.3333333333333333, \"#9c179e\"], [0.4444444444444444, \"#bd3786\"], [0.5555555555555556, \"#d8576b\"], [0.6666666666666666, \"#ed7953\"], [0.7777777777777778, \"#fb9f3a\"], [0.8888888888888888, \"#fdca26\"], [1.0, \"#f0f921\"]], \"type\": \"heatmapgl\"}], \"histogram\": [{\"marker\": {\"colorbar\": {\"outlinewidth\": 0, \"ticks\": \"\"}}, \"type\": \"histogram\"}], \"histogram2d\": [{\"colorbar\": {\"outlinewidth\": 0, \"ticks\": \"\"}, \"colorscale\": [[0.0, \"#0d0887\"], [0.1111111111111111, \"#46039f\"], [0.2222222222222222, \"#7201a8\"], [0.3333333333333333, \"#9c179e\"], [0.4444444444444444, \"#bd3786\"], [0.5555555555555556, \"#d8576b\"], [0.6666666666666666, \"#ed7953\"], [0.7777777777777778, \"#fb9f3a\"], [0.8888888888888888, \"#fdca26\"], [1.0, \"#f0f921\"]], \"type\": \"histogram2d\"}], \"histogram2dcontour\": [{\"colorbar\": {\"outlinewidth\": 0, \"ticks\": \"\"}, \"colorscale\": [[0.0, \"#0d0887\"], [0.1111111111111111, \"#46039f\"], [0.2222222222222222, \"#7201a8\"], [0.3333333333333333, \"#9c179e\"], [0.4444444444444444, \"#bd3786\"], [0.5555555555555556, \"#d8576b\"], [0.6666666666666666, \"#ed7953\"], [0.7777777777777778, \"#fb9f3a\"], [0.8888888888888888, \"#fdca26\"], [1.0, \"#f0f921\"]], \"type\": \"histogram2dcontour\"}], \"mesh3d\": [{\"colorbar\": {\"outlinewidth\": 0, \"ticks\": \"\"}, \"type\": \"mesh3d\"}], \"parcoords\": [{\"line\": {\"colorbar\": {\"outlinewidth\": 0, \"ticks\": \"\"}}, \"type\": \"parcoords\"}], \"pie\": [{\"automargin\": true, \"type\": \"pie\"}], \"scatter\": [{\"marker\": {\"colorbar\": {\"outlinewidth\": 0, \"ticks\": \"\"}}, \"type\": \"scatter\"}], \"scatter3d\": [{\"line\": {\"colorbar\": {\"outlinewidth\": 0, \"ticks\": \"\"}}, \"marker\": {\"colorbar\": {\"outlinewidth\": 0, \"ticks\": \"\"}}, \"type\": \"scatter3d\"}], \"scattercarpet\": [{\"marker\": {\"colorbar\": {\"outlinewidth\": 0, \"ticks\": \"\"}}, \"type\": \"scattercarpet\"}], \"scattergeo\": [{\"marker\": {\"colorbar\": {\"outlinewidth\": 0, \"ticks\": \"\"}}, \"type\": \"scattergeo\"}], \"scattergl\": [{\"marker\": {\"colorbar\": {\"outlinewidth\": 0, \"ticks\": \"\"}}, \"type\": \"scattergl\"}], \"scattermapbox\": [{\"marker\": {\"colorbar\": {\"outlinewidth\": 0, \"ticks\": \"\"}}, \"type\": \"scattermapbox\"}], \"scatterpolar\": [{\"marker\": {\"colorbar\": {\"outlinewidth\": 0, \"ticks\": \"\"}}, \"type\": \"scatterpolar\"}], \"scatterpolargl\": [{\"marker\": {\"colorbar\": {\"outlinewidth\": 0, \"ticks\": \"\"}}, \"type\": \"scatterpolargl\"}], \"scatterternary\": [{\"marker\": {\"colorbar\": {\"outlinewidth\": 0, \"ticks\": \"\"}}, \"type\": \"scatterternary\"}], \"surface\": [{\"colorbar\": {\"outlinewidth\": 0, \"ticks\": \"\"}, \"colorscale\": [[0.0, \"#0d0887\"], [0.1111111111111111, \"#46039f\"], [0.2222222222222222, \"#7201a8\"], [0.3333333333333333, \"#9c179e\"], [0.4444444444444444, \"#bd3786\"], [0.5555555555555556, \"#d8576b\"], [0.6666666666666666, \"#ed7953\"], [0.7777777777777778, \"#fb9f3a\"], [0.8888888888888888, \"#fdca26\"], [1.0, \"#f0f921\"]], \"type\": \"surface\"}], \"table\": [{\"cells\": {\"fill\": {\"color\": \"#EBF0F8\"}, \"line\": {\"color\": \"white\"}}, \"header\": {\"fill\": {\"color\": \"#C8D4E3\"}, \"line\": {\"color\": \"white\"}}, \"type\": \"table\"}]}, \"layout\": {\"annotationdefaults\": {\"arrowcolor\": \"#2a3f5f\", \"arrowhead\": 0, \"arrowwidth\": 1}, \"coloraxis\": {\"colorbar\": {\"outlinewidth\": 0, \"ticks\": \"\"}}, \"colorscale\": {\"diverging\": [[0, \"#8e0152\"], [0.1, \"#c51b7d\"], [0.2, \"#de77ae\"], [0.3, \"#f1b6da\"], [0.4, \"#fde0ef\"], [0.5, \"#f7f7f7\"], [0.6, \"#e6f5d0\"], [0.7, \"#b8e186\"], [0.8, \"#7fbc41\"], [0.9, \"#4d9221\"], [1, \"#276419\"]], \"sequential\": [[0.0, \"#0d0887\"], [0.1111111111111111, \"#46039f\"], [0.2222222222222222, \"#7201a8\"], [0.3333333333333333, \"#9c179e\"], [0.4444444444444444, \"#bd3786\"], [0.5555555555555556, \"#d8576b\"], [0.6666666666666666, \"#ed7953\"], [0.7777777777777778, \"#fb9f3a\"], [0.8888888888888888, \"#fdca26\"], [1.0, \"#f0f921\"]], \"sequentialminus\": [[0.0, \"#0d0887\"], [0.1111111111111111, \"#46039f\"], [0.2222222222222222, \"#7201a8\"], [0.3333333333333333, \"#9c179e\"], [0.4444444444444444, \"#bd3786\"], [0.5555555555555556, \"#d8576b\"], [0.6666666666666666, \"#ed7953\"], [0.7777777777777778, \"#fb9f3a\"], [0.8888888888888888, \"#fdca26\"], [1.0, \"#f0f921\"]]}, \"colorway\": [\"#636efa\", \"#EF553B\", \"#00cc96\", \"#ab63fa\", \"#FFA15A\", \"#19d3f3\", \"#FF6692\", \"#B6E880\", \"#FF97FF\", \"#FECB52\"], \"font\": {\"color\": \"#2a3f5f\"}, \"geo\": {\"bgcolor\": \"white\", \"lakecolor\": \"white\", \"landcolor\": \"#E5ECF6\", \"showlakes\": true, \"showland\": true, \"subunitcolor\": \"white\"}, \"hoverlabel\": {\"align\": \"left\"}, \"hovermode\": \"closest\", \"mapbox\": {\"style\": \"light\"}, \"paper_bgcolor\": \"white\", \"plot_bgcolor\": \"#E5ECF6\", \"polar\": {\"angularaxis\": {\"gridcolor\": \"white\", \"linecolor\": \"white\", \"ticks\": \"\"}, \"bgcolor\": \"#E5ECF6\", \"radialaxis\": {\"gridcolor\": \"white\", \"linecolor\": \"white\", \"ticks\": \"\"}}, \"scene\": {\"xaxis\": {\"backgroundcolor\": \"#E5ECF6\", \"gridcolor\": \"white\", \"gridwidth\": 2, \"linecolor\": \"white\", \"showbackground\": true, \"ticks\": \"\", \"zerolinecolor\": \"white\"}, \"yaxis\": {\"backgroundcolor\": \"#E5ECF6\", \"gridcolor\": \"white\", \"gridwidth\": 2, \"linecolor\": \"white\", \"showbackground\": true, \"ticks\": \"\", \"zerolinecolor\": \"white\"}, \"zaxis\": {\"backgroundcolor\": \"#E5ECF6\", \"gridcolor\": \"white\", \"gridwidth\": 2, \"linecolor\": \"white\", \"showbackground\": true, \"ticks\": \"\", \"zerolinecolor\": \"white\"}}, \"shapedefaults\": {\"line\": {\"color\": \"#2a3f5f\"}}, \"ternary\": {\"aaxis\": {\"gridcolor\": \"white\", \"linecolor\": \"white\", \"ticks\": \"\"}, \"baxis\": {\"gridcolor\": \"white\", \"linecolor\": \"white\", \"ticks\": \"\"}, \"bgcolor\": \"#E5ECF6\", \"caxis\": {\"gridcolor\": \"white\", \"linecolor\": \"white\", \"ticks\": \"\"}}, \"title\": {\"x\": 0.05}, \"xaxis\": {\"automargin\": true, \"gridcolor\": \"white\", \"linecolor\": \"white\", \"ticks\": \"\", \"title\": {\"standoff\": 15}, \"zerolinecolor\": \"white\", \"zerolinewidth\": 2}, \"yaxis\": {\"automargin\": true, \"gridcolor\": \"white\", \"linecolor\": \"white\", \"ticks\": \"\", \"title\": {\"standoff\": 15}, \"zerolinecolor\": \"white\", \"zerolinewidth\": 2}}}, \"title\": {\"text\": \"2D Cluster PCA Plot\"}, \"xaxis\": {\"anchor\": \"y\", \"domain\": [0.0, 1.0], \"title\": {\"text\": \"PCA1\"}}, \"yaxis\": {\"anchor\": \"x\", \"domain\": [0.0, 1.0], \"title\": {\"text\": \"PCA2\"}}},\n",
       "                        {\"responsive\": true}\n",
       "                    ).then(function(){\n",
       "                            \n",
       "var gd = document.getElementById('6ed77be5-b26f-4532-9b5e-4c1100632c8d');\n",
       "var x = new MutationObserver(function (mutations, observer) {{\n",
       "        var display = window.getComputedStyle(gd).display;\n",
       "        if (!display || display === 'none') {{\n",
       "            console.log([gd, 'removed!']);\n",
       "            Plotly.purge(gd);\n",
       "            observer.disconnect();\n",
       "        }}\n",
       "}});\n",
       "\n",
       "// Listen for the removal of the full notebook cells\n",
       "var notebookContainer = gd.closest('#notebook-container');\n",
       "if (notebookContainer) {{\n",
       "    x.observe(notebookContainer, {childList: true});\n",
       "}}\n",
       "\n",
       "// Listen for the clearing of the current output cell\n",
       "var outputEl = gd.closest('.output');\n",
       "if (outputEl) {{\n",
       "    x.observe(outputEl, {childList: true});\n",
       "}}\n",
       "\n",
       "                        })\n",
       "                };\n",
       "                });\n",
       "            </script>\n",
       "        </div>"
      ]
     },
     "metadata": {},
     "output_type": "display_data"
    }
   ],
   "source": [
    "plot_model(k2)"
   ]
  },
  {
   "cell_type": "code",
   "execution_count": 49,
   "metadata": {},
   "outputs": [
    {
     "data": {
      "text/html": [
       "        <script type=\"text/javascript\">\n",
       "        window.PlotlyConfig = {MathJaxConfig: 'local'};\n",
       "        if (window.MathJax) {MathJax.Hub.Config({SVG: {font: \"STIX-Web\"}});}\n",
       "        if (typeof require !== 'undefined') {\n",
       "        require.undef(\"plotly\");\n",
       "        requirejs.config({\n",
       "            paths: {\n",
       "                'plotly': ['https://cdn.plot.ly/plotly-latest.min']\n",
       "            }\n",
       "        });\n",
       "        require(['plotly'], function(Plotly) {\n",
       "            window._Plotly = Plotly;\n",
       "        });\n",
       "        }\n",
       "        </script>\n",
       "        "
      ]
     },
     "metadata": {},
     "output_type": "display_data"
    },
    {
     "data": {
      "application/vnd.plotly.v1+json": {
       "config": {
        "plotlyServerURL": "https://plot.ly"
       },
       "data": [
        {
         "customdata": [
          [
           1
          ],
          [
           2
          ],
          [
           3
          ],
          [
           4
          ],
          [
           5
          ],
          [
           6
          ],
          [
           7
          ],
          [
           8
          ],
          [
           9
          ],
          [
           10
          ],
          [
           11
          ],
          [
           12
          ],
          [
           13
          ],
          [
           14
          ],
          [
           15
          ],
          [
           16
          ],
          [
           17
          ],
          [
           18
          ],
          [
           19
          ],
          [
           20
          ],
          [
           21
          ],
          [
           22
          ],
          [
           23
          ],
          [
           24
          ],
          [
           25
          ],
          [
           26
          ],
          [
           27
          ],
          [
           28
          ],
          [
           29
          ],
          [
           30
          ],
          [
           31
          ],
          [
           32
          ],
          [
           33
          ],
          [
           34
          ],
          [
           35
          ],
          [
           36
          ],
          [
           37
          ],
          [
           38
          ],
          [
           39
          ]
         ],
         "hoverlabel": {
          "namelength": 0
         },
         "hovertemplate": "Cluster=Cluster 0<br>0=%{x}<br>1=%{y}<br>2=%{z}<br>Feature=%{customdata[0]}",
         "legendgroup": "Cluster=Cluster 0",
         "marker": {
          "color": "#636efa",
          "opacity": 0.7,
          "symbol": "circle"
         },
         "mode": "markers",
         "name": "Cluster=Cluster 0",
         "scene": "scene",
         "showlegend": true,
         "type": "scatter3d",
         "x": [
          6.718632698059082,
          66.64787292480469,
          -60.119625091552734,
          -84.06016540527344,
          6.439515113830566,
          -61.78539276123047,
          9.78614330291748,
          -30.343517303466797,
          -19.087974548339844,
          -5.987908840179443,
          29.023414611816406,
          2.7884433269500732,
          -38.17435073852539,
          -30.130985260009766,
          -1.2811328172683716,
          -33.777000427246094,
          -12.862850189208984,
          -7.1309356689453125,
          -38.46178436279297,
          -35.94509506225586,
          -64.68553924560547,
          -45.48509216308594,
          1.478395700454712,
          -23.119115829467773,
          -8.867631912231445,
          -1.11812424659729,
          -39.92038345336914,
          50.820648193359375,
          -32.97649383544922,
          -55.32370376586914,
          -8.6412353515625,
          -76.7162094116211,
          38.442596435546875,
          -16.613447189331055,
          -51.616092681884766,
          20.310474395751953,
          -39.3815803527832,
          -50.12861633300781,
          -69.27056884765625
         ],
         "y": [
          -157.32510375976562,
          118.73747253417969,
          -105.00704193115234,
          -70.64002990722656,
          126.5584945678711,
          -105.751220703125,
          -146.10888671875,
          -127.01191711425781,
          -89.3344497680664,
          -104.76508331298828,
          -115.05618286132812,
          -88.1097412109375,
          -135.50775146484375,
          -104.19110870361328,
          -51.47600173950195,
          -78.1339340209961,
          -54.26701354980469,
          -121.51275634765625,
          -121.8814468383789,
          -31.5708065032959,
          -46.62923049926758,
          -71.1771240234375,
          -41.35503387451172,
          -19.58157730102539,
          -79.07745361328125,
          136.15130615234375,
          -75.72720336914062,
          141.93186950683594,
          -18.138383865356445,
          -33.80559539794922,
          -52.3669548034668,
          -54.47840881347656,
          114.75279998779297,
          -113.11561584472656,
          -87.40169525146484,
          132.68081665039062,
          -52.484127044677734,
          -111.65400695800781,
          -33.9705696105957
         ],
         "z": [
          33.400604248046875,
          7.568240165710449,
          -19.097991943359375,
          -58.403690338134766,
          -32.74810791015625,
          -54.14874267578125,
          -19.94998550415039,
          1.4086997509002686,
          -70.76399993896484,
          -15.807519912719727,
          -40.67619323730469,
          -43.40911102294922,
          -35.88582229614258,
          -38.15719985961914,
          -71.92750549316406,
          -19.280427932739258,
          -40.54212188720703,
          -56.1418342590332,
          -72.5023193359375,
          -53.23039627075195,
          -35.402156829833984,
          -55.035545349121094,
          -120.7968978881836,
          -137.49954223632812,
          -120.1773452758789,
          -147.38897705078125,
          -123.75463104248047,
          -30.127748489379883,
          -98.6618423461914,
          -120.94328308105469,
          -150.1473846435547,
          -101.69561004638672,
          -59.00752258300781,
          -103.43457794189453,
          -88.20924377441406,
          22.20550537109375,
          -88.23934936523438,
          -109.90774536132812,
          -73.75867462158203
         ]
        },
        {
         "customdata": [
          [
           40
          ],
          [
           41
          ],
          [
           42
          ],
          [
           43
          ],
          [
           44
          ],
          [
           45
          ],
          [
           46
          ],
          [
           47
          ],
          [
           48
          ],
          [
           49
          ],
          [
           50
          ],
          [
           51
          ],
          [
           52
          ],
          [
           53
          ],
          [
           54
          ],
          [
           55
          ],
          [
           56
          ],
          [
           57
          ],
          [
           58
          ],
          [
           59
          ],
          [
           60
          ],
          [
           61
          ],
          [
           62
          ],
          [
           63
          ],
          [
           64
          ],
          [
           65
          ],
          [
           66
          ],
          [
           67
          ],
          [
           68
          ],
          [
           69
          ],
          [
           70
          ],
          [
           71
          ],
          [
           72
          ],
          [
           73
          ],
          [
           74
          ],
          [
           75
          ],
          [
           76
          ],
          [
           77
          ],
          [
           78
          ],
          [
           79
          ],
          [
           80
          ],
          [
           81
          ],
          [
           82
          ],
          [
           83
          ],
          [
           84
          ],
          [
           85
          ],
          [
           86
          ],
          [
           87
          ],
          [
           88
          ],
          [
           89
          ],
          [
           90
          ],
          [
           91
          ],
          [
           92
          ],
          [
           93
          ],
          [
           94
          ],
          [
           95
          ],
          [
           96
          ],
          [
           97
          ],
          [
           98
          ],
          [
           99
          ],
          [
           100
          ],
          [
           101
          ],
          [
           102
          ],
          [
           103
          ],
          [
           104
          ],
          [
           105
          ],
          [
           106
          ],
          [
           107
          ],
          [
           108
          ],
          [
           109
          ],
          [
           110
          ],
          [
           111
          ],
          [
           112
          ],
          [
           113
          ],
          [
           114
          ],
          [
           115
          ]
         ],
         "hoverlabel": {
          "namelength": 0
         },
         "hovertemplate": "Cluster=Cluster 1<br>0=%{x}<br>1=%{y}<br>2=%{z}<br>Feature=%{customdata[0]}",
         "legendgroup": "Cluster=Cluster 1",
         "marker": {
          "color": "#EF553B",
          "opacity": 0.7,
          "symbol": "circle"
         },
         "mode": "markers",
         "name": "Cluster=Cluster 1",
         "scene": "scene",
         "showlegend": true,
         "type": "scatter3d",
         "x": [
          -90.19829559326172,
          9.913416862487793,
          64.87466430664062,
          -40.26544952392578,
          15.532325744628906,
          -3.634202241897583,
          16.420425415039062,
          -90.19386291503906,
          -12.327993392944336,
          3.884061574935913,
          -43.110740661621094,
          101.03760528564453,
          -77.8302230834961,
          34.7360954284668,
          78.12474060058594,
          -172.8348846435547,
          9.116921424865723,
          -50.20213317871094,
          54.469627380371094,
          35.83608627319336,
          5.208932399749756,
          40.696048736572266,
          49.22507095336914,
          -9.194816589355469,
          34.95315170288086,
          19.66233253479004,
          3.264585494995117,
          16.610286712646484,
          -23.65861701965332,
          -8.00102710723877,
          -29.422069549560547,
          47.694000244140625,
          57.40384292602539,
          32.518795013427734,
          18.4278507232666,
          -47.774715423583984,
          63.81751251220703,
          -13.881852149963379,
          -16.83616065979004,
          -44.914546966552734,
          53.901611328125,
          -25.695276260375977,
          26.884151458740234,
          -4.150077819824219,
          -33.9871940612793,
          -49.02586364746094,
          -6.982275009155273,
          2.6102654933929443,
          -24.538314819335938,
          31.26727867126465,
          -62.102752685546875,
          1.4436463117599487,
          -49.54164123535156,
          33.209686279296875,
          -33.60403823852539,
          45.705814361572266,
          -32.99636459350586,
          -74.80829620361328,
          -21.662038803100586,
          -17.12482452392578,
          91.71415710449219,
          63.635196685791016,
          -48.675838470458984,
          11.63946533203125,
          -17.25318717956543,
          69.5045166015625,
          -51.485660552978516,
          -22.838972091674805,
          95.20051574707031,
          -113.21802520751953,
          -29.848539352416992,
          -24.844890594482422,
          109.47484588623047,
          -17.247554779052734,
          -51.83967208862305,
          -46.756107330322266
         ],
         "y": [
          11.732538223266602,
          -12.557729721069336,
          41.646663665771484,
          -42.935909271240234,
          3.0888752937316895,
          -27.491226196289062,
          81.51902770996094,
          -12.869772911071777,
          -43.06026840209961,
          -31.20804786682129,
          148.24331665039062,
          71.61982727050781,
          -51.229305267333984,
          28.158370971679688,
          77.80792236328125,
          -111.97489166259766,
          33.980289459228516,
          -26.438472747802734,
          49.84222412109375,
          46.172786712646484,
          -69.94468688964844,
          23.87116813659668,
          -39.89283752441406,
          -39.45064163208008,
          -32.900596618652344,
          66.53839111328125,
          -86.06371307373047,
          -58.582637786865234,
          -99.7787857055664,
          -58.513553619384766,
          -72.66201782226562,
          72.12077331542969,
          59.23946762084961,
          -8.256006240844727,
          48.72756576538086,
          -61.17980194091797,
          -86.53274536132812,
          -75.46153259277344,
          -64.13086700439453,
          -69.9355239868164,
          5.213192939758301,
          -16.739391326904297,
          30.029890060424805,
          13.172313690185547,
          9.20985221862793,
          24.50411033630371,
          65.00033569335938,
          -2.5322492122650146,
          44.1815185546875,
          0.6941553950309753,
          16.007837295532227,
          76.74801635742188,
          51.87870407104492,
          -40.99034881591797,
          59.08100891113281,
          -52.860652923583984,
          83.53498077392578,
          1.6975985765457153,
          -19.24261474609375,
          46.260711669921875,
          33.499053955078125,
          4.991292953491211,
          12.249154090881348,
          1.9016084671020508,
          5.722006320953369,
          -30.645240783691406,
          -30.115385055541992,
          12.05814266204834,
          36.95132827758789,
          41.049137115478516,
          -7.161034107208252,
          28.2385196685791,
          8.09188175201416,
          -102.62051391601562,
          11.46310043334961,
          -19.429840087890625
         ],
         "z": [
          -117.00537109375,
          30.04552459716797,
          1.1976443529129028,
          54.726314544677734,
          -10.062847137451172,
          60.84519577026367,
          3.0759665966033936,
          27.2052001953125,
          32.84977340698242,
          -12.022095680236816,
          -30.325702667236328,
          -17.734851837158203,
          115.66751861572266,
          -47.15805435180664,
          -66.7597885131836,
          -231.90988159179688,
          -29.36949348449707,
          24.06070899963379,
          -28.344144821166992,
          55.34149169921875,
          6.072198867797852,
          -2.9567153453826904,
          54.18455505371094,
          136.99203491210938,
          26.124492645263672,
          34.35070037841797,
          36.6820068359375,
          64.1665267944336,
          44.753631591796875,
          102.77727508544922,
          27.76907730102539,
          -2.321873188018799,
          27.50145149230957,
          51.493438720703125,
          0.9819635152816772,
          133.44259643554688,
          -77.77153015136719,
          131.48545837402344,
          68.5543441772461,
          100.74472045898438,
          -26.1079044342041,
          -5.451363563537598,
          25.748537063598633,
          64.97821807861328,
          149.07354736328125,
          53.58738327026367,
          -22.24946403503418,
          137.39468383789062,
          39.468631744384766,
          -90.75812530517578,
          118.86007690429688,
          -51.59486770629883,
          -33.32437515258789,
          113.28665161132812,
          1.5393409729003906,
          -24.17375946044922,
          -25.466527938842773,
          65.03167724609375,
          93.91131591796875,
          -47.29618453979492,
          -97.41770935058594,
          -75.0792236328125,
          88.51563262939453,
          -44.38172912597656,
          16.213064193725586,
          -49.76429748535156,
          90.67606353759766,
          110.46641540527344,
          -57.36492156982422,
          -20.979076385498047,
          42.8086051940918,
          -10.931325912475586,
          -73.68636322021484,
          101.22798156738281,
          15.370658874511719,
          133.22613525390625
         ]
        },
        {
         "customdata": [
          [
           116
          ],
          [
           117
          ],
          [
           118
          ],
          [
           119
          ],
          [
           120
          ],
          [
           121
          ],
          [
           122
          ],
          [
           123
          ],
          [
           124
          ],
          [
           125
          ],
          [
           126
          ],
          [
           127
          ],
          [
           128
          ],
          [
           129
          ],
          [
           130
          ],
          [
           131
          ],
          [
           132
          ],
          [
           133
          ],
          [
           134
          ],
          [
           135
          ],
          [
           136
          ],
          [
           137
          ],
          [
           138
          ]
         ],
         "hoverlabel": {
          "namelength": 0
         },
         "hovertemplate": "Cluster=Cluster 2<br>0=%{x}<br>1=%{y}<br>2=%{z}<br>Feature=%{customdata[0]}",
         "legendgroup": "Cluster=Cluster 2",
         "marker": {
          "color": "#00cc96",
          "opacity": 0.7,
          "symbol": "circle"
         },
         "mode": "markers",
         "name": "Cluster=Cluster 2",
         "scene": "scene",
         "showlegend": true,
         "type": "scatter3d",
         "x": [
          -48.82988739013672,
          -59.822391510009766,
          -92.64977264404297,
          -125.0780029296875,
          -46.78584289550781,
          -61.22803497314453,
          -102.76541900634766,
          -103.52215576171875,
          -115.45586395263672,
          22.383512496948242,
          -76.23200988769531,
          -117.62826538085938,
          -121.95008087158203,
          -119.3851089477539,
          -75.44427490234375,
          -109.52310180664062,
          -77.0047607421875,
          -106.36283111572266,
          -80.49256896972656,
          -25.570575714111328,
          -111.13318634033203,
          -75.37944030761719,
          -42.806007385253906
         ],
         "y": [
          82.81715393066406,
          110.09274291992188,
          85.36566162109375,
          76.88420104980469,
          109.66586303710938,
          100.47787475585938,
          99.8631362915039,
          47.03817367553711,
          108.01477813720703,
          8.715694427490234,
          78.3445053100586,
          72.98614501953125,
          46.508174896240234,
          103.93057250976562,
          100.40538024902344,
          70.37530517578125,
          106.6288833618164,
          1.3834971189498901,
          56.60127258300781,
          98.06428527832031,
          -95.25772857666016,
          68.885009765625,
          69.94975280761719
         ],
         "z": [
          29.37973976135254,
          44.303977966308594,
          69.95242309570312,
          56.94316864013672,
          8.784886360168457,
          75.94781494140625,
          38.98936462402344,
          46.91221237182617,
          82.11845397949219,
          -158.58323669433594,
          -7.133619785308838,
          21.925060272216797,
          76.1182861328125,
          7.764993667602539,
          14.31734848022461,
          95.14779663085938,
          -20.841703414916992,
          95.61758422851562,
          77.76383209228516,
          47.845157623291016,
          12.966845512390137,
          45.54352569580078,
          65.24398040771484
         ]
        },
        {
         "customdata": [
          [
           139
          ],
          [
           140
          ],
          [
           141
          ],
          [
           142
          ],
          [
           143
          ],
          [
           144
          ],
          [
           145
          ],
          [
           146
          ],
          [
           147
          ],
          [
           148
          ],
          [
           149
          ],
          [
           150
          ],
          [
           151
          ],
          [
           152
          ],
          [
           153
          ],
          [
           154
          ],
          [
           155
          ],
          [
           156
          ],
          [
           157
          ],
          [
           158
          ],
          [
           159
          ],
          [
           160
          ],
          [
           161
          ],
          [
           162
          ],
          [
           163
          ],
          [
           164
          ],
          [
           165
          ],
          [
           166
          ],
          [
           167
          ],
          [
           168
          ],
          [
           169
          ],
          [
           170
          ],
          [
           171
          ],
          [
           172
          ],
          [
           173
          ],
          [
           174
          ],
          [
           175
          ]
         ],
         "hoverlabel": {
          "namelength": 0
         },
         "hovertemplate": "Cluster=Cluster 3<br>0=%{x}<br>1=%{y}<br>2=%{z}<br>Feature=%{customdata[0]}",
         "legendgroup": "Cluster=Cluster 3",
         "marker": {
          "color": "#ab63fa",
          "opacity": 0.7,
          "symbol": "circle"
         },
         "mode": "markers",
         "name": "Cluster=Cluster 3",
         "scene": "scene",
         "showlegend": true,
         "type": "scatter3d",
         "x": [
          70.48014831542969,
          114.531005859375,
          93.11100006103516,
          133.11080932617188,
          118.56787872314453,
          -159.07899475097656,
          92.79243469238281,
          99.7040786743164,
          139.15670776367188,
          162.67373657226562,
          152.47189331054688,
          147.1109619140625,
          132.68064880371094,
          175.3409881591797,
          137.71742248535156,
          156.91868591308594,
          139.07864379882812,
          172.9188690185547,
          165.7954864501953,
          96.03106689453125,
          51.67629623413086,
          128.88162231445312,
          138.52932739257812,
          70.87461853027344,
          119.96717834472656,
          151.1674346923828,
          96.65335845947266,
          104.9037857055664,
          55.700862884521484,
          53.76211166381836,
          100.5990982055664,
          98.45655822753906,
          112.30644226074219,
          85.5890121459961,
          124.58901977539062,
          85.20468139648438,
          89.52509307861328
         ],
         "y": [
          17.111614227294922,
          17.899085998535156,
          -42.0081901550293,
          -3.841089963912964,
          -26.966970443725586,
          21.10038185119629,
          -81.95038604736328,
          5.713376998901367,
          -49.84720993041992,
          9.408881187438965,
          -20.22015953063965,
          35.21553421020508,
          7.491259574890137,
          30.519943237304688,
          -12.694823265075684,
          30.44900894165039,
          27.486003875732422,
          -1.0233750343322754,
          1.903117060661316,
          -44.20219802856445,
          -77.79164123535156,
          -90.6701889038086,
          -42.63241195678711,
          -19.679073333740234,
          -59.12619400024414,
          -62.69853591918945,
          -15.911093711853027,
          -78.68159484863281,
          -6.7422709465026855,
          -70.24095916748047,
          -12.552448272705078,
          37.86524200439453,
          -20.3765926361084,
          -19.28240966796875,
          -73.58658599853516,
          13.532979965209961,
          -51.1038703918457
         ],
         "z": [
          25.29388999938965,
          26.406383514404297,
          5.092184543609619,
          6.519543647766113,
          42.75535202026367,
          -27.133203506469727,
          17.100448608398438,
          69.2518310546875,
          66.5706787109375,
          17.82927894592285,
          41.922969818115234,
          8.585116386413574,
          52.62490463256836,
          82.35812377929688,
          78.08590698242188,
          45.42854309082031,
          85.06240844726562,
          66.13690185546875,
          98.74071502685547,
          90.28324127197266,
          33.180145263671875,
          38.732234954833984,
          -5.656364440917969,
          90.63780212402344,
          28.092206954956055,
          23.025903701782227,
          110.90376281738281,
          57.98872375488281,
          13.695718765258789,
          63.08584976196289,
          14.509909629821777,
          50.50837326049805,
          -22.66777801513672,
          44.75702667236328,
          -6.68251895904541,
          -4.676312446594238,
          38.60399627685547
         ]
        },
        {
         "customdata": [
          [
           176
          ],
          [
           177
          ],
          [
           178
          ],
          [
           179
          ],
          [
           180
          ],
          [
           181
          ],
          [
           182
          ],
          [
           183
          ],
          [
           184
          ],
          [
           185
          ],
          [
           186
          ],
          [
           187
          ],
          [
           188
          ],
          [
           189
          ],
          [
           190
          ],
          [
           191
          ],
          [
           192
          ],
          [
           193
          ],
          [
           194
          ],
          [
           195
          ],
          [
           196
          ],
          [
           197
          ],
          [
           198
          ],
          [
           199
          ],
          [
           200
          ]
         ],
         "hoverlabel": {
          "namelength": 0
         },
         "hovertemplate": "Cluster=Cluster 4<br>0=%{x}<br>1=%{y}<br>2=%{z}<br>Feature=%{customdata[0]}",
         "legendgroup": "Cluster=Cluster 4",
         "marker": {
          "color": "#FFA15A",
          "opacity": 0.7,
          "symbol": "circle"
         },
         "mode": "markers",
         "name": "Cluster=Cluster 4",
         "scene": "scene",
         "showlegend": true,
         "type": "scatter3d",
         "x": [
          -90.0062255859375,
          -115.90904235839844,
          59.97120666503906,
          -19.35350227355957,
          2.693727731704712,
          -42.7736930847168,
          36.67842102050781,
          5.155325889587402,
          -22.282718658447266,
          -24.98320770263672,
          -43.23428726196289,
          11.66377067565918,
          -48.99164962768555,
          -7.6646552085876465,
          -49.44166946411133,
          -73.01361846923828,
          -93.33934020996094,
          -82.26288604736328,
          28.812515258789062,
          29.888080596923828,
          -69.79470825195312,
          -51.0230598449707,
          -106.3936996459961,
          -89.0184097290039,
          -70.4979248046875
         ],
         "y": [
          31.278106689453125,
          -17.592809677124023,
          -8.872674942016602,
          14.844904899597168,
          63.148441314697266,
          68.17632293701172,
          -37.953643798828125,
          35.211669921875,
          67.82589721679688,
          71.17577362060547,
          32.365150451660156,
          80.57383728027344,
          34.230934143066406,
          35.211238861083984,
          95.02753448486328,
          61.12139892578125,
          -48.17805862426758,
          62.0866813659668,
          94.7706527709961,
          42.226524353027344,
          31.909379959106445,
          68.86202239990234,
          -1.0387929677963257,
          -70.13873291015625,
          4.893923759460449
         ],
         "z": [
          -77.85253143310547,
          -19.528039932250977,
          -125.81537628173828,
          -53.669559478759766,
          -139.7551727294922,
          -124.5057144165039,
          -77.93321990966797,
          -67.21000671386719,
          -94.83809661865234,
          113.89189910888672,
          -102.68278503417969,
          -107.60102081298828,
          -63.04448699951172,
          -113.84529876708984,
          -95.1922607421875,
          -95.0863265991211,
          -0.16025349497795105,
          -52.848575592041016,
          86.68153381347656,
          -114.9753189086914,
          -26.42275047302246,
          -69.04750061035156,
          -53.13288879394531,
          43.37901306152344,
          -52.832176208496094
         ]
        }
       ],
       "layout": {
        "height": 800,
        "legend": {
         "tracegroupgap": 0
        },
        "scene": {
         "domain": {
          "x": [
           0,
           1
          ],
          "y": [
           0,
           1
          ]
         },
         "xaxis": {
          "title": {
           "text": "0"
          }
         },
         "yaxis": {
          "title": {
           "text": "1"
          }
         },
         "zaxis": {
          "title": {
           "text": "2"
          }
         }
        },
        "template": {
         "data": {
          "bar": [
           {
            "error_x": {
             "color": "#2a3f5f"
            },
            "error_y": {
             "color": "#2a3f5f"
            },
            "marker": {
             "line": {
              "color": "#E5ECF6",
              "width": 0.5
             }
            },
            "type": "bar"
           }
          ],
          "barpolar": [
           {
            "marker": {
             "line": {
              "color": "#E5ECF6",
              "width": 0.5
             }
            },
            "type": "barpolar"
           }
          ],
          "carpet": [
           {
            "aaxis": {
             "endlinecolor": "#2a3f5f",
             "gridcolor": "white",
             "linecolor": "white",
             "minorgridcolor": "white",
             "startlinecolor": "#2a3f5f"
            },
            "baxis": {
             "endlinecolor": "#2a3f5f",
             "gridcolor": "white",
             "linecolor": "white",
             "minorgridcolor": "white",
             "startlinecolor": "#2a3f5f"
            },
            "type": "carpet"
           }
          ],
          "choropleth": [
           {
            "colorbar": {
             "outlinewidth": 0,
             "ticks": ""
            },
            "type": "choropleth"
           }
          ],
          "contour": [
           {
            "colorbar": {
             "outlinewidth": 0,
             "ticks": ""
            },
            "colorscale": [
             [
              0,
              "#0d0887"
             ],
             [
              0.1111111111111111,
              "#46039f"
             ],
             [
              0.2222222222222222,
              "#7201a8"
             ],
             [
              0.3333333333333333,
              "#9c179e"
             ],
             [
              0.4444444444444444,
              "#bd3786"
             ],
             [
              0.5555555555555556,
              "#d8576b"
             ],
             [
              0.6666666666666666,
              "#ed7953"
             ],
             [
              0.7777777777777778,
              "#fb9f3a"
             ],
             [
              0.8888888888888888,
              "#fdca26"
             ],
             [
              1,
              "#f0f921"
             ]
            ],
            "type": "contour"
           }
          ],
          "contourcarpet": [
           {
            "colorbar": {
             "outlinewidth": 0,
             "ticks": ""
            },
            "type": "contourcarpet"
           }
          ],
          "heatmap": [
           {
            "colorbar": {
             "outlinewidth": 0,
             "ticks": ""
            },
            "colorscale": [
             [
              0,
              "#0d0887"
             ],
             [
              0.1111111111111111,
              "#46039f"
             ],
             [
              0.2222222222222222,
              "#7201a8"
             ],
             [
              0.3333333333333333,
              "#9c179e"
             ],
             [
              0.4444444444444444,
              "#bd3786"
             ],
             [
              0.5555555555555556,
              "#d8576b"
             ],
             [
              0.6666666666666666,
              "#ed7953"
             ],
             [
              0.7777777777777778,
              "#fb9f3a"
             ],
             [
              0.8888888888888888,
              "#fdca26"
             ],
             [
              1,
              "#f0f921"
             ]
            ],
            "type": "heatmap"
           }
          ],
          "heatmapgl": [
           {
            "colorbar": {
             "outlinewidth": 0,
             "ticks": ""
            },
            "colorscale": [
             [
              0,
              "#0d0887"
             ],
             [
              0.1111111111111111,
              "#46039f"
             ],
             [
              0.2222222222222222,
              "#7201a8"
             ],
             [
              0.3333333333333333,
              "#9c179e"
             ],
             [
              0.4444444444444444,
              "#bd3786"
             ],
             [
              0.5555555555555556,
              "#d8576b"
             ],
             [
              0.6666666666666666,
              "#ed7953"
             ],
             [
              0.7777777777777778,
              "#fb9f3a"
             ],
             [
              0.8888888888888888,
              "#fdca26"
             ],
             [
              1,
              "#f0f921"
             ]
            ],
            "type": "heatmapgl"
           }
          ],
          "histogram": [
           {
            "marker": {
             "colorbar": {
              "outlinewidth": 0,
              "ticks": ""
             }
            },
            "type": "histogram"
           }
          ],
          "histogram2d": [
           {
            "colorbar": {
             "outlinewidth": 0,
             "ticks": ""
            },
            "colorscale": [
             [
              0,
              "#0d0887"
             ],
             [
              0.1111111111111111,
              "#46039f"
             ],
             [
              0.2222222222222222,
              "#7201a8"
             ],
             [
              0.3333333333333333,
              "#9c179e"
             ],
             [
              0.4444444444444444,
              "#bd3786"
             ],
             [
              0.5555555555555556,
              "#d8576b"
             ],
             [
              0.6666666666666666,
              "#ed7953"
             ],
             [
              0.7777777777777778,
              "#fb9f3a"
             ],
             [
              0.8888888888888888,
              "#fdca26"
             ],
             [
              1,
              "#f0f921"
             ]
            ],
            "type": "histogram2d"
           }
          ],
          "histogram2dcontour": [
           {
            "colorbar": {
             "outlinewidth": 0,
             "ticks": ""
            },
            "colorscale": [
             [
              0,
              "#0d0887"
             ],
             [
              0.1111111111111111,
              "#46039f"
             ],
             [
              0.2222222222222222,
              "#7201a8"
             ],
             [
              0.3333333333333333,
              "#9c179e"
             ],
             [
              0.4444444444444444,
              "#bd3786"
             ],
             [
              0.5555555555555556,
              "#d8576b"
             ],
             [
              0.6666666666666666,
              "#ed7953"
             ],
             [
              0.7777777777777778,
              "#fb9f3a"
             ],
             [
              0.8888888888888888,
              "#fdca26"
             ],
             [
              1,
              "#f0f921"
             ]
            ],
            "type": "histogram2dcontour"
           }
          ],
          "mesh3d": [
           {
            "colorbar": {
             "outlinewidth": 0,
             "ticks": ""
            },
            "type": "mesh3d"
           }
          ],
          "parcoords": [
           {
            "line": {
             "colorbar": {
              "outlinewidth": 0,
              "ticks": ""
             }
            },
            "type": "parcoords"
           }
          ],
          "pie": [
           {
            "automargin": true,
            "type": "pie"
           }
          ],
          "scatter": [
           {
            "marker": {
             "colorbar": {
              "outlinewidth": 0,
              "ticks": ""
             }
            },
            "type": "scatter"
           }
          ],
          "scatter3d": [
           {
            "line": {
             "colorbar": {
              "outlinewidth": 0,
              "ticks": ""
             }
            },
            "marker": {
             "colorbar": {
              "outlinewidth": 0,
              "ticks": ""
             }
            },
            "type": "scatter3d"
           }
          ],
          "scattercarpet": [
           {
            "marker": {
             "colorbar": {
              "outlinewidth": 0,
              "ticks": ""
             }
            },
            "type": "scattercarpet"
           }
          ],
          "scattergeo": [
           {
            "marker": {
             "colorbar": {
              "outlinewidth": 0,
              "ticks": ""
             }
            },
            "type": "scattergeo"
           }
          ],
          "scattergl": [
           {
            "marker": {
             "colorbar": {
              "outlinewidth": 0,
              "ticks": ""
             }
            },
            "type": "scattergl"
           }
          ],
          "scattermapbox": [
           {
            "marker": {
             "colorbar": {
              "outlinewidth": 0,
              "ticks": ""
             }
            },
            "type": "scattermapbox"
           }
          ],
          "scatterpolar": [
           {
            "marker": {
             "colorbar": {
              "outlinewidth": 0,
              "ticks": ""
             }
            },
            "type": "scatterpolar"
           }
          ],
          "scatterpolargl": [
           {
            "marker": {
             "colorbar": {
              "outlinewidth": 0,
              "ticks": ""
             }
            },
            "type": "scatterpolargl"
           }
          ],
          "scatterternary": [
           {
            "marker": {
             "colorbar": {
              "outlinewidth": 0,
              "ticks": ""
             }
            },
            "type": "scatterternary"
           }
          ],
          "surface": [
           {
            "colorbar": {
             "outlinewidth": 0,
             "ticks": ""
            },
            "colorscale": [
             [
              0,
              "#0d0887"
             ],
             [
              0.1111111111111111,
              "#46039f"
             ],
             [
              0.2222222222222222,
              "#7201a8"
             ],
             [
              0.3333333333333333,
              "#9c179e"
             ],
             [
              0.4444444444444444,
              "#bd3786"
             ],
             [
              0.5555555555555556,
              "#d8576b"
             ],
             [
              0.6666666666666666,
              "#ed7953"
             ],
             [
              0.7777777777777778,
              "#fb9f3a"
             ],
             [
              0.8888888888888888,
              "#fdca26"
             ],
             [
              1,
              "#f0f921"
             ]
            ],
            "type": "surface"
           }
          ],
          "table": [
           {
            "cells": {
             "fill": {
              "color": "#EBF0F8"
             },
             "line": {
              "color": "white"
             }
            },
            "header": {
             "fill": {
              "color": "#C8D4E3"
             },
             "line": {
              "color": "white"
             }
            },
            "type": "table"
           }
          ]
         },
         "layout": {
          "annotationdefaults": {
           "arrowcolor": "#2a3f5f",
           "arrowhead": 0,
           "arrowwidth": 1
          },
          "coloraxis": {
           "colorbar": {
            "outlinewidth": 0,
            "ticks": ""
           }
          },
          "colorscale": {
           "diverging": [
            [
             0,
             "#8e0152"
            ],
            [
             0.1,
             "#c51b7d"
            ],
            [
             0.2,
             "#de77ae"
            ],
            [
             0.3,
             "#f1b6da"
            ],
            [
             0.4,
             "#fde0ef"
            ],
            [
             0.5,
             "#f7f7f7"
            ],
            [
             0.6,
             "#e6f5d0"
            ],
            [
             0.7,
             "#b8e186"
            ],
            [
             0.8,
             "#7fbc41"
            ],
            [
             0.9,
             "#4d9221"
            ],
            [
             1,
             "#276419"
            ]
           ],
           "sequential": [
            [
             0,
             "#0d0887"
            ],
            [
             0.1111111111111111,
             "#46039f"
            ],
            [
             0.2222222222222222,
             "#7201a8"
            ],
            [
             0.3333333333333333,
             "#9c179e"
            ],
            [
             0.4444444444444444,
             "#bd3786"
            ],
            [
             0.5555555555555556,
             "#d8576b"
            ],
            [
             0.6666666666666666,
             "#ed7953"
            ],
            [
             0.7777777777777778,
             "#fb9f3a"
            ],
            [
             0.8888888888888888,
             "#fdca26"
            ],
            [
             1,
             "#f0f921"
            ]
           ],
           "sequentialminus": [
            [
             0,
             "#0d0887"
            ],
            [
             0.1111111111111111,
             "#46039f"
            ],
            [
             0.2222222222222222,
             "#7201a8"
            ],
            [
             0.3333333333333333,
             "#9c179e"
            ],
            [
             0.4444444444444444,
             "#bd3786"
            ],
            [
             0.5555555555555556,
             "#d8576b"
            ],
            [
             0.6666666666666666,
             "#ed7953"
            ],
            [
             0.7777777777777778,
             "#fb9f3a"
            ],
            [
             0.8888888888888888,
             "#fdca26"
            ],
            [
             1,
             "#f0f921"
            ]
           ]
          },
          "colorway": [
           "#636efa",
           "#EF553B",
           "#00cc96",
           "#ab63fa",
           "#FFA15A",
           "#19d3f3",
           "#FF6692",
           "#B6E880",
           "#FF97FF",
           "#FECB52"
          ],
          "font": {
           "color": "#2a3f5f"
          },
          "geo": {
           "bgcolor": "white",
           "lakecolor": "white",
           "landcolor": "#E5ECF6",
           "showlakes": true,
           "showland": true,
           "subunitcolor": "white"
          },
          "hoverlabel": {
           "align": "left"
          },
          "hovermode": "closest",
          "mapbox": {
           "style": "light"
          },
          "paper_bgcolor": "white",
          "plot_bgcolor": "#E5ECF6",
          "polar": {
           "angularaxis": {
            "gridcolor": "white",
            "linecolor": "white",
            "ticks": ""
           },
           "bgcolor": "#E5ECF6",
           "radialaxis": {
            "gridcolor": "white",
            "linecolor": "white",
            "ticks": ""
           }
          },
          "scene": {
           "xaxis": {
            "backgroundcolor": "#E5ECF6",
            "gridcolor": "white",
            "gridwidth": 2,
            "linecolor": "white",
            "showbackground": true,
            "ticks": "",
            "zerolinecolor": "white"
           },
           "yaxis": {
            "backgroundcolor": "#E5ECF6",
            "gridcolor": "white",
            "gridwidth": 2,
            "linecolor": "white",
            "showbackground": true,
            "ticks": "",
            "zerolinecolor": "white"
           },
           "zaxis": {
            "backgroundcolor": "#E5ECF6",
            "gridcolor": "white",
            "gridwidth": 2,
            "linecolor": "white",
            "showbackground": true,
            "ticks": "",
            "zerolinecolor": "white"
           }
          },
          "shapedefaults": {
           "line": {
            "color": "#2a3f5f"
           }
          },
          "ternary": {
           "aaxis": {
            "gridcolor": "white",
            "linecolor": "white",
            "ticks": ""
           },
           "baxis": {
            "gridcolor": "white",
            "linecolor": "white",
            "ticks": ""
           },
           "bgcolor": "#E5ECF6",
           "caxis": {
            "gridcolor": "white",
            "linecolor": "white",
            "ticks": ""
           }
          },
          "title": {
           "x": 0.05
          },
          "xaxis": {
           "automargin": true,
           "gridcolor": "white",
           "linecolor": "white",
           "ticks": "",
           "title": {
            "standoff": 15
           },
           "zerolinecolor": "white",
           "zerolinewidth": 2
          },
          "yaxis": {
           "automargin": true,
           "gridcolor": "white",
           "linecolor": "white",
           "ticks": "",
           "title": {
            "standoff": 15
           },
           "zerolinecolor": "white",
           "zerolinewidth": 2
          }
         }
        },
        "title": {
         "text": "3d TSNE Plot for Clusters"
        },
        "width": 900
       }
      },
      "text/html": [
       "<div>\n",
       "        \n",
       "        \n",
       "            <div id=\"4ef8b84a-5a8f-4cd1-8ac4-184659e30c66\" class=\"plotly-graph-div\" style=\"height:800px; width:900px;\"></div>\n",
       "            <script type=\"text/javascript\">\n",
       "                require([\"plotly\"], function(Plotly) {\n",
       "                    window.PLOTLYENV=window.PLOTLYENV || {};\n",
       "                    \n",
       "                if (document.getElementById(\"4ef8b84a-5a8f-4cd1-8ac4-184659e30c66\")) {\n",
       "                    Plotly.newPlot(\n",
       "                        '4ef8b84a-5a8f-4cd1-8ac4-184659e30c66',\n",
       "                        [{\"customdata\": [[1], [2], [3], [4], [5], [6], [7], [8], [9], [10], [11], [12], [13], [14], [15], [16], [17], [18], [19], [20], [21], [22], [23], [24], [25], [26], [27], [28], [29], [30], [31], [32], [33], [34], [35], [36], [37], [38], [39]], \"hoverlabel\": {\"namelength\": 0}, \"hovertemplate\": \"Cluster=Cluster 0<br>0=%{x}<br>1=%{y}<br>2=%{z}<br>Feature=%{customdata[0]}\", \"legendgroup\": \"Cluster=Cluster 0\", \"marker\": {\"color\": \"#636efa\", \"opacity\": 0.7, \"symbol\": \"circle\"}, \"mode\": \"markers\", \"name\": \"Cluster=Cluster 0\", \"scene\": \"scene\", \"showlegend\": true, \"type\": \"scatter3d\", \"x\": [6.718632698059082, 66.64787292480469, -60.119625091552734, -84.06016540527344, 6.439515113830566, -61.78539276123047, 9.78614330291748, -30.343517303466797, -19.087974548339844, -5.987908840179443, 29.023414611816406, 2.7884433269500732, -38.17435073852539, -30.130985260009766, -1.2811328172683716, -33.777000427246094, -12.862850189208984, -7.1309356689453125, -38.46178436279297, -35.94509506225586, -64.68553924560547, -45.48509216308594, 1.478395700454712, -23.119115829467773, -8.867631912231445, -1.11812424659729, -39.92038345336914, 50.820648193359375, -32.97649383544922, -55.32370376586914, -8.6412353515625, -76.7162094116211, 38.442596435546875, -16.613447189331055, -51.616092681884766, 20.310474395751953, -39.3815803527832, -50.12861633300781, -69.27056884765625], \"y\": [-157.32510375976562, 118.73747253417969, -105.00704193115234, -70.64002990722656, 126.5584945678711, -105.751220703125, -146.10888671875, -127.01191711425781, -89.3344497680664, -104.76508331298828, -115.05618286132812, -88.1097412109375, -135.50775146484375, -104.19110870361328, -51.47600173950195, -78.1339340209961, -54.26701354980469, -121.51275634765625, -121.8814468383789, -31.5708065032959, -46.62923049926758, -71.1771240234375, -41.35503387451172, -19.58157730102539, -79.07745361328125, 136.15130615234375, -75.72720336914062, 141.93186950683594, -18.138383865356445, -33.80559539794922, -52.3669548034668, -54.47840881347656, 114.75279998779297, -113.11561584472656, -87.40169525146484, 132.68081665039062, -52.484127044677734, -111.65400695800781, -33.9705696105957], \"z\": [33.400604248046875, 7.568240165710449, -19.097991943359375, -58.403690338134766, -32.74810791015625, -54.14874267578125, -19.94998550415039, 1.4086997509002686, -70.76399993896484, -15.807519912719727, -40.67619323730469, -43.40911102294922, -35.88582229614258, -38.15719985961914, -71.92750549316406, -19.280427932739258, -40.54212188720703, -56.1418342590332, -72.5023193359375, -53.23039627075195, -35.402156829833984, -55.035545349121094, -120.7968978881836, -137.49954223632812, -120.1773452758789, -147.38897705078125, -123.75463104248047, -30.127748489379883, -98.6618423461914, -120.94328308105469, -150.1473846435547, -101.69561004638672, -59.00752258300781, -103.43457794189453, -88.20924377441406, 22.20550537109375, -88.23934936523438, -109.90774536132812, -73.75867462158203]}, {\"customdata\": [[40], [41], [42], [43], [44], [45], [46], [47], [48], [49], [50], [51], [52], [53], [54], [55], [56], [57], [58], [59], [60], [61], [62], [63], [64], [65], [66], [67], [68], [69], [70], [71], [72], [73], [74], [75], [76], [77], [78], [79], [80], [81], [82], [83], [84], [85], [86], [87], [88], [89], [90], [91], [92], [93], [94], [95], [96], [97], [98], [99], [100], [101], [102], [103], [104], [105], [106], [107], [108], [109], [110], [111], [112], [113], [114], [115]], \"hoverlabel\": {\"namelength\": 0}, \"hovertemplate\": \"Cluster=Cluster 1<br>0=%{x}<br>1=%{y}<br>2=%{z}<br>Feature=%{customdata[0]}\", \"legendgroup\": \"Cluster=Cluster 1\", \"marker\": {\"color\": \"#EF553B\", \"opacity\": 0.7, \"symbol\": \"circle\"}, \"mode\": \"markers\", \"name\": \"Cluster=Cluster 1\", \"scene\": \"scene\", \"showlegend\": true, \"type\": \"scatter3d\", \"x\": [-90.19829559326172, 9.913416862487793, 64.87466430664062, -40.26544952392578, 15.532325744628906, -3.634202241897583, 16.420425415039062, -90.19386291503906, -12.327993392944336, 3.884061574935913, -43.110740661621094, 101.03760528564453, -77.8302230834961, 34.7360954284668, 78.12474060058594, -172.8348846435547, 9.116921424865723, -50.20213317871094, 54.469627380371094, 35.83608627319336, 5.208932399749756, 40.696048736572266, 49.22507095336914, -9.194816589355469, 34.95315170288086, 19.66233253479004, 3.264585494995117, 16.610286712646484, -23.65861701965332, -8.00102710723877, -29.422069549560547, 47.694000244140625, 57.40384292602539, 32.518795013427734, 18.4278507232666, -47.774715423583984, 63.81751251220703, -13.881852149963379, -16.83616065979004, -44.914546966552734, 53.901611328125, -25.695276260375977, 26.884151458740234, -4.150077819824219, -33.9871940612793, -49.02586364746094, -6.982275009155273, 2.6102654933929443, -24.538314819335938, 31.26727867126465, -62.102752685546875, 1.4436463117599487, -49.54164123535156, 33.209686279296875, -33.60403823852539, 45.705814361572266, -32.99636459350586, -74.80829620361328, -21.662038803100586, -17.12482452392578, 91.71415710449219, 63.635196685791016, -48.675838470458984, 11.63946533203125, -17.25318717956543, 69.5045166015625, -51.485660552978516, -22.838972091674805, 95.20051574707031, -113.21802520751953, -29.848539352416992, -24.844890594482422, 109.47484588623047, -17.247554779052734, -51.83967208862305, -46.756107330322266], \"y\": [11.732538223266602, -12.557729721069336, 41.646663665771484, -42.935909271240234, 3.0888752937316895, -27.491226196289062, 81.51902770996094, -12.869772911071777, -43.06026840209961, -31.20804786682129, 148.24331665039062, 71.61982727050781, -51.229305267333984, 28.158370971679688, 77.80792236328125, -111.97489166259766, 33.980289459228516, -26.438472747802734, 49.84222412109375, 46.172786712646484, -69.94468688964844, 23.87116813659668, -39.89283752441406, -39.45064163208008, -32.900596618652344, 66.53839111328125, -86.06371307373047, -58.582637786865234, -99.7787857055664, -58.513553619384766, -72.66201782226562, 72.12077331542969, 59.23946762084961, -8.256006240844727, 48.72756576538086, -61.17980194091797, -86.53274536132812, -75.46153259277344, -64.13086700439453, -69.9355239868164, 5.213192939758301, -16.739391326904297, 30.029890060424805, 13.172313690185547, 9.20985221862793, 24.50411033630371, 65.00033569335938, -2.5322492122650146, 44.1815185546875, 0.6941553950309753, 16.007837295532227, 76.74801635742188, 51.87870407104492, -40.99034881591797, 59.08100891113281, -52.860652923583984, 83.53498077392578, 1.6975985765457153, -19.24261474609375, 46.260711669921875, 33.499053955078125, 4.991292953491211, 12.249154090881348, 1.9016084671020508, 5.722006320953369, -30.645240783691406, -30.115385055541992, 12.05814266204834, 36.95132827758789, 41.049137115478516, -7.161034107208252, 28.2385196685791, 8.09188175201416, -102.62051391601562, 11.46310043334961, -19.429840087890625], \"z\": [-117.00537109375, 30.04552459716797, 1.1976443529129028, 54.726314544677734, -10.062847137451172, 60.84519577026367, 3.0759665966033936, 27.2052001953125, 32.84977340698242, -12.022095680236816, -30.325702667236328, -17.734851837158203, 115.66751861572266, -47.15805435180664, -66.7597885131836, -231.90988159179688, -29.36949348449707, 24.06070899963379, -28.344144821166992, 55.34149169921875, 6.072198867797852, -2.9567153453826904, 54.18455505371094, 136.99203491210938, 26.124492645263672, 34.35070037841797, 36.6820068359375, 64.1665267944336, 44.753631591796875, 102.77727508544922, 27.76907730102539, -2.321873188018799, 27.50145149230957, 51.493438720703125, 0.9819635152816772, 133.44259643554688, -77.77153015136719, 131.48545837402344, 68.5543441772461, 100.74472045898438, -26.1079044342041, -5.451363563537598, 25.748537063598633, 64.97821807861328, 149.07354736328125, 53.58738327026367, -22.24946403503418, 137.39468383789062, 39.468631744384766, -90.75812530517578, 118.86007690429688, -51.59486770629883, -33.32437515258789, 113.28665161132812, 1.5393409729003906, -24.17375946044922, -25.466527938842773, 65.03167724609375, 93.91131591796875, -47.29618453979492, -97.41770935058594, -75.0792236328125, 88.51563262939453, -44.38172912597656, 16.213064193725586, -49.76429748535156, 90.67606353759766, 110.46641540527344, -57.36492156982422, -20.979076385498047, 42.8086051940918, -10.931325912475586, -73.68636322021484, 101.22798156738281, 15.370658874511719, 133.22613525390625]}, {\"customdata\": [[116], [117], [118], [119], [120], [121], [122], [123], [124], [125], [126], [127], [128], [129], [130], [131], [132], [133], [134], [135], [136], [137], [138]], \"hoverlabel\": {\"namelength\": 0}, \"hovertemplate\": \"Cluster=Cluster 2<br>0=%{x}<br>1=%{y}<br>2=%{z}<br>Feature=%{customdata[0]}\", \"legendgroup\": \"Cluster=Cluster 2\", \"marker\": {\"color\": \"#00cc96\", \"opacity\": 0.7, \"symbol\": \"circle\"}, \"mode\": \"markers\", \"name\": \"Cluster=Cluster 2\", \"scene\": \"scene\", \"showlegend\": true, \"type\": \"scatter3d\", \"x\": [-48.82988739013672, -59.822391510009766, -92.64977264404297, -125.0780029296875, -46.78584289550781, -61.22803497314453, -102.76541900634766, -103.52215576171875, -115.45586395263672, 22.383512496948242, -76.23200988769531, -117.62826538085938, -121.95008087158203, -119.3851089477539, -75.44427490234375, -109.52310180664062, -77.0047607421875, -106.36283111572266, -80.49256896972656, -25.570575714111328, -111.13318634033203, -75.37944030761719, -42.806007385253906], \"y\": [82.81715393066406, 110.09274291992188, 85.36566162109375, 76.88420104980469, 109.66586303710938, 100.47787475585938, 99.8631362915039, 47.03817367553711, 108.01477813720703, 8.715694427490234, 78.3445053100586, 72.98614501953125, 46.508174896240234, 103.93057250976562, 100.40538024902344, 70.37530517578125, 106.6288833618164, 1.3834971189498901, 56.60127258300781, 98.06428527832031, -95.25772857666016, 68.885009765625, 69.94975280761719], \"z\": [29.37973976135254, 44.303977966308594, 69.95242309570312, 56.94316864013672, 8.784886360168457, 75.94781494140625, 38.98936462402344, 46.91221237182617, 82.11845397949219, -158.58323669433594, -7.133619785308838, 21.925060272216797, 76.1182861328125, 7.764993667602539, 14.31734848022461, 95.14779663085938, -20.841703414916992, 95.61758422851562, 77.76383209228516, 47.845157623291016, 12.966845512390137, 45.54352569580078, 65.24398040771484]}, {\"customdata\": [[139], [140], [141], [142], [143], [144], [145], [146], [147], [148], [149], [150], [151], [152], [153], [154], [155], [156], [157], [158], [159], [160], [161], [162], [163], [164], [165], [166], [167], [168], [169], [170], [171], [172], [173], [174], [175]], \"hoverlabel\": {\"namelength\": 0}, \"hovertemplate\": \"Cluster=Cluster 3<br>0=%{x}<br>1=%{y}<br>2=%{z}<br>Feature=%{customdata[0]}\", \"legendgroup\": \"Cluster=Cluster 3\", \"marker\": {\"color\": \"#ab63fa\", \"opacity\": 0.7, \"symbol\": \"circle\"}, \"mode\": \"markers\", \"name\": \"Cluster=Cluster 3\", \"scene\": \"scene\", \"showlegend\": true, \"type\": \"scatter3d\", \"x\": [70.48014831542969, 114.531005859375, 93.11100006103516, 133.11080932617188, 118.56787872314453, -159.07899475097656, 92.79243469238281, 99.7040786743164, 139.15670776367188, 162.67373657226562, 152.47189331054688, 147.1109619140625, 132.68064880371094, 175.3409881591797, 137.71742248535156, 156.91868591308594, 139.07864379882812, 172.9188690185547, 165.7954864501953, 96.03106689453125, 51.67629623413086, 128.88162231445312, 138.52932739257812, 70.87461853027344, 119.96717834472656, 151.1674346923828, 96.65335845947266, 104.9037857055664, 55.700862884521484, 53.76211166381836, 100.5990982055664, 98.45655822753906, 112.30644226074219, 85.5890121459961, 124.58901977539062, 85.20468139648438, 89.52509307861328], \"y\": [17.111614227294922, 17.899085998535156, -42.0081901550293, -3.841089963912964, -26.966970443725586, 21.10038185119629, -81.95038604736328, 5.713376998901367, -49.84720993041992, 9.408881187438965, -20.22015953063965, 35.21553421020508, 7.491259574890137, 30.519943237304688, -12.694823265075684, 30.44900894165039, 27.486003875732422, -1.0233750343322754, 1.903117060661316, -44.20219802856445, -77.79164123535156, -90.6701889038086, -42.63241195678711, -19.679073333740234, -59.12619400024414, -62.69853591918945, -15.911093711853027, -78.68159484863281, -6.7422709465026855, -70.24095916748047, -12.552448272705078, 37.86524200439453, -20.3765926361084, -19.28240966796875, -73.58658599853516, 13.532979965209961, -51.1038703918457], \"z\": [25.29388999938965, 26.406383514404297, 5.092184543609619, 6.519543647766113, 42.75535202026367, -27.133203506469727, 17.100448608398438, 69.2518310546875, 66.5706787109375, 17.82927894592285, 41.922969818115234, 8.585116386413574, 52.62490463256836, 82.35812377929688, 78.08590698242188, 45.42854309082031, 85.06240844726562, 66.13690185546875, 98.74071502685547, 90.28324127197266, 33.180145263671875, 38.732234954833984, -5.656364440917969, 90.63780212402344, 28.092206954956055, 23.025903701782227, 110.90376281738281, 57.98872375488281, 13.695718765258789, 63.08584976196289, 14.509909629821777, 50.50837326049805, -22.66777801513672, 44.75702667236328, -6.68251895904541, -4.676312446594238, 38.60399627685547]}, {\"customdata\": [[176], [177], [178], [179], [180], [181], [182], [183], [184], [185], [186], [187], [188], [189], [190], [191], [192], [193], [194], [195], [196], [197], [198], [199], [200]], \"hoverlabel\": {\"namelength\": 0}, \"hovertemplate\": \"Cluster=Cluster 4<br>0=%{x}<br>1=%{y}<br>2=%{z}<br>Feature=%{customdata[0]}\", \"legendgroup\": \"Cluster=Cluster 4\", \"marker\": {\"color\": \"#FFA15A\", \"opacity\": 0.7, \"symbol\": \"circle\"}, \"mode\": \"markers\", \"name\": \"Cluster=Cluster 4\", \"scene\": \"scene\", \"showlegend\": true, \"type\": \"scatter3d\", \"x\": [-90.0062255859375, -115.90904235839844, 59.97120666503906, -19.35350227355957, 2.693727731704712, -42.7736930847168, 36.67842102050781, 5.155325889587402, -22.282718658447266, -24.98320770263672, -43.23428726196289, 11.66377067565918, -48.99164962768555, -7.6646552085876465, -49.44166946411133, -73.01361846923828, -93.33934020996094, -82.26288604736328, 28.812515258789062, 29.888080596923828, -69.79470825195312, -51.0230598449707, -106.3936996459961, -89.0184097290039, -70.4979248046875], \"y\": [31.278106689453125, -17.592809677124023, -8.872674942016602, 14.844904899597168, 63.148441314697266, 68.17632293701172, -37.953643798828125, 35.211669921875, 67.82589721679688, 71.17577362060547, 32.365150451660156, 80.57383728027344, 34.230934143066406, 35.211238861083984, 95.02753448486328, 61.12139892578125, -48.17805862426758, 62.0866813659668, 94.7706527709961, 42.226524353027344, 31.909379959106445, 68.86202239990234, -1.0387929677963257, -70.13873291015625, 4.893923759460449], \"z\": [-77.85253143310547, -19.528039932250977, -125.81537628173828, -53.669559478759766, -139.7551727294922, -124.5057144165039, -77.93321990966797, -67.21000671386719, -94.83809661865234, 113.89189910888672, -102.68278503417969, -107.60102081298828, -63.04448699951172, -113.84529876708984, -95.1922607421875, -95.0863265991211, -0.16025349497795105, -52.848575592041016, 86.68153381347656, -114.9753189086914, -26.42275047302246, -69.04750061035156, -53.13288879394531, 43.37901306152344, -52.832176208496094]}],\n",
       "                        {\"height\": 800, \"legend\": {\"tracegroupgap\": 0}, \"scene\": {\"domain\": {\"x\": [0.0, 1.0], \"y\": [0.0, 1.0]}, \"xaxis\": {\"title\": {\"text\": \"0\"}}, \"yaxis\": {\"title\": {\"text\": \"1\"}}, \"zaxis\": {\"title\": {\"text\": \"2\"}}}, \"template\": {\"data\": {\"bar\": [{\"error_x\": {\"color\": \"#2a3f5f\"}, \"error_y\": {\"color\": \"#2a3f5f\"}, \"marker\": {\"line\": {\"color\": \"#E5ECF6\", \"width\": 0.5}}, \"type\": \"bar\"}], \"barpolar\": [{\"marker\": {\"line\": {\"color\": \"#E5ECF6\", \"width\": 0.5}}, \"type\": \"barpolar\"}], \"carpet\": [{\"aaxis\": {\"endlinecolor\": \"#2a3f5f\", \"gridcolor\": \"white\", \"linecolor\": \"white\", \"minorgridcolor\": \"white\", \"startlinecolor\": \"#2a3f5f\"}, \"baxis\": {\"endlinecolor\": \"#2a3f5f\", \"gridcolor\": \"white\", \"linecolor\": \"white\", \"minorgridcolor\": \"white\", \"startlinecolor\": \"#2a3f5f\"}, \"type\": \"carpet\"}], \"choropleth\": [{\"colorbar\": {\"outlinewidth\": 0, \"ticks\": \"\"}, \"type\": \"choropleth\"}], \"contour\": [{\"colorbar\": {\"outlinewidth\": 0, \"ticks\": \"\"}, \"colorscale\": [[0.0, \"#0d0887\"], [0.1111111111111111, \"#46039f\"], [0.2222222222222222, \"#7201a8\"], [0.3333333333333333, \"#9c179e\"], [0.4444444444444444, \"#bd3786\"], [0.5555555555555556, \"#d8576b\"], [0.6666666666666666, \"#ed7953\"], [0.7777777777777778, \"#fb9f3a\"], [0.8888888888888888, \"#fdca26\"], [1.0, \"#f0f921\"]], \"type\": \"contour\"}], \"contourcarpet\": [{\"colorbar\": {\"outlinewidth\": 0, \"ticks\": \"\"}, \"type\": \"contourcarpet\"}], \"heatmap\": [{\"colorbar\": {\"outlinewidth\": 0, \"ticks\": \"\"}, \"colorscale\": [[0.0, \"#0d0887\"], [0.1111111111111111, \"#46039f\"], [0.2222222222222222, \"#7201a8\"], [0.3333333333333333, \"#9c179e\"], [0.4444444444444444, \"#bd3786\"], [0.5555555555555556, \"#d8576b\"], [0.6666666666666666, \"#ed7953\"], [0.7777777777777778, \"#fb9f3a\"], [0.8888888888888888, \"#fdca26\"], [1.0, \"#f0f921\"]], \"type\": \"heatmap\"}], \"heatmapgl\": [{\"colorbar\": {\"outlinewidth\": 0, \"ticks\": \"\"}, \"colorscale\": [[0.0, \"#0d0887\"], [0.1111111111111111, \"#46039f\"], [0.2222222222222222, \"#7201a8\"], [0.3333333333333333, \"#9c179e\"], [0.4444444444444444, \"#bd3786\"], [0.5555555555555556, \"#d8576b\"], [0.6666666666666666, \"#ed7953\"], [0.7777777777777778, \"#fb9f3a\"], [0.8888888888888888, \"#fdca26\"], [1.0, \"#f0f921\"]], \"type\": \"heatmapgl\"}], \"histogram\": [{\"marker\": {\"colorbar\": {\"outlinewidth\": 0, \"ticks\": \"\"}}, \"type\": \"histogram\"}], \"histogram2d\": [{\"colorbar\": {\"outlinewidth\": 0, \"ticks\": \"\"}, \"colorscale\": [[0.0, \"#0d0887\"], [0.1111111111111111, \"#46039f\"], [0.2222222222222222, \"#7201a8\"], [0.3333333333333333, \"#9c179e\"], [0.4444444444444444, \"#bd3786\"], [0.5555555555555556, \"#d8576b\"], [0.6666666666666666, \"#ed7953\"], [0.7777777777777778, \"#fb9f3a\"], [0.8888888888888888, \"#fdca26\"], [1.0, \"#f0f921\"]], \"type\": \"histogram2d\"}], \"histogram2dcontour\": [{\"colorbar\": {\"outlinewidth\": 0, \"ticks\": \"\"}, \"colorscale\": [[0.0, \"#0d0887\"], [0.1111111111111111, \"#46039f\"], [0.2222222222222222, \"#7201a8\"], [0.3333333333333333, \"#9c179e\"], [0.4444444444444444, \"#bd3786\"], [0.5555555555555556, \"#d8576b\"], [0.6666666666666666, \"#ed7953\"], [0.7777777777777778, \"#fb9f3a\"], [0.8888888888888888, \"#fdca26\"], [1.0, \"#f0f921\"]], \"type\": \"histogram2dcontour\"}], \"mesh3d\": [{\"colorbar\": {\"outlinewidth\": 0, \"ticks\": \"\"}, \"type\": \"mesh3d\"}], \"parcoords\": [{\"line\": {\"colorbar\": {\"outlinewidth\": 0, \"ticks\": \"\"}}, \"type\": \"parcoords\"}], \"pie\": [{\"automargin\": true, \"type\": \"pie\"}], \"scatter\": [{\"marker\": {\"colorbar\": {\"outlinewidth\": 0, \"ticks\": \"\"}}, \"type\": \"scatter\"}], \"scatter3d\": [{\"line\": {\"colorbar\": {\"outlinewidth\": 0, \"ticks\": \"\"}}, \"marker\": {\"colorbar\": {\"outlinewidth\": 0, \"ticks\": \"\"}}, \"type\": \"scatter3d\"}], \"scattercarpet\": [{\"marker\": {\"colorbar\": {\"outlinewidth\": 0, \"ticks\": \"\"}}, \"type\": \"scattercarpet\"}], \"scattergeo\": [{\"marker\": {\"colorbar\": {\"outlinewidth\": 0, \"ticks\": \"\"}}, \"type\": \"scattergeo\"}], \"scattergl\": [{\"marker\": {\"colorbar\": {\"outlinewidth\": 0, \"ticks\": \"\"}}, \"type\": \"scattergl\"}], \"scattermapbox\": [{\"marker\": {\"colorbar\": {\"outlinewidth\": 0, \"ticks\": \"\"}}, \"type\": \"scattermapbox\"}], \"scatterpolar\": [{\"marker\": {\"colorbar\": {\"outlinewidth\": 0, \"ticks\": \"\"}}, \"type\": \"scatterpolar\"}], \"scatterpolargl\": [{\"marker\": {\"colorbar\": {\"outlinewidth\": 0, \"ticks\": \"\"}}, \"type\": \"scatterpolargl\"}], \"scatterternary\": [{\"marker\": {\"colorbar\": {\"outlinewidth\": 0, \"ticks\": \"\"}}, \"type\": \"scatterternary\"}], \"surface\": [{\"colorbar\": {\"outlinewidth\": 0, \"ticks\": \"\"}, \"colorscale\": [[0.0, \"#0d0887\"], [0.1111111111111111, \"#46039f\"], [0.2222222222222222, \"#7201a8\"], [0.3333333333333333, \"#9c179e\"], [0.4444444444444444, \"#bd3786\"], [0.5555555555555556, \"#d8576b\"], [0.6666666666666666, \"#ed7953\"], [0.7777777777777778, \"#fb9f3a\"], [0.8888888888888888, \"#fdca26\"], [1.0, \"#f0f921\"]], \"type\": \"surface\"}], \"table\": [{\"cells\": {\"fill\": {\"color\": \"#EBF0F8\"}, \"line\": {\"color\": \"white\"}}, \"header\": {\"fill\": {\"color\": \"#C8D4E3\"}, \"line\": {\"color\": \"white\"}}, \"type\": \"table\"}]}, \"layout\": {\"annotationdefaults\": {\"arrowcolor\": \"#2a3f5f\", \"arrowhead\": 0, \"arrowwidth\": 1}, \"coloraxis\": {\"colorbar\": {\"outlinewidth\": 0, \"ticks\": \"\"}}, \"colorscale\": {\"diverging\": [[0, \"#8e0152\"], [0.1, \"#c51b7d\"], [0.2, \"#de77ae\"], [0.3, \"#f1b6da\"], [0.4, \"#fde0ef\"], [0.5, \"#f7f7f7\"], [0.6, \"#e6f5d0\"], [0.7, \"#b8e186\"], [0.8, \"#7fbc41\"], [0.9, \"#4d9221\"], [1, \"#276419\"]], \"sequential\": [[0.0, \"#0d0887\"], [0.1111111111111111, \"#46039f\"], [0.2222222222222222, \"#7201a8\"], [0.3333333333333333, \"#9c179e\"], [0.4444444444444444, \"#bd3786\"], [0.5555555555555556, \"#d8576b\"], [0.6666666666666666, \"#ed7953\"], [0.7777777777777778, \"#fb9f3a\"], [0.8888888888888888, \"#fdca26\"], [1.0, \"#f0f921\"]], \"sequentialminus\": [[0.0, \"#0d0887\"], [0.1111111111111111, \"#46039f\"], [0.2222222222222222, \"#7201a8\"], [0.3333333333333333, \"#9c179e\"], [0.4444444444444444, \"#bd3786\"], [0.5555555555555556, \"#d8576b\"], [0.6666666666666666, \"#ed7953\"], [0.7777777777777778, \"#fb9f3a\"], [0.8888888888888888, \"#fdca26\"], [1.0, \"#f0f921\"]]}, \"colorway\": [\"#636efa\", \"#EF553B\", \"#00cc96\", \"#ab63fa\", \"#FFA15A\", \"#19d3f3\", \"#FF6692\", \"#B6E880\", \"#FF97FF\", \"#FECB52\"], \"font\": {\"color\": \"#2a3f5f\"}, \"geo\": {\"bgcolor\": \"white\", \"lakecolor\": \"white\", \"landcolor\": \"#E5ECF6\", \"showlakes\": true, \"showland\": true, \"subunitcolor\": \"white\"}, \"hoverlabel\": {\"align\": \"left\"}, \"hovermode\": \"closest\", \"mapbox\": {\"style\": \"light\"}, \"paper_bgcolor\": \"white\", \"plot_bgcolor\": \"#E5ECF6\", \"polar\": {\"angularaxis\": {\"gridcolor\": \"white\", \"linecolor\": \"white\", \"ticks\": \"\"}, \"bgcolor\": \"#E5ECF6\", \"radialaxis\": {\"gridcolor\": \"white\", \"linecolor\": \"white\", \"ticks\": \"\"}}, \"scene\": {\"xaxis\": {\"backgroundcolor\": \"#E5ECF6\", \"gridcolor\": \"white\", \"gridwidth\": 2, \"linecolor\": \"white\", \"showbackground\": true, \"ticks\": \"\", \"zerolinecolor\": \"white\"}, \"yaxis\": {\"backgroundcolor\": \"#E5ECF6\", \"gridcolor\": \"white\", \"gridwidth\": 2, \"linecolor\": \"white\", \"showbackground\": true, \"ticks\": \"\", \"zerolinecolor\": \"white\"}, \"zaxis\": {\"backgroundcolor\": \"#E5ECF6\", \"gridcolor\": \"white\", \"gridwidth\": 2, \"linecolor\": \"white\", \"showbackground\": true, \"ticks\": \"\", \"zerolinecolor\": \"white\"}}, \"shapedefaults\": {\"line\": {\"color\": \"#2a3f5f\"}}, \"ternary\": {\"aaxis\": {\"gridcolor\": \"white\", \"linecolor\": \"white\", \"ticks\": \"\"}, \"baxis\": {\"gridcolor\": \"white\", \"linecolor\": \"white\", \"ticks\": \"\"}, \"bgcolor\": \"#E5ECF6\", \"caxis\": {\"gridcolor\": \"white\", \"linecolor\": \"white\", \"ticks\": \"\"}}, \"title\": {\"x\": 0.05}, \"xaxis\": {\"automargin\": true, \"gridcolor\": \"white\", \"linecolor\": \"white\", \"ticks\": \"\", \"title\": {\"standoff\": 15}, \"zerolinecolor\": \"white\", \"zerolinewidth\": 2}, \"yaxis\": {\"automargin\": true, \"gridcolor\": \"white\", \"linecolor\": \"white\", \"ticks\": \"\", \"title\": {\"standoff\": 15}, \"zerolinecolor\": \"white\", \"zerolinewidth\": 2}}}, \"title\": {\"text\": \"3d TSNE Plot for Clusters\"}, \"width\": 900},\n",
       "                        {\"responsive\": true}\n",
       "                    ).then(function(){\n",
       "                            \n",
       "var gd = document.getElementById('4ef8b84a-5a8f-4cd1-8ac4-184659e30c66');\n",
       "var x = new MutationObserver(function (mutations, observer) {{\n",
       "        var display = window.getComputedStyle(gd).display;\n",
       "        if (!display || display === 'none') {{\n",
       "            console.log([gd, 'removed!']);\n",
       "            Plotly.purge(gd);\n",
       "            observer.disconnect();\n",
       "        }}\n",
       "}});\n",
       "\n",
       "// Listen for the removal of the full notebook cells\n",
       "var notebookContainer = gd.closest('#notebook-container');\n",
       "if (notebookContainer) {{\n",
       "    x.observe(notebookContainer, {childList: true});\n",
       "}}\n",
       "\n",
       "// Listen for the clearing of the current output cell\n",
       "var outputEl = gd.closest('.output');\n",
       "if (outputEl) {{\n",
       "    x.observe(outputEl, {childList: true});\n",
       "}}\n",
       "\n",
       "                        })\n",
       "                };\n",
       "                });\n",
       "            </script>\n",
       "        </div>"
      ]
     },
     "metadata": {},
     "output_type": "display_data"
    }
   ],
   "source": [
    "plot_model(k2, plot='tsne', feature = None, label = False)"
   ]
  },
  {
   "cell_type": "code",
   "execution_count": 50,
   "metadata": {},
   "outputs": [],
   "source": [
    "k2_df = assign_model(k2)"
   ]
  },
  {
   "cell_type": "code",
   "execution_count": 51,
   "metadata": {},
   "outputs": [
    {
     "name": "stdout",
     "output_type": "stream",
     "text": [
      "Transformation Pipeline and Model Succesfully Saved\n"
     ]
    }
   ],
   "source": [
    "save_model(k2, 'k2')"
   ]
  }
 ],
 "metadata": {
  "kernelspec": {
   "display_name": "Python 3.6 (tensorflow)",
   "language": "python",
   "name": "tensorflow"
  },
  "language_info": {
   "codemirror_mode": {
    "name": "ipython",
    "version": 3
   },
   "file_extension": ".py",
   "mimetype": "text/x-python",
   "name": "python",
   "nbconvert_exporter": "python",
   "pygments_lexer": "ipython3",
   "version": "3.6.9"
  }
 },
 "nbformat": 4,
 "nbformat_minor": 2
}
